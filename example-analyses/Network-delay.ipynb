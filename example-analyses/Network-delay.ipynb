{
 "cells": [
  {
   "cell_type": "code",
   "execution_count": 1,
   "metadata": {
    "ExecuteTime": {
     "end_time": "2017-03-08T22:56:05.520062",
     "start_time": "2017-03-08T22:56:04.825456"
    },
    "collapsed": true
   },
   "outputs": [],
   "source": [
    "%matplotlib inline\n",
    "import pandas as pd\n",
    "import matplotlib.pyplot as plt\n",
    "import numpy as np\n",
    "plt.style.use('seaborn')"
   ]
  },
  {
   "cell_type": "code",
   "execution_count": 6,
   "metadata": {
    "ExecuteTime": {
     "end_time": "2017-03-08T22:56:50.072630",
     "start_time": "2017-03-08T22:56:48.246536"
    },
    "collapsed": false
   },
   "outputs": [
    {
     "data": {
      "image/png": "[encoded data removed]",
      "text/plain": [
       "<matplotlib.figure.Figure at 0x1170c3a90>"
      ]
     },
     "metadata": {},
     "output_type": "display_data"
    }
   ],
   "source": [
    "def read_contest(contest):\n",
    "    filename = '{}-responses.csv'.format(contest)\n",
    "    df = pd.read_csv('../contests/responses-unzipped/{}'.format(filename))\n",
    "    return df\n",
    "\n",
    "def time_hist(times, log=True, bins=50, limit_sec=3):\n",
    "    times = np.abs(df['network_delay'].values)\n",
    "    times = np.sort(times)\n",
    "    i = np.argwhere(times < limit_sec)\n",
    "\n",
    "    fig = plt.figure()\n",
    "    _ = plt.hist(times[i], bins=bins, log=log, normed=True)\n",
    "    plt.xlim(0, limit_sec)\n",
    "    plt.xlabel('Network delay (seconds)')\n",
    "#     plt.ylabel('')\n",
    "    return fig\n",
    "    \n",
    "\n",
    "df = read_contest('555')\n",
    "fig = time_hist(np.abs(df['network_delay'].values), log=False, bins=100)\n",
    "plt.show()"
   ]
  },
  {
   "cell_type": "code",
   "execution_count": null,
   "metadata": {
    "collapsed": true
   },
   "outputs": [],
   "source": []
  }
 ],
 "metadata": {
  "kernelspec": {
   "display_name": "Python [default]",
   "language": "python",
   "name": "python3"
  },
  "language_info": {
   "codemirror_mode": {
    "name": "ipython",
    "version": 3
   },
   "file_extension": ".py",
   "mimetype": "text/x-python",
   "name": "python",
   "nbconvert_exporter": "python",
   "pygments_lexer": "ipython3",
   "version": "3.6.0"
  }
 },
 "nbformat": 4,
 "nbformat_minor": 2
}
