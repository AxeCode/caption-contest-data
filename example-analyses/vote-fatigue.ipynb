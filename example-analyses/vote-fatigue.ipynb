{
 "cells": [
  {
   "cell_type": "markdown",
   "metadata": {},
   "source": [
    "This notebook looks at the \"vote decay\" of users. The New Yorker caption contest organizer, Bob Mankoff, has received many emails like the one below (name/personal details left out for anonymity)\n",
    "\n",
    "> Here's my issue. \n",
    "\n",
    "> First time I encounter something, I might say it's funny. \n",
    "\n",
    "> Then it comes back in many forms over and over and it's no longer funny and I wish I could go back to the first one and say it's not funny. \n",
    "\n",
    "> But it's funny, and then I can't decide whether to credit everyone with funny or keep hitting unfunny. What I really like to find out is who submitted it first, but often it's slightly different and there may be a best version. Auggh!\n",
    "\n",
    "> How should we do this???\n",
    "\n",
    "We can investigate this: we have all the data at hand. We record the timestamp, participant ID and their rating for a given caption. So let's see how votes go after a user has seen $n$ captions!"
   ]
  },
  {
   "cell_type": "code",
   "execution_count": 4,
   "metadata": {
    "ExecuteTime": {
     "end_time": "2017-04-08T15:17:40.636479Z",
     "start_time": "2017-04-08T10:17:40.627942-05:00"
    },
    "collapsed": true
   },
   "outputs": [],
   "source": [
    "%matplotlib inline\n",
    "import pandas as pd\n",
    "import numpy as np\n",
    "import matplotlib.pyplot as plt\n",
    "plt.style.use('seaborn')\n",
    "\n",
    "import utils"
   ]
  },
  {
   "cell_type": "markdown",
   "metadata": {},
   "source": [
    "## Reading in data\n",
    "Let's read in the data. As the last column can contain a non-escaped comma, we have to fix that before doing any analysis.\n",
    "\n",
    "Note that two versions of this notebook exist (the previous notebook can be found in [43bc5d]). This highlights some of the differences required to read in the earlier datasets.\n",
    "\n",
    "[43bc5d]:https://github.com/nextml/caption-contest-data/commit/43bc5d23ee287b8b34cc4eb0181484bd21bbd341"
   ]
  },
  {
   "cell_type": "code",
   "execution_count": 5,
   "metadata": {
    "ExecuteTime": {
     "end_time": "2017-04-08T15:17:43.756748Z",
     "start_time": "2017-04-08T10:17:41.172668-05:00"
    }
   },
   "outputs": [
    {
     "data": {
      "text/html": [
       "<div>\n",
       "<table border=\"1\" class=\"dataframe\">\n",
       "  <thead>\n",
       "    <tr style=\"text-align: right;\">\n",
       "      <th></th>\n",
       "      <th>alg_label</th>\n",
       "      <th>network_delay</th>\n",
       "      <th>participant_uid</th>\n",
       "      <th>response_time</th>\n",
       "      <th>target</th>\n",
       "      <th>target_id</th>\n",
       "      <th>target_reward</th>\n",
       "      <th>timestamp_query_generated</th>\n",
       "    </tr>\n",
       "  </thead>\n",
       "  <tbody>\n",
       "    <tr>\n",
       "      <th>0</th>\n",
       "      <td>RandomSampling</td>\n",
       "      <td>0.094617</td>\n",
       "      <td>d43d742e06d25413ea83b2572248c2_hn5JVUAQmZ6YOgB...</td>\n",
       "      <td>5.051</td>\n",
       "      <td>Don't worry. You are safe with me.</td>\n",
       "      <td>360</td>\n",
       "      <td>1.0</td>\n",
       "      <td>2016-10-11 18:06:45.916540</td>\n",
       "    </tr>\n",
       "    <tr>\n",
       "      <th>1</th>\n",
       "      <td>RandomSampling</td>\n",
       "      <td>0.099862</td>\n",
       "      <td>d43d742e06d25413ea83b2572248c2_hn5JVUAQmZ6YOgB...</td>\n",
       "      <td>5.884</td>\n",
       "      <td>I promise, all pre-existing conditions will no...</td>\n",
       "      <td>2104</td>\n",
       "      <td>1.0</td>\n",
       "      <td>2016-10-11 18:06:51.124120</td>\n",
       "    </tr>\n",
       "    <tr>\n",
       "      <th>2</th>\n",
       "      <td>RandomSampling</td>\n",
       "      <td>0.089427</td>\n",
       "      <td>d43d742e06d25413ea83b2572248c2_hn5JVUAQmZ6YOgB...</td>\n",
       "      <td>2.103</td>\n",
       "      <td>You and me make a great combination Doc!</td>\n",
       "      <td>4206</td>\n",
       "      <td>1.0</td>\n",
       "      <td>2016-10-11 18:06:57.181677</td>\n",
       "    </tr>\n",
       "    <tr>\n",
       "      <th>3</th>\n",
       "      <td>RandomSampling</td>\n",
       "      <td>0.087867</td>\n",
       "      <td>d43d742e06d25413ea83b2572248c2_hn5JVUAQmZ6YOgB...</td>\n",
       "      <td>4.746</td>\n",
       "      <td>Zika? No, you're safe.</td>\n",
       "      <td>412</td>\n",
       "      <td>1.0</td>\n",
       "      <td>2016-10-11 18:06:59.441917</td>\n",
       "    </tr>\n",
       "    <tr>\n",
       "      <th>4</th>\n",
       "      <td>RandomSampling</td>\n",
       "      <td>0.089464</td>\n",
       "      <td>d43d742e06d25413ea83b2572248c2_hn5JVUAQmZ6YOgB...</td>\n",
       "      <td>15.780</td>\n",
       "      <td>Click ... to the right; click... to the left. ...</td>\n",
       "      <td>4415</td>\n",
       "      <td>1.0</td>\n",
       "      <td>2016-10-11 18:07:04.330232</td>\n",
       "    </tr>\n",
       "  </tbody>\n",
       "</table>\n",
       "</div>"
      ],
      "text/plain": [
       "        alg_label  network_delay  \\\n",
       "0  RandomSampling       0.094617   \n",
       "1  RandomSampling       0.099862   \n",
       "2  RandomSampling       0.089427   \n",
       "3  RandomSampling       0.087867   \n",
       "4  RandomSampling       0.089464   \n",
       "\n",
       "                                     participant_uid  response_time  \\\n",
       "0  d43d742e06d25413ea83b2572248c2_hn5JVUAQmZ6YOgB...          5.051   \n",
       "1  d43d742e06d25413ea83b2572248c2_hn5JVUAQmZ6YOgB...          5.884   \n",
       "2  d43d742e06d25413ea83b2572248c2_hn5JVUAQmZ6YOgB...          2.103   \n",
       "3  d43d742e06d25413ea83b2572248c2_hn5JVUAQmZ6YOgB...          4.746   \n",
       "4  d43d742e06d25413ea83b2572248c2_hn5JVUAQmZ6YOgB...         15.780   \n",
       "\n",
       "                                              target  target_id  \\\n",
       "0                 Don't worry. You are safe with me.        360   \n",
       "1  I promise, all pre-existing conditions will no...       2104   \n",
       "2           You and me make a great combination Doc!       4206   \n",
       "3                             Zika? No, you're safe.        412   \n",
       "4  Click ... to the right; click... to the left. ...       4415   \n",
       "\n",
       "   target_reward  timestamp_query_generated  \n",
       "0            1.0 2016-10-11 18:06:45.916540  \n",
       "1            1.0 2016-10-11 18:06:51.124120  \n",
       "2            1.0 2016-10-11 18:06:57.181677  \n",
       "3            1.0 2016-10-11 18:06:59.441917  \n",
       "4            1.0 2016-10-11 18:07:04.330232  "
      ]
     },
     "execution_count": 5,
     "metadata": {},
     "output_type": "execute_result"
    }
   ],
   "source": [
    "contest = '540'\n",
    "responses = utils.read_responses('{}-responses.csv.zip'.format(contest))\n",
    "responses.head()"
   ]
  },
  {
   "cell_type": "markdown",
   "metadata": {
    "ExecuteTime": {
     "end_time": "2016-10-05T08:25:55.674349",
     "start_time": "2016-10-05T08:25:55.671061"
    }
   },
   "source": [
    "## Seeing how many captions a user has seen\n",
    "This is the workhorse of the notebook: it sees how many captions one participant has seen. I sorted by timestamp (and with an actual timestamp, not a str) to collect the ratings in the order a user has seen. I do not assume that only one user answers at a time."
   ]
  },
  {
   "cell_type": "code",
   "execution_count": 6,
   "metadata": {
    "ExecuteTime": {
     "end_time": "2017-04-08T15:17:45.870811Z",
     "start_time": "2017-04-08T10:17:45.801899-05:00"
    }
   },
   "outputs": [],
   "source": [
    "last_id = None\n",
    "i = 0\n",
    "num_responses = []\n",
    "captions_seen = []\n",
    "responses = responses.sort_values(by='timestamp_query_generated')\n",
    "# responses = responses[0:1000]  # debug"
   ]
  },
  {
   "cell_type": "code",
   "execution_count": 7,
   "metadata": {
    "ExecuteTime": {
     "end_time": "2017-04-08T15:18:25.357910Z",
     "start_time": "2017-04-08T10:17:46.281828-05:00"
    }
   },
   "outputs": [],
   "source": [
    "captions_seen_by = {}\n",
    "captions_seen = []\n",
    "for _, response in responses.iterrows():\n",
    "    id_, rating = response['participant_uid'], response['target_reward']\n",
    "    if id_ not in captions_seen_by:\n",
    "        captions_seen_by[id_] = 0\n",
    "    captions_seen_by[id_] += 1\n",
    "    captions_seen += [captions_seen_by[id_]]\n",
    "    num_responses += [i]"
   ]
  },
  {
   "cell_type": "code",
   "execution_count": 8,
   "metadata": {
    "ExecuteTime": {
     "end_time": "2017-04-08T15:18:25.435270Z",
     "start_time": "2017-04-08T10:18:25.359680-05:00"
    }
   },
   "outputs": [
    {
     "data": {
      "text/html": [
       "<div>\n",
       "<table border=\"1\" class=\"dataframe\">\n",
       "  <thead>\n",
       "    <tr style=\"text-align: right;\">\n",
       "      <th></th>\n",
       "      <th>alg_label</th>\n",
       "      <th>network_delay</th>\n",
       "      <th>participant_uid</th>\n",
       "      <th>response_time</th>\n",
       "      <th>target</th>\n",
       "      <th>target_id</th>\n",
       "      <th>target_reward</th>\n",
       "      <th>timestamp_query_generated</th>\n",
       "      <th>number of captions seen</th>\n",
       "    </tr>\n",
       "  </thead>\n",
       "  <tbody>\n",
       "    <tr>\n",
       "      <th>252687</th>\n",
       "      <td>RandomSampling</td>\n",
       "      <td>0.071828</td>\n",
       "      <td>d43d742e06d25413ea83b2572248c2_EKjDKfTX9LNM2MT...</td>\n",
       "      <td>4.557</td>\n",
       "      <td>You probably wouldn't even be here if you had ...</td>\n",
       "      <td>1490</td>\n",
       "      <td>1.0</td>\n",
       "      <td>2016-10-10 17:21:45.573372</td>\n",
       "      <td>1</td>\n",
       "    </tr>\n",
       "    <tr>\n",
       "      <th>252688</th>\n",
       "      <td>RandomSampling</td>\n",
       "      <td>0.076773</td>\n",
       "      <td>d43d742e06d25413ea83b2572248c2_EKjDKfTX9LNM2MT...</td>\n",
       "      <td>14.824</td>\n",
       "      <td>I guess I don't need to apologize for my cold ...</td>\n",
       "      <td>2883</td>\n",
       "      <td>1.0</td>\n",
       "      <td>2016-10-10 17:21:50.381564</td>\n",
       "      <td>2</td>\n",
       "    </tr>\n",
       "    <tr>\n",
       "      <th>252689</th>\n",
       "      <td>RandomSampling</td>\n",
       "      <td>0.142236</td>\n",
       "      <td>d43d742e06d25413ea83b2572248c2_EKjDKfTX9LNM2MT...</td>\n",
       "      <td>4.752</td>\n",
       "      <td>I'm sorry but your tumblers are dry, your pett...</td>\n",
       "      <td>3923</td>\n",
       "      <td>1.0</td>\n",
       "      <td>2016-10-10 17:22:05.504520</td>\n",
       "      <td>3</td>\n",
       "    </tr>\n",
       "    <tr>\n",
       "      <th>252690</th>\n",
       "      <td>RandomSampling</td>\n",
       "      <td>0.070380</td>\n",
       "      <td>d43d742e06d25413ea83b2572248c2_EKjDKfTX9LNM2MT...</td>\n",
       "      <td>3.380</td>\n",
       "      <td>New and improved provider reimbursement under ...</td>\n",
       "      <td>271</td>\n",
       "      <td>1.0</td>\n",
       "      <td>2016-10-10 17:22:10.584019</td>\n",
       "      <td>4</td>\n",
       "    </tr>\n",
       "    <tr>\n",
       "      <th>252691</th>\n",
       "      <td>RandomSampling</td>\n",
       "      <td>0.068067</td>\n",
       "      <td>d43d742e06d25413ea83b2572248c2_EKjDKfTX9LNM2MT...</td>\n",
       "      <td>2.258</td>\n",
       "      <td>Try a more balanced diet . . . your acid test ...</td>\n",
       "      <td>3686</td>\n",
       "      <td>1.0</td>\n",
       "      <td>2016-10-10 17:22:14.221277</td>\n",
       "      <td>5</td>\n",
       "    </tr>\n",
       "  </tbody>\n",
       "</table>\n",
       "</div>"
      ],
      "text/plain": [
       "             alg_label  network_delay  \\\n",
       "252687  RandomSampling       0.071828   \n",
       "252688  RandomSampling       0.076773   \n",
       "252689  RandomSampling       0.142236   \n",
       "252690  RandomSampling       0.070380   \n",
       "252691  RandomSampling       0.068067   \n",
       "\n",
       "                                          participant_uid  response_time  \\\n",
       "252687  d43d742e06d25413ea83b2572248c2_EKjDKfTX9LNM2MT...          4.557   \n",
       "252688  d43d742e06d25413ea83b2572248c2_EKjDKfTX9LNM2MT...         14.824   \n",
       "252689  d43d742e06d25413ea83b2572248c2_EKjDKfTX9LNM2MT...          4.752   \n",
       "252690  d43d742e06d25413ea83b2572248c2_EKjDKfTX9LNM2MT...          3.380   \n",
       "252691  d43d742e06d25413ea83b2572248c2_EKjDKfTX9LNM2MT...          2.258   \n",
       "\n",
       "                                                   target  target_id  \\\n",
       "252687  You probably wouldn't even be here if you had ...       1490   \n",
       "252688  I guess I don't need to apologize for my cold ...       2883   \n",
       "252689  I'm sorry but your tumblers are dry, your pett...       3923   \n",
       "252690  New and improved provider reimbursement under ...        271   \n",
       "252691  Try a more balanced diet . . . your acid test ...       3686   \n",
       "\n",
       "        target_reward  timestamp_query_generated  number of captions seen  \n",
       "252687            1.0 2016-10-10 17:21:45.573372                        1  \n",
       "252688            1.0 2016-10-10 17:21:50.381564                        2  \n",
       "252689            1.0 2016-10-10 17:22:05.504520                        3  \n",
       "252690            1.0 2016-10-10 17:22:10.584019                        4  \n",
       "252691            1.0 2016-10-10 17:22:14.221277                        5  "
      ]
     },
     "execution_count": 8,
     "metadata": {},
     "output_type": "execute_result"
    }
   ],
   "source": [
    "responses['number of captions seen'] = captions_seen\n",
    "responses.head()"
   ]
  },
  {
   "cell_type": "markdown",
   "metadata": {},
   "source": [
    "## Viewing the data\n",
    "Now let's format the data to view it. We can view the data in two ways: as we only have three rating values, we can view the probability of a person rating 1, 2 or 3, and can also view the mean.\n",
    "\n",
    "In this, we rely on `pd.pivot_table`. This can take DataFrame that looks like a list of dictionaries and compute `aggfunc` (by default `np.mean`) for all items that contain common keys (indicated by `index` and `columns`). It's similar to Excel's pivot table functionality."
   ]
  },
  {
   "cell_type": "markdown",
   "metadata": {},
   "source": [
    "### Probability of rating {1, 2, 3}"
   ]
  },
  {
   "cell_type": "code",
   "execution_count": 9,
   "metadata": {
    "ExecuteTime": {
     "end_time": "2017-04-08T15:18:28.415936Z",
     "start_time": "2017-04-08T10:18:25.436539-05:00"
    }
   },
   "outputs": [
    {
     "data": {
      "text/html": [
       "<div>\n",
       "<table border=\"1\" class=\"dataframe\">\n",
       "  <thead>\n",
       "    <tr style=\"text-align: right;\">\n",
       "      <th>alg_label</th>\n",
       "      <th>RandomSampling</th>\n",
       "    </tr>\n",
       "    <tr>\n",
       "      <th>number of captions seen</th>\n",
       "      <th></th>\n",
       "    </tr>\n",
       "  </thead>\n",
       "  <tbody>\n",
       "    <tr>\n",
       "      <th>1</th>\n",
       "      <td>{'n': 8076, 'unfunny': 5154, 'somewhat funny':...</td>\n",
       "    </tr>\n",
       "    <tr>\n",
       "      <th>2</th>\n",
       "      <td>{'n': 7663, 'unfunny': 5319, 'somewhat funny':...</td>\n",
       "    </tr>\n",
       "    <tr>\n",
       "      <th>3</th>\n",
       "      <td>{'n': 7390, 'unfunny': 5208, 'somewhat funny':...</td>\n",
       "    </tr>\n",
       "    <tr>\n",
       "      <th>4</th>\n",
       "      <td>{'n': 7142, 'unfunny': 5045, 'somewhat funny':...</td>\n",
       "    </tr>\n",
       "    <tr>\n",
       "      <th>5</th>\n",
       "      <td>{'n': 6915, 'unfunny': 4968, 'somewhat funny':...</td>\n",
       "    </tr>\n",
       "  </tbody>\n",
       "</table>\n",
       "</div>"
      ],
      "text/plain": [
       "alg_label                                                   RandomSampling\n",
       "number of captions seen                                                   \n",
       "1                        {'n': 8076, 'unfunny': 5154, 'somewhat funny':...\n",
       "2                        {'n': 7663, 'unfunny': 5319, 'somewhat funny':...\n",
       "3                        {'n': 7390, 'unfunny': 5208, 'somewhat funny':...\n",
       "4                        {'n': 7142, 'unfunny': 5045, 'somewhat funny':...\n",
       "5                        {'n': 6915, 'unfunny': 4968, 'somewhat funny':..."
      ]
     },
     "execution_count": 9,
     "metadata": {},
     "output_type": "execute_result"
    }
   ],
   "source": [
    "def prob(x):\n",
    "    n = len(x)\n",
    "    ret = {'n': n}\n",
    "    ret.update({name: np.sum(x == i) for name, i in [('unfunny', 1),\n",
    "                                                  ('somewhat funny', 2),\n",
    "                                                  ('funny', 3)]})\n",
    "    return ret\n",
    "\n",
    "probs = responses.pivot_table(index='number of captions seen',\n",
    "                              columns='alg_label', values='target_reward',\n",
    "                              aggfunc=prob)\n",
    "probs.head()"
   ]
  },
  {
   "cell_type": "code",
   "execution_count": 10,
   "metadata": {
    "ExecuteTime": {
     "end_time": "2017-04-08T15:18:28.498205Z",
     "start_time": "2017-04-08T10:18:28.417968-05:00"
    }
   },
   "outputs": [],
   "source": [
    "d = {label: dict(probs[label]) for label in ['RandomSampling']}\n",
    "for label in d.keys():\n",
    "    for n in d[label].keys():\n",
    "        if d[label][n] is None:\n",
    "            continue\n",
    "        for rating in ['unfunny', 'somewhat funny', 'funny']:\n",
    "            d[label][n][rating] = d[label][n][rating] / d[label][n]['n']"
   ]
  },
  {
   "cell_type": "code",
   "execution_count": 11,
   "metadata": {
    "ExecuteTime": {
     "end_time": "2017-04-08T15:18:28.669141Z",
     "start_time": "2017-04-08T10:18:28.499881-05:00"
    }
   },
   "outputs": [
    {
     "data": {
      "text/html": [
       "<div>\n",
       "<table border=\"1\" class=\"dataframe\">\n",
       "  <thead>\n",
       "    <tr>\n",
       "      <th></th>\n",
       "      <th colspan=\"4\" halign=\"left\">RandomSampling</th>\n",
       "    </tr>\n",
       "    <tr>\n",
       "      <th></th>\n",
       "      <th>funny</th>\n",
       "      <th>n</th>\n",
       "      <th>somewhat funny</th>\n",
       "      <th>unfunny</th>\n",
       "    </tr>\n",
       "  </thead>\n",
       "  <tbody>\n",
       "    <tr>\n",
       "      <th>1</th>\n",
       "      <td>0.088039</td>\n",
       "      <td>8076.0</td>\n",
       "      <td>0.273774</td>\n",
       "      <td>0.638187</td>\n",
       "    </tr>\n",
       "    <tr>\n",
       "      <th>2</th>\n",
       "      <td>0.070077</td>\n",
       "      <td>7663.0</td>\n",
       "      <td>0.235808</td>\n",
       "      <td>0.694115</td>\n",
       "    </tr>\n",
       "    <tr>\n",
       "      <th>3</th>\n",
       "      <td>0.077943</td>\n",
       "      <td>7390.0</td>\n",
       "      <td>0.217321</td>\n",
       "      <td>0.704736</td>\n",
       "    </tr>\n",
       "    <tr>\n",
       "      <th>4</th>\n",
       "      <td>0.072249</td>\n",
       "      <td>7142.0</td>\n",
       "      <td>0.221367</td>\n",
       "      <td>0.706385</td>\n",
       "    </tr>\n",
       "    <tr>\n",
       "      <th>5</th>\n",
       "      <td>0.080116</td>\n",
       "      <td>6915.0</td>\n",
       "      <td>0.201446</td>\n",
       "      <td>0.718438</td>\n",
       "    </tr>\n",
       "  </tbody>\n",
       "</table>\n",
       "</div>"
      ],
      "text/plain": [
       "  RandomSampling                                 \n",
       "           funny       n somewhat funny   unfunny\n",
       "1       0.088039  8076.0       0.273774  0.638187\n",
       "2       0.070077  7663.0       0.235808  0.694115\n",
       "3       0.077943  7390.0       0.217321  0.704736\n",
       "4       0.072249  7142.0       0.221367  0.706385\n",
       "5       0.080116  6915.0       0.201446  0.718438"
      ]
     },
     "execution_count": 11,
     "metadata": {},
     "output_type": "execute_result"
    }
   ],
   "source": [
    "df = pd.DataFrame(d['RandomSampling']).T\n",
    "df = pd.concat({'RandomSampling': df}, axis=1)\n",
    "df.head()"
   ]
  },
  {
   "cell_type": "code",
   "execution_count": 12,
   "metadata": {
    "ExecuteTime": {
     "end_time": "2017-04-08T15:18:29.304985Z",
     "start_time": "2017-04-08T10:18:28.671131-05:00"
    }
   },
   "outputs": [
    {
     "data": {
      "image/png": "[encoded data removed]",
      "text/plain": [
       "<matplotlib.figure.Figure at 0x10ef7a5c0>"
      ]
     },
     "metadata": {},
     "output_type": "display_data"
    }
   ],
   "source": [
    "def plot(alg):\n",
    "    fig = plt.figure(figsize=(10, 5))\n",
    "    ax = plt.subplot(1, 2, 1)\n",
    "    df[alg][['unfunny', 'somewhat funny', 'funny']].plot(ax=ax)\n",
    "    plt.xlim(0, 100)\n",
    "    plt.title('{} ratings\\nfor contest {}'.format(alg, contest))\n",
    "    plt.ylabel('Probability of rating')\n",
    "    plt.xlabel('Number of captions seen')\n",
    "\n",
    "    ax = plt.subplot(1, 2, 2)\n",
    "    df[alg]['n'].plot(ax=ax, logy=False)\n",
    "    plt.ylabel('Number of users')\n",
    "    plt.xlabel('Number of captions seen, $n$')\n",
    "    plt.title('Number of users that have\\nseen $n$ captions')\n",
    "    plt.xlim(0, 100)\n",
    "    \n",
    "for alg in ['RandomSampling']:\n",
    "    fig = plot(alg)\n",
    "    plt.show()"
   ]
  },
  {
   "cell_type": "code",
   "execution_count": null,
   "metadata": {
    "collapsed": true
   },
   "outputs": [],
   "source": []
  }
 ],
 "metadata": {
  "kernelspec": {
   "display_name": "Python [default]",
   "language": "python",
   "name": "python3"
  },
  "language_info": {
   "codemirror_mode": {
    "name": "ipython",
    "version": 3
   },
   "file_extension": ".py",
   "mimetype": "text/x-python",
   "name": "python",
   "nbconvert_exporter": "python",
   "pygments_lexer": "ipython3",
   "version": "3.6.0"
  },
  "nav_menu": {},
  "notify_time": "5",
  "toc": {
   "navigate_menu": true,
   "number_sections": false,
   "sideBar": true,
   "threshold": "2",
   "toc_cell": false,
   "toc_section_display": "block",
   "toc_window_display": false
  }
 },
 "nbformat": 4,
 "nbformat_minor": 1
}
