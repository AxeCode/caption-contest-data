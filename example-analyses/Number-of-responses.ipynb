{
 "cells": [
  {
   "cell_type": "markdown",
   "metadata": {},
   "source": [
    "This notebook will analyze\n",
    "\n",
    "1. the number of responses recorded in the CSVs\n",
    "2. the number of responses recorded in `info.png`."
   ]
  },
  {
   "cell_type": "code",
   "execution_count": 5,
   "metadata": {
    "ExecuteTime": {
     "end_time": "2017-04-17T16:45:18.366875Z",
     "start_time": "2017-04-17T11:45:18.364200-05:00"
    },
    "collapsed": true
   },
   "outputs": [],
   "source": [
    "import os\n",
    "import utils"
   ]
  },
  {
   "cell_type": "code",
   "execution_count": 6,
   "metadata": {
    "ExecuteTime": {
     "end_time": "2017-04-17T16:45:18.528243Z",
     "start_time": "2017-04-17T11:45:18.524773-05:00"
    },
    "collapsed": true
   },
   "outputs": [],
   "source": [
    "def get_info(filename):\n",
    "    contest = int(filename[:3])\n",
    "    df = utils.read_responses(filename)\n",
    "    return {'responses': len(df), 'contest': contest, 'filename': filename}"
   ]
  },
  {
   "cell_type": "code",
   "execution_count": 7,
   "metadata": {
    "ExecuteTime": {
     "end_time": "2017-04-17T16:47:59.138083Z",
     "start_time": "2017-04-17T11:45:18.677043-05:00"
    }
   },
   "outputs": [],
   "source": [
    "data = []\n",
    "for filename in os.listdir('../contests/responses/'):\n",
    "    if 'Store' in filename or any(d in filename for d in ['497', '499', 'dueling']):\n",
    "        continue\n",
    "    data += [get_info(filename)]"
   ]
  },
  {
   "cell_type": "code",
   "execution_count": 18,
   "metadata": {
    "ExecuteTime": {
     "end_time": "2017-04-17T16:52:37.474282Z",
     "start_time": "2017-04-17T11:52:37.470906-05:00"
    }
   },
   "outputs": [],
   "source": [
    "import pandas as pd\n",
    "df = pd.DataFrame(data)"
   ]
  },
  {
   "cell_type": "code",
   "execution_count": 19,
   "metadata": {
    "ExecuteTime": {
     "end_time": "2017-04-17T17:39:41.838777Z",
     "start_time": "2017-04-17T12:39:41.819954-05:00"
    }
   },
   "outputs": [
    {
     "data": {
      "text/html": [
       "<div class=\"vega-embed\" id=\"2c5a0772-f454-4aab-ad13-44960dadd187\"></div>\n",
       "\n",
       "<style>\n",
       ".vega-embed svg, .vega-embed canvas {\n",
       "  border: 1px dotted gray;\n",
       "}\n",
       "\n",
       ".vega-embed .vega-actions a {\n",
       "  margin-right: 6px;\n",
       "}\n",
       "</style>\n"
      ]
     },
     "metadata": {
      "jupyter-vega": "#2c5a0772-f454-4aab-ad13-44960dadd187"
     },
     "output_type": "display_data"
    },
    {
     "data": {
      "application/javascript": [
       "var spec = {\"config\": {\"cell\": {\"width\": 500, \"height\": 350}}, \"encoding\": {\"x\": {\"field\": \"contest\", \"scale\": {\"zero\": false}, \"type\": \"quantitative\"}, \"y\": {\"aggregate\": \"sum\", \"field\": \"responses\", \"type\": \"quantitative\"}}, \"mark\": \"bar\", \"data\": {\"values\": [{\"contest\": 505, \"filename\": \"505-responses.csv.zip\", \"responses\": 122606}, {\"contest\": 507, \"filename\": \"507-responses.csv.zip\", \"responses\": 100184}, {\"contest\": 508, \"filename\": \"508-rount1-cardinal-responses.csv.zip\", \"responses\": 127182}, {\"contest\": 508, \"filename\": \"508-rount2-cardinal-responses.csv.zip\", \"responses\": 10686}, {\"contest\": 509, \"filename\": \"509-round1-cardinal-responses.csv.zip\", \"responses\": 89937}, {\"contest\": 509, \"filename\": \"509-round2-cardinal-responses.csv.zip\", \"responses\": 8304}, {\"contest\": 510, \"filename\": \"510-responses.csv.zip\", \"responses\": 82627}, {\"contest\": 511, \"filename\": \"511-responses.csv.zip\", \"responses\": 56660}, {\"contest\": 512, \"filename\": \"512-responses.csv.zip\", \"responses\": 43120}, {\"contest\": 513, \"filename\": \"513-responses.csv.zip\", \"responses\": 34013}, {\"contest\": 514, \"filename\": \"514-responses.csv.zip\", \"responses\": 192198}, {\"contest\": 515, \"filename\": \"515-responses.csv.zip\", \"responses\": 47448}, {\"contest\": 516, \"filename\": \"516-responses.csv.zip\", \"responses\": 49365}, {\"contest\": 517, \"filename\": \"517-responses.csv.zip\", \"responses\": 59717}, {\"contest\": 518, \"filename\": \"518-responses.csv.zip\", \"responses\": 248180}, {\"contest\": 519, \"filename\": \"519-responses.csv.zip\", \"responses\": 191935}, {\"contest\": 520, \"filename\": \"520-responses.csv.zip\", \"responses\": 209322}, {\"contest\": 521, \"filename\": \"521-responses.csv.zip\", \"responses\": 183912}, {\"contest\": 522, \"filename\": \"522-responses.csv.zip\", \"responses\": 347335}, {\"contest\": 523, \"filename\": \"523-responses.csv.zip\", \"responses\": 370607}, {\"contest\": 524, \"filename\": \"524-responses.csv.zip\", \"responses\": 172680}, {\"contest\": 526, \"filename\": \"526-responses.csv.zip\", \"responses\": 238677}, {\"contest\": 527, \"filename\": \"527-responses.csv.zip\", \"responses\": 237412}, {\"contest\": 528, \"filename\": \"528-responses.csv.zip\", \"responses\": 96609}, {\"contest\": 529, \"filename\": \"529-responses.csv.zip\", \"responses\": 231291}, {\"contest\": 530, \"filename\": \"530-responses.csv.zip\", \"responses\": 218558}, {\"contest\": 531, \"filename\": \"531-responses.csv.zip\", \"responses\": 470689}, {\"contest\": 532, \"filename\": \"532-responses.csv.zip\", \"responses\": 713655}, {\"contest\": 533, \"filename\": \"533-responses.csv.zip\", \"responses\": 366089}, {\"contest\": 534, \"filename\": \"534-responses.csv.zip\", \"responses\": 412427}, {\"contest\": 535, \"filename\": \"535-responses.csv.zip\", \"responses\": 476282}, {\"contest\": 536, \"filename\": \"536-responses.csv.zip\", \"responses\": 402070}, {\"contest\": 537, \"filename\": \"537-responses.csv.zip\", \"responses\": 660032}, {\"contest\": 538, \"filename\": \"538-responses.csv.zip\", \"responses\": 380900}, {\"contest\": 539, \"filename\": \"539-responses.csv.zip\", \"responses\": 548564}, {\"contest\": 540, \"filename\": \"540-responses.csv.zip\", \"responses\": 452547}, {\"contest\": 541, \"filename\": \"541-responses.csv.zip\", \"responses\": 503272}, {\"contest\": 542, \"filename\": \"542-responses.csv.zip\", \"responses\": 572106}, {\"contest\": 543, \"filename\": \"543-responses.csv.zip\", \"responses\": 441885}, {\"contest\": 544, \"filename\": \"544-responses.csv.zip\", \"responses\": 196634}, {\"contest\": 545, \"filename\": \"545-responses.csv.zip\", \"responses\": 331937}, {\"contest\": 546, \"filename\": \"546-responses.csv.zip\", \"responses\": 319778}, {\"contest\": 547, \"filename\": \"547-responses.csv.zip\", \"responses\": 389345}, {\"contest\": 548, \"filename\": \"548-responses.csv.zip\", \"responses\": 490547}, {\"contest\": 549, \"filename\": \"549-responses.csv.zip\", \"responses\": 466877}, {\"contest\": 550, \"filename\": \"550-responses.csv.zip\", \"responses\": 454399}, {\"contest\": 551, \"filename\": \"551-responses.csv.zip\", \"responses\": 569778}, {\"contest\": 552, \"filename\": \"552-responses.csv.zip\", \"responses\": 508270}, {\"contest\": 553, \"filename\": \"553-responses.csv.zip\", \"responses\": 545918}, {\"contest\": 555, \"filename\": \"555-responses.csv.zip\", \"responses\": 501073}, {\"contest\": 556, \"filename\": \"556-responses.csv.zip\", \"responses\": 713500}, {\"contest\": 557, \"filename\": \"557-responses.csv.zip\", \"responses\": 771049}, {\"contest\": 558, \"filename\": \"558-responses.csv.zip\", \"responses\": 519245}, {\"contest\": 559, \"filename\": \"559-active-responses.csv.zip\", \"responses\": 499864}, {\"contest\": 559, \"filename\": \"559-passive-responses.csv.zip\", \"responses\": 62743}, {\"contest\": 560, \"filename\": \"560-funny-responses.csv.zip\", \"responses\": 418937}, {\"contest\": 560, \"filename\": \"560-original-responses.csv.zip\", \"responses\": 65593}, {\"contest\": 561, \"filename\": \"561-responses.csv.zip\", \"responses\": 438147}, {\"contest\": 562, \"filename\": \"562-responses.csv.zip\", \"responses\": 176391}, {\"contest\": 563, \"filename\": \"563-responses.csv.zip\", \"responses\": 128918}, {\"contest\": 564, \"filename\": \"564-responses.csv.zip\", \"responses\": 349291}]}};\n",
       "var selector = \"#2c5a0772-f454-4aab-ad13-44960dadd187\";\n",
       "var type = \"vega-lite\";\n",
       "\n",
       "var output_area = this;\n",
       "require(['nbextensions/jupyter-vega/index'], function(vega) {\n",
       "  vega.render(selector, spec, type, output_area);\n",
       "}, function (err) {\n",
       "  if (err.requireType !== 'scripterror') {\n",
       "    throw(err);\n",
       "  }\n",
       "});\n"
      ]
     },
     "metadata": {
      "jupyter-vega": "#2c5a0772-f454-4aab-ad13-44960dadd187"
     },
     "output_type": "display_data"
    },
    {
     "data": {
      "image/png": "[encoded data removed]"
     },
     "metadata": {
      "jupyter-vega": "#2c5a0772-f454-4aab-ad13-44960dadd187"
     },
     "output_type": "display_data"
    }
   ],
   "source": [
    "from altair import Chart, X, Y, Scale\n",
    "Chart(df).mark_bar().encode(\n",
    "    x=X('contest', scale=Scale(zero=False)),\n",
    "    y='sum(responses)')"
   ]
  },
  {
   "cell_type": "code",
   "execution_count": 16,
   "metadata": {
    "ExecuteTime": {
     "end_time": "2017-04-17T16:50:16.143829Z",
     "start_time": "2017-04-17T11:50:16.139876-05:00"
    }
   },
   "outputs": [
    {
     "data": {
      "text/plain": [
       "19.089317"
      ]
     },
     "execution_count": 16,
     "metadata": {},
     "output_type": "execute_result"
    }
   ],
   "source": [
    "df['responses'].sum() / 1e6"
   ]
  },
  {
   "cell_type": "code",
   "execution_count": null,
   "metadata": {
    "collapsed": true
   },
   "outputs": [],
   "source": []
  }
 ],
 "metadata": {
  "kernelspec": {
   "display_name": "Python [default]",
   "language": "python",
   "name": "python3"
  },
  "language_info": {
   "codemirror_mode": {
    "name": "ipython",
    "version": 3
   },
   "file_extension": ".py",
   "mimetype": "text/x-python",
   "name": "python",
   "nbconvert_exporter": "python",
   "pygments_lexer": "ipython3",
   "version": "3.6.3"
  }
 },
 "nbformat": 4,
 "nbformat_minor": 2
}
