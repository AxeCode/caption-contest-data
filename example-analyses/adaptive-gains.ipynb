{
 "cells": [
  {
   "cell_type": "markdown",
   "metadata": {
    "deletable": true,
    "editable": true
   },
   "source": [
    "# Adaptive gains\n",
    "This script will see how the adaptive algorithm out-preforms the passive algorithm.\n",
    "\n",
    "It does this by seeing how many rankings are considered the funniest ranking. For each caption we have a mean and a standard deviation. If the first rated caption has mean $\\mu_1$ and std.dev. of $\\sigma_1$, we want how many captions $i$ have $\\mu_i + \\sigma_i > \\mu_1 - \\sigma_1$."
   ]
  },
  {
   "cell_type": "markdown",
   "metadata": {},
   "source": [
    "### Metrics\n",
    "* Number of \"top captions\"\n",
    "* Mean/median rank of top $n$ captions (top captions from the end of the contest)"
   ]
  },
  {
   "cell_type": "markdown",
   "metadata": {
    "collapsed": true,
    "deletable": true,
    "editable": true
   },
   "source": [
    "## Obtaining the data"
   ]
  },
  {
   "cell_type": "code",
   "execution_count": 1,
   "metadata": {
    "ExecuteTime": {
     "end_time": "2017-03-14T04:37:01.443637",
     "start_time": "2017-03-13T23:37:00.438994-05:00"
    },
    "collapsed": false,
    "deletable": true,
    "editable": true
   },
   "outputs": [],
   "source": [
    "import pandas as pd\n",
    "import numpy as np\n",
    "import matplotlib.pyplot as plt\n",
    "from datetime import datetime\n",
    "import utils"
   ]
  },
  {
   "cell_type": "markdown",
   "metadata": {
    "collapsed": true,
    "deletable": true,
    "editable": true
   },
   "source": [
    "## Finding the mean and number of possible top captions \n",
    "Another implementation can be found in `/summary-stats/summary-stats-v2.py`."
   ]
  },
  {
   "cell_type": "code",
   "execution_count": 2,
   "metadata": {
    "ExecuteTime": {
     "end_time": "2017-03-14T04:37:01.454833",
     "start_time": "2017-03-13T23:37:01.450203-05:00"
    },
    "collapsed": true,
    "deletable": true,
    "editable": true
   },
   "outputs": [],
   "source": [
    "def find_top_captions(df):\n",
    "    i_top_mean = np.argmax(df['score'].values)#idxmax(skipna=True)\n",
    "    top_caption = df.iloc[i_top_mean]\n",
    "    min_rating = top_caption['score'] - top_caption['precision']\n",
    "    df['upper bound'] = df['score'] + df['precision']\n",
    "    \n",
    "    return (df['upper bound'] > min_rating).sum(), top_caption['score'], top_caption['precision']"
   ]
  },
  {
   "cell_type": "code",
   "execution_count": 105,
   "metadata": {
    "ExecuteTime": {
     "end_time": "2017-03-14T13:28:49.661227",
     "start_time": "2017-03-14T08:28:49.643552-05:00"
    },
    "collapsed": false,
    "deletable": true,
    "editable": true
   },
   "outputs": [],
   "source": [
    "def iteration_stats(ratings, truth=None, n_top_captions={'truth': 150, 'responses': 10}):\n",
    "    \"\"\"\n",
    "    Parameters\n",
    "    ----------\n",
    "    top_captions\n",
    "        The number of captions to consider \"top\"\n",
    "        truth: used in prob response['caption'] in truth[:top_captions['truth']]\n",
    "        responses: number of captions to consider\n",
    "    \"\"\"\n",
    "    ratings = utils.calculate_stats(ratings)\n",
    "    top_captions, top_mean, top_prec = find_top_captions(ratings) \n",
    "    ret = {'top_captions': top_captions, 'top_mean': top_mean, 'top_precision': top_prec}\n",
    "    \n",
    "    if truth is not None:\n",
    "        top = truth[truth['rank'] <= n_top_captions['responses']]\n",
    "        \n",
    "        scores = [truth[truth['target_id'] == target_id]['rank'].values\n",
    "                  for target_id in top['target_id']]\n",
    "        scores = np.array([score for score in scores if len(score) > 0])\n",
    "        \n",
    "        probs = []\n",
    "        for target_id in top['target_id']:\n",
    "            condition = truth['target_id'] == target_id\n",
    "            if sum(condition) == 0:\n",
    "                probs += [0]\n",
    "                continue\n",
    "            assert sum(condition) == 1\n",
    "            caption = truth[condition] \n",
    "            probs += [1.0 if caption['rank'].values[0] <= n_top_captions['truth'] else 0.0]\n",
    "            \n",
    "        ret.update({'scores_in_random': scores.sum(),\n",
    "                    'n_top_captions_truth': n_top_captions['truth'],\n",
    "                    'n_top_captions_responses': n_top_captions['responses'],\n",
    "                    'prob_in_random_top': sum(probs) / len(probs) if len(probs) > 0 else 0,\n",
    "                   })\n",
    "        \n",
    "    return ret"
   ]
  },
  {
   "cell_type": "markdown",
   "metadata": {
    "deletable": true,
    "editable": true
   },
   "source": [
    "## Initializing responses\n",
    "These are the variables we will count the responses in"
   ]
  },
  {
   "cell_type": "markdown",
   "metadata": {
    "ExecuteTime": {
     "end_time": "2017-02-12T12:32:22.942753",
     "start_time": "2017-02-12T12:32:22.729373"
    },
    "deletable": true,
    "editable": true
   },
   "source": [
    "## Replaying one contest "
   ]
  },
  {
   "cell_type": "code",
   "execution_count": 106,
   "metadata": {
    "ExecuteTime": {
     "end_time": "2017-03-14T13:28:50.343358",
     "start_time": "2017-03-14T08:28:50.338550-05:00"
    },
    "collapsed": true,
    "deletable": true,
    "editable": true
   },
   "outputs": [],
   "source": [
    "def add_response(summary, response, mapping={1.0: 'unfunny', 2.0: 'somewhat_funny', 3.0: 'funny'}):\n",
    "    i = np.argwhere(summary['target_id'] == response['target_id']).flat[0]\n",
    "    reward = mapping[response['target_reward']]\n",
    "    summary.loc[i, reward] += 1\n",
    "    summary.loc[i, 'count'] += 1\n",
    "    return summary"
   ]
  },
  {
   "cell_type": "code",
   "execution_count": 107,
   "metadata": {
    "ExecuteTime": {
     "end_time": "2017-03-14T13:28:50.517803",
     "start_time": "2017-03-14T08:28:50.499349-05:00"
    },
    "collapsed": false,
    "deletable": true,
    "editable": true
   },
   "outputs": [],
   "source": [
    "import sys\n",
    "\n",
    "def replay_contest(df, verbose=True, **kwargs):\n",
    "    \"\"\"\n",
    "    Replay the contest. Find and record stats at certain intervals\n",
    "    \n",
    "    Parameters\n",
    "    ----------\n",
    "    df : pd.DataFrame\n",
    "        Responses to the contest (not necessarily sorted) \n",
    "        \n",
    "    Returns\n",
    "    -------\n",
    "    performance : pd.DataFrame\n",
    "       includes fields of algorithm, responses, (possible) top captions \n",
    "       \n",
    "    \"\"\"\n",
    "    df = df.sort_values(by='timestamp_query_generated')\n",
    "    n_captions = len(df['target_id'].unique())\n",
    "    ratings = {alg: utils.init_summary(df) for alg in df['alg_label'].unique()}\n",
    "    performance = [] \n",
    "    \n",
    "    j = 0\n",
    "    for _, response in df.iterrows():\n",
    "        if j > 2:\n",
    "            assert last_response['timestamp_query_generated'] <= response['timestamp_query_generated']\n",
    "            \n",
    "        alg_label = response['alg_label']\n",
    "        ratings[alg_label] = add_response(ratings[alg_label], response)\n",
    "        \n",
    "        n_responses = ratings[alg_label]['count'].sum()\n",
    "        if n_responses % n_captions == 0 and n_responses >= n_captions:\n",
    "            if verbose:\n",
    "                print('Number of epochs = {}, total_fraction = {}'.format(j / n_captions, j / len(df)))\n",
    "            stats = iteration_stats(ratings[alg_label], **kwargs)\n",
    "            datum = {'responses': n_responses,\n",
    "                     'algorithm': alg_label,\n",
    "                     'n_captions': n_captions}\n",
    "            datum.update(stats)\n",
    "            performance += [datum]\n",
    "            \n",
    "        last_response = response\n",
    "        j += 1\n",
    "    performance = pd.DataFrame(performance)\n",
    "    return performance"
   ]
  },
  {
   "cell_type": "code",
   "execution_count": 108,
   "metadata": {
    "ExecuteTime": {
     "end_time": "2017-03-14T13:28:50.660963",
     "start_time": "2017-03-14T08:28:50.658407-05:00"
    },
    "collapsed": false,
    "deletable": true,
    "editable": true
   },
   "outputs": [],
   "source": [
    "def one_contest_results(contest, **kwargs):\n",
    "    return df"
   ]
  },
  {
   "cell_type": "code",
   "execution_count": 109,
   "metadata": {
    "ExecuteTime": {
     "end_time": "2017-03-14T13:28:53.452838",
     "start_time": "2017-03-14T08:28:50.829529-05:00"
    },
    "collapsed": false,
    "deletable": true,
    "editable": true
   },
   "outputs": [
    {
     "name": "stdout",
     "output_type": "stream",
     "text": [
      "...done loading data\n"
     ]
    }
   ],
   "source": [
    "contest = '559-active'\n",
    "responses = utils.read_responses('{}-responses.csv.zip'.format(contest))\n",
    "truth = utils.read_summary('559_summary_RandomSamping.csv')\n",
    "truth = utils.add_target_ids(truth, responses)\n",
    "print('...done loading data')"
   ]
  },
  {
   "cell_type": "code",
   "execution_count": 110,
   "metadata": {
    "ExecuteTime": {
     "end_time": "2017-03-14T13:41:04.683461",
     "start_time": "2017-03-14T08:28:53.454283-05:00"
    },
    "collapsed": false,
    "deletable": true,
    "editable": true
   },
   "outputs": [
    {
     "name": "stdout",
     "output_type": "stream",
     "text": [
      "Number of epochs = 1.9702713487629688, total_fraction = 0.01975537346158155\n",
      "Number of epochs = 2.031923383878691, total_fraction = 0.0203735416033161\n",
      "Number of epochs = 3.9694732641660018, total_fraction = 0.0398008258246243\n",
      "Number of epochs = 4.02952913008779, total_fraction = 0.04040298961317478\n",
      "Number of epochs = 5.9351556264964085, total_fraction = 0.05951018677080166\n",
      "Number of epochs = 6.056464485235435, total_fraction = 0.06072651761279068\n",
      "Number of epochs = 7.928371907422187, total_fraction = 0.07949562280940416\n",
      "Number of epochs = 8.074820430965682, total_fraction = 0.08096402221404222\n",
      "Number of epochs = 9.929169992019155, total_fraction = 0.09955707952563098\n",
      "Number of epochs = 10.071827613727056, total_fraction = 0.10098746859145688\n",
      "Number of epochs = 11.90582601755786, total_fraction = 0.11937647039994878\n",
      "Number of epochs = 12.091580207501995, total_fraction = 0.12123897700174448\n",
      "Number of epochs = 13.91001596169194, total_fraction = 0.13947193636669175\n",
      "Number of epochs = 14.095770151636074, total_fraction = 0.14133444296848743\n",
      "Number of epochs = 15.887470071827615, total_fraction = 0.15929932941760158\n",
      "Number of epochs = 16.119313647246607, total_fraction = 0.1616239617175872\n",
      "Number of epochs = 17.885474860335197, total_fraction = 0.1793327785157563\n",
      "Number of epochs = 18.11512370311253, total_fraction = 0.18163540483011378\n",
      "Number of epochs = 19.87589784517159, total_fraction = 0.19929020693628666\n",
      "Number of epochs = 20.1207102952913, total_fraction = 0.2017448746058928\n",
      "Number of epochs = 21.85395051875499, total_fraction = 0.21912360161964053\n",
      "Number of epochs = 22.140662410215484, total_fraction = 0.22199838356032842\n",
      "Number of epochs = 23.8816839584996, total_fraction = 0.23945513179584846\n",
      "Number of epochs = 24.115323224261772, total_fraction = 0.24179776899316613\n",
      "Number of epochs = 25.875698324022345, total_fraction = 0.259448570011043\n",
      "Number of epochs = 26.125299281723862, total_fraction = 0.2619512507402013\n",
      "Number of epochs = 27.880686352753393, total_fraction = 0.279552038154378\n",
      "Number of epochs = 28.112729449321627, total_fraction = 0.2818786709985116\n",
      "Number of epochs = 29.902035115722267, total_fraction = 0.2998195509178497\n",
      "Number of epochs = 30.098363926576216, total_fraction = 0.3017880863594898\n",
      "Number of epochs = 31.871308858739027, total_fraction = 0.31956492165869116\n",
      "Number of epochs = 32.13347964884278, total_fraction = 0.322193636669174\n",
      "Number of epochs = 33.872306464485234, total_fraction = 0.339628378919066\n",
      "Number of epochs = 34.13527533918595, total_fraction = 0.34226509610614086\n",
      "Number of epochs = 35.86931364724661, total_fraction = 0.35965182529648065\n",
      "Number of epochs = 36.135474860335194, total_fraction = 0.3623205511899237\n",
      "Number of epochs = 37.88527533918595, total_fraction = 0.3798653233679561\n",
      "Number of epochs = 38.105945730247406, total_fraction = 0.3820779251956532\n",
      "Number of epochs = 39.896049481245015, total_fraction = 0.4000268072915833\n",
      "Number of epochs = 40.09656823623304, total_fraction = 0.4020373541603316\n",
      "Number of epochs = 41.87609736632083, total_fraction = 0.41988020741641724\n",
      "Number of epochs = 42.115722266560255, total_fraction = 0.4222828609381752\n",
      "Number of epochs = 43.87968874700718, total_fraction = 0.4399696717507162\n",
      "Number of epochs = 44.12470071827614, total_fraction = 0.44242633996447034\n",
      "Number of epochs = 45.85814046288907, total_fraction = 0.4598070675223661\n",
      "Number of epochs = 46.142657621707905, total_fraction = 0.46265984347742584\n",
      "Number of epochs = 47.841580207502, total_fraction = 0.47969447689771616\n",
      "Number of epochs = 48.16320830007981, total_fraction = 0.4829193540643055\n",
      "Number of epochs = 49.83339984038308, total_fraction = 0.49966590912728265\n",
      "Number of epochs = 50.16300877893057, total_fraction = 0.5029708080597922\n",
      "Number of epochs = 51.810654429369514, total_fraction = 0.5194913016340444\n",
      "Number of epochs = 52.17757382282522, total_fraction = 0.5231703023222316\n",
      "Number of epochs = 53.83958499600958, total_fraction = 0.5398348350751404\n",
      "Number of epochs = 54.16300877893057, total_fraction = 0.5430777171390618\n",
      "Number of epochs = 55.83978451715882, total_fraction = 0.5598902901589232\n",
      "Number of epochs = 56.15323224261772, total_fraction = 0.5630331450154442\n",
      "Number of epochs = 57.86472466081405, total_fraction = 0.580193812717059\n",
      "Number of epochs = 58.12709497206704, total_fraction = 0.5828245282716898\n",
      "Number of epochs = 59.86073423782921, total_fraction = 0.6002072563737336\n",
      "Number of epochs = 60.14784517158819, total_fraction = 0.6030860394027175\n",
      "Number of epochs = 61.81025538707103, total_fraction = 0.6197545732439224\n",
      "Number of epochs = 62.19034317637669, total_fraction = 0.623565609845878\n",
      "Number of epochs = 63.80706304868316, total_fraction = 0.639776019077189\n",
      "Number of epochs = 64.18156424581005, total_fraction = 0.6435310404430005\n",
      "Number of epochs = 65.85095770151636, total_fraction = 0.6602695933293856\n",
      "Number of epochs = 66.13747007182761, total_fraction = 0.6631423747259254\n",
      "Number of epochs = 67.86711891460494, total_fraction = 0.6804850919450091\n",
      "Number of epochs = 68.12529928172387, total_fraction = 0.6830737960725317\n",
      "Number of epochs = 69.88567438148444, total_fraction = 0.7007245970904086\n",
      "Number of epochs = 70.11891460494813, total_fraction = 0.7030632331994302\n",
      "Number of epochs = 71.83659217877096, total_fraction = 0.7202859177696334\n",
      "Number of epochs = 72.16500399042299, total_fraction = 0.7235788134372549\n",
      "Number of epochs = 73.816839584996, total_fraction = 0.7401413184386153\n",
      "Number of epochs = 74.17996807661612, total_fraction = 0.7437823087879903\n",
      "Number of epochs = 75.81903431763767, total_fraction = 0.7602167789638782\n",
      "Number of epochs = 76.19493216280925, total_fraction = 0.7639858041387257\n",
      "Number of epochs = 77.83559457302474, total_fraction = 0.7804362786677976\n",
      "Number of epochs = 78.15722266560256, total_fraction = 0.783661155834387\n",
      "Number of epochs = 79.85594573024741, total_fraction = 0.8006937887105293\n",
      "Number of epochs = 80.1464485235435, total_fraction = 0.8036065809900292\n",
      "Number of epochs = 81.86771747805267, total_fraction = 0.8208652753548965\n",
      "Number of epochs = 82.12809257781325, total_fraction = 0.8234759854680473\n",
      "Number of epochs = 83.83958499600958, total_fraction = 0.8406366531696622\n",
      "Number of epochs = 84.15482841181165, total_fraction = 0.8437975129235152\n",
      "Number of epochs = 85.84616919393456, total_fraction = 0.8607561256661812\n",
      "Number of epochs = 86.14684756584198, total_fraction = 0.8637709456972297\n",
      "Number of epochs = 87.8244213886672, total_fraction = 0.8805915208936831\n",
      "Number of epochs = 88.18794892258579, total_fraction = 0.8842365123313541\n",
      "Number of epochs = 89.80985634477254, total_fraction = 0.9004989357105132\n",
      "Number of epochs = 90.19932162809258, total_fraction = 0.9044039978874254\n",
      "Number of epochs = 91.77972865123704, total_fraction = 0.9202503080837988\n",
      "Number of epochs = 92.22905027932961, total_fraction = 0.9247555335051134\n",
      "Number of epochs = 93.7571827613727, total_fraction = 0.9400777011347087\n",
      "Number of epochs = 94.2366320830008, total_fraction = 0.9448850087223725\n",
      "Number of epochs = 95.7571827613727, total_fraction = 0.9601311556743434\n",
      "Number of epochs = 96.24521149241819, total_fraction = 0.9650244866603717\n",
      "Number of epochs = 97.76596169193934, total_fraction = 0.9802726341564906\n",
      "Number of epochs = 98.2294493216281, total_fraction = 0.9849198982123137\n"
     ]
    }
   ],
   "source": [
    "kwargs = {'truth': truth}\n",
    "df = replay_contest(responses, **kwargs)\n",
    "df['contest'] = contest"
   ]
  },
  {
   "cell_type": "code",
   "execution_count": 111,
   "metadata": {
    "ExecuteTime": {
     "end_time": "2017-03-14T13:43:54.442134",
     "start_time": "2017-03-14T08:43:54.427539-05:00"
    },
    "collapsed": false,
    "deletable": true,
    "editable": true,
    "scrolled": true
   },
   "outputs": [
    {
     "data": {
      "text/html": [
       "<div>\n",
       "<table border=\"1\" class=\"dataframe\">\n",
       "  <thead>\n",
       "    <tr style=\"text-align: right;\">\n",
       "      <th></th>\n",
       "      <th>algorithm</th>\n",
       "      <th>n_captions</th>\n",
       "      <th>n_top_captions_responses</th>\n",
       "      <th>n_top_captions_truth</th>\n",
       "      <th>prob_in_random_top</th>\n",
       "      <th>responses</th>\n",
       "      <th>scores_in_random</th>\n",
       "      <th>top_captions</th>\n",
       "      <th>top_mean</th>\n",
       "      <th>top_precision</th>\n",
       "      <th>contest</th>\n",
       "    </tr>\n",
       "  </thead>\n",
       "  <tbody>\n",
       "    <tr>\n",
       "      <th>0</th>\n",
       "      <td>KLUCB</td>\n",
       "      <td>5012</td>\n",
       "      <td>10</td>\n",
       "      <td>150</td>\n",
       "      <td>1.0</td>\n",
       "      <td>5012.0</td>\n",
       "      <td>55</td>\n",
       "      <td>0</td>\n",
       "      <td>NaN</td>\n",
       "      <td>NaN</td>\n",
       "      <td>559-active</td>\n",
       "    </tr>\n",
       "    <tr>\n",
       "      <th>1</th>\n",
       "      <td>LilUCB</td>\n",
       "      <td>5012</td>\n",
       "      <td>10</td>\n",
       "      <td>150</td>\n",
       "      <td>1.0</td>\n",
       "      <td>5012.0</td>\n",
       "      <td>55</td>\n",
       "      <td>0</td>\n",
       "      <td>NaN</td>\n",
       "      <td>NaN</td>\n",
       "      <td>559-active</td>\n",
       "    </tr>\n",
       "    <tr>\n",
       "      <th>2</th>\n",
       "      <td>KLUCB</td>\n",
       "      <td>5012</td>\n",
       "      <td>10</td>\n",
       "      <td>150</td>\n",
       "      <td>1.0</td>\n",
       "      <td>10024.0</td>\n",
       "      <td>55</td>\n",
       "      <td>4585</td>\n",
       "      <td>2.000000</td>\n",
       "      <td>0.308607</td>\n",
       "      <td>559-active</td>\n",
       "    </tr>\n",
       "    <tr>\n",
       "      <th>3</th>\n",
       "      <td>LilUCB</td>\n",
       "      <td>5012</td>\n",
       "      <td>10</td>\n",
       "      <td>150</td>\n",
       "      <td>1.0</td>\n",
       "      <td>10024.0</td>\n",
       "      <td>55</td>\n",
       "      <td>5012</td>\n",
       "      <td>2.000000</td>\n",
       "      <td>1.000000</td>\n",
       "      <td>559-active</td>\n",
       "    </tr>\n",
       "    <tr>\n",
       "      <th>4</th>\n",
       "      <td>KLUCB</td>\n",
       "      <td>5012</td>\n",
       "      <td>10</td>\n",
       "      <td>150</td>\n",
       "      <td>1.0</td>\n",
       "      <td>15036.0</td>\n",
       "      <td>55</td>\n",
       "      <td>1776</td>\n",
       "      <td>1.818182</td>\n",
       "      <td>0.226362</td>\n",
       "      <td>559-active</td>\n",
       "    </tr>\n",
       "  </tbody>\n",
       "</table>\n",
       "</div>"
      ],
      "text/plain": [
       "  algorithm  n_captions  n_top_captions_responses  n_top_captions_truth  \\\n",
       "0     KLUCB        5012                        10                   150   \n",
       "1    LilUCB        5012                        10                   150   \n",
       "2     KLUCB        5012                        10                   150   \n",
       "3    LilUCB        5012                        10                   150   \n",
       "4     KLUCB        5012                        10                   150   \n",
       "\n",
       "   prob_in_random_top  responses  scores_in_random  top_captions  top_mean  \\\n",
       "0                 1.0     5012.0                55             0       NaN   \n",
       "1                 1.0     5012.0                55             0       NaN   \n",
       "2                 1.0    10024.0                55          4585  2.000000   \n",
       "3                 1.0    10024.0                55          5012  2.000000   \n",
       "4                 1.0    15036.0                55          1776  1.818182   \n",
       "\n",
       "   top_precision     contest  \n",
       "0            NaN  559-active  \n",
       "1            NaN  559-active  \n",
       "2       0.308607  559-active  \n",
       "3       1.000000  559-active  \n",
       "4       0.226362  559-active  "
      ]
     },
     "execution_count": 111,
     "metadata": {},
     "output_type": "execute_result"
    }
   ],
   "source": [
    "df.head()"
   ]
  },
  {
   "cell_type": "markdown",
   "metadata": {
    "deletable": true,
    "editable": true
   },
   "source": [
    "## Visualization\n",
    "This means that LilUCB saw ~10 captions that could be the funniest, and RoundRobin saw ~50 captions that could be the funniest. \n",
    "\n",
    "This visualization tries to normalize for different number of captions received in each contest by\n",
    "\n",
    "* plotting for \"epochs\", or `epochs = questions_received_for_alg / total_captions`. \n",
    "* plotting the score as the percentage of \"winning\" captions.\n",
    "* \"winning captions\" is defined to be number of captions that fall who has a mean within one std.dev of top caption. "
   ]
  },
  {
   "cell_type": "code",
   "execution_count": 117,
   "metadata": {
    "ExecuteTime": {
     "end_time": "2017-03-14T13:52:25.262839",
     "start_time": "2017-03-14T08:52:25.240296-05:00"
    },
    "collapsed": false,
    "deletable": true,
    "editable": true
   },
   "outputs": [
    {
     "data": {
      "text/html": [
       "<div class=\"vega-embed\" id=\"ba5d14b5-29b3-4d0f-be2c-1ceb82fcaed6\"></div>\n",
       "\n",
       "<style>\n",
       ".vega-embed svg, .vega-embed canvas {\n",
       "  border: 1px dotted gray;\n",
       "}\n",
       "\n",
       ".vega-embed .vega-actions a {\n",
       "  margin-right: 6px;\n",
       "}\n",
       "</style>\n"
      ]
     },
     "metadata": {
      "jupyter-vega": "#ba5d14b5-29b3-4d0f-be2c-1ceb82fcaed6"
     },
     "output_type": "display_data"
    },
    {
     "data": {
      "application/javascript": [
       "var spec = {\"config\": {\"cell\": {\"width\": 500, \"height\": 350}}, \"encoding\": {\"color\": {\"field\": \"algorithm\", \"type\": \"nominal\"}, \"x\": {\"field\": \"responses\", \"scale\": {\"type\": \"linear\"}, \"type\": \"quantitative\"}, \"y\": {\"field\": \"top_captions\", \"scale\": {\"type\": \"log\"}, \"type\": \"quantitative\"}}, \"mark\": \"line\", \"data\": {\"values\": [{\"algorithm\": \"KLUCB\", \"n_captions\": 5012, \"n_top_captions_responses\": 10, \"n_top_captions_truth\": 150, \"prob_in_random_top\": 1.0, \"responses\": 5012.0, \"scores_in_random\": 55, \"top_captions\": 0, \"top_mean\": null, \"top_precision\": null, \"contest\": \"559-active\"}, {\"algorithm\": \"LilUCB\", \"n_captions\": 5012, \"n_top_captions_responses\": 10, \"n_top_captions_truth\": 150, \"prob_in_random_top\": 1.0, \"responses\": 5012.0, \"scores_in_random\": 55, \"top_captions\": 0, \"top_mean\": null, \"top_precision\": null, \"contest\": \"559-active\"}, {\"algorithm\": \"KLUCB\", \"n_captions\": 5012, \"n_top_captions_responses\": 10, \"n_top_captions_truth\": 150, \"prob_in_random_top\": 1.0, \"responses\": 10024.0, \"scores_in_random\": 55, \"top_captions\": 4585, \"top_mean\": 2.0, \"top_precision\": 0.3086066999241838, \"contest\": \"559-active\"}, {\"algorithm\": \"LilUCB\", \"n_captions\": 5012, \"n_top_captions_responses\": 10, \"n_top_captions_truth\": 150, \"prob_in_random_top\": 1.0, \"responses\": 10024.0, \"scores_in_random\": 55, \"top_captions\": 5012, \"top_mean\": 2.0, \"top_precision\": 1.0, \"contest\": \"559-active\"}, {\"algorithm\": \"KLUCB\", \"n_captions\": 5012, \"n_top_captions_responses\": 10, \"n_top_captions_truth\": 150, \"prob_in_random_top\": 1.0, \"responses\": 15036.0, \"scores_in_random\": 55, \"top_captions\": 1776, \"top_mean\": 1.8181818181818181, \"top_precision\": 0.22636181087252236, \"contest\": \"559-active\"}, {\"algorithm\": \"LilUCB\", \"n_captions\": 5012, \"n_top_captions_responses\": 10, \"n_top_captions_truth\": 150, \"prob_in_random_top\": 1.0, \"responses\": 15036.0, \"scores_in_random\": 55, \"top_captions\": 1371, \"top_mean\": 2.0, \"top_precision\": 0.4472135954999579, \"contest\": \"559-active\"}, {\"algorithm\": \"KLUCB\", \"n_captions\": 5012, \"n_top_captions_responses\": 10, \"n_top_captions_truth\": 150, \"prob_in_random_top\": 1.0, \"responses\": 20048.0, \"scores_in_random\": 55, \"top_captions\": 244, \"top_mean\": 1.6923076923076923, \"top_precision\": 0.20830867704194767, \"contest\": \"559-active\"}, {\"algorithm\": \"LilUCB\", \"n_captions\": 5012, \"n_top_captions_responses\": 10, \"n_top_captions_truth\": 150, \"prob_in_random_top\": 1.0, \"responses\": 20048.0, \"scores_in_random\": 55, \"top_captions\": 306, \"top_mean\": 2.0, \"top_precision\": 0.3779644730092272, \"contest\": \"559-active\"}, {\"algorithm\": \"KLUCB\", \"n_captions\": 5012, \"n_top_captions_responses\": 10, \"n_top_captions_truth\": 150, \"prob_in_random_top\": 1.0, \"responses\": 25060.0, \"scores_in_random\": 55, \"top_captions\": 95, \"top_mean\": 1.8214285714285714, \"top_precision\": 0.1710036621144067, \"contest\": \"559-active\"}, {\"algorithm\": \"LilUCB\", \"n_captions\": 5012, \"n_top_captions_responses\": 10, \"n_top_captions_truth\": 150, \"prob_in_random_top\": 1.0, \"responses\": 25060.0, \"scores_in_random\": 55, \"top_captions\": 155, \"top_mean\": 2.0, \"top_precision\": 0.30151134457776363, \"contest\": \"559-active\"}, {\"algorithm\": \"KLUCB\", \"n_captions\": 5012, \"n_top_captions_responses\": 10, \"n_top_captions_truth\": 150, \"prob_in_random_top\": 1.0, \"responses\": 30072.0, \"scores_in_random\": 55, \"top_captions\": 62, \"top_mean\": 1.8611111111111112, \"top_precision\": 0.1388888888888889, \"contest\": \"559-active\"}, {\"algorithm\": \"LilUCB\", \"n_captions\": 5012, \"n_top_captions_responses\": 10, \"n_top_captions_truth\": 150, \"prob_in_random_top\": 1.0, \"responses\": 30072.0, \"scores_in_random\": 55, \"top_captions\": 127, \"top_mean\": 2.0, \"top_precision\": 0.21821789023599236, \"contest\": \"559-active\"}, {\"algorithm\": \"KLUCB\", \"n_captions\": 5012, \"n_top_captions_responses\": 10, \"n_top_captions_truth\": 150, \"prob_in_random_top\": 1.0, \"responses\": 35084.0, \"scores_in_random\": 55, \"top_captions\": 76, \"top_mean\": 1.8611111111111112, \"top_precision\": 0.1388888888888889, \"contest\": \"559-active\"}, {\"algorithm\": \"LilUCB\", \"n_captions\": 5012, \"n_top_captions_responses\": 10, \"n_top_captions_truth\": 150, \"prob_in_random_top\": 1.0, \"responses\": 35084.0, \"scores_in_random\": 55, \"top_captions\": 125, \"top_mean\": 2.0, \"top_precision\": 0.21821789023599236, \"contest\": \"559-active\"}, {\"algorithm\": \"KLUCB\", \"n_captions\": 5012, \"n_top_captions_responses\": 10, \"n_top_captions_truth\": 150, \"prob_in_random_top\": 1.0, \"responses\": 40096.0, \"scores_in_random\": 55, \"top_captions\": 32, \"top_mean\": 1.8596491228070176, \"top_precision\": 0.10748490740712549, \"contest\": \"559-active\"}, {\"algorithm\": \"LilUCB\", \"n_captions\": 5012, \"n_top_captions_responses\": 10, \"n_top_captions_truth\": 150, \"prob_in_random_top\": 1.0, \"responses\": 40096.0, \"scores_in_random\": 55, \"top_captions\": 122, \"top_mean\": 1.9473684210526316, \"top_precision\": 0.19457081590191957, \"contest\": \"559-active\"}, {\"algorithm\": \"KLUCB\", \"n_captions\": 5012, \"n_top_captions_responses\": 10, \"n_top_captions_truth\": 150, \"prob_in_random_top\": 1.0, \"responses\": 45108.0, \"scores_in_random\": 55, \"top_captions\": 26, \"top_mean\": 1.8596491228070176, \"top_precision\": 0.10748490740712549, \"contest\": \"559-active\"}, {\"algorithm\": \"LilUCB\", \"n_captions\": 5012, \"n_top_captions_responses\": 10, \"n_top_captions_truth\": 150, \"prob_in_random_top\": 1.0, \"responses\": 45108.0, \"scores_in_random\": 55, \"top_captions\": 100, \"top_mean\": 1.9473684210526316, \"top_precision\": 0.19457081590191957, \"contest\": \"559-active\"}, {\"algorithm\": \"KLUCB\", \"n_captions\": 5012, \"n_top_captions_responses\": 10, \"n_top_captions_truth\": 150, \"prob_in_random_top\": 1.0, \"responses\": 50120.0, \"scores_in_random\": 55, \"top_captions\": 20, \"top_mean\": 1.826086956521739, \"top_precision\": 0.09892112330339498, \"contest\": \"559-active\"}, {\"algorithm\": \"LilUCB\", \"n_captions\": 5012, \"n_top_captions_responses\": 10, \"n_top_captions_truth\": 150, \"prob_in_random_top\": 1.0, \"responses\": 50120.0, \"scores_in_random\": 55, \"top_captions\": 175, \"top_mean\": 1.8571428571428572, \"top_precision\": 0.1862629258629328, \"contest\": \"559-active\"}, {\"algorithm\": \"KLUCB\", \"n_captions\": 5012, \"n_top_captions_responses\": 10, \"n_top_captions_truth\": 150, \"prob_in_random_top\": 1.0, \"responses\": 55132.0, \"scores_in_random\": 55, \"top_captions\": 30, \"top_mean\": 1.7922077922077921, \"top_precision\": 0.09487492636801576, \"contest\": \"559-active\"}, {\"algorithm\": \"LilUCB\", \"n_captions\": 5012, \"n_top_captions_responses\": 10, \"n_top_captions_truth\": 150, \"prob_in_random_top\": 1.0, \"responses\": 55132.0, \"scores_in_random\": 55, \"top_captions\": 117, \"top_mean\": 1.8695652173913044, \"top_precision\": 0.18117259504135713, \"contest\": \"559-active\"}, {\"algorithm\": \"KLUCB\", \"n_captions\": 5012, \"n_top_captions_responses\": 10, \"n_top_captions_truth\": 150, \"prob_in_random_top\": 1.0, \"responses\": 60144.0, \"scores_in_random\": 55, \"top_captions\": 16, \"top_mean\": 1.8144329896907216, \"top_precision\": 0.08586768685029733, \"contest\": \"559-active\"}, {\"algorithm\": \"LilUCB\", \"n_captions\": 5012, \"n_top_captions_responses\": 10, \"n_top_captions_truth\": 150, \"prob_in_random_top\": 1.0, \"responses\": 60144.0, \"scores_in_random\": 55, \"top_captions\": 142, \"top_mean\": 1.8461538461538463, \"top_precision\": 0.17269187938956654, \"contest\": \"559-active\"}, {\"algorithm\": \"KLUCB\", \"n_captions\": 5012, \"n_top_captions_responses\": 10, \"n_top_captions_truth\": 150, \"prob_in_random_top\": 1.0, \"responses\": 65156.0, \"scores_in_random\": 55, \"top_captions\": 9, \"top_mean\": 1.823008849557522, \"top_precision\": 0.07973376259484341, \"contest\": \"559-active\"}, {\"algorithm\": \"LilUCB\", \"n_captions\": 5012, \"n_top_captions_responses\": 10, \"n_top_captions_truth\": 150, \"prob_in_random_top\": 1.0, \"responses\": 65156.0, \"scores_in_random\": 55, \"top_captions\": 143, \"top_mean\": 1.8148148148148149, \"top_precision\": 0.16910217950714188, \"contest\": \"559-active\"}, {\"algorithm\": \"KLUCB\", \"n_captions\": 5012, \"n_top_captions_responses\": 10, \"n_top_captions_truth\": 150, \"prob_in_random_top\": 1.0, \"responses\": 70168.0, \"scores_in_random\": 55, \"top_captions\": 10, \"top_mean\": 1.7881355932203389, \"top_precision\": 0.07786415747600868, \"contest\": \"559-active\"}, {\"algorithm\": \"LilUCB\", \"n_captions\": 5012, \"n_top_captions_responses\": 10, \"n_top_captions_truth\": 150, \"prob_in_random_top\": 1.0, \"responses\": 70168.0, \"scores_in_random\": 55, \"top_captions\": 102, \"top_mean\": 1.8275862068965518, \"top_precision\": 0.1724137931034483, \"contest\": \"559-active\"}, {\"algorithm\": \"KLUCB\", \"n_captions\": 5012, \"n_top_captions_responses\": 10, \"n_top_captions_truth\": 150, \"prob_in_random_top\": 1.0, \"responses\": 75180.0, \"scores_in_random\": 55, \"top_captions\": 8, \"top_mean\": 1.7890625, \"top_precision\": 0.07494448712443423, \"contest\": \"559-active\"}, {\"algorithm\": \"LilUCB\", \"n_captions\": 5012, \"n_top_captions_responses\": 10, \"n_top_captions_truth\": 150, \"prob_in_random_top\": 1.0, \"responses\": 75180.0, \"scores_in_random\": 55, \"top_captions\": 62, \"top_mean\": 1.8333333333333333, \"top_precision\": 0.15170983163879992, \"contest\": \"559-active\"}, {\"algorithm\": \"KLUCB\", \"n_captions\": 5012, \"n_top_captions_responses\": 10, \"n_top_captions_truth\": 150, \"prob_in_random_top\": 1.0, \"responses\": 80192.0, \"scores_in_random\": 55, \"top_captions\": 7, \"top_mean\": 1.7828947368421053, \"top_precision\": 0.06854419235171876, \"contest\": \"559-active\"}, {\"algorithm\": \"LilUCB\", \"n_captions\": 5012, \"n_top_captions_responses\": 10, \"n_top_captions_truth\": 150, \"prob_in_random_top\": 1.0, \"responses\": 80192.0, \"scores_in_random\": 55, \"top_captions\": 66, \"top_mean\": 1.8333333333333333, \"top_precision\": 0.15170983163879992, \"contest\": \"559-active\"}, {\"algorithm\": \"KLUCB\", \"n_captions\": 5012, \"n_top_captions_responses\": 10, \"n_top_captions_truth\": 150, \"prob_in_random_top\": 1.0, \"responses\": 85204.0, \"scores_in_random\": 55, \"top_captions\": 7, \"top_mean\": 1.7625, \"top_precision\": 0.06663963681600128, \"contest\": \"559-active\"}, {\"algorithm\": \"LilUCB\", \"n_captions\": 5012, \"n_top_captions_responses\": 10, \"n_top_captions_truth\": 150, \"prob_in_random_top\": 1.0, \"responses\": 85204.0, \"scores_in_random\": 55, \"top_captions\": 125, \"top_mean\": 1.7647058823529411, \"top_precision\": 0.1404019156329071, \"contest\": \"559-active\"}, {\"algorithm\": \"KLUCB\", \"n_captions\": 5012, \"n_top_captions_responses\": 10, \"n_top_captions_truth\": 150, \"prob_in_random_top\": 1.0, \"responses\": 90216.0, \"scores_in_random\": 55, \"top_captions\": 8, \"top_mean\": 1.755952380952381, \"top_precision\": 0.06457568277552753, \"contest\": \"559-active\"}, {\"algorithm\": \"LilUCB\", \"n_captions\": 5012, \"n_top_captions_responses\": 10, \"n_top_captions_truth\": 150, \"prob_in_random_top\": 1.0, \"responses\": 90216.0, \"scores_in_random\": 55, \"top_captions\": 99, \"top_mean\": 1.7567567567567568, \"top_precision\": 0.12499492725686133, \"contest\": \"559-active\"}, {\"algorithm\": \"KLUCB\", \"n_captions\": 5012, \"n_top_captions_responses\": 10, \"n_top_captions_truth\": 150, \"prob_in_random_top\": 1.0, \"responses\": 95228.0, \"scores_in_random\": 55, \"top_captions\": 9, \"top_mean\": 1.7444444444444445, \"top_precision\": 0.062595537023489, \"contest\": \"559-active\"}, {\"algorithm\": \"LilUCB\", \"n_captions\": 5012, \"n_top_captions_responses\": 10, \"n_top_captions_truth\": 150, \"prob_in_random_top\": 1.0, \"responses\": 95228.0, \"scores_in_random\": 55, \"top_captions\": 49, \"top_mean\": 1.7906976744186047, \"top_precision\": 0.11792850065979302, \"contest\": \"559-active\"}, {\"algorithm\": \"KLUCB\", \"n_captions\": 5012, \"n_top_captions_responses\": 10, \"n_top_captions_truth\": 150, \"prob_in_random_top\": 1.0, \"responses\": 100240.0, \"scores_in_random\": 55, \"top_captions\": 12, \"top_mean\": 1.7322404371584699, \"top_precision\": 0.06196403688393657, \"contest\": \"559-active\"}, {\"algorithm\": \"LilUCB\", \"n_captions\": 5012, \"n_top_captions_responses\": 10, \"n_top_captions_truth\": 150, \"prob_in_random_top\": 1.0, \"responses\": 100240.0, \"scores_in_random\": 55, \"top_captions\": 65, \"top_mean\": 1.7555555555555555, \"top_precision\": 0.11527549590050185, \"contest\": \"559-active\"}, {\"algorithm\": \"KLUCB\", \"n_captions\": 5012, \"n_top_captions_responses\": 10, \"n_top_captions_truth\": 150, \"prob_in_random_top\": 1.0, \"responses\": 105252.0, \"scores_in_random\": 55, \"top_captions\": 3, \"top_mean\": 1.8205128205128205, \"top_precision\": 0.053910833305057464, \"contest\": \"559-active\"}, {\"algorithm\": \"LilUCB\", \"n_captions\": 5012, \"n_top_captions_responses\": 10, \"n_top_captions_truth\": 150, \"prob_in_random_top\": 1.0, \"responses\": 105252.0, \"scores_in_random\": 55, \"top_captions\": 37, \"top_mean\": 1.7959183673469388, \"top_precision\": 0.12364776006322134, \"contest\": \"559-active\"}, {\"algorithm\": \"KLUCB\", \"n_captions\": 5012, \"n_top_captions_responses\": 10, \"n_top_captions_truth\": 150, \"prob_in_random_top\": 1.0, \"responses\": 110264.0, \"scores_in_random\": 55, \"top_captions\": 3, \"top_mean\": 1.7808219178082192, \"top_precision\": 0.04753152039149282, \"contest\": \"559-active\"}, {\"algorithm\": \"LilUCB\", \"n_captions\": 5012, \"n_top_captions_responses\": 10, \"n_top_captions_truth\": 150, \"prob_in_random_top\": 1.0, \"responses\": 110264.0, \"scores_in_random\": 55, \"top_captions\": 39, \"top_mean\": 1.78, \"top_precision\": 0.12219088445910344, \"contest\": \"559-active\"}, {\"algorithm\": \"KLUCB\", \"n_captions\": 5012, \"n_top_captions_responses\": 10, \"n_top_captions_truth\": 150, \"prob_in_random_top\": 1.0, \"responses\": 115276.0, \"scores_in_random\": 55, \"top_captions\": 5, \"top_mean\": 1.7888563049853372, \"top_precision\": 0.04442312798696358, \"contest\": \"559-active\"}, {\"algorithm\": \"LilUCB\", \"n_captions\": 5012, \"n_top_captions_responses\": 10, \"n_top_captions_truth\": 150, \"prob_in_random_top\": 1.0, \"responses\": 115276.0, \"scores_in_random\": 55, \"top_captions\": 65, \"top_mean\": 1.74, \"top_precision\": 0.10995360802796492, \"contest\": \"559-active\"}, {\"algorithm\": \"KLUCB\", \"n_captions\": 5012, \"n_top_captions_responses\": 10, \"n_top_captions_truth\": 150, \"prob_in_random_top\": 1.0, \"responses\": 120288.0, \"scores_in_random\": 55, \"top_captions\": 5, \"top_mean\": 1.7690140845070423, \"top_precision\": 0.043432272992656576, \"contest\": \"559-active\"}, {\"algorithm\": \"LilUCB\", \"n_captions\": 5012, \"n_top_captions_responses\": 10, \"n_top_captions_truth\": 150, \"prob_in_random_top\": 1.0, \"responses\": 120288.0, \"scores_in_random\": 55, \"top_captions\": 49, \"top_mean\": 1.7454545454545454, \"top_precision\": 0.11668306325813052, \"contest\": \"559-active\"}, {\"algorithm\": \"KLUCB\", \"n_captions\": 5012, \"n_top_captions_responses\": 10, \"n_top_captions_truth\": 150, \"prob_in_random_top\": 1.0, \"responses\": 125300.0, \"scores_in_random\": 55, \"top_captions\": 6, \"top_mean\": 1.7554347826086956, \"top_precision\": 0.04250385273124818, \"contest\": \"559-active\"}, {\"algorithm\": \"LilUCB\", \"n_captions\": 5012, \"n_top_captions_responses\": 10, \"n_top_captions_truth\": 150, \"prob_in_random_top\": 1.0, \"responses\": 125300.0, \"scores_in_random\": 55, \"top_captions\": 52, \"top_mean\": 1.7241379310344827, \"top_precision\": 0.11215618552072866, \"contest\": \"559-active\"}, {\"algorithm\": \"KLUCB\", \"n_captions\": 5012, \"n_top_captions_responses\": 10, \"n_top_captions_truth\": 150, \"prob_in_random_top\": 1.0, \"responses\": 130312.0, \"scores_in_random\": 55, \"top_captions\": 9, \"top_mean\": 1.7427821522309712, \"top_precision\": 0.04162009976239234, \"contest\": \"559-active\"}, {\"algorithm\": \"LilUCB\", \"n_captions\": 5012, \"n_top_captions_responses\": 10, \"n_top_captions_truth\": 150, \"prob_in_random_top\": 1.0, \"responses\": 130312.0, \"scores_in_random\": 55, \"top_captions\": 51, \"top_mean\": 1.7241379310344827, \"top_precision\": 0.11215618552072866, \"contest\": \"559-active\"}, {\"algorithm\": \"KLUCB\", \"n_captions\": 5012, \"n_top_captions_responses\": 10, \"n_top_captions_truth\": 150, \"prob_in_random_top\": 1.0, \"responses\": 135324.0, \"scores_in_random\": 55, \"top_captions\": 2, \"top_mean\": 1.8506224066390042, \"top_precision\": 0.05269736770385224, \"contest\": \"559-active\"}, {\"algorithm\": \"LilUCB\", \"n_captions\": 5012, \"n_top_captions_responses\": 10, \"n_top_captions_truth\": 150, \"prob_in_random_top\": 1.0, \"responses\": 135324.0, \"scores_in_random\": 55, \"top_captions\": 42, \"top_mean\": 1.7258064516129032, \"top_precision\": 0.10068342572179649, \"contest\": \"559-active\"}, {\"algorithm\": \"KLUCB\", \"n_captions\": 5012, \"n_top_captions_responses\": 10, \"n_top_captions_truth\": 150, \"prob_in_random_top\": 1.0, \"responses\": 140336.0, \"scores_in_random\": 55, \"top_captions\": 2, \"top_mean\": 1.90633608815427, \"top_precision\": 0.042986346991921574, \"contest\": \"559-active\"}, {\"algorithm\": \"LilUCB\", \"n_captions\": 5012, \"n_top_captions_responses\": 10, \"n_top_captions_truth\": 150, \"prob_in_random_top\": 1.0, \"responses\": 140336.0, \"scores_in_random\": 55, \"top_captions\": 40, \"top_mean\": 1.7313432835820894, \"top_precision\": 0.09879896018126205, \"contest\": \"559-active\"}, {\"algorithm\": \"KLUCB\", \"n_captions\": 5012, \"n_top_captions_responses\": 10, \"n_top_captions_truth\": 150, \"prob_in_random_top\": 1.0, \"responses\": 145348.0, \"scores_in_random\": 55, \"top_captions\": 3, \"top_mean\": 1.8612836438923395, \"top_precision\": 0.03670830495508559, \"contest\": \"559-active\"}, {\"algorithm\": \"LilUCB\", \"n_captions\": 5012, \"n_top_captions_responses\": 10, \"n_top_captions_truth\": 150, \"prob_in_random_top\": 1.0, \"responses\": 145348.0, \"scores_in_random\": 55, \"top_captions\": 42, \"top_mean\": 1.7205882352941178, \"top_precision\": 0.09792757764416855, \"contest\": \"559-active\"}, {\"algorithm\": \"KLUCB\", \"n_captions\": 5012, \"n_top_captions_responses\": 10, \"n_top_captions_truth\": 150, \"prob_in_random_top\": 1.0, \"responses\": 150360.0, \"scores_in_random\": 55, \"top_captions\": 3, \"top_mean\": 1.8461538461538463, \"top_precision\": 0.03278995639247608, \"contest\": \"559-active\"}, {\"algorithm\": \"LilUCB\", \"n_captions\": 5012, \"n_top_captions_responses\": 10, \"n_top_captions_truth\": 150, \"prob_in_random_top\": 1.0, \"responses\": 150360.0, \"scores_in_random\": 55, \"top_captions\": 16, \"top_mean\": 1.8181818181818181, \"top_precision\": 0.10776191254078583, \"contest\": \"559-active\"}, {\"algorithm\": \"KLUCB\", \"n_captions\": 5012, \"n_top_captions_responses\": 10, \"n_top_captions_truth\": 150, \"prob_in_random_top\": 1.0, \"responses\": 155372.0, \"scores_in_random\": 55, \"top_captions\": 4, \"top_mean\": 1.8296398891966759, \"top_precision\": 0.029598380878226936, \"contest\": \"559-active\"}, {\"algorithm\": \"LilUCB\", \"n_captions\": 5012, \"n_top_captions_responses\": 10, \"n_top_captions_truth\": 150, \"prob_in_random_top\": 1.0, \"responses\": 155372.0, \"scores_in_random\": 55, \"top_captions\": 9, \"top_mean\": 1.8279569892473118, \"top_precision\": 0.08865476362873555, \"contest\": \"559-active\"}, {\"algorithm\": \"KLUCB\", \"n_captions\": 5012, \"n_top_captions_responses\": 10, \"n_top_captions_truth\": 150, \"prob_in_random_top\": 1.0, \"responses\": 160384.0, \"scores_in_random\": 55, \"top_captions\": 5, \"top_mean\": 1.8153846153846154, \"top_precision\": 0.02739419069303578, \"contest\": \"559-active\"}, {\"algorithm\": \"LilUCB\", \"n_captions\": 5012, \"n_top_captions_responses\": 10, \"n_top_captions_truth\": 150, \"prob_in_random_top\": 1.0, \"responses\": 160384.0, \"scores_in_random\": 55, \"top_captions\": 9, \"top_mean\": 1.8191489361702127, \"top_precision\": 0.08814772800930377, \"contest\": \"559-active\"}, {\"algorithm\": \"KLUCB\", \"n_captions\": 5012, \"n_top_captions_responses\": 10, \"n_top_captions_truth\": 150, \"prob_in_random_top\": 1.0, \"responses\": 165396.0, \"scores_in_random\": 55, \"top_captions\": 3, \"top_mean\": 1.8489583333333333, \"top_precision\": 0.041984178345233096, \"contest\": \"559-active\"}, {\"algorithm\": \"LilUCB\", \"n_captions\": 5012, \"n_top_captions_responses\": 10, \"n_top_captions_truth\": 150, \"prob_in_random_top\": 1.0, \"responses\": 165396.0, \"scores_in_random\": 55, \"top_captions\": 11, \"top_mean\": 1.8020833333333333, \"top_precision\": 0.08713242551440531, \"contest\": \"559-active\"}, {\"algorithm\": \"KLUCB\", \"n_captions\": 5012, \"n_top_captions_responses\": 10, \"n_top_captions_truth\": 150, \"prob_in_random_top\": 1.0, \"responses\": 170408.0, \"scores_in_random\": 55, \"top_captions\": 2, \"top_mean\": 1.83201581027668, \"top_precision\": 0.03683573510269842, \"contest\": \"559-active\"}, {\"algorithm\": \"LilUCB\", \"n_captions\": 5012, \"n_top_captions_responses\": 10, \"n_top_captions_truth\": 150, \"prob_in_random_top\": 1.0, \"responses\": 170408.0, \"scores_in_random\": 55, \"top_captions\": 13, \"top_mean\": 1.7938144329896908, \"top_precision\": 0.08662503666995267, \"contest\": \"559-active\"}, {\"algorithm\": \"KLUCB\", \"n_captions\": 5012, \"n_top_captions_responses\": 10, \"n_top_captions_truth\": 150, \"prob_in_random_top\": 1.0, \"responses\": 175420.0, \"scores_in_random\": 55, \"top_captions\": 3, \"top_mean\": 1.831404958677686, \"top_precision\": 0.03361053508991632, \"contest\": \"559-active\"}, {\"algorithm\": \"LilUCB\", \"n_captions\": 5012, \"n_top_captions_responses\": 10, \"n_top_captions_truth\": 150, \"prob_in_random_top\": 1.0, \"responses\": 175420.0, \"scores_in_random\": 55, \"top_captions\": 12, \"top_mean\": 1.7941176470588236, \"top_precision\": 0.07799944159773743, \"contest\": \"559-active\"}, {\"algorithm\": \"KLUCB\", \"n_captions\": 5012, \"n_top_captions_responses\": 10, \"n_top_captions_truth\": 150, \"prob_in_random_top\": 1.0, \"responses\": 180432.0, \"scores_in_random\": 55, \"top_captions\": 1, \"top_mean\": 1.848354792560801, \"top_precision\": 0.03110072211331584, \"contest\": \"559-active\"}, {\"algorithm\": \"LilUCB\", \"n_captions\": 5012, \"n_top_captions_responses\": 10, \"n_top_captions_truth\": 150, \"prob_in_random_top\": 1.0, \"responses\": 180432.0, \"scores_in_random\": 55, \"top_captions\": 13, \"top_mean\": 1.7864077669902914, \"top_precision\": 0.07762229647056819, \"contest\": \"559-active\"}, {\"algorithm\": \"KLUCB\", \"n_captions\": 5012, \"n_top_captions_responses\": 10, \"n_top_captions_truth\": 150, \"prob_in_random_top\": 1.0, \"responses\": 185444.0, \"scores_in_random\": 55, \"top_captions\": 3, \"top_mean\": 1.8548585485854858, \"top_precision\": 0.02867648766439534, \"contest\": \"559-active\"}, {\"algorithm\": \"LilUCB\", \"n_captions\": 5012, \"n_top_captions_responses\": 10, \"n_top_captions_truth\": 150, \"prob_in_random_top\": 1.0, \"responses\": 185444.0, \"scores_in_random\": 55, \"top_captions\": 15, \"top_mean\": 1.7809523809523808, \"top_precision\": 0.0822986524898168, \"contest\": \"559-active\"}, {\"algorithm\": \"KLUCB\", \"n_captions\": 5012, \"n_top_captions_responses\": 10, \"n_top_captions_truth\": 150, \"prob_in_random_top\": 1.0, \"responses\": 190456.0, \"scores_in_random\": 55, \"top_captions\": 2, \"top_mean\": 1.8421052631578947, \"top_precision\": 0.02712423527123769, \"contest\": \"559-active\"}, {\"algorithm\": \"LilUCB\", \"n_captions\": 5012, \"n_top_captions_responses\": 10, \"n_top_captions_truth\": 150, \"prob_in_random_top\": 1.0, \"responses\": 190456.0, \"scores_in_random\": 55, \"top_captions\": 14, \"top_mean\": 1.7641509433962264, \"top_precision\": 0.07648134184254644, \"contest\": \"559-active\"}, {\"algorithm\": \"KLUCB\", \"n_captions\": 5012, \"n_top_captions_responses\": 10, \"n_top_captions_truth\": 150, \"prob_in_random_top\": 1.0, \"responses\": 195468.0, \"scores_in_random\": 55, \"top_captions\": 2, \"top_mean\": 1.819623389494549, \"top_precision\": 0.025611963827583694, \"contest\": \"559-active\"}, {\"algorithm\": \"LilUCB\", \"n_captions\": 5012, \"n_top_captions_responses\": 10, \"n_top_captions_truth\": 150, \"prob_in_random_top\": 1.0, \"responses\": 195468.0, \"scores_in_random\": 55, \"top_captions\": 12, \"top_mean\": 1.7767857142857142, \"top_precision\": 0.07891418598560196, \"contest\": \"559-active\"}, {\"algorithm\": \"KLUCB\", \"n_captions\": 5012, \"n_top_captions_responses\": 10, \"n_top_captions_truth\": 150, \"prob_in_random_top\": 1.0, \"responses\": 200480.0, \"scores_in_random\": 55, \"top_captions\": 2, \"top_mean\": 1.7945845004668535, \"top_precision\": 0.024729371793120052, \"contest\": \"559-active\"}, {\"algorithm\": \"LilUCB\", \"n_captions\": 5012, \"n_top_captions_responses\": 10, \"n_top_captions_truth\": 150, \"prob_in_random_top\": 1.0, \"responses\": 200480.0, \"scores_in_random\": 55, \"top_captions\": 2, \"top_mean\": 1.9361702127659575, \"top_precision\": 0.09662399041988516, \"contest\": \"559-active\"}, {\"algorithm\": \"KLUCB\", \"n_captions\": 5012, \"n_top_captions_responses\": 10, \"n_top_captions_truth\": 150, \"prob_in_random_top\": 1.0, \"responses\": 205492.0, \"scores_in_random\": 55, \"top_captions\": 12, \"top_mean\": 1.7354260089686098, \"top_precision\": 0.0515172248104496, \"contest\": \"559-active\"}, {\"algorithm\": \"LilUCB\", \"n_captions\": 5012, \"n_top_captions_responses\": 10, \"n_top_captions_truth\": 150, \"prob_in_random_top\": 1.0, \"responses\": 205492.0, \"scores_in_random\": 55, \"top_captions\": 2, \"top_mean\": 1.8869047619047619, \"top_precision\": 0.06285752898845377, \"contest\": \"559-active\"}, {\"algorithm\": \"KLUCB\", \"n_captions\": 5012, \"n_top_captions_responses\": 10, \"n_top_captions_truth\": 150, \"prob_in_random_top\": 1.0, \"responses\": 210504.0, \"scores_in_random\": 55, \"top_captions\": 9, \"top_mean\": 1.7120622568093384, \"top_precision\": 0.02184645690821646, \"contest\": \"559-active\"}, {\"algorithm\": \"LilUCB\", \"n_captions\": 5012, \"n_top_captions_responses\": 10, \"n_top_captions_truth\": 150, \"prob_in_random_top\": 1.0, \"responses\": 210504.0, \"scores_in_random\": 55, \"top_captions\": 3, \"top_mean\": 1.8983050847457628, \"top_precision\": 0.06802894192220274, \"contest\": \"559-active\"}, {\"algorithm\": \"KLUCB\", \"n_captions\": 5012, \"n_top_captions_responses\": 10, \"n_top_captions_truth\": 150, \"prob_in_random_top\": 1.0, \"responses\": 215516.0, \"scores_in_random\": 55, \"top_captions\": 8, \"top_mean\": 1.7073540561031084, \"top_precision\": 0.021942830941094983, \"contest\": \"559-active\"}, {\"algorithm\": \"LilUCB\", \"n_captions\": 5012, \"n_top_captions_responses\": 10, \"n_top_captions_truth\": 150, \"prob_in_random_top\": 1.0, \"responses\": 215516.0, \"scores_in_random\": 55, \"top_captions\": 2, \"top_mean\": 1.89247311827957, \"top_precision\": 0.06599108337731818, \"contest\": \"559-active\"}, {\"algorithm\": \"KLUCB\", \"n_captions\": 5012, \"n_top_captions_responses\": 10, \"n_top_captions_truth\": 150, \"prob_in_random_top\": 1.0, \"responses\": 220528.0, \"scores_in_random\": 55, \"top_captions\": 5, \"top_mean\": 1.7467532467532467, \"top_precision\": 0.04647645928738062, \"contest\": \"559-active\"}, {\"algorithm\": \"LilUCB\", \"n_captions\": 5012, \"n_top_captions_responses\": 10, \"n_top_captions_truth\": 150, \"prob_in_random_top\": 1.0, \"responses\": 220528.0, \"scores_in_random\": 55, \"top_captions\": 2, \"top_mean\": 1.8835978835978835, \"top_precision\": 0.06528437637343007, \"contest\": \"559-active\"}, {\"algorithm\": \"KLUCB\", \"n_captions\": 5012, \"n_top_captions_responses\": 10, \"n_top_captions_truth\": 150, \"prob_in_random_top\": 1.0, \"responses\": 225540.0, \"scores_in_random\": 55, \"top_captions\": 5, \"top_mean\": 1.7473684210526317, \"top_precision\": 0.04180912383515637, \"contest\": \"559-active\"}, {\"algorithm\": \"LilUCB\", \"n_captions\": 5012, \"n_top_captions_responses\": 10, \"n_top_captions_truth\": 150, \"prob_in_random_top\": 1.0, \"responses\": 225540.0, \"scores_in_random\": 55, \"top_captions\": 2, \"top_mean\": 1.87434554973822, \"top_precision\": 0.06492768794796498, \"contest\": \"559-active\"}, {\"algorithm\": \"KLUCB\", \"n_captions\": 5012, \"n_top_captions_responses\": 10, \"n_top_captions_truth\": 150, \"prob_in_random_top\": 1.0, \"responses\": 230552.0, \"scores_in_random\": 55, \"top_captions\": 5, \"top_mean\": 1.7394067796610169, \"top_precision\": 0.03703656953227923, \"contest\": \"559-active\"}, {\"algorithm\": \"LilUCB\", \"n_captions\": 5012, \"n_top_captions_responses\": 10, \"n_top_captions_truth\": 150, \"prob_in_random_top\": 1.0, \"responses\": 230552.0, \"scores_in_random\": 55, \"top_captions\": 2, \"top_mean\": 1.8615384615384616, \"top_precision\": 0.0640639587689674, \"contest\": \"559-active\"}, {\"algorithm\": \"KLUCB\", \"n_captions\": 5012, \"n_top_captions_responses\": 10, \"n_top_captions_truth\": 150, \"prob_in_random_top\": 1.0, \"responses\": 235564.0, \"scores_in_random\": 55, \"top_captions\": 3, \"top_mean\": 1.7380530973451327, \"top_precision\": 0.03348199410092992, \"contest\": \"559-active\"}, {\"algorithm\": \"LilUCB\", \"n_captions\": 5012, \"n_top_captions_responses\": 10, \"n_top_captions_truth\": 150, \"prob_in_random_top\": 1.0, \"responses\": 235564.0, \"scores_in_random\": 55, \"top_captions\": 2, \"top_mean\": 1.8527918781725887, \"top_precision\": 0.0637112688313928, \"contest\": \"559-active\"}, {\"algorithm\": \"KLUCB\", \"n_captions\": 5012, \"n_top_captions_responses\": 10, \"n_top_captions_truth\": 150, \"prob_in_random_top\": 1.0, \"responses\": 240576.0, \"scores_in_random\": 55, \"top_captions\": 4, \"top_mean\": 1.7341576506955179, \"top_precision\": 0.03110069583154845, \"contest\": \"559-active\"}, {\"algorithm\": \"LilUCB\", \"n_captions\": 5012, \"n_top_captions_responses\": 10, \"n_top_captions_truth\": 150, \"prob_in_random_top\": 1.0, \"responses\": 240576.0, \"scores_in_random\": 55, \"top_captions\": 3, \"top_mean\": 1.8484848484848484, \"top_precision\": 0.06353483304748164, \"contest\": \"559-active\"}, {\"algorithm\": \"KLUCB\", \"n_captions\": 5012, \"n_top_captions_responses\": 10, \"n_top_captions_truth\": 150, \"prob_in_random_top\": 1.0, \"responses\": 245588.0, \"scores_in_random\": 55, \"top_captions\": 2, \"top_mean\": 1.7586666666666666, \"top_precision\": 0.028718936831643845, \"contest\": \"559-active\"}, {\"algorithm\": \"LilUCB\", \"n_captions\": 5012, \"n_top_captions_responses\": 10, \"n_top_captions_truth\": 150, \"prob_in_random_top\": 1.0, \"responses\": 245588.0, \"scores_in_random\": 55, \"top_captions\": 3, \"top_mean\": 1.8407960199004976, \"top_precision\": 0.06287187331114079, \"contest\": \"559-active\"}]}};\n",
       "var selector = \"#ba5d14b5-29b3-4d0f-be2c-1ceb82fcaed6\";\n",
       "var type = \"vega-lite\";\n",
       "\n",
       "var output_area = this;\n",
       "require(['nbextensions/jupyter-vega/index'], function(vega) {\n",
       "  vega.render(selector, spec, type, output_area);\n",
       "}, function (err) {\n",
       "  if (err.requireType !== 'scripterror') {\n",
       "    throw(err);\n",
       "  }\n",
       "});\n"
      ]
     },
     "metadata": {
      "jupyter-vega": "#ba5d14b5-29b3-4d0f-be2c-1ceb82fcaed6"
     },
     "output_type": "display_data"
    },
    {
     "data": {
      "image/png": "[encoded data removed]"
     },
     "metadata": {
      "jupyter-vega": "#ba5d14b5-29b3-4d0f-be2c-1ceb82fcaed6"
     },
     "output_type": "display_data"
    }
   ],
   "source": [
    "from altair import Chart, Y, Scale, X\n",
    "\n",
    "Chart(df).mark_line().encode(\n",
    "    x=X('responses', scale=Scale(type='linear')),\n",
    "    y=Y('top_captions', scale=Scale(type='log')),\n",
    "    color='algorithm')"
   ]
  },
  {
   "cell_type": "markdown",
   "metadata": {
    "deletable": true,
    "editable": true
   },
   "source": [
    "We see that the the adaptive algorithm provides benefits after ~17 epochs. "
   ]
  },
  {
   "cell_type": "code",
   "execution_count": 113,
   "metadata": {
    "ExecuteTime": {
     "end_time": "2017-03-14T13:43:56.481664",
     "start_time": "2017-03-14T08:43:56.458800-05:00"
    },
    "collapsed": false,
    "deletable": true,
    "editable": true
   },
   "outputs": [
    {
     "data": {
      "text/html": [
       "<div class=\"vega-embed\" id=\"61b504af-2c56-4587-b814-aa0556fbbb5a\"></div>\n",
       "\n",
       "<style>\n",
       ".vega-embed svg, .vega-embed canvas {\n",
       "  border: 1px dotted gray;\n",
       "}\n",
       "\n",
       ".vega-embed .vega-actions a {\n",
       "  margin-right: 6px;\n",
       "}\n",
       "</style>\n"
      ]
     },
     "metadata": {
      "jupyter-vega": "#61b504af-2c56-4587-b814-aa0556fbbb5a"
     },
     "output_type": "display_data"
    },
    {
     "data": {
      "application/javascript": [
       "var spec = {\"config\": {\"cell\": {\"width\": 500, \"height\": 350}}, \"encoding\": {\"color\": {\"field\": \"algorithm\", \"type\": \"nominal\"}, \"x\": {\"field\": \"responses\", \"scale\": {\"type\": \"linear\"}, \"type\": \"quantitative\"}, \"y\": {\"field\": \"prob_in_random_top\", \"scale\": {\"type\": \"log\"}, \"type\": \"quantitative\"}}, \"mark\": \"line\", \"data\": {\"values\": [{\"algorithm\": \"KLUCB\", \"n_captions\": 5012, \"n_top_captions_responses\": 10, \"n_top_captions_truth\": 150, \"prob_in_random_top\": 1.0, \"responses\": 5012.0, \"scores_in_random\": 55, \"top_captions\": 0, \"top_mean\": null, \"top_precision\": null, \"contest\": \"559-active\"}, {\"algorithm\": \"LilUCB\", \"n_captions\": 5012, \"n_top_captions_responses\": 10, \"n_top_captions_truth\": 150, \"prob_in_random_top\": 1.0, \"responses\": 5012.0, \"scores_in_random\": 55, \"top_captions\": 0, \"top_mean\": null, \"top_precision\": null, \"contest\": \"559-active\"}, {\"algorithm\": \"KLUCB\", \"n_captions\": 5012, \"n_top_captions_responses\": 10, \"n_top_captions_truth\": 150, \"prob_in_random_top\": 1.0, \"responses\": 10024.0, \"scores_in_random\": 55, \"top_captions\": 4585, \"top_mean\": 2.0, \"top_precision\": 0.3086066999241838, \"contest\": \"559-active\"}, {\"algorithm\": \"LilUCB\", \"n_captions\": 5012, \"n_top_captions_responses\": 10, \"n_top_captions_truth\": 150, \"prob_in_random_top\": 1.0, \"responses\": 10024.0, \"scores_in_random\": 55, \"top_captions\": 5012, \"top_mean\": 2.0, \"top_precision\": 1.0, \"contest\": \"559-active\"}, {\"algorithm\": \"KLUCB\", \"n_captions\": 5012, \"n_top_captions_responses\": 10, \"n_top_captions_truth\": 150, \"prob_in_random_top\": 1.0, \"responses\": 15036.0, \"scores_in_random\": 55, \"top_captions\": 1776, \"top_mean\": 1.8181818181818181, \"top_precision\": 0.22636181087252236, \"contest\": \"559-active\"}, {\"algorithm\": \"LilUCB\", \"n_captions\": 5012, \"n_top_captions_responses\": 10, \"n_top_captions_truth\": 150, \"prob_in_random_top\": 1.0, \"responses\": 15036.0, \"scores_in_random\": 55, \"top_captions\": 1371, \"top_mean\": 2.0, \"top_precision\": 0.4472135954999579, \"contest\": \"559-active\"}, {\"algorithm\": \"KLUCB\", \"n_captions\": 5012, \"n_top_captions_responses\": 10, \"n_top_captions_truth\": 150, \"prob_in_random_top\": 1.0, \"responses\": 20048.0, \"scores_in_random\": 55, \"top_captions\": 244, \"top_mean\": 1.6923076923076923, \"top_precision\": 0.20830867704194767, \"contest\": \"559-active\"}, {\"algorithm\": \"LilUCB\", \"n_captions\": 5012, \"n_top_captions_responses\": 10, \"n_top_captions_truth\": 150, \"prob_in_random_top\": 1.0, \"responses\": 20048.0, \"scores_in_random\": 55, \"top_captions\": 306, \"top_mean\": 2.0, \"top_precision\": 0.3779644730092272, \"contest\": \"559-active\"}, {\"algorithm\": \"KLUCB\", \"n_captions\": 5012, \"n_top_captions_responses\": 10, \"n_top_captions_truth\": 150, \"prob_in_random_top\": 1.0, \"responses\": 25060.0, \"scores_in_random\": 55, \"top_captions\": 95, \"top_mean\": 1.8214285714285714, \"top_precision\": 0.1710036621144067, \"contest\": \"559-active\"}, {\"algorithm\": \"LilUCB\", \"n_captions\": 5012, \"n_top_captions_responses\": 10, \"n_top_captions_truth\": 150, \"prob_in_random_top\": 1.0, \"responses\": 25060.0, \"scores_in_random\": 55, \"top_captions\": 155, \"top_mean\": 2.0, \"top_precision\": 0.30151134457776363, \"contest\": \"559-active\"}, {\"algorithm\": \"KLUCB\", \"n_captions\": 5012, \"n_top_captions_responses\": 10, \"n_top_captions_truth\": 150, \"prob_in_random_top\": 1.0, \"responses\": 30072.0, \"scores_in_random\": 55, \"top_captions\": 62, \"top_mean\": 1.8611111111111112, \"top_precision\": 0.1388888888888889, \"contest\": \"559-active\"}, {\"algorithm\": \"LilUCB\", \"n_captions\": 5012, \"n_top_captions_responses\": 10, \"n_top_captions_truth\": 150, \"prob_in_random_top\": 1.0, \"responses\": 30072.0, \"scores_in_random\": 55, \"top_captions\": 127, \"top_mean\": 2.0, \"top_precision\": 0.21821789023599236, \"contest\": \"559-active\"}, {\"algorithm\": \"KLUCB\", \"n_captions\": 5012, \"n_top_captions_responses\": 10, \"n_top_captions_truth\": 150, \"prob_in_random_top\": 1.0, \"responses\": 35084.0, \"scores_in_random\": 55, \"top_captions\": 76, \"top_mean\": 1.8611111111111112, \"top_precision\": 0.1388888888888889, \"contest\": \"559-active\"}, {\"algorithm\": \"LilUCB\", \"n_captions\": 5012, \"n_top_captions_responses\": 10, \"n_top_captions_truth\": 150, \"prob_in_random_top\": 1.0, \"responses\": 35084.0, \"scores_in_random\": 55, \"top_captions\": 125, \"top_mean\": 2.0, \"top_precision\": 0.21821789023599236, \"contest\": \"559-active\"}, {\"algorithm\": \"KLUCB\", \"n_captions\": 5012, \"n_top_captions_responses\": 10, \"n_top_captions_truth\": 150, \"prob_in_random_top\": 1.0, \"responses\": 40096.0, \"scores_in_random\": 55, \"top_captions\": 32, \"top_mean\": 1.8596491228070176, \"top_precision\": 0.10748490740712549, \"contest\": \"559-active\"}, {\"algorithm\": \"LilUCB\", \"n_captions\": 5012, \"n_top_captions_responses\": 10, \"n_top_captions_truth\": 150, \"prob_in_random_top\": 1.0, \"responses\": 40096.0, \"scores_in_random\": 55, \"top_captions\": 122, \"top_mean\": 1.9473684210526316, \"top_precision\": 0.19457081590191957, \"contest\": \"559-active\"}, {\"algorithm\": \"KLUCB\", \"n_captions\": 5012, \"n_top_captions_responses\": 10, \"n_top_captions_truth\": 150, \"prob_in_random_top\": 1.0, \"responses\": 45108.0, \"scores_in_random\": 55, \"top_captions\": 26, \"top_mean\": 1.8596491228070176, \"top_precision\": 0.10748490740712549, \"contest\": \"559-active\"}, {\"algorithm\": \"LilUCB\", \"n_captions\": 5012, \"n_top_captions_responses\": 10, \"n_top_captions_truth\": 150, \"prob_in_random_top\": 1.0, \"responses\": 45108.0, \"scores_in_random\": 55, \"top_captions\": 100, \"top_mean\": 1.9473684210526316, \"top_precision\": 0.19457081590191957, \"contest\": \"559-active\"}, {\"algorithm\": \"KLUCB\", \"n_captions\": 5012, \"n_top_captions_responses\": 10, \"n_top_captions_truth\": 150, \"prob_in_random_top\": 1.0, \"responses\": 50120.0, \"scores_in_random\": 55, \"top_captions\": 20, \"top_mean\": 1.826086956521739, \"top_precision\": 0.09892112330339498, \"contest\": \"559-active\"}, {\"algorithm\": \"LilUCB\", \"n_captions\": 5012, \"n_top_captions_responses\": 10, \"n_top_captions_truth\": 150, \"prob_in_random_top\": 1.0, \"responses\": 50120.0, \"scores_in_random\": 55, \"top_captions\": 175, \"top_mean\": 1.8571428571428572, \"top_precision\": 0.1862629258629328, \"contest\": \"559-active\"}, {\"algorithm\": \"KLUCB\", \"n_captions\": 5012, \"n_top_captions_responses\": 10, \"n_top_captions_truth\": 150, \"prob_in_random_top\": 1.0, \"responses\": 55132.0, \"scores_in_random\": 55, \"top_captions\": 30, \"top_mean\": 1.7922077922077921, \"top_precision\": 0.09487492636801576, \"contest\": \"559-active\"}, {\"algorithm\": \"LilUCB\", \"n_captions\": 5012, \"n_top_captions_responses\": 10, \"n_top_captions_truth\": 150, \"prob_in_random_top\": 1.0, \"responses\": 55132.0, \"scores_in_random\": 55, \"top_captions\": 117, \"top_mean\": 1.8695652173913044, \"top_precision\": 0.18117259504135713, \"contest\": \"559-active\"}, {\"algorithm\": \"KLUCB\", \"n_captions\": 5012, \"n_top_captions_responses\": 10, \"n_top_captions_truth\": 150, \"prob_in_random_top\": 1.0, \"responses\": 60144.0, \"scores_in_random\": 55, \"top_captions\": 16, \"top_mean\": 1.8144329896907216, \"top_precision\": 0.08586768685029733, \"contest\": \"559-active\"}, {\"algorithm\": \"LilUCB\", \"n_captions\": 5012, \"n_top_captions_responses\": 10, \"n_top_captions_truth\": 150, \"prob_in_random_top\": 1.0, \"responses\": 60144.0, \"scores_in_random\": 55, \"top_captions\": 142, \"top_mean\": 1.8461538461538463, \"top_precision\": 0.17269187938956654, \"contest\": \"559-active\"}, {\"algorithm\": \"KLUCB\", \"n_captions\": 5012, \"n_top_captions_responses\": 10, \"n_top_captions_truth\": 150, \"prob_in_random_top\": 1.0, \"responses\": 65156.0, \"scores_in_random\": 55, \"top_captions\": 9, \"top_mean\": 1.823008849557522, \"top_precision\": 0.07973376259484341, \"contest\": \"559-active\"}, {\"algorithm\": \"LilUCB\", \"n_captions\": 5012, \"n_top_captions_responses\": 10, \"n_top_captions_truth\": 150, \"prob_in_random_top\": 1.0, \"responses\": 65156.0, \"scores_in_random\": 55, \"top_captions\": 143, \"top_mean\": 1.8148148148148149, \"top_precision\": 0.16910217950714188, \"contest\": \"559-active\"}, {\"algorithm\": \"KLUCB\", \"n_captions\": 5012, \"n_top_captions_responses\": 10, \"n_top_captions_truth\": 150, \"prob_in_random_top\": 1.0, \"responses\": 70168.0, \"scores_in_random\": 55, \"top_captions\": 10, \"top_mean\": 1.7881355932203389, \"top_precision\": 0.07786415747600868, \"contest\": \"559-active\"}, {\"algorithm\": \"LilUCB\", \"n_captions\": 5012, \"n_top_captions_responses\": 10, \"n_top_captions_truth\": 150, \"prob_in_random_top\": 1.0, \"responses\": 70168.0, \"scores_in_random\": 55, \"top_captions\": 102, \"top_mean\": 1.8275862068965518, \"top_precision\": 0.1724137931034483, \"contest\": \"559-active\"}, {\"algorithm\": \"KLUCB\", \"n_captions\": 5012, \"n_top_captions_responses\": 10, \"n_top_captions_truth\": 150, \"prob_in_random_top\": 1.0, \"responses\": 75180.0, \"scores_in_random\": 55, \"top_captions\": 8, \"top_mean\": 1.7890625, \"top_precision\": 0.07494448712443423, \"contest\": \"559-active\"}, {\"algorithm\": \"LilUCB\", \"n_captions\": 5012, \"n_top_captions_responses\": 10, \"n_top_captions_truth\": 150, \"prob_in_random_top\": 1.0, \"responses\": 75180.0, \"scores_in_random\": 55, \"top_captions\": 62, \"top_mean\": 1.8333333333333333, \"top_precision\": 0.15170983163879992, \"contest\": \"559-active\"}, {\"algorithm\": \"KLUCB\", \"n_captions\": 5012, \"n_top_captions_responses\": 10, \"n_top_captions_truth\": 150, \"prob_in_random_top\": 1.0, \"responses\": 80192.0, \"scores_in_random\": 55, \"top_captions\": 7, \"top_mean\": 1.7828947368421053, \"top_precision\": 0.06854419235171876, \"contest\": \"559-active\"}, {\"algorithm\": \"LilUCB\", \"n_captions\": 5012, \"n_top_captions_responses\": 10, \"n_top_captions_truth\": 150, \"prob_in_random_top\": 1.0, \"responses\": 80192.0, \"scores_in_random\": 55, \"top_captions\": 66, \"top_mean\": 1.8333333333333333, \"top_precision\": 0.15170983163879992, \"contest\": \"559-active\"}, {\"algorithm\": \"KLUCB\", \"n_captions\": 5012, \"n_top_captions_responses\": 10, \"n_top_captions_truth\": 150, \"prob_in_random_top\": 1.0, \"responses\": 85204.0, \"scores_in_random\": 55, \"top_captions\": 7, \"top_mean\": 1.7625, \"top_precision\": 0.06663963681600128, \"contest\": \"559-active\"}, {\"algorithm\": \"LilUCB\", \"n_captions\": 5012, \"n_top_captions_responses\": 10, \"n_top_captions_truth\": 150, \"prob_in_random_top\": 1.0, \"responses\": 85204.0, \"scores_in_random\": 55, \"top_captions\": 125, \"top_mean\": 1.7647058823529411, \"top_precision\": 0.1404019156329071, \"contest\": \"559-active\"}, {\"algorithm\": \"KLUCB\", \"n_captions\": 5012, \"n_top_captions_responses\": 10, \"n_top_captions_truth\": 150, \"prob_in_random_top\": 1.0, \"responses\": 90216.0, \"scores_in_random\": 55, \"top_captions\": 8, \"top_mean\": 1.755952380952381, \"top_precision\": 0.06457568277552753, \"contest\": \"559-active\"}, {\"algorithm\": \"LilUCB\", \"n_captions\": 5012, \"n_top_captions_responses\": 10, \"n_top_captions_truth\": 150, \"prob_in_random_top\": 1.0, \"responses\": 90216.0, \"scores_in_random\": 55, \"top_captions\": 99, \"top_mean\": 1.7567567567567568, \"top_precision\": 0.12499492725686133, \"contest\": \"559-active\"}, {\"algorithm\": \"KLUCB\", \"n_captions\": 5012, \"n_top_captions_responses\": 10, \"n_top_captions_truth\": 150, \"prob_in_random_top\": 1.0, \"responses\": 95228.0, \"scores_in_random\": 55, \"top_captions\": 9, \"top_mean\": 1.7444444444444445, \"top_precision\": 0.062595537023489, \"contest\": \"559-active\"}, {\"algorithm\": \"LilUCB\", \"n_captions\": 5012, \"n_top_captions_responses\": 10, \"n_top_captions_truth\": 150, \"prob_in_random_top\": 1.0, \"responses\": 95228.0, \"scores_in_random\": 55, \"top_captions\": 49, \"top_mean\": 1.7906976744186047, \"top_precision\": 0.11792850065979302, \"contest\": \"559-active\"}, {\"algorithm\": \"KLUCB\", \"n_captions\": 5012, \"n_top_captions_responses\": 10, \"n_top_captions_truth\": 150, \"prob_in_random_top\": 1.0, \"responses\": 100240.0, \"scores_in_random\": 55, \"top_captions\": 12, \"top_mean\": 1.7322404371584699, \"top_precision\": 0.06196403688393657, \"contest\": \"559-active\"}, {\"algorithm\": \"LilUCB\", \"n_captions\": 5012, \"n_top_captions_responses\": 10, \"n_top_captions_truth\": 150, \"prob_in_random_top\": 1.0, \"responses\": 100240.0, \"scores_in_random\": 55, \"top_captions\": 65, \"top_mean\": 1.7555555555555555, \"top_precision\": 0.11527549590050185, \"contest\": \"559-active\"}, {\"algorithm\": \"KLUCB\", \"n_captions\": 5012, \"n_top_captions_responses\": 10, \"n_top_captions_truth\": 150, \"prob_in_random_top\": 1.0, \"responses\": 105252.0, \"scores_in_random\": 55, \"top_captions\": 3, \"top_mean\": 1.8205128205128205, \"top_precision\": 0.053910833305057464, \"contest\": \"559-active\"}, {\"algorithm\": \"LilUCB\", \"n_captions\": 5012, \"n_top_captions_responses\": 10, \"n_top_captions_truth\": 150, \"prob_in_random_top\": 1.0, \"responses\": 105252.0, \"scores_in_random\": 55, \"top_captions\": 37, \"top_mean\": 1.7959183673469388, \"top_precision\": 0.12364776006322134, \"contest\": \"559-active\"}, {\"algorithm\": \"KLUCB\", \"n_captions\": 5012, \"n_top_captions_responses\": 10, \"n_top_captions_truth\": 150, \"prob_in_random_top\": 1.0, \"responses\": 110264.0, \"scores_in_random\": 55, \"top_captions\": 3, \"top_mean\": 1.7808219178082192, \"top_precision\": 0.04753152039149282, \"contest\": \"559-active\"}, {\"algorithm\": \"LilUCB\", \"n_captions\": 5012, \"n_top_captions_responses\": 10, \"n_top_captions_truth\": 150, \"prob_in_random_top\": 1.0, \"responses\": 110264.0, \"scores_in_random\": 55, \"top_captions\": 39, \"top_mean\": 1.78, \"top_precision\": 0.12219088445910344, \"contest\": \"559-active\"}, {\"algorithm\": \"KLUCB\", \"n_captions\": 5012, \"n_top_captions_responses\": 10, \"n_top_captions_truth\": 150, \"prob_in_random_top\": 1.0, \"responses\": 115276.0, \"scores_in_random\": 55, \"top_captions\": 5, \"top_mean\": 1.7888563049853372, \"top_precision\": 0.04442312798696358, \"contest\": \"559-active\"}, {\"algorithm\": \"LilUCB\", \"n_captions\": 5012, \"n_top_captions_responses\": 10, \"n_top_captions_truth\": 150, \"prob_in_random_top\": 1.0, \"responses\": 115276.0, \"scores_in_random\": 55, \"top_captions\": 65, \"top_mean\": 1.74, \"top_precision\": 0.10995360802796492, \"contest\": \"559-active\"}, {\"algorithm\": \"KLUCB\", \"n_captions\": 5012, \"n_top_captions_responses\": 10, \"n_top_captions_truth\": 150, \"prob_in_random_top\": 1.0, \"responses\": 120288.0, \"scores_in_random\": 55, \"top_captions\": 5, \"top_mean\": 1.7690140845070423, \"top_precision\": 0.043432272992656576, \"contest\": \"559-active\"}, {\"algorithm\": \"LilUCB\", \"n_captions\": 5012, \"n_top_captions_responses\": 10, \"n_top_captions_truth\": 150, \"prob_in_random_top\": 1.0, \"responses\": 120288.0, \"scores_in_random\": 55, \"top_captions\": 49, \"top_mean\": 1.7454545454545454, \"top_precision\": 0.11668306325813052, \"contest\": \"559-active\"}, {\"algorithm\": \"KLUCB\", \"n_captions\": 5012, \"n_top_captions_responses\": 10, \"n_top_captions_truth\": 150, \"prob_in_random_top\": 1.0, \"responses\": 125300.0, \"scores_in_random\": 55, \"top_captions\": 6, \"top_mean\": 1.7554347826086956, \"top_precision\": 0.04250385273124818, \"contest\": \"559-active\"}, {\"algorithm\": \"LilUCB\", \"n_captions\": 5012, \"n_top_captions_responses\": 10, \"n_top_captions_truth\": 150, \"prob_in_random_top\": 1.0, \"responses\": 125300.0, \"scores_in_random\": 55, \"top_captions\": 52, \"top_mean\": 1.7241379310344827, \"top_precision\": 0.11215618552072866, \"contest\": \"559-active\"}, {\"algorithm\": \"KLUCB\", \"n_captions\": 5012, \"n_top_captions_responses\": 10, \"n_top_captions_truth\": 150, \"prob_in_random_top\": 1.0, \"responses\": 130312.0, \"scores_in_random\": 55, \"top_captions\": 9, \"top_mean\": 1.7427821522309712, \"top_precision\": 0.04162009976239234, \"contest\": \"559-active\"}, {\"algorithm\": \"LilUCB\", \"n_captions\": 5012, \"n_top_captions_responses\": 10, \"n_top_captions_truth\": 150, \"prob_in_random_top\": 1.0, \"responses\": 130312.0, \"scores_in_random\": 55, \"top_captions\": 51, \"top_mean\": 1.7241379310344827, \"top_precision\": 0.11215618552072866, \"contest\": \"559-active\"}, {\"algorithm\": \"KLUCB\", \"n_captions\": 5012, \"n_top_captions_responses\": 10, \"n_top_captions_truth\": 150, \"prob_in_random_top\": 1.0, \"responses\": 135324.0, \"scores_in_random\": 55, \"top_captions\": 2, \"top_mean\": 1.8506224066390042, \"top_precision\": 0.05269736770385224, \"contest\": \"559-active\"}, {\"algorithm\": \"LilUCB\", \"n_captions\": 5012, \"n_top_captions_responses\": 10, \"n_top_captions_truth\": 150, \"prob_in_random_top\": 1.0, \"responses\": 135324.0, \"scores_in_random\": 55, \"top_captions\": 42, \"top_mean\": 1.7258064516129032, \"top_precision\": 0.10068342572179649, \"contest\": \"559-active\"}, {\"algorithm\": \"KLUCB\", \"n_captions\": 5012, \"n_top_captions_responses\": 10, \"n_top_captions_truth\": 150, \"prob_in_random_top\": 1.0, \"responses\": 140336.0, \"scores_in_random\": 55, \"top_captions\": 2, \"top_mean\": 1.90633608815427, \"top_precision\": 0.042986346991921574, \"contest\": \"559-active\"}, {\"algorithm\": \"LilUCB\", \"n_captions\": 5012, \"n_top_captions_responses\": 10, \"n_top_captions_truth\": 150, \"prob_in_random_top\": 1.0, \"responses\": 140336.0, \"scores_in_random\": 55, \"top_captions\": 40, \"top_mean\": 1.7313432835820894, \"top_precision\": 0.09879896018126205, \"contest\": \"559-active\"}, {\"algorithm\": \"KLUCB\", \"n_captions\": 5012, \"n_top_captions_responses\": 10, \"n_top_captions_truth\": 150, \"prob_in_random_top\": 1.0, \"responses\": 145348.0, \"scores_in_random\": 55, \"top_captions\": 3, \"top_mean\": 1.8612836438923395, \"top_precision\": 0.03670830495508559, \"contest\": \"559-active\"}, {\"algorithm\": \"LilUCB\", \"n_captions\": 5012, \"n_top_captions_responses\": 10, \"n_top_captions_truth\": 150, \"prob_in_random_top\": 1.0, \"responses\": 145348.0, \"scores_in_random\": 55, \"top_captions\": 42, \"top_mean\": 1.7205882352941178, \"top_precision\": 0.09792757764416855, \"contest\": \"559-active\"}, {\"algorithm\": \"KLUCB\", \"n_captions\": 5012, \"n_top_captions_responses\": 10, \"n_top_captions_truth\": 150, \"prob_in_random_top\": 1.0, \"responses\": 150360.0, \"scores_in_random\": 55, \"top_captions\": 3, \"top_mean\": 1.8461538461538463, \"top_precision\": 0.03278995639247608, \"contest\": \"559-active\"}, {\"algorithm\": \"LilUCB\", \"n_captions\": 5012, \"n_top_captions_responses\": 10, \"n_top_captions_truth\": 150, \"prob_in_random_top\": 1.0, \"responses\": 150360.0, \"scores_in_random\": 55, \"top_captions\": 16, \"top_mean\": 1.8181818181818181, \"top_precision\": 0.10776191254078583, \"contest\": \"559-active\"}, {\"algorithm\": \"KLUCB\", \"n_captions\": 5012, \"n_top_captions_responses\": 10, \"n_top_captions_truth\": 150, \"prob_in_random_top\": 1.0, \"responses\": 155372.0, \"scores_in_random\": 55, \"top_captions\": 4, \"top_mean\": 1.8296398891966759, \"top_precision\": 0.029598380878226936, \"contest\": \"559-active\"}, {\"algorithm\": \"LilUCB\", \"n_captions\": 5012, \"n_top_captions_responses\": 10, \"n_top_captions_truth\": 150, \"prob_in_random_top\": 1.0, \"responses\": 155372.0, \"scores_in_random\": 55, \"top_captions\": 9, \"top_mean\": 1.8279569892473118, \"top_precision\": 0.08865476362873555, \"contest\": \"559-active\"}, {\"algorithm\": \"KLUCB\", \"n_captions\": 5012, \"n_top_captions_responses\": 10, \"n_top_captions_truth\": 150, \"prob_in_random_top\": 1.0, \"responses\": 160384.0, \"scores_in_random\": 55, \"top_captions\": 5, \"top_mean\": 1.8153846153846154, \"top_precision\": 0.02739419069303578, \"contest\": \"559-active\"}, {\"algorithm\": \"LilUCB\", \"n_captions\": 5012, \"n_top_captions_responses\": 10, \"n_top_captions_truth\": 150, \"prob_in_random_top\": 1.0, \"responses\": 160384.0, \"scores_in_random\": 55, \"top_captions\": 9, \"top_mean\": 1.8191489361702127, \"top_precision\": 0.08814772800930377, \"contest\": \"559-active\"}, {\"algorithm\": \"KLUCB\", \"n_captions\": 5012, \"n_top_captions_responses\": 10, \"n_top_captions_truth\": 150, \"prob_in_random_top\": 1.0, \"responses\": 165396.0, \"scores_in_random\": 55, \"top_captions\": 3, \"top_mean\": 1.8489583333333333, \"top_precision\": 0.041984178345233096, \"contest\": \"559-active\"}, {\"algorithm\": \"LilUCB\", \"n_captions\": 5012, \"n_top_captions_responses\": 10, \"n_top_captions_truth\": 150, \"prob_in_random_top\": 1.0, \"responses\": 165396.0, \"scores_in_random\": 55, \"top_captions\": 11, \"top_mean\": 1.8020833333333333, \"top_precision\": 0.08713242551440531, \"contest\": \"559-active\"}, {\"algorithm\": \"KLUCB\", \"n_captions\": 5012, \"n_top_captions_responses\": 10, \"n_top_captions_truth\": 150, \"prob_in_random_top\": 1.0, \"responses\": 170408.0, \"scores_in_random\": 55, \"top_captions\": 2, \"top_mean\": 1.83201581027668, \"top_precision\": 0.03683573510269842, \"contest\": \"559-active\"}, {\"algorithm\": \"LilUCB\", \"n_captions\": 5012, \"n_top_captions_responses\": 10, \"n_top_captions_truth\": 150, \"prob_in_random_top\": 1.0, \"responses\": 170408.0, \"scores_in_random\": 55, \"top_captions\": 13, \"top_mean\": 1.7938144329896908, \"top_precision\": 0.08662503666995267, \"contest\": \"559-active\"}, {\"algorithm\": \"KLUCB\", \"n_captions\": 5012, \"n_top_captions_responses\": 10, \"n_top_captions_truth\": 150, \"prob_in_random_top\": 1.0, \"responses\": 175420.0, \"scores_in_random\": 55, \"top_captions\": 3, \"top_mean\": 1.831404958677686, \"top_precision\": 0.03361053508991632, \"contest\": \"559-active\"}, {\"algorithm\": \"LilUCB\", \"n_captions\": 5012, \"n_top_captions_responses\": 10, \"n_top_captions_truth\": 150, \"prob_in_random_top\": 1.0, \"responses\": 175420.0, \"scores_in_random\": 55, \"top_captions\": 12, \"top_mean\": 1.7941176470588236, \"top_precision\": 0.07799944159773743, \"contest\": \"559-active\"}, {\"algorithm\": \"KLUCB\", \"n_captions\": 5012, \"n_top_captions_responses\": 10, \"n_top_captions_truth\": 150, \"prob_in_random_top\": 1.0, \"responses\": 180432.0, \"scores_in_random\": 55, \"top_captions\": 1, \"top_mean\": 1.848354792560801, \"top_precision\": 0.03110072211331584, \"contest\": \"559-active\"}, {\"algorithm\": \"LilUCB\", \"n_captions\": 5012, \"n_top_captions_responses\": 10, \"n_top_captions_truth\": 150, \"prob_in_random_top\": 1.0, \"responses\": 180432.0, \"scores_in_random\": 55, \"top_captions\": 13, \"top_mean\": 1.7864077669902914, \"top_precision\": 0.07762229647056819, \"contest\": \"559-active\"}, {\"algorithm\": \"KLUCB\", \"n_captions\": 5012, \"n_top_captions_responses\": 10, \"n_top_captions_truth\": 150, \"prob_in_random_top\": 1.0, \"responses\": 185444.0, \"scores_in_random\": 55, \"top_captions\": 3, \"top_mean\": 1.8548585485854858, \"top_precision\": 0.02867648766439534, \"contest\": \"559-active\"}, {\"algorithm\": \"LilUCB\", \"n_captions\": 5012, \"n_top_captions_responses\": 10, \"n_top_captions_truth\": 150, \"prob_in_random_top\": 1.0, \"responses\": 185444.0, \"scores_in_random\": 55, \"top_captions\": 15, \"top_mean\": 1.7809523809523808, \"top_precision\": 0.0822986524898168, \"contest\": \"559-active\"}, {\"algorithm\": \"KLUCB\", \"n_captions\": 5012, \"n_top_captions_responses\": 10, \"n_top_captions_truth\": 150, \"prob_in_random_top\": 1.0, \"responses\": 190456.0, \"scores_in_random\": 55, \"top_captions\": 2, \"top_mean\": 1.8421052631578947, \"top_precision\": 0.02712423527123769, \"contest\": \"559-active\"}, {\"algorithm\": \"LilUCB\", \"n_captions\": 5012, \"n_top_captions_responses\": 10, \"n_top_captions_truth\": 150, \"prob_in_random_top\": 1.0, \"responses\": 190456.0, \"scores_in_random\": 55, \"top_captions\": 14, \"top_mean\": 1.7641509433962264, \"top_precision\": 0.07648134184254644, \"contest\": \"559-active\"}, {\"algorithm\": \"KLUCB\", \"n_captions\": 5012, \"n_top_captions_responses\": 10, \"n_top_captions_truth\": 150, \"prob_in_random_top\": 1.0, \"responses\": 195468.0, \"scores_in_random\": 55, \"top_captions\": 2, \"top_mean\": 1.819623389494549, \"top_precision\": 0.025611963827583694, \"contest\": \"559-active\"}, {\"algorithm\": \"LilUCB\", \"n_captions\": 5012, \"n_top_captions_responses\": 10, \"n_top_captions_truth\": 150, \"prob_in_random_top\": 1.0, \"responses\": 195468.0, \"scores_in_random\": 55, \"top_captions\": 12, \"top_mean\": 1.7767857142857142, \"top_precision\": 0.07891418598560196, \"contest\": \"559-active\"}, {\"algorithm\": \"KLUCB\", \"n_captions\": 5012, \"n_top_captions_responses\": 10, \"n_top_captions_truth\": 150, \"prob_in_random_top\": 1.0, \"responses\": 200480.0, \"scores_in_random\": 55, \"top_captions\": 2, \"top_mean\": 1.7945845004668535, \"top_precision\": 0.024729371793120052, \"contest\": \"559-active\"}, {\"algorithm\": \"LilUCB\", \"n_captions\": 5012, \"n_top_captions_responses\": 10, \"n_top_captions_truth\": 150, \"prob_in_random_top\": 1.0, \"responses\": 200480.0, \"scores_in_random\": 55, \"top_captions\": 2, \"top_mean\": 1.9361702127659575, \"top_precision\": 0.09662399041988516, \"contest\": \"559-active\"}, {\"algorithm\": \"KLUCB\", \"n_captions\": 5012, \"n_top_captions_responses\": 10, \"n_top_captions_truth\": 150, \"prob_in_random_top\": 1.0, \"responses\": 205492.0, \"scores_in_random\": 55, \"top_captions\": 12, \"top_mean\": 1.7354260089686098, \"top_precision\": 0.0515172248104496, \"contest\": \"559-active\"}, {\"algorithm\": \"LilUCB\", \"n_captions\": 5012, \"n_top_captions_responses\": 10, \"n_top_captions_truth\": 150, \"prob_in_random_top\": 1.0, \"responses\": 205492.0, \"scores_in_random\": 55, \"top_captions\": 2, \"top_mean\": 1.8869047619047619, \"top_precision\": 0.06285752898845377, \"contest\": \"559-active\"}, {\"algorithm\": \"KLUCB\", \"n_captions\": 5012, \"n_top_captions_responses\": 10, \"n_top_captions_truth\": 150, \"prob_in_random_top\": 1.0, \"responses\": 210504.0, \"scores_in_random\": 55, \"top_captions\": 9, \"top_mean\": 1.7120622568093384, \"top_precision\": 0.02184645690821646, \"contest\": \"559-active\"}, {\"algorithm\": \"LilUCB\", \"n_captions\": 5012, \"n_top_captions_responses\": 10, \"n_top_captions_truth\": 150, \"prob_in_random_top\": 1.0, \"responses\": 210504.0, \"scores_in_random\": 55, \"top_captions\": 3, \"top_mean\": 1.8983050847457628, \"top_precision\": 0.06802894192220274, \"contest\": \"559-active\"}, {\"algorithm\": \"KLUCB\", \"n_captions\": 5012, \"n_top_captions_responses\": 10, \"n_top_captions_truth\": 150, \"prob_in_random_top\": 1.0, \"responses\": 215516.0, \"scores_in_random\": 55, \"top_captions\": 8, \"top_mean\": 1.7073540561031084, \"top_precision\": 0.021942830941094983, \"contest\": \"559-active\"}, {\"algorithm\": \"LilUCB\", \"n_captions\": 5012, \"n_top_captions_responses\": 10, \"n_top_captions_truth\": 150, \"prob_in_random_top\": 1.0, \"responses\": 215516.0, \"scores_in_random\": 55, \"top_captions\": 2, \"top_mean\": 1.89247311827957, \"top_precision\": 0.06599108337731818, \"contest\": \"559-active\"}, {\"algorithm\": \"KLUCB\", \"n_captions\": 5012, \"n_top_captions_responses\": 10, \"n_top_captions_truth\": 150, \"prob_in_random_top\": 1.0, \"responses\": 220528.0, \"scores_in_random\": 55, \"top_captions\": 5, \"top_mean\": 1.7467532467532467, \"top_precision\": 0.04647645928738062, \"contest\": \"559-active\"}, {\"algorithm\": \"LilUCB\", \"n_captions\": 5012, \"n_top_captions_responses\": 10, \"n_top_captions_truth\": 150, \"prob_in_random_top\": 1.0, \"responses\": 220528.0, \"scores_in_random\": 55, \"top_captions\": 2, \"top_mean\": 1.8835978835978835, \"top_precision\": 0.06528437637343007, \"contest\": \"559-active\"}, {\"algorithm\": \"KLUCB\", \"n_captions\": 5012, \"n_top_captions_responses\": 10, \"n_top_captions_truth\": 150, \"prob_in_random_top\": 1.0, \"responses\": 225540.0, \"scores_in_random\": 55, \"top_captions\": 5, \"top_mean\": 1.7473684210526317, \"top_precision\": 0.04180912383515637, \"contest\": \"559-active\"}, {\"algorithm\": \"LilUCB\", \"n_captions\": 5012, \"n_top_captions_responses\": 10, \"n_top_captions_truth\": 150, \"prob_in_random_top\": 1.0, \"responses\": 225540.0, \"scores_in_random\": 55, \"top_captions\": 2, \"top_mean\": 1.87434554973822, \"top_precision\": 0.06492768794796498, \"contest\": \"559-active\"}, {\"algorithm\": \"KLUCB\", \"n_captions\": 5012, \"n_top_captions_responses\": 10, \"n_top_captions_truth\": 150, \"prob_in_random_top\": 1.0, \"responses\": 230552.0, \"scores_in_random\": 55, \"top_captions\": 5, \"top_mean\": 1.7394067796610169, \"top_precision\": 0.03703656953227923, \"contest\": \"559-active\"}, {\"algorithm\": \"LilUCB\", \"n_captions\": 5012, \"n_top_captions_responses\": 10, \"n_top_captions_truth\": 150, \"prob_in_random_top\": 1.0, \"responses\": 230552.0, \"scores_in_random\": 55, \"top_captions\": 2, \"top_mean\": 1.8615384615384616, \"top_precision\": 0.0640639587689674, \"contest\": \"559-active\"}, {\"algorithm\": \"KLUCB\", \"n_captions\": 5012, \"n_top_captions_responses\": 10, \"n_top_captions_truth\": 150, \"prob_in_random_top\": 1.0, \"responses\": 235564.0, \"scores_in_random\": 55, \"top_captions\": 3, \"top_mean\": 1.7380530973451327, \"top_precision\": 0.03348199410092992, \"contest\": \"559-active\"}, {\"algorithm\": \"LilUCB\", \"n_captions\": 5012, \"n_top_captions_responses\": 10, \"n_top_captions_truth\": 150, \"prob_in_random_top\": 1.0, \"responses\": 235564.0, \"scores_in_random\": 55, \"top_captions\": 2, \"top_mean\": 1.8527918781725887, \"top_precision\": 0.0637112688313928, \"contest\": \"559-active\"}, {\"algorithm\": \"KLUCB\", \"n_captions\": 5012, \"n_top_captions_responses\": 10, \"n_top_captions_truth\": 150, \"prob_in_random_top\": 1.0, \"responses\": 240576.0, \"scores_in_random\": 55, \"top_captions\": 4, \"top_mean\": 1.7341576506955179, \"top_precision\": 0.03110069583154845, \"contest\": \"559-active\"}, {\"algorithm\": \"LilUCB\", \"n_captions\": 5012, \"n_top_captions_responses\": 10, \"n_top_captions_truth\": 150, \"prob_in_random_top\": 1.0, \"responses\": 240576.0, \"scores_in_random\": 55, \"top_captions\": 3, \"top_mean\": 1.8484848484848484, \"top_precision\": 0.06353483304748164, \"contest\": \"559-active\"}, {\"algorithm\": \"KLUCB\", \"n_captions\": 5012, \"n_top_captions_responses\": 10, \"n_top_captions_truth\": 150, \"prob_in_random_top\": 1.0, \"responses\": 245588.0, \"scores_in_random\": 55, \"top_captions\": 2, \"top_mean\": 1.7586666666666666, \"top_precision\": 0.028718936831643845, \"contest\": \"559-active\"}, {\"algorithm\": \"LilUCB\", \"n_captions\": 5012, \"n_top_captions_responses\": 10, \"n_top_captions_truth\": 150, \"prob_in_random_top\": 1.0, \"responses\": 245588.0, \"scores_in_random\": 55, \"top_captions\": 3, \"top_mean\": 1.8407960199004976, \"top_precision\": 0.06287187331114079, \"contest\": \"559-active\"}]}};\n",
       "var selector = \"#61b504af-2c56-4587-b814-aa0556fbbb5a\";\n",
       "var type = \"vega-lite\";\n",
       "\n",
       "var output_area = this;\n",
       "require(['nbextensions/jupyter-vega/index'], function(vega) {\n",
       "  vega.render(selector, spec, type, output_area);\n",
       "}, function (err) {\n",
       "  if (err.requireType !== 'scripterror') {\n",
       "    throw(err);\n",
       "  }\n",
       "});\n"
      ]
     },
     "metadata": {
      "jupyter-vega": "#61b504af-2c56-4587-b814-aa0556fbbb5a"
     },
     "output_type": "display_data"
    },
    {
     "data": {
      "image/png": "[encoded data removed]"
     },
     "metadata": {
      "jupyter-vega": "#61b504af-2c56-4587-b814-aa0556fbbb5a"
     },
     "output_type": "display_data"
    }
   ],
   "source": [
    "Chart(df).mark_line().encode(\n",
    "    x=X('responses', scale=Scale(type='linear')),\n",
    "    y=Y('prob_in_random_top', scale=Scale(type='log')),\n",
    "    color='algorithm')"
   ]
  },
  {
   "cell_type": "code",
   "execution_count": 114,
   "metadata": {
    "ExecuteTime": {
     "end_time": "2017-03-14T13:44:34.896664",
     "start_time": "2017-03-14T08:44:34.874324-05:00"
    },
    "collapsed": false,
    "deletable": true,
    "editable": true
   },
   "outputs": [
    {
     "data": {
      "text/html": [
       "<div class=\"vega-embed\" id=\"949b9f1c-6340-4dcd-a3d7-b0b84f1db27f\"></div>\n",
       "\n",
       "<style>\n",
       ".vega-embed svg, .vega-embed canvas {\n",
       "  border: 1px dotted gray;\n",
       "}\n",
       "\n",
       ".vega-embed .vega-actions a {\n",
       "  margin-right: 6px;\n",
       "}\n",
       "</style>\n"
      ]
     },
     "metadata": {
      "jupyter-vega": "#949b9f1c-6340-4dcd-a3d7-b0b84f1db27f"
     },
     "output_type": "display_data"
    },
    {
     "data": {
      "application/javascript": [
       "var spec = {\"config\": {\"cell\": {\"width\": 500, \"height\": 350}}, \"encoding\": {\"color\": {\"field\": \"algorithm\", \"type\": \"nominal\"}, \"x\": {\"field\": \"responses\", \"scale\": {\"type\": \"linear\"}, \"type\": \"quantitative\"}, \"y\": {\"field\": \"scores_in_random\", \"scale\": {\"type\": \"log\"}, \"type\": \"quantitative\"}}, \"mark\": \"line\", \"data\": {\"values\": [{\"algorithm\": \"KLUCB\", \"n_captions\": 5012, \"n_top_captions_responses\": 10, \"n_top_captions_truth\": 150, \"prob_in_random_top\": 1.0, \"responses\": 5012.0, \"scores_in_random\": 55, \"top_captions\": 0, \"top_mean\": null, \"top_precision\": null, \"contest\": \"559-active\"}, {\"algorithm\": \"LilUCB\", \"n_captions\": 5012, \"n_top_captions_responses\": 10, \"n_top_captions_truth\": 150, \"prob_in_random_top\": 1.0, \"responses\": 5012.0, \"scores_in_random\": 55, \"top_captions\": 0, \"top_mean\": null, \"top_precision\": null, \"contest\": \"559-active\"}, {\"algorithm\": \"KLUCB\", \"n_captions\": 5012, \"n_top_captions_responses\": 10, \"n_top_captions_truth\": 150, \"prob_in_random_top\": 1.0, \"responses\": 10024.0, \"scores_in_random\": 55, \"top_captions\": 4585, \"top_mean\": 2.0, \"top_precision\": 0.3086066999241838, \"contest\": \"559-active\"}, {\"algorithm\": \"LilUCB\", \"n_captions\": 5012, \"n_top_captions_responses\": 10, \"n_top_captions_truth\": 150, \"prob_in_random_top\": 1.0, \"responses\": 10024.0, \"scores_in_random\": 55, \"top_captions\": 5012, \"top_mean\": 2.0, \"top_precision\": 1.0, \"contest\": \"559-active\"}, {\"algorithm\": \"KLUCB\", \"n_captions\": 5012, \"n_top_captions_responses\": 10, \"n_top_captions_truth\": 150, \"prob_in_random_top\": 1.0, \"responses\": 15036.0, \"scores_in_random\": 55, \"top_captions\": 1776, \"top_mean\": 1.8181818181818181, \"top_precision\": 0.22636181087252236, \"contest\": \"559-active\"}, {\"algorithm\": \"LilUCB\", \"n_captions\": 5012, \"n_top_captions_responses\": 10, \"n_top_captions_truth\": 150, \"prob_in_random_top\": 1.0, \"responses\": 15036.0, \"scores_in_random\": 55, \"top_captions\": 1371, \"top_mean\": 2.0, \"top_precision\": 0.4472135954999579, \"contest\": \"559-active\"}, {\"algorithm\": \"KLUCB\", \"n_captions\": 5012, \"n_top_captions_responses\": 10, \"n_top_captions_truth\": 150, \"prob_in_random_top\": 1.0, \"responses\": 20048.0, \"scores_in_random\": 55, \"top_captions\": 244, \"top_mean\": 1.6923076923076923, \"top_precision\": 0.20830867704194767, \"contest\": \"559-active\"}, {\"algorithm\": \"LilUCB\", \"n_captions\": 5012, \"n_top_captions_responses\": 10, \"n_top_captions_truth\": 150, \"prob_in_random_top\": 1.0, \"responses\": 20048.0, \"scores_in_random\": 55, \"top_captions\": 306, \"top_mean\": 2.0, \"top_precision\": 0.3779644730092272, \"contest\": \"559-active\"}, {\"algorithm\": \"KLUCB\", \"n_captions\": 5012, \"n_top_captions_responses\": 10, \"n_top_captions_truth\": 150, \"prob_in_random_top\": 1.0, \"responses\": 25060.0, \"scores_in_random\": 55, \"top_captions\": 95, \"top_mean\": 1.8214285714285714, \"top_precision\": 0.1710036621144067, \"contest\": \"559-active\"}, {\"algorithm\": \"LilUCB\", \"n_captions\": 5012, \"n_top_captions_responses\": 10, \"n_top_captions_truth\": 150, \"prob_in_random_top\": 1.0, \"responses\": 25060.0, \"scores_in_random\": 55, \"top_captions\": 155, \"top_mean\": 2.0, \"top_precision\": 0.30151134457776363, \"contest\": \"559-active\"}, {\"algorithm\": \"KLUCB\", \"n_captions\": 5012, \"n_top_captions_responses\": 10, \"n_top_captions_truth\": 150, \"prob_in_random_top\": 1.0, \"responses\": 30072.0, \"scores_in_random\": 55, \"top_captions\": 62, \"top_mean\": 1.8611111111111112, \"top_precision\": 0.1388888888888889, \"contest\": \"559-active\"}, {\"algorithm\": \"LilUCB\", \"n_captions\": 5012, \"n_top_captions_responses\": 10, \"n_top_captions_truth\": 150, \"prob_in_random_top\": 1.0, \"responses\": 30072.0, \"scores_in_random\": 55, \"top_captions\": 127, \"top_mean\": 2.0, \"top_precision\": 0.21821789023599236, \"contest\": \"559-active\"}, {\"algorithm\": \"KLUCB\", \"n_captions\": 5012, \"n_top_captions_responses\": 10, \"n_top_captions_truth\": 150, \"prob_in_random_top\": 1.0, \"responses\": 35084.0, \"scores_in_random\": 55, \"top_captions\": 76, \"top_mean\": 1.8611111111111112, \"top_precision\": 0.1388888888888889, \"contest\": \"559-active\"}, {\"algorithm\": \"LilUCB\", \"n_captions\": 5012, \"n_top_captions_responses\": 10, \"n_top_captions_truth\": 150, \"prob_in_random_top\": 1.0, \"responses\": 35084.0, \"scores_in_random\": 55, \"top_captions\": 125, \"top_mean\": 2.0, \"top_precision\": 0.21821789023599236, \"contest\": \"559-active\"}, {\"algorithm\": \"KLUCB\", \"n_captions\": 5012, \"n_top_captions_responses\": 10, \"n_top_captions_truth\": 150, \"prob_in_random_top\": 1.0, \"responses\": 40096.0, \"scores_in_random\": 55, \"top_captions\": 32, \"top_mean\": 1.8596491228070176, \"top_precision\": 0.10748490740712549, \"contest\": \"559-active\"}, {\"algorithm\": \"LilUCB\", \"n_captions\": 5012, \"n_top_captions_responses\": 10, \"n_top_captions_truth\": 150, \"prob_in_random_top\": 1.0, \"responses\": 40096.0, \"scores_in_random\": 55, \"top_captions\": 122, \"top_mean\": 1.9473684210526316, \"top_precision\": 0.19457081590191957, \"contest\": \"559-active\"}, {\"algorithm\": \"KLUCB\", \"n_captions\": 5012, \"n_top_captions_responses\": 10, \"n_top_captions_truth\": 150, \"prob_in_random_top\": 1.0, \"responses\": 45108.0, \"scores_in_random\": 55, \"top_captions\": 26, \"top_mean\": 1.8596491228070176, \"top_precision\": 0.10748490740712549, \"contest\": \"559-active\"}, {\"algorithm\": \"LilUCB\", \"n_captions\": 5012, \"n_top_captions_responses\": 10, \"n_top_captions_truth\": 150, \"prob_in_random_top\": 1.0, \"responses\": 45108.0, \"scores_in_random\": 55, \"top_captions\": 100, \"top_mean\": 1.9473684210526316, \"top_precision\": 0.19457081590191957, \"contest\": \"559-active\"}, {\"algorithm\": \"KLUCB\", \"n_captions\": 5012, \"n_top_captions_responses\": 10, \"n_top_captions_truth\": 150, \"prob_in_random_top\": 1.0, \"responses\": 50120.0, \"scores_in_random\": 55, \"top_captions\": 20, \"top_mean\": 1.826086956521739, \"top_precision\": 0.09892112330339498, \"contest\": \"559-active\"}, {\"algorithm\": \"LilUCB\", \"n_captions\": 5012, \"n_top_captions_responses\": 10, \"n_top_captions_truth\": 150, \"prob_in_random_top\": 1.0, \"responses\": 50120.0, \"scores_in_random\": 55, \"top_captions\": 175, \"top_mean\": 1.8571428571428572, \"top_precision\": 0.1862629258629328, \"contest\": \"559-active\"}, {\"algorithm\": \"KLUCB\", \"n_captions\": 5012, \"n_top_captions_responses\": 10, \"n_top_captions_truth\": 150, \"prob_in_random_top\": 1.0, \"responses\": 55132.0, \"scores_in_random\": 55, \"top_captions\": 30, \"top_mean\": 1.7922077922077921, \"top_precision\": 0.09487492636801576, \"contest\": \"559-active\"}, {\"algorithm\": \"LilUCB\", \"n_captions\": 5012, \"n_top_captions_responses\": 10, \"n_top_captions_truth\": 150, \"prob_in_random_top\": 1.0, \"responses\": 55132.0, \"scores_in_random\": 55, \"top_captions\": 117, \"top_mean\": 1.8695652173913044, \"top_precision\": 0.18117259504135713, \"contest\": \"559-active\"}, {\"algorithm\": \"KLUCB\", \"n_captions\": 5012, \"n_top_captions_responses\": 10, \"n_top_captions_truth\": 150, \"prob_in_random_top\": 1.0, \"responses\": 60144.0, \"scores_in_random\": 55, \"top_captions\": 16, \"top_mean\": 1.8144329896907216, \"top_precision\": 0.08586768685029733, \"contest\": \"559-active\"}, {\"algorithm\": \"LilUCB\", \"n_captions\": 5012, \"n_top_captions_responses\": 10, \"n_top_captions_truth\": 150, \"prob_in_random_top\": 1.0, \"responses\": 60144.0, \"scores_in_random\": 55, \"top_captions\": 142, \"top_mean\": 1.8461538461538463, \"top_precision\": 0.17269187938956654, \"contest\": \"559-active\"}, {\"algorithm\": \"KLUCB\", \"n_captions\": 5012, \"n_top_captions_responses\": 10, \"n_top_captions_truth\": 150, \"prob_in_random_top\": 1.0, \"responses\": 65156.0, \"scores_in_random\": 55, \"top_captions\": 9, \"top_mean\": 1.823008849557522, \"top_precision\": 0.07973376259484341, \"contest\": \"559-active\"}, {\"algorithm\": \"LilUCB\", \"n_captions\": 5012, \"n_top_captions_responses\": 10, \"n_top_captions_truth\": 150, \"prob_in_random_top\": 1.0, \"responses\": 65156.0, \"scores_in_random\": 55, \"top_captions\": 143, \"top_mean\": 1.8148148148148149, \"top_precision\": 0.16910217950714188, \"contest\": \"559-active\"}, {\"algorithm\": \"KLUCB\", \"n_captions\": 5012, \"n_top_captions_responses\": 10, \"n_top_captions_truth\": 150, \"prob_in_random_top\": 1.0, \"responses\": 70168.0, \"scores_in_random\": 55, \"top_captions\": 10, \"top_mean\": 1.7881355932203389, \"top_precision\": 0.07786415747600868, \"contest\": \"559-active\"}, {\"algorithm\": \"LilUCB\", \"n_captions\": 5012, \"n_top_captions_responses\": 10, \"n_top_captions_truth\": 150, \"prob_in_random_top\": 1.0, \"responses\": 70168.0, \"scores_in_random\": 55, \"top_captions\": 102, \"top_mean\": 1.8275862068965518, \"top_precision\": 0.1724137931034483, \"contest\": \"559-active\"}, {\"algorithm\": \"KLUCB\", \"n_captions\": 5012, \"n_top_captions_responses\": 10, \"n_top_captions_truth\": 150, \"prob_in_random_top\": 1.0, \"responses\": 75180.0, \"scores_in_random\": 55, \"top_captions\": 8, \"top_mean\": 1.7890625, \"top_precision\": 0.07494448712443423, \"contest\": \"559-active\"}, {\"algorithm\": \"LilUCB\", \"n_captions\": 5012, \"n_top_captions_responses\": 10, \"n_top_captions_truth\": 150, \"prob_in_random_top\": 1.0, \"responses\": 75180.0, \"scores_in_random\": 55, \"top_captions\": 62, \"top_mean\": 1.8333333333333333, \"top_precision\": 0.15170983163879992, \"contest\": \"559-active\"}, {\"algorithm\": \"KLUCB\", \"n_captions\": 5012, \"n_top_captions_responses\": 10, \"n_top_captions_truth\": 150, \"prob_in_random_top\": 1.0, \"responses\": 80192.0, \"scores_in_random\": 55, \"top_captions\": 7, \"top_mean\": 1.7828947368421053, \"top_precision\": 0.06854419235171876, \"contest\": \"559-active\"}, {\"algorithm\": \"LilUCB\", \"n_captions\": 5012, \"n_top_captions_responses\": 10, \"n_top_captions_truth\": 150, \"prob_in_random_top\": 1.0, \"responses\": 80192.0, \"scores_in_random\": 55, \"top_captions\": 66, \"top_mean\": 1.8333333333333333, \"top_precision\": 0.15170983163879992, \"contest\": \"559-active\"}, {\"algorithm\": \"KLUCB\", \"n_captions\": 5012, \"n_top_captions_responses\": 10, \"n_top_captions_truth\": 150, \"prob_in_random_top\": 1.0, \"responses\": 85204.0, \"scores_in_random\": 55, \"top_captions\": 7, \"top_mean\": 1.7625, \"top_precision\": 0.06663963681600128, \"contest\": \"559-active\"}, {\"algorithm\": \"LilUCB\", \"n_captions\": 5012, \"n_top_captions_responses\": 10, \"n_top_captions_truth\": 150, \"prob_in_random_top\": 1.0, \"responses\": 85204.0, \"scores_in_random\": 55, \"top_captions\": 125, \"top_mean\": 1.7647058823529411, \"top_precision\": 0.1404019156329071, \"contest\": \"559-active\"}, {\"algorithm\": \"KLUCB\", \"n_captions\": 5012, \"n_top_captions_responses\": 10, \"n_top_captions_truth\": 150, \"prob_in_random_top\": 1.0, \"responses\": 90216.0, \"scores_in_random\": 55, \"top_captions\": 8, \"top_mean\": 1.755952380952381, \"top_precision\": 0.06457568277552753, \"contest\": \"559-active\"}, {\"algorithm\": \"LilUCB\", \"n_captions\": 5012, \"n_top_captions_responses\": 10, \"n_top_captions_truth\": 150, \"prob_in_random_top\": 1.0, \"responses\": 90216.0, \"scores_in_random\": 55, \"top_captions\": 99, \"top_mean\": 1.7567567567567568, \"top_precision\": 0.12499492725686133, \"contest\": \"559-active\"}, {\"algorithm\": \"KLUCB\", \"n_captions\": 5012, \"n_top_captions_responses\": 10, \"n_top_captions_truth\": 150, \"prob_in_random_top\": 1.0, \"responses\": 95228.0, \"scores_in_random\": 55, \"top_captions\": 9, \"top_mean\": 1.7444444444444445, \"top_precision\": 0.062595537023489, \"contest\": \"559-active\"}, {\"algorithm\": \"LilUCB\", \"n_captions\": 5012, \"n_top_captions_responses\": 10, \"n_top_captions_truth\": 150, \"prob_in_random_top\": 1.0, \"responses\": 95228.0, \"scores_in_random\": 55, \"top_captions\": 49, \"top_mean\": 1.7906976744186047, \"top_precision\": 0.11792850065979302, \"contest\": \"559-active\"}, {\"algorithm\": \"KLUCB\", \"n_captions\": 5012, \"n_top_captions_responses\": 10, \"n_top_captions_truth\": 150, \"prob_in_random_top\": 1.0, \"responses\": 100240.0, \"scores_in_random\": 55, \"top_captions\": 12, \"top_mean\": 1.7322404371584699, \"top_precision\": 0.06196403688393657, \"contest\": \"559-active\"}, {\"algorithm\": \"LilUCB\", \"n_captions\": 5012, \"n_top_captions_responses\": 10, \"n_top_captions_truth\": 150, \"prob_in_random_top\": 1.0, \"responses\": 100240.0, \"scores_in_random\": 55, \"top_captions\": 65, \"top_mean\": 1.7555555555555555, \"top_precision\": 0.11527549590050185, \"contest\": \"559-active\"}, {\"algorithm\": \"KLUCB\", \"n_captions\": 5012, \"n_top_captions_responses\": 10, \"n_top_captions_truth\": 150, \"prob_in_random_top\": 1.0, \"responses\": 105252.0, \"scores_in_random\": 55, \"top_captions\": 3, \"top_mean\": 1.8205128205128205, \"top_precision\": 0.053910833305057464, \"contest\": \"559-active\"}, {\"algorithm\": \"LilUCB\", \"n_captions\": 5012, \"n_top_captions_responses\": 10, \"n_top_captions_truth\": 150, \"prob_in_random_top\": 1.0, \"responses\": 105252.0, \"scores_in_random\": 55, \"top_captions\": 37, \"top_mean\": 1.7959183673469388, \"top_precision\": 0.12364776006322134, \"contest\": \"559-active\"}, {\"algorithm\": \"KLUCB\", \"n_captions\": 5012, \"n_top_captions_responses\": 10, \"n_top_captions_truth\": 150, \"prob_in_random_top\": 1.0, \"responses\": 110264.0, \"scores_in_random\": 55, \"top_captions\": 3, \"top_mean\": 1.7808219178082192, \"top_precision\": 0.04753152039149282, \"contest\": \"559-active\"}, {\"algorithm\": \"LilUCB\", \"n_captions\": 5012, \"n_top_captions_responses\": 10, \"n_top_captions_truth\": 150, \"prob_in_random_top\": 1.0, \"responses\": 110264.0, \"scores_in_random\": 55, \"top_captions\": 39, \"top_mean\": 1.78, \"top_precision\": 0.12219088445910344, \"contest\": \"559-active\"}, {\"algorithm\": \"KLUCB\", \"n_captions\": 5012, \"n_top_captions_responses\": 10, \"n_top_captions_truth\": 150, \"prob_in_random_top\": 1.0, \"responses\": 115276.0, \"scores_in_random\": 55, \"top_captions\": 5, \"top_mean\": 1.7888563049853372, \"top_precision\": 0.04442312798696358, \"contest\": \"559-active\"}, {\"algorithm\": \"LilUCB\", \"n_captions\": 5012, \"n_top_captions_responses\": 10, \"n_top_captions_truth\": 150, \"prob_in_random_top\": 1.0, \"responses\": 115276.0, \"scores_in_random\": 55, \"top_captions\": 65, \"top_mean\": 1.74, \"top_precision\": 0.10995360802796492, \"contest\": \"559-active\"}, {\"algorithm\": \"KLUCB\", \"n_captions\": 5012, \"n_top_captions_responses\": 10, \"n_top_captions_truth\": 150, \"prob_in_random_top\": 1.0, \"responses\": 120288.0, \"scores_in_random\": 55, \"top_captions\": 5, \"top_mean\": 1.7690140845070423, \"top_precision\": 0.043432272992656576, \"contest\": \"559-active\"}, {\"algorithm\": \"LilUCB\", \"n_captions\": 5012, \"n_top_captions_responses\": 10, \"n_top_captions_truth\": 150, \"prob_in_random_top\": 1.0, \"responses\": 120288.0, \"scores_in_random\": 55, \"top_captions\": 49, \"top_mean\": 1.7454545454545454, \"top_precision\": 0.11668306325813052, \"contest\": \"559-active\"}, {\"algorithm\": \"KLUCB\", \"n_captions\": 5012, \"n_top_captions_responses\": 10, \"n_top_captions_truth\": 150, \"prob_in_random_top\": 1.0, \"responses\": 125300.0, \"scores_in_random\": 55, \"top_captions\": 6, \"top_mean\": 1.7554347826086956, \"top_precision\": 0.04250385273124818, \"contest\": \"559-active\"}, {\"algorithm\": \"LilUCB\", \"n_captions\": 5012, \"n_top_captions_responses\": 10, \"n_top_captions_truth\": 150, \"prob_in_random_top\": 1.0, \"responses\": 125300.0, \"scores_in_random\": 55, \"top_captions\": 52, \"top_mean\": 1.7241379310344827, \"top_precision\": 0.11215618552072866, \"contest\": \"559-active\"}, {\"algorithm\": \"KLUCB\", \"n_captions\": 5012, \"n_top_captions_responses\": 10, \"n_top_captions_truth\": 150, \"prob_in_random_top\": 1.0, \"responses\": 130312.0, \"scores_in_random\": 55, \"top_captions\": 9, \"top_mean\": 1.7427821522309712, \"top_precision\": 0.04162009976239234, \"contest\": \"559-active\"}, {\"algorithm\": \"LilUCB\", \"n_captions\": 5012, \"n_top_captions_responses\": 10, \"n_top_captions_truth\": 150, \"prob_in_random_top\": 1.0, \"responses\": 130312.0, \"scores_in_random\": 55, \"top_captions\": 51, \"top_mean\": 1.7241379310344827, \"top_precision\": 0.11215618552072866, \"contest\": \"559-active\"}, {\"algorithm\": \"KLUCB\", \"n_captions\": 5012, \"n_top_captions_responses\": 10, \"n_top_captions_truth\": 150, \"prob_in_random_top\": 1.0, \"responses\": 135324.0, \"scores_in_random\": 55, \"top_captions\": 2, \"top_mean\": 1.8506224066390042, \"top_precision\": 0.05269736770385224, \"contest\": \"559-active\"}, {\"algorithm\": \"LilUCB\", \"n_captions\": 5012, \"n_top_captions_responses\": 10, \"n_top_captions_truth\": 150, \"prob_in_random_top\": 1.0, \"responses\": 135324.0, \"scores_in_random\": 55, \"top_captions\": 42, \"top_mean\": 1.7258064516129032, \"top_precision\": 0.10068342572179649, \"contest\": \"559-active\"}, {\"algorithm\": \"KLUCB\", \"n_captions\": 5012, \"n_top_captions_responses\": 10, \"n_top_captions_truth\": 150, \"prob_in_random_top\": 1.0, \"responses\": 140336.0, \"scores_in_random\": 55, \"top_captions\": 2, \"top_mean\": 1.90633608815427, \"top_precision\": 0.042986346991921574, \"contest\": \"559-active\"}, {\"algorithm\": \"LilUCB\", \"n_captions\": 5012, \"n_top_captions_responses\": 10, \"n_top_captions_truth\": 150, \"prob_in_random_top\": 1.0, \"responses\": 140336.0, \"scores_in_random\": 55, \"top_captions\": 40, \"top_mean\": 1.7313432835820894, \"top_precision\": 0.09879896018126205, \"contest\": \"559-active\"}, {\"algorithm\": \"KLUCB\", \"n_captions\": 5012, \"n_top_captions_responses\": 10, \"n_top_captions_truth\": 150, \"prob_in_random_top\": 1.0, \"responses\": 145348.0, \"scores_in_random\": 55, \"top_captions\": 3, \"top_mean\": 1.8612836438923395, \"top_precision\": 0.03670830495508559, \"contest\": \"559-active\"}, {\"algorithm\": \"LilUCB\", \"n_captions\": 5012, \"n_top_captions_responses\": 10, \"n_top_captions_truth\": 150, \"prob_in_random_top\": 1.0, \"responses\": 145348.0, \"scores_in_random\": 55, \"top_captions\": 42, \"top_mean\": 1.7205882352941178, \"top_precision\": 0.09792757764416855, \"contest\": \"559-active\"}, {\"algorithm\": \"KLUCB\", \"n_captions\": 5012, \"n_top_captions_responses\": 10, \"n_top_captions_truth\": 150, \"prob_in_random_top\": 1.0, \"responses\": 150360.0, \"scores_in_random\": 55, \"top_captions\": 3, \"top_mean\": 1.8461538461538463, \"top_precision\": 0.03278995639247608, \"contest\": \"559-active\"}, {\"algorithm\": \"LilUCB\", \"n_captions\": 5012, \"n_top_captions_responses\": 10, \"n_top_captions_truth\": 150, \"prob_in_random_top\": 1.0, \"responses\": 150360.0, \"scores_in_random\": 55, \"top_captions\": 16, \"top_mean\": 1.8181818181818181, \"top_precision\": 0.10776191254078583, \"contest\": \"559-active\"}, {\"algorithm\": \"KLUCB\", \"n_captions\": 5012, \"n_top_captions_responses\": 10, \"n_top_captions_truth\": 150, \"prob_in_random_top\": 1.0, \"responses\": 155372.0, \"scores_in_random\": 55, \"top_captions\": 4, \"top_mean\": 1.8296398891966759, \"top_precision\": 0.029598380878226936, \"contest\": \"559-active\"}, {\"algorithm\": \"LilUCB\", \"n_captions\": 5012, \"n_top_captions_responses\": 10, \"n_top_captions_truth\": 150, \"prob_in_random_top\": 1.0, \"responses\": 155372.0, \"scores_in_random\": 55, \"top_captions\": 9, \"top_mean\": 1.8279569892473118, \"top_precision\": 0.08865476362873555, \"contest\": \"559-active\"}, {\"algorithm\": \"KLUCB\", \"n_captions\": 5012, \"n_top_captions_responses\": 10, \"n_top_captions_truth\": 150, \"prob_in_random_top\": 1.0, \"responses\": 160384.0, \"scores_in_random\": 55, \"top_captions\": 5, \"top_mean\": 1.8153846153846154, \"top_precision\": 0.02739419069303578, \"contest\": \"559-active\"}, {\"algorithm\": \"LilUCB\", \"n_captions\": 5012, \"n_top_captions_responses\": 10, \"n_top_captions_truth\": 150, \"prob_in_random_top\": 1.0, \"responses\": 160384.0, \"scores_in_random\": 55, \"top_captions\": 9, \"top_mean\": 1.8191489361702127, \"top_precision\": 0.08814772800930377, \"contest\": \"559-active\"}, {\"algorithm\": \"KLUCB\", \"n_captions\": 5012, \"n_top_captions_responses\": 10, \"n_top_captions_truth\": 150, \"prob_in_random_top\": 1.0, \"responses\": 165396.0, \"scores_in_random\": 55, \"top_captions\": 3, \"top_mean\": 1.8489583333333333, \"top_precision\": 0.041984178345233096, \"contest\": \"559-active\"}, {\"algorithm\": \"LilUCB\", \"n_captions\": 5012, \"n_top_captions_responses\": 10, \"n_top_captions_truth\": 150, \"prob_in_random_top\": 1.0, \"responses\": 165396.0, \"scores_in_random\": 55, \"top_captions\": 11, \"top_mean\": 1.8020833333333333, \"top_precision\": 0.08713242551440531, \"contest\": \"559-active\"}, {\"algorithm\": \"KLUCB\", \"n_captions\": 5012, \"n_top_captions_responses\": 10, \"n_top_captions_truth\": 150, \"prob_in_random_top\": 1.0, \"responses\": 170408.0, \"scores_in_random\": 55, \"top_captions\": 2, \"top_mean\": 1.83201581027668, \"top_precision\": 0.03683573510269842, \"contest\": \"559-active\"}, {\"algorithm\": \"LilUCB\", \"n_captions\": 5012, \"n_top_captions_responses\": 10, \"n_top_captions_truth\": 150, \"prob_in_random_top\": 1.0, \"responses\": 170408.0, \"scores_in_random\": 55, \"top_captions\": 13, \"top_mean\": 1.7938144329896908, \"top_precision\": 0.08662503666995267, \"contest\": \"559-active\"}, {\"algorithm\": \"KLUCB\", \"n_captions\": 5012, \"n_top_captions_responses\": 10, \"n_top_captions_truth\": 150, \"prob_in_random_top\": 1.0, \"responses\": 175420.0, \"scores_in_random\": 55, \"top_captions\": 3, \"top_mean\": 1.831404958677686, \"top_precision\": 0.03361053508991632, \"contest\": \"559-active\"}, {\"algorithm\": \"LilUCB\", \"n_captions\": 5012, \"n_top_captions_responses\": 10, \"n_top_captions_truth\": 150, \"prob_in_random_top\": 1.0, \"responses\": 175420.0, \"scores_in_random\": 55, \"top_captions\": 12, \"top_mean\": 1.7941176470588236, \"top_precision\": 0.07799944159773743, \"contest\": \"559-active\"}, {\"algorithm\": \"KLUCB\", \"n_captions\": 5012, \"n_top_captions_responses\": 10, \"n_top_captions_truth\": 150, \"prob_in_random_top\": 1.0, \"responses\": 180432.0, \"scores_in_random\": 55, \"top_captions\": 1, \"top_mean\": 1.848354792560801, \"top_precision\": 0.03110072211331584, \"contest\": \"559-active\"}, {\"algorithm\": \"LilUCB\", \"n_captions\": 5012, \"n_top_captions_responses\": 10, \"n_top_captions_truth\": 150, \"prob_in_random_top\": 1.0, \"responses\": 180432.0, \"scores_in_random\": 55, \"top_captions\": 13, \"top_mean\": 1.7864077669902914, \"top_precision\": 0.07762229647056819, \"contest\": \"559-active\"}, {\"algorithm\": \"KLUCB\", \"n_captions\": 5012, \"n_top_captions_responses\": 10, \"n_top_captions_truth\": 150, \"prob_in_random_top\": 1.0, \"responses\": 185444.0, \"scores_in_random\": 55, \"top_captions\": 3, \"top_mean\": 1.8548585485854858, \"top_precision\": 0.02867648766439534, \"contest\": \"559-active\"}, {\"algorithm\": \"LilUCB\", \"n_captions\": 5012, \"n_top_captions_responses\": 10, \"n_top_captions_truth\": 150, \"prob_in_random_top\": 1.0, \"responses\": 185444.0, \"scores_in_random\": 55, \"top_captions\": 15, \"top_mean\": 1.7809523809523808, \"top_precision\": 0.0822986524898168, \"contest\": \"559-active\"}, {\"algorithm\": \"KLUCB\", \"n_captions\": 5012, \"n_top_captions_responses\": 10, \"n_top_captions_truth\": 150, \"prob_in_random_top\": 1.0, \"responses\": 190456.0, \"scores_in_random\": 55, \"top_captions\": 2, \"top_mean\": 1.8421052631578947, \"top_precision\": 0.02712423527123769, \"contest\": \"559-active\"}, {\"algorithm\": \"LilUCB\", \"n_captions\": 5012, \"n_top_captions_responses\": 10, \"n_top_captions_truth\": 150, \"prob_in_random_top\": 1.0, \"responses\": 190456.0, \"scores_in_random\": 55, \"top_captions\": 14, \"top_mean\": 1.7641509433962264, \"top_precision\": 0.07648134184254644, \"contest\": \"559-active\"}, {\"algorithm\": \"KLUCB\", \"n_captions\": 5012, \"n_top_captions_responses\": 10, \"n_top_captions_truth\": 150, \"prob_in_random_top\": 1.0, \"responses\": 195468.0, \"scores_in_random\": 55, \"top_captions\": 2, \"top_mean\": 1.819623389494549, \"top_precision\": 0.025611963827583694, \"contest\": \"559-active\"}, {\"algorithm\": \"LilUCB\", \"n_captions\": 5012, \"n_top_captions_responses\": 10, \"n_top_captions_truth\": 150, \"prob_in_random_top\": 1.0, \"responses\": 195468.0, \"scores_in_random\": 55, \"top_captions\": 12, \"top_mean\": 1.7767857142857142, \"top_precision\": 0.07891418598560196, \"contest\": \"559-active\"}, {\"algorithm\": \"KLUCB\", \"n_captions\": 5012, \"n_top_captions_responses\": 10, \"n_top_captions_truth\": 150, \"prob_in_random_top\": 1.0, \"responses\": 200480.0, \"scores_in_random\": 55, \"top_captions\": 2, \"top_mean\": 1.7945845004668535, \"top_precision\": 0.024729371793120052, \"contest\": \"559-active\"}, {\"algorithm\": \"LilUCB\", \"n_captions\": 5012, \"n_top_captions_responses\": 10, \"n_top_captions_truth\": 150, \"prob_in_random_top\": 1.0, \"responses\": 200480.0, \"scores_in_random\": 55, \"top_captions\": 2, \"top_mean\": 1.9361702127659575, \"top_precision\": 0.09662399041988516, \"contest\": \"559-active\"}, {\"algorithm\": \"KLUCB\", \"n_captions\": 5012, \"n_top_captions_responses\": 10, \"n_top_captions_truth\": 150, \"prob_in_random_top\": 1.0, \"responses\": 205492.0, \"scores_in_random\": 55, \"top_captions\": 12, \"top_mean\": 1.7354260089686098, \"top_precision\": 0.0515172248104496, \"contest\": \"559-active\"}, {\"algorithm\": \"LilUCB\", \"n_captions\": 5012, \"n_top_captions_responses\": 10, \"n_top_captions_truth\": 150, \"prob_in_random_top\": 1.0, \"responses\": 205492.0, \"scores_in_random\": 55, \"top_captions\": 2, \"top_mean\": 1.8869047619047619, \"top_precision\": 0.06285752898845377, \"contest\": \"559-active\"}, {\"algorithm\": \"KLUCB\", \"n_captions\": 5012, \"n_top_captions_responses\": 10, \"n_top_captions_truth\": 150, \"prob_in_random_top\": 1.0, \"responses\": 210504.0, \"scores_in_random\": 55, \"top_captions\": 9, \"top_mean\": 1.7120622568093384, \"top_precision\": 0.02184645690821646, \"contest\": \"559-active\"}, {\"algorithm\": \"LilUCB\", \"n_captions\": 5012, \"n_top_captions_responses\": 10, \"n_top_captions_truth\": 150, \"prob_in_random_top\": 1.0, \"responses\": 210504.0, \"scores_in_random\": 55, \"top_captions\": 3, \"top_mean\": 1.8983050847457628, \"top_precision\": 0.06802894192220274, \"contest\": \"559-active\"}, {\"algorithm\": \"KLUCB\", \"n_captions\": 5012, \"n_top_captions_responses\": 10, \"n_top_captions_truth\": 150, \"prob_in_random_top\": 1.0, \"responses\": 215516.0, \"scores_in_random\": 55, \"top_captions\": 8, \"top_mean\": 1.7073540561031084, \"top_precision\": 0.021942830941094983, \"contest\": \"559-active\"}, {\"algorithm\": \"LilUCB\", \"n_captions\": 5012, \"n_top_captions_responses\": 10, \"n_top_captions_truth\": 150, \"prob_in_random_top\": 1.0, \"responses\": 215516.0, \"scores_in_random\": 55, \"top_captions\": 2, \"top_mean\": 1.89247311827957, \"top_precision\": 0.06599108337731818, \"contest\": \"559-active\"}, {\"algorithm\": \"KLUCB\", \"n_captions\": 5012, \"n_top_captions_responses\": 10, \"n_top_captions_truth\": 150, \"prob_in_random_top\": 1.0, \"responses\": 220528.0, \"scores_in_random\": 55, \"top_captions\": 5, \"top_mean\": 1.7467532467532467, \"top_precision\": 0.04647645928738062, \"contest\": \"559-active\"}, {\"algorithm\": \"LilUCB\", \"n_captions\": 5012, \"n_top_captions_responses\": 10, \"n_top_captions_truth\": 150, \"prob_in_random_top\": 1.0, \"responses\": 220528.0, \"scores_in_random\": 55, \"top_captions\": 2, \"top_mean\": 1.8835978835978835, \"top_precision\": 0.06528437637343007, \"contest\": \"559-active\"}, {\"algorithm\": \"KLUCB\", \"n_captions\": 5012, \"n_top_captions_responses\": 10, \"n_top_captions_truth\": 150, \"prob_in_random_top\": 1.0, \"responses\": 225540.0, \"scores_in_random\": 55, \"top_captions\": 5, \"top_mean\": 1.7473684210526317, \"top_precision\": 0.04180912383515637, \"contest\": \"559-active\"}, {\"algorithm\": \"LilUCB\", \"n_captions\": 5012, \"n_top_captions_responses\": 10, \"n_top_captions_truth\": 150, \"prob_in_random_top\": 1.0, \"responses\": 225540.0, \"scores_in_random\": 55, \"top_captions\": 2, \"top_mean\": 1.87434554973822, \"top_precision\": 0.06492768794796498, \"contest\": \"559-active\"}, {\"algorithm\": \"KLUCB\", \"n_captions\": 5012, \"n_top_captions_responses\": 10, \"n_top_captions_truth\": 150, \"prob_in_random_top\": 1.0, \"responses\": 230552.0, \"scores_in_random\": 55, \"top_captions\": 5, \"top_mean\": 1.7394067796610169, \"top_precision\": 0.03703656953227923, \"contest\": \"559-active\"}, {\"algorithm\": \"LilUCB\", \"n_captions\": 5012, \"n_top_captions_responses\": 10, \"n_top_captions_truth\": 150, \"prob_in_random_top\": 1.0, \"responses\": 230552.0, \"scores_in_random\": 55, \"top_captions\": 2, \"top_mean\": 1.8615384615384616, \"top_precision\": 0.0640639587689674, \"contest\": \"559-active\"}, {\"algorithm\": \"KLUCB\", \"n_captions\": 5012, \"n_top_captions_responses\": 10, \"n_top_captions_truth\": 150, \"prob_in_random_top\": 1.0, \"responses\": 235564.0, \"scores_in_random\": 55, \"top_captions\": 3, \"top_mean\": 1.7380530973451327, \"top_precision\": 0.03348199410092992, \"contest\": \"559-active\"}, {\"algorithm\": \"LilUCB\", \"n_captions\": 5012, \"n_top_captions_responses\": 10, \"n_top_captions_truth\": 150, \"prob_in_random_top\": 1.0, \"responses\": 235564.0, \"scores_in_random\": 55, \"top_captions\": 2, \"top_mean\": 1.8527918781725887, \"top_precision\": 0.0637112688313928, \"contest\": \"559-active\"}, {\"algorithm\": \"KLUCB\", \"n_captions\": 5012, \"n_top_captions_responses\": 10, \"n_top_captions_truth\": 150, \"prob_in_random_top\": 1.0, \"responses\": 240576.0, \"scores_in_random\": 55, \"top_captions\": 4, \"top_mean\": 1.7341576506955179, \"top_precision\": 0.03110069583154845, \"contest\": \"559-active\"}, {\"algorithm\": \"LilUCB\", \"n_captions\": 5012, \"n_top_captions_responses\": 10, \"n_top_captions_truth\": 150, \"prob_in_random_top\": 1.0, \"responses\": 240576.0, \"scores_in_random\": 55, \"top_captions\": 3, \"top_mean\": 1.8484848484848484, \"top_precision\": 0.06353483304748164, \"contest\": \"559-active\"}, {\"algorithm\": \"KLUCB\", \"n_captions\": 5012, \"n_top_captions_responses\": 10, \"n_top_captions_truth\": 150, \"prob_in_random_top\": 1.0, \"responses\": 245588.0, \"scores_in_random\": 55, \"top_captions\": 2, \"top_mean\": 1.7586666666666666, \"top_precision\": 0.028718936831643845, \"contest\": \"559-active\"}, {\"algorithm\": \"LilUCB\", \"n_captions\": 5012, \"n_top_captions_responses\": 10, \"n_top_captions_truth\": 150, \"prob_in_random_top\": 1.0, \"responses\": 245588.0, \"scores_in_random\": 55, \"top_captions\": 3, \"top_mean\": 1.8407960199004976, \"top_precision\": 0.06287187331114079, \"contest\": \"559-active\"}]}};\n",
       "var selector = \"#949b9f1c-6340-4dcd-a3d7-b0b84f1db27f\";\n",
       "var type = \"vega-lite\";\n",
       "\n",
       "var output_area = this;\n",
       "require(['nbextensions/jupyter-vega/index'], function(vega) {\n",
       "  vega.render(selector, spec, type, output_area);\n",
       "}, function (err) {\n",
       "  if (err.requireType !== 'scripterror') {\n",
       "    throw(err);\n",
       "  }\n",
       "});\n"
      ]
     },
     "metadata": {
      "jupyter-vega": "#949b9f1c-6340-4dcd-a3d7-b0b84f1db27f"
     },
     "output_type": "display_data"
    },
    {
     "data": {
      "image/png": "[encoded data removed]"
     },
     "metadata": {
      "jupyter-vega": "#949b9f1c-6340-4dcd-a3d7-b0b84f1db27f"
     },
     "output_type": "display_data"
    }
   ],
   "source": [
    "Chart(df).mark_line().encode(\n",
    "    x=X('responses', scale=Scale(type='linear')),\n",
    "    y=Y('scores_in_random', scale=Scale(type='log')),\n",
    "    color='algorithm')"
   ]
  },
  {
   "cell_type": "code",
   "execution_count": 115,
   "metadata": {
    "ExecuteTime": {
     "end_time": "2017-03-14T13:44:44.189176",
     "start_time": "2017-03-14T08:44:44.170553-05:00"
    },
    "collapsed": false,
    "deletable": true,
    "editable": true
   },
   "outputs": [
    {
     "data": {
      "text/html": [
       "<div class=\"vega-embed\" id=\"cb942008-6c86-429a-aab3-313b76114b0c\"></div>\n",
       "\n",
       "<style>\n",
       ".vega-embed svg, .vega-embed canvas {\n",
       "  border: 1px dotted gray;\n",
       "}\n",
       "\n",
       ".vega-embed .vega-actions a {\n",
       "  margin-right: 6px;\n",
       "}\n",
       "</style>\n"
      ]
     },
     "metadata": {
      "jupyter-vega": "#cb942008-6c86-429a-aab3-313b76114b0c"
     },
     "output_type": "display_data"
    },
    {
     "data": {
      "application/javascript": [
       "var spec = {\"config\": {\"cell\": {\"width\": 500, \"height\": 350}}, \"encoding\": {\"x\": {\"field\": \"responses\", \"type\": \"quantitative\"}, \"y\": {\"aggregate\": \"count\", \"field\": \"contest\", \"sort\": \"descending\", \"type\": \"nominal\"}}, \"mark\": \"circle\", \"data\": {\"values\": [{\"algorithm\": \"KLUCB\", \"n_captions\": 5012, \"n_top_captions_responses\": 10, \"n_top_captions_truth\": 150, \"prob_in_random_top\": 1.0, \"responses\": 5012.0, \"scores_in_random\": 55, \"top_captions\": 0, \"top_mean\": null, \"top_precision\": null, \"contest\": \"559-active\"}, {\"algorithm\": \"LilUCB\", \"n_captions\": 5012, \"n_top_captions_responses\": 10, \"n_top_captions_truth\": 150, \"prob_in_random_top\": 1.0, \"responses\": 5012.0, \"scores_in_random\": 55, \"top_captions\": 0, \"top_mean\": null, \"top_precision\": null, \"contest\": \"559-active\"}, {\"algorithm\": \"KLUCB\", \"n_captions\": 5012, \"n_top_captions_responses\": 10, \"n_top_captions_truth\": 150, \"prob_in_random_top\": 1.0, \"responses\": 10024.0, \"scores_in_random\": 55, \"top_captions\": 4585, \"top_mean\": 2.0, \"top_precision\": 0.3086066999241838, \"contest\": \"559-active\"}, {\"algorithm\": \"LilUCB\", \"n_captions\": 5012, \"n_top_captions_responses\": 10, \"n_top_captions_truth\": 150, \"prob_in_random_top\": 1.0, \"responses\": 10024.0, \"scores_in_random\": 55, \"top_captions\": 5012, \"top_mean\": 2.0, \"top_precision\": 1.0, \"contest\": \"559-active\"}, {\"algorithm\": \"KLUCB\", \"n_captions\": 5012, \"n_top_captions_responses\": 10, \"n_top_captions_truth\": 150, \"prob_in_random_top\": 1.0, \"responses\": 15036.0, \"scores_in_random\": 55, \"top_captions\": 1776, \"top_mean\": 1.8181818181818181, \"top_precision\": 0.22636181087252236, \"contest\": \"559-active\"}, {\"algorithm\": \"LilUCB\", \"n_captions\": 5012, \"n_top_captions_responses\": 10, \"n_top_captions_truth\": 150, \"prob_in_random_top\": 1.0, \"responses\": 15036.0, \"scores_in_random\": 55, \"top_captions\": 1371, \"top_mean\": 2.0, \"top_precision\": 0.4472135954999579, \"contest\": \"559-active\"}, {\"algorithm\": \"KLUCB\", \"n_captions\": 5012, \"n_top_captions_responses\": 10, \"n_top_captions_truth\": 150, \"prob_in_random_top\": 1.0, \"responses\": 20048.0, \"scores_in_random\": 55, \"top_captions\": 244, \"top_mean\": 1.6923076923076923, \"top_precision\": 0.20830867704194767, \"contest\": \"559-active\"}, {\"algorithm\": \"LilUCB\", \"n_captions\": 5012, \"n_top_captions_responses\": 10, \"n_top_captions_truth\": 150, \"prob_in_random_top\": 1.0, \"responses\": 20048.0, \"scores_in_random\": 55, \"top_captions\": 306, \"top_mean\": 2.0, \"top_precision\": 0.3779644730092272, \"contest\": \"559-active\"}, {\"algorithm\": \"KLUCB\", \"n_captions\": 5012, \"n_top_captions_responses\": 10, \"n_top_captions_truth\": 150, \"prob_in_random_top\": 1.0, \"responses\": 25060.0, \"scores_in_random\": 55, \"top_captions\": 95, \"top_mean\": 1.8214285714285714, \"top_precision\": 0.1710036621144067, \"contest\": \"559-active\"}, {\"algorithm\": \"LilUCB\", \"n_captions\": 5012, \"n_top_captions_responses\": 10, \"n_top_captions_truth\": 150, \"prob_in_random_top\": 1.0, \"responses\": 25060.0, \"scores_in_random\": 55, \"top_captions\": 155, \"top_mean\": 2.0, \"top_precision\": 0.30151134457776363, \"contest\": \"559-active\"}, {\"algorithm\": \"KLUCB\", \"n_captions\": 5012, \"n_top_captions_responses\": 10, \"n_top_captions_truth\": 150, \"prob_in_random_top\": 1.0, \"responses\": 30072.0, \"scores_in_random\": 55, \"top_captions\": 62, \"top_mean\": 1.8611111111111112, \"top_precision\": 0.1388888888888889, \"contest\": \"559-active\"}, {\"algorithm\": \"LilUCB\", \"n_captions\": 5012, \"n_top_captions_responses\": 10, \"n_top_captions_truth\": 150, \"prob_in_random_top\": 1.0, \"responses\": 30072.0, \"scores_in_random\": 55, \"top_captions\": 127, \"top_mean\": 2.0, \"top_precision\": 0.21821789023599236, \"contest\": \"559-active\"}, {\"algorithm\": \"KLUCB\", \"n_captions\": 5012, \"n_top_captions_responses\": 10, \"n_top_captions_truth\": 150, \"prob_in_random_top\": 1.0, \"responses\": 35084.0, \"scores_in_random\": 55, \"top_captions\": 76, \"top_mean\": 1.8611111111111112, \"top_precision\": 0.1388888888888889, \"contest\": \"559-active\"}, {\"algorithm\": \"LilUCB\", \"n_captions\": 5012, \"n_top_captions_responses\": 10, \"n_top_captions_truth\": 150, \"prob_in_random_top\": 1.0, \"responses\": 35084.0, \"scores_in_random\": 55, \"top_captions\": 125, \"top_mean\": 2.0, \"top_precision\": 0.21821789023599236, \"contest\": \"559-active\"}, {\"algorithm\": \"KLUCB\", \"n_captions\": 5012, \"n_top_captions_responses\": 10, \"n_top_captions_truth\": 150, \"prob_in_random_top\": 1.0, \"responses\": 40096.0, \"scores_in_random\": 55, \"top_captions\": 32, \"top_mean\": 1.8596491228070176, \"top_precision\": 0.10748490740712549, \"contest\": \"559-active\"}, {\"algorithm\": \"LilUCB\", \"n_captions\": 5012, \"n_top_captions_responses\": 10, \"n_top_captions_truth\": 150, \"prob_in_random_top\": 1.0, \"responses\": 40096.0, \"scores_in_random\": 55, \"top_captions\": 122, \"top_mean\": 1.9473684210526316, \"top_precision\": 0.19457081590191957, \"contest\": \"559-active\"}, {\"algorithm\": \"KLUCB\", \"n_captions\": 5012, \"n_top_captions_responses\": 10, \"n_top_captions_truth\": 150, \"prob_in_random_top\": 1.0, \"responses\": 45108.0, \"scores_in_random\": 55, \"top_captions\": 26, \"top_mean\": 1.8596491228070176, \"top_precision\": 0.10748490740712549, \"contest\": \"559-active\"}, {\"algorithm\": \"LilUCB\", \"n_captions\": 5012, \"n_top_captions_responses\": 10, \"n_top_captions_truth\": 150, \"prob_in_random_top\": 1.0, \"responses\": 45108.0, \"scores_in_random\": 55, \"top_captions\": 100, \"top_mean\": 1.9473684210526316, \"top_precision\": 0.19457081590191957, \"contest\": \"559-active\"}, {\"algorithm\": \"KLUCB\", \"n_captions\": 5012, \"n_top_captions_responses\": 10, \"n_top_captions_truth\": 150, \"prob_in_random_top\": 1.0, \"responses\": 50120.0, \"scores_in_random\": 55, \"top_captions\": 20, \"top_mean\": 1.826086956521739, \"top_precision\": 0.09892112330339498, \"contest\": \"559-active\"}, {\"algorithm\": \"LilUCB\", \"n_captions\": 5012, \"n_top_captions_responses\": 10, \"n_top_captions_truth\": 150, \"prob_in_random_top\": 1.0, \"responses\": 50120.0, \"scores_in_random\": 55, \"top_captions\": 175, \"top_mean\": 1.8571428571428572, \"top_precision\": 0.1862629258629328, \"contest\": \"559-active\"}, {\"algorithm\": \"KLUCB\", \"n_captions\": 5012, \"n_top_captions_responses\": 10, \"n_top_captions_truth\": 150, \"prob_in_random_top\": 1.0, \"responses\": 55132.0, \"scores_in_random\": 55, \"top_captions\": 30, \"top_mean\": 1.7922077922077921, \"top_precision\": 0.09487492636801576, \"contest\": \"559-active\"}, {\"algorithm\": \"LilUCB\", \"n_captions\": 5012, \"n_top_captions_responses\": 10, \"n_top_captions_truth\": 150, \"prob_in_random_top\": 1.0, \"responses\": 55132.0, \"scores_in_random\": 55, \"top_captions\": 117, \"top_mean\": 1.8695652173913044, \"top_precision\": 0.18117259504135713, \"contest\": \"559-active\"}, {\"algorithm\": \"KLUCB\", \"n_captions\": 5012, \"n_top_captions_responses\": 10, \"n_top_captions_truth\": 150, \"prob_in_random_top\": 1.0, \"responses\": 60144.0, \"scores_in_random\": 55, \"top_captions\": 16, \"top_mean\": 1.8144329896907216, \"top_precision\": 0.08586768685029733, \"contest\": \"559-active\"}, {\"algorithm\": \"LilUCB\", \"n_captions\": 5012, \"n_top_captions_responses\": 10, \"n_top_captions_truth\": 150, \"prob_in_random_top\": 1.0, \"responses\": 60144.0, \"scores_in_random\": 55, \"top_captions\": 142, \"top_mean\": 1.8461538461538463, \"top_precision\": 0.17269187938956654, \"contest\": \"559-active\"}, {\"algorithm\": \"KLUCB\", \"n_captions\": 5012, \"n_top_captions_responses\": 10, \"n_top_captions_truth\": 150, \"prob_in_random_top\": 1.0, \"responses\": 65156.0, \"scores_in_random\": 55, \"top_captions\": 9, \"top_mean\": 1.823008849557522, \"top_precision\": 0.07973376259484341, \"contest\": \"559-active\"}, {\"algorithm\": \"LilUCB\", \"n_captions\": 5012, \"n_top_captions_responses\": 10, \"n_top_captions_truth\": 150, \"prob_in_random_top\": 1.0, \"responses\": 65156.0, \"scores_in_random\": 55, \"top_captions\": 143, \"top_mean\": 1.8148148148148149, \"top_precision\": 0.16910217950714188, \"contest\": \"559-active\"}, {\"algorithm\": \"KLUCB\", \"n_captions\": 5012, \"n_top_captions_responses\": 10, \"n_top_captions_truth\": 150, \"prob_in_random_top\": 1.0, \"responses\": 70168.0, \"scores_in_random\": 55, \"top_captions\": 10, \"top_mean\": 1.7881355932203389, \"top_precision\": 0.07786415747600868, \"contest\": \"559-active\"}, {\"algorithm\": \"LilUCB\", \"n_captions\": 5012, \"n_top_captions_responses\": 10, \"n_top_captions_truth\": 150, \"prob_in_random_top\": 1.0, \"responses\": 70168.0, \"scores_in_random\": 55, \"top_captions\": 102, \"top_mean\": 1.8275862068965518, \"top_precision\": 0.1724137931034483, \"contest\": \"559-active\"}, {\"algorithm\": \"KLUCB\", \"n_captions\": 5012, \"n_top_captions_responses\": 10, \"n_top_captions_truth\": 150, \"prob_in_random_top\": 1.0, \"responses\": 75180.0, \"scores_in_random\": 55, \"top_captions\": 8, \"top_mean\": 1.7890625, \"top_precision\": 0.07494448712443423, \"contest\": \"559-active\"}, {\"algorithm\": \"LilUCB\", \"n_captions\": 5012, \"n_top_captions_responses\": 10, \"n_top_captions_truth\": 150, \"prob_in_random_top\": 1.0, \"responses\": 75180.0, \"scores_in_random\": 55, \"top_captions\": 62, \"top_mean\": 1.8333333333333333, \"top_precision\": 0.15170983163879992, \"contest\": \"559-active\"}, {\"algorithm\": \"KLUCB\", \"n_captions\": 5012, \"n_top_captions_responses\": 10, \"n_top_captions_truth\": 150, \"prob_in_random_top\": 1.0, \"responses\": 80192.0, \"scores_in_random\": 55, \"top_captions\": 7, \"top_mean\": 1.7828947368421053, \"top_precision\": 0.06854419235171876, \"contest\": \"559-active\"}, {\"algorithm\": \"LilUCB\", \"n_captions\": 5012, \"n_top_captions_responses\": 10, \"n_top_captions_truth\": 150, \"prob_in_random_top\": 1.0, \"responses\": 80192.0, \"scores_in_random\": 55, \"top_captions\": 66, \"top_mean\": 1.8333333333333333, \"top_precision\": 0.15170983163879992, \"contest\": \"559-active\"}, {\"algorithm\": \"KLUCB\", \"n_captions\": 5012, \"n_top_captions_responses\": 10, \"n_top_captions_truth\": 150, \"prob_in_random_top\": 1.0, \"responses\": 85204.0, \"scores_in_random\": 55, \"top_captions\": 7, \"top_mean\": 1.7625, \"top_precision\": 0.06663963681600128, \"contest\": \"559-active\"}, {\"algorithm\": \"LilUCB\", \"n_captions\": 5012, \"n_top_captions_responses\": 10, \"n_top_captions_truth\": 150, \"prob_in_random_top\": 1.0, \"responses\": 85204.0, \"scores_in_random\": 55, \"top_captions\": 125, \"top_mean\": 1.7647058823529411, \"top_precision\": 0.1404019156329071, \"contest\": \"559-active\"}, {\"algorithm\": \"KLUCB\", \"n_captions\": 5012, \"n_top_captions_responses\": 10, \"n_top_captions_truth\": 150, \"prob_in_random_top\": 1.0, \"responses\": 90216.0, \"scores_in_random\": 55, \"top_captions\": 8, \"top_mean\": 1.755952380952381, \"top_precision\": 0.06457568277552753, \"contest\": \"559-active\"}, {\"algorithm\": \"LilUCB\", \"n_captions\": 5012, \"n_top_captions_responses\": 10, \"n_top_captions_truth\": 150, \"prob_in_random_top\": 1.0, \"responses\": 90216.0, \"scores_in_random\": 55, \"top_captions\": 99, \"top_mean\": 1.7567567567567568, \"top_precision\": 0.12499492725686133, \"contest\": \"559-active\"}, {\"algorithm\": \"KLUCB\", \"n_captions\": 5012, \"n_top_captions_responses\": 10, \"n_top_captions_truth\": 150, \"prob_in_random_top\": 1.0, \"responses\": 95228.0, \"scores_in_random\": 55, \"top_captions\": 9, \"top_mean\": 1.7444444444444445, \"top_precision\": 0.062595537023489, \"contest\": \"559-active\"}, {\"algorithm\": \"LilUCB\", \"n_captions\": 5012, \"n_top_captions_responses\": 10, \"n_top_captions_truth\": 150, \"prob_in_random_top\": 1.0, \"responses\": 95228.0, \"scores_in_random\": 55, \"top_captions\": 49, \"top_mean\": 1.7906976744186047, \"top_precision\": 0.11792850065979302, \"contest\": \"559-active\"}, {\"algorithm\": \"KLUCB\", \"n_captions\": 5012, \"n_top_captions_responses\": 10, \"n_top_captions_truth\": 150, \"prob_in_random_top\": 1.0, \"responses\": 100240.0, \"scores_in_random\": 55, \"top_captions\": 12, \"top_mean\": 1.7322404371584699, \"top_precision\": 0.06196403688393657, \"contest\": \"559-active\"}, {\"algorithm\": \"LilUCB\", \"n_captions\": 5012, \"n_top_captions_responses\": 10, \"n_top_captions_truth\": 150, \"prob_in_random_top\": 1.0, \"responses\": 100240.0, \"scores_in_random\": 55, \"top_captions\": 65, \"top_mean\": 1.7555555555555555, \"top_precision\": 0.11527549590050185, \"contest\": \"559-active\"}, {\"algorithm\": \"KLUCB\", \"n_captions\": 5012, \"n_top_captions_responses\": 10, \"n_top_captions_truth\": 150, \"prob_in_random_top\": 1.0, \"responses\": 105252.0, \"scores_in_random\": 55, \"top_captions\": 3, \"top_mean\": 1.8205128205128205, \"top_precision\": 0.053910833305057464, \"contest\": \"559-active\"}, {\"algorithm\": \"LilUCB\", \"n_captions\": 5012, \"n_top_captions_responses\": 10, \"n_top_captions_truth\": 150, \"prob_in_random_top\": 1.0, \"responses\": 105252.0, \"scores_in_random\": 55, \"top_captions\": 37, \"top_mean\": 1.7959183673469388, \"top_precision\": 0.12364776006322134, \"contest\": \"559-active\"}, {\"algorithm\": \"KLUCB\", \"n_captions\": 5012, \"n_top_captions_responses\": 10, \"n_top_captions_truth\": 150, \"prob_in_random_top\": 1.0, \"responses\": 110264.0, \"scores_in_random\": 55, \"top_captions\": 3, \"top_mean\": 1.7808219178082192, \"top_precision\": 0.04753152039149282, \"contest\": \"559-active\"}, {\"algorithm\": \"LilUCB\", \"n_captions\": 5012, \"n_top_captions_responses\": 10, \"n_top_captions_truth\": 150, \"prob_in_random_top\": 1.0, \"responses\": 110264.0, \"scores_in_random\": 55, \"top_captions\": 39, \"top_mean\": 1.78, \"top_precision\": 0.12219088445910344, \"contest\": \"559-active\"}, {\"algorithm\": \"KLUCB\", \"n_captions\": 5012, \"n_top_captions_responses\": 10, \"n_top_captions_truth\": 150, \"prob_in_random_top\": 1.0, \"responses\": 115276.0, \"scores_in_random\": 55, \"top_captions\": 5, \"top_mean\": 1.7888563049853372, \"top_precision\": 0.04442312798696358, \"contest\": \"559-active\"}, {\"algorithm\": \"LilUCB\", \"n_captions\": 5012, \"n_top_captions_responses\": 10, \"n_top_captions_truth\": 150, \"prob_in_random_top\": 1.0, \"responses\": 115276.0, \"scores_in_random\": 55, \"top_captions\": 65, \"top_mean\": 1.74, \"top_precision\": 0.10995360802796492, \"contest\": \"559-active\"}, {\"algorithm\": \"KLUCB\", \"n_captions\": 5012, \"n_top_captions_responses\": 10, \"n_top_captions_truth\": 150, \"prob_in_random_top\": 1.0, \"responses\": 120288.0, \"scores_in_random\": 55, \"top_captions\": 5, \"top_mean\": 1.7690140845070423, \"top_precision\": 0.043432272992656576, \"contest\": \"559-active\"}, {\"algorithm\": \"LilUCB\", \"n_captions\": 5012, \"n_top_captions_responses\": 10, \"n_top_captions_truth\": 150, \"prob_in_random_top\": 1.0, \"responses\": 120288.0, \"scores_in_random\": 55, \"top_captions\": 49, \"top_mean\": 1.7454545454545454, \"top_precision\": 0.11668306325813052, \"contest\": \"559-active\"}, {\"algorithm\": \"KLUCB\", \"n_captions\": 5012, \"n_top_captions_responses\": 10, \"n_top_captions_truth\": 150, \"prob_in_random_top\": 1.0, \"responses\": 125300.0, \"scores_in_random\": 55, \"top_captions\": 6, \"top_mean\": 1.7554347826086956, \"top_precision\": 0.04250385273124818, \"contest\": \"559-active\"}, {\"algorithm\": \"LilUCB\", \"n_captions\": 5012, \"n_top_captions_responses\": 10, \"n_top_captions_truth\": 150, \"prob_in_random_top\": 1.0, \"responses\": 125300.0, \"scores_in_random\": 55, \"top_captions\": 52, \"top_mean\": 1.7241379310344827, \"top_precision\": 0.11215618552072866, \"contest\": \"559-active\"}, {\"algorithm\": \"KLUCB\", \"n_captions\": 5012, \"n_top_captions_responses\": 10, \"n_top_captions_truth\": 150, \"prob_in_random_top\": 1.0, \"responses\": 130312.0, \"scores_in_random\": 55, \"top_captions\": 9, \"top_mean\": 1.7427821522309712, \"top_precision\": 0.04162009976239234, \"contest\": \"559-active\"}, {\"algorithm\": \"LilUCB\", \"n_captions\": 5012, \"n_top_captions_responses\": 10, \"n_top_captions_truth\": 150, \"prob_in_random_top\": 1.0, \"responses\": 130312.0, \"scores_in_random\": 55, \"top_captions\": 51, \"top_mean\": 1.7241379310344827, \"top_precision\": 0.11215618552072866, \"contest\": \"559-active\"}, {\"algorithm\": \"KLUCB\", \"n_captions\": 5012, \"n_top_captions_responses\": 10, \"n_top_captions_truth\": 150, \"prob_in_random_top\": 1.0, \"responses\": 135324.0, \"scores_in_random\": 55, \"top_captions\": 2, \"top_mean\": 1.8506224066390042, \"top_precision\": 0.05269736770385224, \"contest\": \"559-active\"}, {\"algorithm\": \"LilUCB\", \"n_captions\": 5012, \"n_top_captions_responses\": 10, \"n_top_captions_truth\": 150, \"prob_in_random_top\": 1.0, \"responses\": 135324.0, \"scores_in_random\": 55, \"top_captions\": 42, \"top_mean\": 1.7258064516129032, \"top_precision\": 0.10068342572179649, \"contest\": \"559-active\"}, {\"algorithm\": \"KLUCB\", \"n_captions\": 5012, \"n_top_captions_responses\": 10, \"n_top_captions_truth\": 150, \"prob_in_random_top\": 1.0, \"responses\": 140336.0, \"scores_in_random\": 55, \"top_captions\": 2, \"top_mean\": 1.90633608815427, \"top_precision\": 0.042986346991921574, \"contest\": \"559-active\"}, {\"algorithm\": \"LilUCB\", \"n_captions\": 5012, \"n_top_captions_responses\": 10, \"n_top_captions_truth\": 150, \"prob_in_random_top\": 1.0, \"responses\": 140336.0, \"scores_in_random\": 55, \"top_captions\": 40, \"top_mean\": 1.7313432835820894, \"top_precision\": 0.09879896018126205, \"contest\": \"559-active\"}, {\"algorithm\": \"KLUCB\", \"n_captions\": 5012, \"n_top_captions_responses\": 10, \"n_top_captions_truth\": 150, \"prob_in_random_top\": 1.0, \"responses\": 145348.0, \"scores_in_random\": 55, \"top_captions\": 3, \"top_mean\": 1.8612836438923395, \"top_precision\": 0.03670830495508559, \"contest\": \"559-active\"}, {\"algorithm\": \"LilUCB\", \"n_captions\": 5012, \"n_top_captions_responses\": 10, \"n_top_captions_truth\": 150, \"prob_in_random_top\": 1.0, \"responses\": 145348.0, \"scores_in_random\": 55, \"top_captions\": 42, \"top_mean\": 1.7205882352941178, \"top_precision\": 0.09792757764416855, \"contest\": \"559-active\"}, {\"algorithm\": \"KLUCB\", \"n_captions\": 5012, \"n_top_captions_responses\": 10, \"n_top_captions_truth\": 150, \"prob_in_random_top\": 1.0, \"responses\": 150360.0, \"scores_in_random\": 55, \"top_captions\": 3, \"top_mean\": 1.8461538461538463, \"top_precision\": 0.03278995639247608, \"contest\": \"559-active\"}, {\"algorithm\": \"LilUCB\", \"n_captions\": 5012, \"n_top_captions_responses\": 10, \"n_top_captions_truth\": 150, \"prob_in_random_top\": 1.0, \"responses\": 150360.0, \"scores_in_random\": 55, \"top_captions\": 16, \"top_mean\": 1.8181818181818181, \"top_precision\": 0.10776191254078583, \"contest\": \"559-active\"}, {\"algorithm\": \"KLUCB\", \"n_captions\": 5012, \"n_top_captions_responses\": 10, \"n_top_captions_truth\": 150, \"prob_in_random_top\": 1.0, \"responses\": 155372.0, \"scores_in_random\": 55, \"top_captions\": 4, \"top_mean\": 1.8296398891966759, \"top_precision\": 0.029598380878226936, \"contest\": \"559-active\"}, {\"algorithm\": \"LilUCB\", \"n_captions\": 5012, \"n_top_captions_responses\": 10, \"n_top_captions_truth\": 150, \"prob_in_random_top\": 1.0, \"responses\": 155372.0, \"scores_in_random\": 55, \"top_captions\": 9, \"top_mean\": 1.8279569892473118, \"top_precision\": 0.08865476362873555, \"contest\": \"559-active\"}, {\"algorithm\": \"KLUCB\", \"n_captions\": 5012, \"n_top_captions_responses\": 10, \"n_top_captions_truth\": 150, \"prob_in_random_top\": 1.0, \"responses\": 160384.0, \"scores_in_random\": 55, \"top_captions\": 5, \"top_mean\": 1.8153846153846154, \"top_precision\": 0.02739419069303578, \"contest\": \"559-active\"}, {\"algorithm\": \"LilUCB\", \"n_captions\": 5012, \"n_top_captions_responses\": 10, \"n_top_captions_truth\": 150, \"prob_in_random_top\": 1.0, \"responses\": 160384.0, \"scores_in_random\": 55, \"top_captions\": 9, \"top_mean\": 1.8191489361702127, \"top_precision\": 0.08814772800930377, \"contest\": \"559-active\"}, {\"algorithm\": \"KLUCB\", \"n_captions\": 5012, \"n_top_captions_responses\": 10, \"n_top_captions_truth\": 150, \"prob_in_random_top\": 1.0, \"responses\": 165396.0, \"scores_in_random\": 55, \"top_captions\": 3, \"top_mean\": 1.8489583333333333, \"top_precision\": 0.041984178345233096, \"contest\": \"559-active\"}, {\"algorithm\": \"LilUCB\", \"n_captions\": 5012, \"n_top_captions_responses\": 10, \"n_top_captions_truth\": 150, \"prob_in_random_top\": 1.0, \"responses\": 165396.0, \"scores_in_random\": 55, \"top_captions\": 11, \"top_mean\": 1.8020833333333333, \"top_precision\": 0.08713242551440531, \"contest\": \"559-active\"}, {\"algorithm\": \"KLUCB\", \"n_captions\": 5012, \"n_top_captions_responses\": 10, \"n_top_captions_truth\": 150, \"prob_in_random_top\": 1.0, \"responses\": 170408.0, \"scores_in_random\": 55, \"top_captions\": 2, \"top_mean\": 1.83201581027668, \"top_precision\": 0.03683573510269842, \"contest\": \"559-active\"}, {\"algorithm\": \"LilUCB\", \"n_captions\": 5012, \"n_top_captions_responses\": 10, \"n_top_captions_truth\": 150, \"prob_in_random_top\": 1.0, \"responses\": 170408.0, \"scores_in_random\": 55, \"top_captions\": 13, \"top_mean\": 1.7938144329896908, \"top_precision\": 0.08662503666995267, \"contest\": \"559-active\"}, {\"algorithm\": \"KLUCB\", \"n_captions\": 5012, \"n_top_captions_responses\": 10, \"n_top_captions_truth\": 150, \"prob_in_random_top\": 1.0, \"responses\": 175420.0, \"scores_in_random\": 55, \"top_captions\": 3, \"top_mean\": 1.831404958677686, \"top_precision\": 0.03361053508991632, \"contest\": \"559-active\"}, {\"algorithm\": \"LilUCB\", \"n_captions\": 5012, \"n_top_captions_responses\": 10, \"n_top_captions_truth\": 150, \"prob_in_random_top\": 1.0, \"responses\": 175420.0, \"scores_in_random\": 55, \"top_captions\": 12, \"top_mean\": 1.7941176470588236, \"top_precision\": 0.07799944159773743, \"contest\": \"559-active\"}, {\"algorithm\": \"KLUCB\", \"n_captions\": 5012, \"n_top_captions_responses\": 10, \"n_top_captions_truth\": 150, \"prob_in_random_top\": 1.0, \"responses\": 180432.0, \"scores_in_random\": 55, \"top_captions\": 1, \"top_mean\": 1.848354792560801, \"top_precision\": 0.03110072211331584, \"contest\": \"559-active\"}, {\"algorithm\": \"LilUCB\", \"n_captions\": 5012, \"n_top_captions_responses\": 10, \"n_top_captions_truth\": 150, \"prob_in_random_top\": 1.0, \"responses\": 180432.0, \"scores_in_random\": 55, \"top_captions\": 13, \"top_mean\": 1.7864077669902914, \"top_precision\": 0.07762229647056819, \"contest\": \"559-active\"}, {\"algorithm\": \"KLUCB\", \"n_captions\": 5012, \"n_top_captions_responses\": 10, \"n_top_captions_truth\": 150, \"prob_in_random_top\": 1.0, \"responses\": 185444.0, \"scores_in_random\": 55, \"top_captions\": 3, \"top_mean\": 1.8548585485854858, \"top_precision\": 0.02867648766439534, \"contest\": \"559-active\"}, {\"algorithm\": \"LilUCB\", \"n_captions\": 5012, \"n_top_captions_responses\": 10, \"n_top_captions_truth\": 150, \"prob_in_random_top\": 1.0, \"responses\": 185444.0, \"scores_in_random\": 55, \"top_captions\": 15, \"top_mean\": 1.7809523809523808, \"top_precision\": 0.0822986524898168, \"contest\": \"559-active\"}, {\"algorithm\": \"KLUCB\", \"n_captions\": 5012, \"n_top_captions_responses\": 10, \"n_top_captions_truth\": 150, \"prob_in_random_top\": 1.0, \"responses\": 190456.0, \"scores_in_random\": 55, \"top_captions\": 2, \"top_mean\": 1.8421052631578947, \"top_precision\": 0.02712423527123769, \"contest\": \"559-active\"}, {\"algorithm\": \"LilUCB\", \"n_captions\": 5012, \"n_top_captions_responses\": 10, \"n_top_captions_truth\": 150, \"prob_in_random_top\": 1.0, \"responses\": 190456.0, \"scores_in_random\": 55, \"top_captions\": 14, \"top_mean\": 1.7641509433962264, \"top_precision\": 0.07648134184254644, \"contest\": \"559-active\"}, {\"algorithm\": \"KLUCB\", \"n_captions\": 5012, \"n_top_captions_responses\": 10, \"n_top_captions_truth\": 150, \"prob_in_random_top\": 1.0, \"responses\": 195468.0, \"scores_in_random\": 55, \"top_captions\": 2, \"top_mean\": 1.819623389494549, \"top_precision\": 0.025611963827583694, \"contest\": \"559-active\"}, {\"algorithm\": \"LilUCB\", \"n_captions\": 5012, \"n_top_captions_responses\": 10, \"n_top_captions_truth\": 150, \"prob_in_random_top\": 1.0, \"responses\": 195468.0, \"scores_in_random\": 55, \"top_captions\": 12, \"top_mean\": 1.7767857142857142, \"top_precision\": 0.07891418598560196, \"contest\": \"559-active\"}, {\"algorithm\": \"KLUCB\", \"n_captions\": 5012, \"n_top_captions_responses\": 10, \"n_top_captions_truth\": 150, \"prob_in_random_top\": 1.0, \"responses\": 200480.0, \"scores_in_random\": 55, \"top_captions\": 2, \"top_mean\": 1.7945845004668535, \"top_precision\": 0.024729371793120052, \"contest\": \"559-active\"}, {\"algorithm\": \"LilUCB\", \"n_captions\": 5012, \"n_top_captions_responses\": 10, \"n_top_captions_truth\": 150, \"prob_in_random_top\": 1.0, \"responses\": 200480.0, \"scores_in_random\": 55, \"top_captions\": 2, \"top_mean\": 1.9361702127659575, \"top_precision\": 0.09662399041988516, \"contest\": \"559-active\"}, {\"algorithm\": \"KLUCB\", \"n_captions\": 5012, \"n_top_captions_responses\": 10, \"n_top_captions_truth\": 150, \"prob_in_random_top\": 1.0, \"responses\": 205492.0, \"scores_in_random\": 55, \"top_captions\": 12, \"top_mean\": 1.7354260089686098, \"top_precision\": 0.0515172248104496, \"contest\": \"559-active\"}, {\"algorithm\": \"LilUCB\", \"n_captions\": 5012, \"n_top_captions_responses\": 10, \"n_top_captions_truth\": 150, \"prob_in_random_top\": 1.0, \"responses\": 205492.0, \"scores_in_random\": 55, \"top_captions\": 2, \"top_mean\": 1.8869047619047619, \"top_precision\": 0.06285752898845377, \"contest\": \"559-active\"}, {\"algorithm\": \"KLUCB\", \"n_captions\": 5012, \"n_top_captions_responses\": 10, \"n_top_captions_truth\": 150, \"prob_in_random_top\": 1.0, \"responses\": 210504.0, \"scores_in_random\": 55, \"top_captions\": 9, \"top_mean\": 1.7120622568093384, \"top_precision\": 0.02184645690821646, \"contest\": \"559-active\"}, {\"algorithm\": \"LilUCB\", \"n_captions\": 5012, \"n_top_captions_responses\": 10, \"n_top_captions_truth\": 150, \"prob_in_random_top\": 1.0, \"responses\": 210504.0, \"scores_in_random\": 55, \"top_captions\": 3, \"top_mean\": 1.8983050847457628, \"top_precision\": 0.06802894192220274, \"contest\": \"559-active\"}, {\"algorithm\": \"KLUCB\", \"n_captions\": 5012, \"n_top_captions_responses\": 10, \"n_top_captions_truth\": 150, \"prob_in_random_top\": 1.0, \"responses\": 215516.0, \"scores_in_random\": 55, \"top_captions\": 8, \"top_mean\": 1.7073540561031084, \"top_precision\": 0.021942830941094983, \"contest\": \"559-active\"}, {\"algorithm\": \"LilUCB\", \"n_captions\": 5012, \"n_top_captions_responses\": 10, \"n_top_captions_truth\": 150, \"prob_in_random_top\": 1.0, \"responses\": 215516.0, \"scores_in_random\": 55, \"top_captions\": 2, \"top_mean\": 1.89247311827957, \"top_precision\": 0.06599108337731818, \"contest\": \"559-active\"}, {\"algorithm\": \"KLUCB\", \"n_captions\": 5012, \"n_top_captions_responses\": 10, \"n_top_captions_truth\": 150, \"prob_in_random_top\": 1.0, \"responses\": 220528.0, \"scores_in_random\": 55, \"top_captions\": 5, \"top_mean\": 1.7467532467532467, \"top_precision\": 0.04647645928738062, \"contest\": \"559-active\"}, {\"algorithm\": \"LilUCB\", \"n_captions\": 5012, \"n_top_captions_responses\": 10, \"n_top_captions_truth\": 150, \"prob_in_random_top\": 1.0, \"responses\": 220528.0, \"scores_in_random\": 55, \"top_captions\": 2, \"top_mean\": 1.8835978835978835, \"top_precision\": 0.06528437637343007, \"contest\": \"559-active\"}, {\"algorithm\": \"KLUCB\", \"n_captions\": 5012, \"n_top_captions_responses\": 10, \"n_top_captions_truth\": 150, \"prob_in_random_top\": 1.0, \"responses\": 225540.0, \"scores_in_random\": 55, \"top_captions\": 5, \"top_mean\": 1.7473684210526317, \"top_precision\": 0.04180912383515637, \"contest\": \"559-active\"}, {\"algorithm\": \"LilUCB\", \"n_captions\": 5012, \"n_top_captions_responses\": 10, \"n_top_captions_truth\": 150, \"prob_in_random_top\": 1.0, \"responses\": 225540.0, \"scores_in_random\": 55, \"top_captions\": 2, \"top_mean\": 1.87434554973822, \"top_precision\": 0.06492768794796498, \"contest\": \"559-active\"}, {\"algorithm\": \"KLUCB\", \"n_captions\": 5012, \"n_top_captions_responses\": 10, \"n_top_captions_truth\": 150, \"prob_in_random_top\": 1.0, \"responses\": 230552.0, \"scores_in_random\": 55, \"top_captions\": 5, \"top_mean\": 1.7394067796610169, \"top_precision\": 0.03703656953227923, \"contest\": \"559-active\"}, {\"algorithm\": \"LilUCB\", \"n_captions\": 5012, \"n_top_captions_responses\": 10, \"n_top_captions_truth\": 150, \"prob_in_random_top\": 1.0, \"responses\": 230552.0, \"scores_in_random\": 55, \"top_captions\": 2, \"top_mean\": 1.8615384615384616, \"top_precision\": 0.0640639587689674, \"contest\": \"559-active\"}, {\"algorithm\": \"KLUCB\", \"n_captions\": 5012, \"n_top_captions_responses\": 10, \"n_top_captions_truth\": 150, \"prob_in_random_top\": 1.0, \"responses\": 235564.0, \"scores_in_random\": 55, \"top_captions\": 3, \"top_mean\": 1.7380530973451327, \"top_precision\": 0.03348199410092992, \"contest\": \"559-active\"}, {\"algorithm\": \"LilUCB\", \"n_captions\": 5012, \"n_top_captions_responses\": 10, \"n_top_captions_truth\": 150, \"prob_in_random_top\": 1.0, \"responses\": 235564.0, \"scores_in_random\": 55, \"top_captions\": 2, \"top_mean\": 1.8527918781725887, \"top_precision\": 0.0637112688313928, \"contest\": \"559-active\"}, {\"algorithm\": \"KLUCB\", \"n_captions\": 5012, \"n_top_captions_responses\": 10, \"n_top_captions_truth\": 150, \"prob_in_random_top\": 1.0, \"responses\": 240576.0, \"scores_in_random\": 55, \"top_captions\": 4, \"top_mean\": 1.7341576506955179, \"top_precision\": 0.03110069583154845, \"contest\": \"559-active\"}, {\"algorithm\": \"LilUCB\", \"n_captions\": 5012, \"n_top_captions_responses\": 10, \"n_top_captions_truth\": 150, \"prob_in_random_top\": 1.0, \"responses\": 240576.0, \"scores_in_random\": 55, \"top_captions\": 3, \"top_mean\": 1.8484848484848484, \"top_precision\": 0.06353483304748164, \"contest\": \"559-active\"}, {\"algorithm\": \"KLUCB\", \"n_captions\": 5012, \"n_top_captions_responses\": 10, \"n_top_captions_truth\": 150, \"prob_in_random_top\": 1.0, \"responses\": 245588.0, \"scores_in_random\": 55, \"top_captions\": 2, \"top_mean\": 1.7586666666666666, \"top_precision\": 0.028718936831643845, \"contest\": \"559-active\"}, {\"algorithm\": \"LilUCB\", \"n_captions\": 5012, \"n_top_captions_responses\": 10, \"n_top_captions_truth\": 150, \"prob_in_random_top\": 1.0, \"responses\": 245588.0, \"scores_in_random\": 55, \"top_captions\": 3, \"top_mean\": 1.8407960199004976, \"top_precision\": 0.06287187331114079, \"contest\": \"559-active\"}]}};\n",
       "var selector = \"#cb942008-6c86-429a-aab3-313b76114b0c\";\n",
       "var type = \"vega-lite\";\n",
       "\n",
       "var output_area = this;\n",
       "require(['nbextensions/jupyter-vega/index'], function(vega) {\n",
       "  vega.render(selector, spec, type, output_area);\n",
       "}, function (err) {\n",
       "  if (err.requireType !== 'scripterror') {\n",
       "    throw(err);\n",
       "  }\n",
       "});\n"
      ]
     },
     "metadata": {
      "jupyter-vega": "#cb942008-6c86-429a-aab3-313b76114b0c"
     },
     "output_type": "display_data"
    },
    {
     "data": {
      "image/png": "[encoded data removed]"
     },
     "metadata": {
      "jupyter-vega": "#cb942008-6c86-429a-aab3-313b76114b0c"
     },
     "output_type": "display_data"
    }
   ],
   "source": [
    "Chart(df).mark_circle().encode(\n",
    "    x='responses', y=Y('count(contest)', sort='descending')\n",
    ")"
   ]
  },
  {
   "cell_type": "code",
   "execution_count": null,
   "metadata": {
    "collapsed": true,
    "deletable": true,
    "editable": true
   },
   "outputs": [],
   "source": []
  }
 ],
 "metadata": {
  "kernelspec": {
   "display_name": "Python [default]",
   "language": "python",
   "name": "python3"
  },
  "language_info": {
   "codemirror_mode": {
    "name": "ipython",
    "version": 3
   },
   "file_extension": ".py",
   "mimetype": "text/x-python",
   "name": "python",
   "nbconvert_exporter": "python",
   "pygments_lexer": "ipython3",
   "version": "3.6.0"
  },
  "nav_menu": {},
  "notify_time": "5",
  "toc": {
   "navigate_menu": true,
   "number_sections": false,
   "sideBar": true,
   "threshold": "2",
   "toc_cell": false,
   "toc_section_display": "block",
   "toc_window_display": false
  }
 },
 "nbformat": 4,
 "nbformat_minor": 1
}
