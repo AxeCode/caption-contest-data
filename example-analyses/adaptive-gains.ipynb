{
 "cells": [
  {
   "cell_type": "markdown",
   "metadata": {},
   "source": [
    "# Adaptive gains\n",
    "This script will see how the adaptive algorithm out-preforms the passive algorithm.\n",
    "\n",
    "It does this by seeing how many rankings are considered the funniest ranking. For each caption we have a mean and a standard deviation. If the first rated caption has mean $\\mu_1$ and std.dev. of $\\sigma_1$, we want how many captions $i$ have $\\mu_i + \\sigma_i > \\mu_1 - \\sigma_1$."
   ]
  },
  {
   "cell_type": "markdown",
   "metadata": {},
   "source": [
    "### Metrics\n",
    "* Number of \"top captions\"\n",
    "* Mean/median rank of top $n$ captions (top captions from the end of the contest)"
   ]
  },
  {
   "cell_type": "markdown",
   "metadata": {
    "collapsed": true
   },
   "source": [
    "## Obtaining the data"
   ]
  },
  {
   "cell_type": "code",
   "execution_count": 1,
   "metadata": {
    "ExecuteTime": {
     "end_time": "2017-04-08T15:16:09.033594Z",
     "start_time": "2017-04-08T10:16:08.443834-05:00"
    }
   },
   "outputs": [],
   "source": [
    "import pandas as pd\n",
    "import numpy as np\n",
    "import matplotlib.pyplot as plt\n",
    "from datetime import datetime\n",
    "import utils"
   ]
  },
  {
   "cell_type": "markdown",
   "metadata": {
    "collapsed": true
   },
   "source": [
    "## Finding the mean and number of possible top captions \n",
    "Another implementation can be found in `/summary-stats/summary-stats-v2.py`."
   ]
  },
  {
   "cell_type": "code",
   "execution_count": 2,
   "metadata": {
    "ExecuteTime": {
     "end_time": "2017-04-08T15:16:10.624246Z",
     "start_time": "2017-04-08T10:16:10.617045-05:00"
    },
    "collapsed": true
   },
   "outputs": [],
   "source": [
    "def find_top_captions(df):\n",
    "    i_top_mean = np.argmax(df['score'].values)#idxmax(skipna=True)\n",
    "    top_caption = df.iloc[i_top_mean]\n",
    "    min_rating = top_caption['score'] - top_caption['precision']\n",
    "    df['upper bound'] = df['score'] + df['precision']\n",
    "    \n",
    "    return (df['upper bound'] > min_rating).sum(), top_caption['score'], top_caption['precision']"
   ]
  },
  {
   "cell_type": "code",
   "execution_count": 3,
   "metadata": {
    "ExecuteTime": {
     "end_time": "2017-04-08T15:16:11.826725Z",
     "start_time": "2017-04-08T10:16:11.816873-05:00"
    }
   },
   "outputs": [],
   "source": [
    "def iteration_stats(ratings, top_captions=None):\n",
    "    \"\"\"\n",
    "    Parameters\n",
    "    ----------\n",
    "    top_captions\n",
    "        target_ids considered \"top\" (i.e., top 10 at the end of the contest)\n",
    "    \"\"\"\n",
    "    ratings = utils.calculate_stats(ratings)\n",
    "    funny_captions, top_mean, top_prec = find_top_captions(ratings) \n",
    "    ret = {'funny_captions': funny_captions}\n",
    "    \n",
    "    if top_captions is not None:\n",
    "        ranks = []\n",
    "        for target_id in top_captions:\n",
    "            rank = ratings[ratings['target_id'] == target_id]['rank'].values\n",
    "            assert 1 <= len(rank) <= 2\n",
    "            ranks += [r for r in rank]\n",
    "        ranks = np.array(ranks)\n",
    "            \n",
    "        ret.update({'median_rank_top': np.median(ranks),\n",
    "                    'mean_rank_top': np.mean(ranks),\n",
    "                    'n_top': len(top_captions)})\n",
    "\n",
    "    return ret"
   ]
  },
  {
   "cell_type": "markdown",
   "metadata": {},
   "source": [
    "## Initializing responses\n",
    "These are the variables we will count the responses in"
   ]
  },
  {
   "cell_type": "markdown",
   "metadata": {
    "ExecuteTime": {
     "end_time": "2017-02-12T12:32:22.942753",
     "start_time": "2017-02-12T12:32:22.729373"
    }
   },
   "source": [
    "## Replaying one contest "
   ]
  },
  {
   "cell_type": "code",
   "execution_count": 4,
   "metadata": {
    "ExecuteTime": {
     "end_time": "2017-04-08T15:16:13.920302Z",
     "start_time": "2017-04-08T10:16:13.897471-05:00"
    }
   },
   "outputs": [],
   "source": [
    "import sys\n",
    "\n",
    "def replay_contest(df, verbose=True, top_captions=None, **kwargs):\n",
    "    \"\"\"\n",
    "    Replay the contest. Find and record stats at certain intervals\n",
    "    \n",
    "    Parameters\n",
    "    ----------\n",
    "    df : pd.DataFrame\n",
    "        Responses to the contest (not necessarily sorted) \n",
    "        \n",
    "    Returns\n",
    "    -------\n",
    "    performance : pd.DataFrame\n",
    "       includes fields of algorithm, responses, (possible) top captions \n",
    "       \n",
    "    \"\"\"\n",
    "    df = df.sort_values(by='timestamp_query_generated')\n",
    "    n_captions = len(df['target_id'].unique())\n",
    "    ratings = {alg: utils.init_summary(df) for alg in df['alg_label'].unique()}\n",
    "    performance = [] \n",
    "    kwargs = {}\n",
    "    \n",
    "    j = 0\n",
    "    for _, response in df.iterrows():\n",
    "        if j > 2:\n",
    "            assert last_response['timestamp_query_generated'] <= response['timestamp_query_generated']\n",
    "            \n",
    "        alg_label = response['alg_label']\n",
    "        ratings[alg_label] = utils.add_response(ratings[alg_label], response)\n",
    "        \n",
    "        n_responses = ratings[alg_label]['count'].sum()\n",
    "        if n_responses % n_captions == 0 and n_responses >= n_captions:\n",
    "            if top_captions:\n",
    "                kwargs = {'top_captions': top_captions[alg_label]}\n",
    "            stats = iteration_stats(ratings[alg_label], **kwargs)\n",
    "            datum = {'responses': n_responses,\n",
    "                     'algorithm': alg_label,\n",
    "                     'n_captions': n_captions}\n",
    "            datum.update(stats)\n",
    "            if verbose:\n",
    "                print('Number of epochs = {}, total_fraction = {}'.format(j / n_captions, j / len(df)))\n",
    "            performance += [datum]\n",
    "            \n",
    "        last_response = response\n",
    "        j += 1\n",
    "    performance = pd.DataFrame(performance)\n",
    "    return performance, ratings"
   ]
  },
  {
   "cell_type": "code",
   "execution_count": 5,
   "metadata": {
    "ExecuteTime": {
     "end_time": "2017-04-08T15:16:17.077734Z",
     "start_time": "2017-04-08T10:16:14.500005-05:00"
    },
    "collapsed": true
   },
   "outputs": [],
   "source": [
    "contest = '559-active'\n",
    "responses = utils.read_responses('{}-responses.csv.zip'.format(contest))"
   ]
  },
  {
   "cell_type": "code",
   "execution_count": 6,
   "metadata": {
    "ExecuteTime": {
     "end_time": "2017-04-08T15:16:19.535495Z",
     "start_time": "2017-04-08T10:16:17.079148-05:00"
    }
   },
   "outputs": [
    {
     "name": "stdout",
     "output_type": "stream",
     "text": [
      "{'LilUCB': [1440, 2908, 3360, 3365, 2666, 4597, 4434, 2106, 4419, 1004, 3230, 1330, 4146, 4231, 4818, 832, 3425, 226, 2904, 2503], 'KLUCB': [3855, 236, 2994, 4920, 3406, 4988, 1880, 140, 1611, 683, 2976, 603, 4986, 4910, 1707, 2478, 2128, 2270, 4648, 2076]}\n",
      "...done loading data\n"
     ]
    },
    {
     "data": {
      "text/plain": [
       "{'funny_captions': 3,\n",
       " 'mean_rank_top': 2438.7272727272725,\n",
       " 'median_rank_top': 2288.0,\n",
       " 'n_top': 20}"
      ]
     },
     "execution_count": 6,
     "metadata": {},
     "output_type": "execute_result"
    }
   ],
   "source": [
    "n_top_captions = 20\n",
    "top = {}\n",
    "for alg in responses['alg_label'].unique():\n",
    "    df = utils.summary_from_responses(responses, alg=alg)\n",
    "    target_ids = df[df['rank'] <= n_top_captions]['target_id']\n",
    "    assert len(target_ids.values) <= n_top_captions\n",
    "    top[alg] = target_ids.values.tolist()\n",
    "print(top)\n",
    "print('...done loading data')\n",
    "    \n",
    "final = utils.read_summary('559_summary_{}.csv'.format(alg))\n",
    "final = utils.add_target_ids(final, responses)\n",
    "iteration_stats(final, top_captions=top[alg])"
   ]
  },
  {
   "cell_type": "code",
   "execution_count": 7,
   "metadata": {
    "ExecuteTime": {
     "end_time": "2017-04-08T15:29:16.959502Z",
     "start_time": "2017-04-08T10:16:19.536988-05:00"
    }
   },
   "outputs": [
    {
     "name": "stdout",
     "output_type": "stream",
     "text": [
      "Number of epochs = 1.9702713487629688, total_fraction = 0.01975537346158155\n",
      "Number of epochs = 2.031923383878691, total_fraction = 0.0203735416033161\n",
      "Number of epochs = 3.9694732641660018, total_fraction = 0.0398008258246243\n",
      "Number of epochs = 4.02952913008779, total_fraction = 0.04040298961317478\n",
      "Number of epochs = 5.9351556264964085, total_fraction = 0.05951018677080166\n",
      "Number of epochs = 6.056464485235435, total_fraction = 0.06072651761279068\n",
      "Number of epochs = 7.928371907422187, total_fraction = 0.07949562280940416\n",
      "Number of epochs = 8.074820430965682, total_fraction = 0.08096402221404222\n",
      "Number of epochs = 9.929169992019155, total_fraction = 0.09955707952563098\n",
      "Number of epochs = 10.071827613727056, total_fraction = 0.10098746859145688\n",
      "Number of epochs = 11.90582601755786, total_fraction = 0.11937647039994878\n",
      "Number of epochs = 12.091580207501995, total_fraction = 0.12123897700174448\n",
      "Number of epochs = 13.91001596169194, total_fraction = 0.13947193636669175\n",
      "Number of epochs = 14.095770151636074, total_fraction = 0.14133444296848743\n",
      "Number of epochs = 15.887470071827615, total_fraction = 0.15929932941760158\n",
      "Number of epochs = 16.119313647246607, total_fraction = 0.1616239617175872\n",
      "Number of epochs = 17.885474860335197, total_fraction = 0.1793327785157563\n",
      "Number of epochs = 18.11512370311253, total_fraction = 0.18163540483011378\n",
      "Number of epochs = 19.87589784517159, total_fraction = 0.19929020693628666\n",
      "Number of epochs = 20.1207102952913, total_fraction = 0.2017448746058928\n",
      "Number of epochs = 21.85395051875499, total_fraction = 0.21912360161964053\n",
      "Number of epochs = 22.140662410215484, total_fraction = 0.22199838356032842\n",
      "Number of epochs = 23.8816839584996, total_fraction = 0.23945513179584846\n",
      "Number of epochs = 24.115323224261772, total_fraction = 0.24179776899316613\n",
      "Number of epochs = 25.875698324022345, total_fraction = 0.259448570011043\n",
      "Number of epochs = 26.125299281723862, total_fraction = 0.2619512507402013\n",
      "Number of epochs = 27.880686352753393, total_fraction = 0.279552038154378\n",
      "Number of epochs = 28.112729449321627, total_fraction = 0.2818786709985116\n",
      "Number of epochs = 29.902035115722267, total_fraction = 0.2998195509178497\n",
      "Number of epochs = 30.098363926576216, total_fraction = 0.3017880863594898\n",
      "Number of epochs = 31.871308858739027, total_fraction = 0.31956492165869116\n",
      "Number of epochs = 32.13347964884278, total_fraction = 0.322193636669174\n",
      "Number of epochs = 33.872306464485234, total_fraction = 0.339628378919066\n",
      "Number of epochs = 34.13527533918595, total_fraction = 0.34226509610614086\n",
      "Number of epochs = 35.86931364724661, total_fraction = 0.35965182529648065\n",
      "Number of epochs = 36.135474860335194, total_fraction = 0.3623205511899237\n",
      "Number of epochs = 37.88527533918595, total_fraction = 0.3798653233679561\n",
      "Number of epochs = 38.105945730247406, total_fraction = 0.3820779251956532\n",
      "Number of epochs = 39.896049481245015, total_fraction = 0.4000268072915833\n",
      "Number of epochs = 40.09656823623304, total_fraction = 0.4020373541603316\n",
      "Number of epochs = 41.87609736632083, total_fraction = 0.41988020741641724\n",
      "Number of epochs = 42.115722266560255, total_fraction = 0.4222828609381752\n",
      "Number of epochs = 43.87968874700718, total_fraction = 0.4399696717507162\n",
      "Number of epochs = 44.12470071827614, total_fraction = 0.44242633996447034\n",
      "Number of epochs = 45.85814046288907, total_fraction = 0.4598070675223661\n",
      "Number of epochs = 46.142657621707905, total_fraction = 0.46265984347742584\n",
      "Number of epochs = 47.841580207502, total_fraction = 0.47969447689771616\n",
      "Number of epochs = 48.16320830007981, total_fraction = 0.4829193540643055\n",
      "Number of epochs = 49.83339984038308, total_fraction = 0.49966590912728265\n",
      "Number of epochs = 50.16300877893057, total_fraction = 0.5029708080597922\n",
      "Number of epochs = 51.810654429369514, total_fraction = 0.5194913016340444\n",
      "Number of epochs = 52.17757382282522, total_fraction = 0.5231703023222316\n",
      "Number of epochs = 53.83958499600958, total_fraction = 0.5398348350751404\n",
      "Number of epochs = 54.16300877893057, total_fraction = 0.5430777171390618\n",
      "Number of epochs = 55.83978451715882, total_fraction = 0.5598902901589232\n",
      "Number of epochs = 56.15323224261772, total_fraction = 0.5630331450154442\n",
      "Number of epochs = 57.86472466081405, total_fraction = 0.580193812717059\n",
      "Number of epochs = 58.12709497206704, total_fraction = 0.5828245282716898\n",
      "Number of epochs = 59.86073423782921, total_fraction = 0.6002072563737336\n",
      "Number of epochs = 60.14784517158819, total_fraction = 0.6030860394027175\n",
      "Number of epochs = 61.81025538707103, total_fraction = 0.6197545732439224\n",
      "Number of epochs = 62.19034317637669, total_fraction = 0.623565609845878\n",
      "Number of epochs = 63.80706304868316, total_fraction = 0.639776019077189\n",
      "Number of epochs = 64.18156424581005, total_fraction = 0.6435310404430005\n",
      "Number of epochs = 65.85095770151636, total_fraction = 0.6602695933293856\n",
      "Number of epochs = 66.13747007182761, total_fraction = 0.6631423747259254\n",
      "Number of epochs = 67.86711891460494, total_fraction = 0.6804850919450091\n",
      "Number of epochs = 68.12529928172387, total_fraction = 0.6830737960725317\n",
      "Number of epochs = 69.88567438148444, total_fraction = 0.7007245970904086\n",
      "Number of epochs = 70.11891460494813, total_fraction = 0.7030632331994302\n",
      "Number of epochs = 71.83659217877096, total_fraction = 0.7202859177696334\n",
      "Number of epochs = 72.16500399042299, total_fraction = 0.7235788134372549\n",
      "Number of epochs = 73.816839584996, total_fraction = 0.7401413184386153\n",
      "Number of epochs = 74.17996807661612, total_fraction = 0.7437823087879903\n",
      "Number of epochs = 75.81903431763767, total_fraction = 0.7602167789638782\n",
      "Number of epochs = 76.19493216280925, total_fraction = 0.7639858041387257\n",
      "Number of epochs = 77.83559457302474, total_fraction = 0.7804362786677976\n",
      "Number of epochs = 78.15722266560256, total_fraction = 0.783661155834387\n",
      "Number of epochs = 79.85594573024741, total_fraction = 0.8006937887105293\n",
      "Number of epochs = 80.1464485235435, total_fraction = 0.8036065809900292\n",
      "Number of epochs = 81.86771747805267, total_fraction = 0.8208652753548965\n",
      "Number of epochs = 82.12809257781325, total_fraction = 0.8234759854680473\n",
      "Number of epochs = 83.83958499600958, total_fraction = 0.8406366531696622\n",
      "Number of epochs = 84.15482841181165, total_fraction = 0.8437975129235152\n",
      "Number of epochs = 85.84616919393456, total_fraction = 0.8607561256661812\n",
      "Number of epochs = 86.14684756584198, total_fraction = 0.8637709456972297\n",
      "Number of epochs = 87.8244213886672, total_fraction = 0.8805915208936831\n",
      "Number of epochs = 88.18794892258579, total_fraction = 0.8842365123313541\n",
      "Number of epochs = 89.80985634477254, total_fraction = 0.9004989357105132\n",
      "Number of epochs = 90.19932162809258, total_fraction = 0.9044039978874254\n",
      "Number of epochs = 91.77972865123704, total_fraction = 0.9202503080837988\n",
      "Number of epochs = 92.22905027932961, total_fraction = 0.9247555335051134\n",
      "Number of epochs = 93.7571827613727, total_fraction = 0.9400777011347087\n",
      "Number of epochs = 94.2366320830008, total_fraction = 0.9448850087223725\n",
      "Number of epochs = 95.7571827613727, total_fraction = 0.9601311556743434\n",
      "Number of epochs = 96.24521149241819, total_fraction = 0.9650244866603717\n",
      "Number of epochs = 97.76596169193934, total_fraction = 0.9802726341564906\n",
      "Number of epochs = 98.2294493216281, total_fraction = 0.9849198982123137\n"
     ]
    }
   ],
   "source": [
    "kwargs = {'top_captions': top}\n",
    "stats, summary = replay_contest(responses, **kwargs)\n",
    "stats['contest'] = contest"
   ]
  },
  {
   "cell_type": "code",
   "execution_count": 8,
   "metadata": {
    "ExecuteTime": {
     "end_time": "2017-04-08T15:29:16.973763Z",
     "start_time": "2017-04-08T10:29:16.960929-05:00"
    },
    "scrolled": true
   },
   "outputs": [
    {
     "data": {
      "text/html": [
       "<div>\n",
       "<table border=\"1\" class=\"dataframe\">\n",
       "  <thead>\n",
       "    <tr style=\"text-align: right;\">\n",
       "      <th></th>\n",
       "      <th>algorithm</th>\n",
       "      <th>funny_captions</th>\n",
       "      <th>mean_rank_top</th>\n",
       "      <th>median_rank_top</th>\n",
       "      <th>n_captions</th>\n",
       "      <th>n_top</th>\n",
       "      <th>responses</th>\n",
       "      <th>contest</th>\n",
       "    </tr>\n",
       "  </thead>\n",
       "  <tbody>\n",
       "    <tr>\n",
       "      <th>0</th>\n",
       "      <td>KLUCB</td>\n",
       "      <td>0</td>\n",
       "      <td>2569.00</td>\n",
       "      <td>2350.0</td>\n",
       "      <td>5012</td>\n",
       "      <td>20</td>\n",
       "      <td>5012.0</td>\n",
       "      <td>559-active</td>\n",
       "    </tr>\n",
       "    <tr>\n",
       "      <th>1</th>\n",
       "      <td>LilUCB</td>\n",
       "      <td>0</td>\n",
       "      <td>3278.50</td>\n",
       "      <td>3445.5</td>\n",
       "      <td>5012</td>\n",
       "      <td>20</td>\n",
       "      <td>5012.0</td>\n",
       "      <td>559-active</td>\n",
       "    </tr>\n",
       "    <tr>\n",
       "      <th>2</th>\n",
       "      <td>KLUCB</td>\n",
       "      <td>5012</td>\n",
       "      <td>2497.20</td>\n",
       "      <td>2217.0</td>\n",
       "      <td>5012</td>\n",
       "      <td>20</td>\n",
       "      <td>10024.0</td>\n",
       "      <td>559-active</td>\n",
       "    </tr>\n",
       "    <tr>\n",
       "      <th>3</th>\n",
       "      <td>LilUCB</td>\n",
       "      <td>5012</td>\n",
       "      <td>2921.35</td>\n",
       "      <td>3095.5</td>\n",
       "      <td>5012</td>\n",
       "      <td>20</td>\n",
       "      <td>10024.0</td>\n",
       "      <td>559-active</td>\n",
       "    </tr>\n",
       "    <tr>\n",
       "      <th>4</th>\n",
       "      <td>KLUCB</td>\n",
       "      <td>1776</td>\n",
       "      <td>2241.15</td>\n",
       "      <td>2579.5</td>\n",
       "      <td>5012</td>\n",
       "      <td>20</td>\n",
       "      <td>15036.0</td>\n",
       "      <td>559-active</td>\n",
       "    </tr>\n",
       "  </tbody>\n",
       "</table>\n",
       "</div>"
      ],
      "text/plain": [
       "  algorithm  funny_captions  mean_rank_top  median_rank_top  n_captions  \\\n",
       "0     KLUCB               0        2569.00           2350.0        5012   \n",
       "1    LilUCB               0        3278.50           3445.5        5012   \n",
       "2     KLUCB            5012        2497.20           2217.0        5012   \n",
       "3    LilUCB            5012        2921.35           3095.5        5012   \n",
       "4     KLUCB            1776        2241.15           2579.5        5012   \n",
       "\n",
       "   n_top  responses     contest  \n",
       "0     20     5012.0  559-active  \n",
       "1     20     5012.0  559-active  \n",
       "2     20    10024.0  559-active  \n",
       "3     20    10024.0  559-active  \n",
       "4     20    15036.0  559-active  "
      ]
     },
     "execution_count": 8,
     "metadata": {},
     "output_type": "execute_result"
    }
   ],
   "source": [
    "stats.head()"
   ]
  },
  {
   "cell_type": "markdown",
   "metadata": {},
   "source": [
    "## Visualization\n",
    "This means that LilUCB saw ~10 captions that could be the funniest, and RoundRobin saw ~50 captions that could be the funniest. \n",
    "\n",
    "This visualization tries to normalize for different number of captions received in each contest by\n",
    "\n",
    "* plotting for \"epochs\", or `epochs = questions_received_for_alg / total_captions`. \n",
    "* plotting the score as the percentage of \"winning\" captions.\n",
    "* \"winning captions\" is defined to be number of captions that fall who has a mean within one std.dev of top caption. "
   ]
  },
  {
   "cell_type": "code",
   "execution_count": 9,
   "metadata": {
    "ExecuteTime": {
     "end_time": "2017-04-08T15:29:17.052152Z",
     "start_time": "2017-04-08T10:29:16.975085-05:00"
    }
   },
   "outputs": [
    {
     "data": {
      "text/html": [
       "<div class=\"vega-embed\" id=\"4d387aae-46ee-4405-bc2c-f9647313780e\"></div>\n",
       "\n",
       "<style>\n",
       ".vega-embed svg, .vega-embed canvas {\n",
       "  border: 1px dotted gray;\n",
       "}\n",
       "\n",
       ".vega-embed .vega-actions a {\n",
       "  margin-right: 6px;\n",
       "}\n",
       "</style>\n"
      ]
     },
     "metadata": {
      "jupyter-vega": "#4d387aae-46ee-4405-bc2c-f9647313780e"
     },
     "output_type": "display_data"
    },
    {
     "data": {
      "application/javascript": [
       "var spec = {\"config\": {\"cell\": {\"width\": 500, \"height\": 350}}, \"encoding\": {\"color\": {\"field\": \"algorithm\", \"type\": \"nominal\"}, \"x\": {\"field\": \"responses\", \"scale\": {\"type\": \"linear\"}, \"type\": \"quantitative\"}, \"y\": {\"field\": \"funny_captions\", \"scale\": {\"type\": \"log\"}, \"type\": \"quantitative\"}}, \"mark\": \"line\", \"data\": {\"values\": [{\"algorithm\": \"KLUCB\", \"funny_captions\": 0, \"mean_rank_top\": 2569.0, \"median_rank_top\": 2350.0, \"n_captions\": 5012, \"n_top\": 20, \"responses\": 5012.0, \"contest\": \"559-active\"}, {\"algorithm\": \"LilUCB\", \"funny_captions\": 0, \"mean_rank_top\": 3278.5, \"median_rank_top\": 3445.5, \"n_captions\": 5012, \"n_top\": 20, \"responses\": 5012.0, \"contest\": \"559-active\"}, {\"algorithm\": \"KLUCB\", \"funny_captions\": 5012, \"mean_rank_top\": 2497.2, \"median_rank_top\": 2217.0, \"n_captions\": 5012, \"n_top\": 20, \"responses\": 10024.0, \"contest\": \"559-active\"}, {\"algorithm\": \"LilUCB\", \"funny_captions\": 5012, \"mean_rank_top\": 2921.35, \"median_rank_top\": 3095.5, \"n_captions\": 5012, \"n_top\": 20, \"responses\": 10024.0, \"contest\": \"559-active\"}, {\"algorithm\": \"KLUCB\", \"funny_captions\": 1776, \"mean_rank_top\": 2241.15, \"median_rank_top\": 2579.5, \"n_captions\": 5012, \"n_top\": 20, \"responses\": 15036.0, \"contest\": \"559-active\"}, {\"algorithm\": \"LilUCB\", \"funny_captions\": 1392, \"mean_rank_top\": 2502.1, \"median_rank_top\": 3186.0, \"n_captions\": 5012, \"n_top\": 20, \"responses\": 15036.0, \"contest\": \"559-active\"}, {\"algorithm\": \"KLUCB\", \"funny_captions\": 244, \"mean_rank_top\": 2070.55, \"median_rank_top\": 2391.0, \"n_captions\": 5012, \"n_top\": 20, \"responses\": 20048.0, \"contest\": \"559-active\"}, {\"algorithm\": \"LilUCB\", \"funny_captions\": 306, \"mean_rank_top\": 2419.75, \"median_rank_top\": 3066.0, \"n_captions\": 5012, \"n_top\": 20, \"responses\": 20048.0, \"contest\": \"559-active\"}, {\"algorithm\": \"KLUCB\", \"funny_captions\": 95, \"mean_rank_top\": 2137.9, \"median_rank_top\": 2427.5, \"n_captions\": 5012, \"n_top\": 20, \"responses\": 25060.0, \"contest\": \"559-active\"}, {\"algorithm\": \"LilUCB\", \"funny_captions\": 155, \"mean_rank_top\": 2135.7, \"median_rank_top\": 1556.5, \"n_captions\": 5012, \"n_top\": 20, \"responses\": 25060.0, \"contest\": \"559-active\"}, {\"algorithm\": \"KLUCB\", \"funny_captions\": 62, \"mean_rank_top\": 2226.25, \"median_rank_top\": 2592.0, \"n_captions\": 5012, \"n_top\": 20, \"responses\": 30072.0, \"contest\": \"559-active\"}, {\"algorithm\": \"LilUCB\", \"funny_captions\": 127, \"mean_rank_top\": 1956.75, \"median_rank_top\": 1420.5, \"n_captions\": 5012, \"n_top\": 20, \"responses\": 30072.0, \"contest\": \"559-active\"}, {\"algorithm\": \"KLUCB\", \"funny_captions\": 76, \"mean_rank_top\": 2132.15, \"median_rank_top\": 1496.5, \"n_captions\": 5012, \"n_top\": 20, \"responses\": 35084.0, \"contest\": \"559-active\"}, {\"algorithm\": \"LilUCB\", \"funny_captions\": 125, \"mean_rank_top\": 1931.45, \"median_rank_top\": 1419.0, \"n_captions\": 5012, \"n_top\": 20, \"responses\": 35084.0, \"contest\": \"559-active\"}, {\"algorithm\": \"KLUCB\", \"funny_captions\": 32, \"mean_rank_top\": 2127.05, \"median_rank_top\": 1364.5, \"n_captions\": 5012, \"n_top\": 20, \"responses\": 40096.0, \"contest\": \"559-active\"}, {\"algorithm\": \"LilUCB\", \"funny_captions\": 122, \"mean_rank_top\": 2023.05, \"median_rank_top\": 1603.5, \"n_captions\": 5012, \"n_top\": 20, \"responses\": 40096.0, \"contest\": \"559-active\"}, {\"algorithm\": \"KLUCB\", \"funny_captions\": 26, \"mean_rank_top\": 2128.85, \"median_rank_top\": 1498.5, \"n_captions\": 5012, \"n_top\": 20, \"responses\": 45108.0, \"contest\": \"559-active\"}, {\"algorithm\": \"LilUCB\", \"funny_captions\": 100, \"mean_rank_top\": 2058.5, \"median_rank_top\": 1775.5, \"n_captions\": 5012, \"n_top\": 20, \"responses\": 45108.0, \"contest\": \"559-active\"}, {\"algorithm\": \"KLUCB\", \"funny_captions\": 20, \"mean_rank_top\": 1972.95, \"median_rank_top\": 1634.0, \"n_captions\": 5012, \"n_top\": 20, \"responses\": 50120.0, \"contest\": \"559-active\"}, {\"algorithm\": \"LilUCB\", \"funny_captions\": 175, \"mean_rank_top\": 2231.2, \"median_rank_top\": 2020.5, \"n_captions\": 5012, \"n_top\": 20, \"responses\": 50120.0, \"contest\": \"559-active\"}, {\"algorithm\": \"KLUCB\", \"funny_captions\": 30, \"mean_rank_top\": 1914.15, \"median_rank_top\": 1722.5, \"n_captions\": 5012, \"n_top\": 20, \"responses\": 55132.0, \"contest\": \"559-active\"}, {\"algorithm\": \"LilUCB\", \"funny_captions\": 117, \"mean_rank_top\": 2255.1, \"median_rank_top\": 2406.0, \"n_captions\": 5012, \"n_top\": 20, \"responses\": 55132.0, \"contest\": \"559-active\"}, {\"algorithm\": \"KLUCB\", \"funny_captions\": 16, \"mean_rank_top\": 1856.8, \"median_rank_top\": 1742.5, \"n_captions\": 5012, \"n_top\": 20, \"responses\": 60144.0, \"contest\": \"559-active\"}, {\"algorithm\": \"LilUCB\", \"funny_captions\": 142, \"mean_rank_top\": 2166.25, \"median_rank_top\": 2443.5, \"n_captions\": 5012, \"n_top\": 20, \"responses\": 60144.0, \"contest\": \"559-active\"}, {\"algorithm\": \"KLUCB\", \"funny_captions\": 9, \"mean_rank_top\": 1945.4, \"median_rank_top\": 1829.0, \"n_captions\": 5012, \"n_top\": 20, \"responses\": 65156.0, \"contest\": \"559-active\"}, {\"algorithm\": \"LilUCB\", \"funny_captions\": 143, \"mean_rank_top\": 2231.8, \"median_rank_top\": 1975.0, \"n_captions\": 5012, \"n_top\": 20, \"responses\": 65156.0, \"contest\": \"559-active\"}, {\"algorithm\": \"KLUCB\", \"funny_captions\": 10, \"mean_rank_top\": 1967.1, \"median_rank_top\": 1957.0, \"n_captions\": 5012, \"n_top\": 20, \"responses\": 70168.0, \"contest\": \"559-active\"}, {\"algorithm\": \"LilUCB\", \"funny_captions\": 102, \"mean_rank_top\": 2258.55, \"median_rank_top\": 2370.0, \"n_captions\": 5012, \"n_top\": 20, \"responses\": 70168.0, \"contest\": \"559-active\"}, {\"algorithm\": \"KLUCB\", \"funny_captions\": 8, \"mean_rank_top\": 1988.45, \"median_rank_top\": 1962.0, \"n_captions\": 5012, \"n_top\": 20, \"responses\": 75180.0, \"contest\": \"559-active\"}, {\"algorithm\": \"LilUCB\", \"funny_captions\": 62, \"mean_rank_top\": 2298.95, \"median_rank_top\": 2281.5, \"n_captions\": 5012, \"n_top\": 20, \"responses\": 75180.0, \"contest\": \"559-active\"}, {\"algorithm\": \"KLUCB\", \"funny_captions\": 7, \"mean_rank_top\": 2052.05, \"median_rank_top\": 2017.0, \"n_captions\": 5012, \"n_top\": 20, \"responses\": 80192.0, \"contest\": \"559-active\"}, {\"algorithm\": \"LilUCB\", \"funny_captions\": 66, \"mean_rank_top\": 2338.85, \"median_rank_top\": 2378.5, \"n_captions\": 5012, \"n_top\": 20, \"responses\": 80192.0, \"contest\": \"559-active\"}, {\"algorithm\": \"KLUCB\", \"funny_captions\": 7, \"mean_rank_top\": 2044.95, \"median_rank_top\": 2159.0, \"n_captions\": 5012, \"n_top\": 20, \"responses\": 85204.0, \"contest\": \"559-active\"}, {\"algorithm\": \"LilUCB\", \"funny_captions\": 125, \"mean_rank_top\": 2310.35, \"median_rank_top\": 2617.5, \"n_captions\": 5012, \"n_top\": 20, \"responses\": 85204.0, \"contest\": \"559-active\"}, {\"algorithm\": \"KLUCB\", \"funny_captions\": 8, \"mean_rank_top\": 2076.5, \"median_rank_top\": 2126.0, \"n_captions\": 5012, \"n_top\": 20, \"responses\": 90216.0, \"contest\": \"559-active\"}, {\"algorithm\": \"LilUCB\", \"funny_captions\": 99, \"mean_rank_top\": 2314.45, \"median_rank_top\": 2692.5, \"n_captions\": 5012, \"n_top\": 20, \"responses\": 90216.0, \"contest\": \"559-active\"}, {\"algorithm\": \"KLUCB\", \"funny_captions\": 9, \"mean_rank_top\": 2059.65, \"median_rank_top\": 2130.5, \"n_captions\": 5012, \"n_top\": 20, \"responses\": 95228.0, \"contest\": \"559-active\"}, {\"algorithm\": \"LilUCB\", \"funny_captions\": 49, \"mean_rank_top\": 2448.05, \"median_rank_top\": 3125.0, \"n_captions\": 5012, \"n_top\": 20, \"responses\": 95228.0, \"contest\": \"559-active\"}, {\"algorithm\": \"KLUCB\", \"funny_captions\": 12, \"mean_rank_top\": 2132.65, \"median_rank_top\": 2116.5, \"n_captions\": 5012, \"n_top\": 20, \"responses\": 100240.0, \"contest\": \"559-active\"}, {\"algorithm\": \"LilUCB\", \"funny_captions\": 65, \"mean_rank_top\": 2487.35, \"median_rank_top\": 3181.0, \"n_captions\": 5012, \"n_top\": 20, \"responses\": 100240.0, \"contest\": \"559-active\"}, {\"algorithm\": \"KLUCB\", \"funny_captions\": 3, \"mean_rank_top\": 2274.7, \"median_rank_top\": 2173.0, \"n_captions\": 5012, \"n_top\": 20, \"responses\": 105252.0, \"contest\": \"559-active\"}, {\"algorithm\": \"LilUCB\", \"funny_captions\": 37, \"mean_rank_top\": 2315.5, \"median_rank_top\": 2810.5, \"n_captions\": 5012, \"n_top\": 20, \"responses\": 105252.0, \"contest\": \"559-active\"}, {\"algorithm\": \"KLUCB\", \"funny_captions\": 3, \"mean_rank_top\": 2244.55, \"median_rank_top\": 2260.5, \"n_captions\": 5012, \"n_top\": 20, \"responses\": 110264.0, \"contest\": \"559-active\"}, {\"algorithm\": \"LilUCB\", \"funny_captions\": 39, \"mean_rank_top\": 2344.75, \"median_rank_top\": 2723.5, \"n_captions\": 5012, \"n_top\": 20, \"responses\": 110264.0, \"contest\": \"559-active\"}, {\"algorithm\": \"KLUCB\", \"funny_captions\": 5, \"mean_rank_top\": 2358.15, \"median_rank_top\": 2320.0, \"n_captions\": 5012, \"n_top\": 20, \"responses\": 115276.0, \"contest\": \"559-active\"}, {\"algorithm\": \"LilUCB\", \"funny_captions\": 65, \"mean_rank_top\": 2375.25, \"median_rank_top\": 2784.5, \"n_captions\": 5012, \"n_top\": 20, \"responses\": 115276.0, \"contest\": \"559-active\"}, {\"algorithm\": \"KLUCB\", \"funny_captions\": 5, \"mean_rank_top\": 2335.9, \"median_rank_top\": 2335.5, \"n_captions\": 5012, \"n_top\": 20, \"responses\": 120288.0, \"contest\": \"559-active\"}, {\"algorithm\": \"LilUCB\", \"funny_captions\": 49, \"mean_rank_top\": 2372.3, \"median_rank_top\": 2772.0, \"n_captions\": 5012, \"n_top\": 20, \"responses\": 120288.0, \"contest\": \"559-active\"}, {\"algorithm\": \"KLUCB\", \"funny_captions\": 6, \"mean_rank_top\": 2326.15, \"median_rank_top\": 2492.0, \"n_captions\": 5012, \"n_top\": 20, \"responses\": 125300.0, \"contest\": \"559-active\"}, {\"algorithm\": \"LilUCB\", \"funny_captions\": 52, \"mean_rank_top\": 2360.4, \"median_rank_top\": 2737.5, \"n_captions\": 5012, \"n_top\": 20, \"responses\": 125300.0, \"contest\": \"559-active\"}, {\"algorithm\": \"KLUCB\", \"funny_captions\": 9, \"mean_rank_top\": 2413.4, \"median_rank_top\": 2401.0, \"n_captions\": 5012, \"n_top\": 20, \"responses\": 130312.0, \"contest\": \"559-active\"}, {\"algorithm\": \"LilUCB\", \"funny_captions\": 51, \"mean_rank_top\": 2338.55, \"median_rank_top\": 2739.0, \"n_captions\": 5012, \"n_top\": 20, \"responses\": 130312.0, \"contest\": \"559-active\"}, {\"algorithm\": \"KLUCB\", \"funny_captions\": 2, \"mean_rank_top\": 2521.4, \"median_rank_top\": 2575.5, \"n_captions\": 5012, \"n_top\": 20, \"responses\": 135324.0, \"contest\": \"559-active\"}, {\"algorithm\": \"LilUCB\", \"funny_captions\": 42, \"mean_rank_top\": 2327.85, \"median_rank_top\": 2519.0, \"n_captions\": 5012, \"n_top\": 20, \"responses\": 135324.0, \"contest\": \"559-active\"}, {\"algorithm\": \"KLUCB\", \"funny_captions\": 2, \"mean_rank_top\": 2514.4, \"median_rank_top\": 2574.0, \"n_captions\": 5012, \"n_top\": 20, \"responses\": 140336.0, \"contest\": \"559-active\"}, {\"algorithm\": \"LilUCB\", \"funny_captions\": 40, \"mean_rank_top\": 2367.0, \"median_rank_top\": 2624.0, \"n_captions\": 5012, \"n_top\": 20, \"responses\": 140336.0, \"contest\": \"559-active\"}, {\"algorithm\": \"KLUCB\", \"funny_captions\": 3, \"mean_rank_top\": 2481.8, \"median_rank_top\": 2723.5, \"n_captions\": 5012, \"n_top\": 20, \"responses\": 145348.0, \"contest\": \"559-active\"}, {\"algorithm\": \"LilUCB\", \"funny_captions\": 42, \"mean_rank_top\": 2353.75, \"median_rank_top\": 2706.5, \"n_captions\": 5012, \"n_top\": 20, \"responses\": 145348.0, \"contest\": \"559-active\"}, {\"algorithm\": \"KLUCB\", \"funny_captions\": 3, \"mean_rank_top\": 2549.75, \"median_rank_top\": 2725.5, \"n_captions\": 5012, \"n_top\": 20, \"responses\": 150360.0, \"contest\": \"559-active\"}, {\"algorithm\": \"LilUCB\", \"funny_captions\": 16, \"mean_rank_top\": 2288.6, \"median_rank_top\": 2334.5, \"n_captions\": 5012, \"n_top\": 20, \"responses\": 150360.0, \"contest\": \"559-active\"}, {\"algorithm\": \"KLUCB\", \"funny_captions\": 4, \"mean_rank_top\": 2551.55, \"median_rank_top\": 2753.0, \"n_captions\": 5012, \"n_top\": 20, \"responses\": 155372.0, \"contest\": \"559-active\"}, {\"algorithm\": \"LilUCB\", \"funny_captions\": 9, \"mean_rank_top\": 2318.1, \"median_rank_top\": 2342.5, \"n_captions\": 5012, \"n_top\": 20, \"responses\": 155372.0, \"contest\": \"559-active\"}, {\"algorithm\": \"KLUCB\", \"funny_captions\": 5, \"mean_rank_top\": 2515.05, \"median_rank_top\": 2745.5, \"n_captions\": 5012, \"n_top\": 20, \"responses\": 160384.0, \"contest\": \"559-active\"}, {\"algorithm\": \"LilUCB\", \"funny_captions\": 9, \"mean_rank_top\": 2284.65, \"median_rank_top\": 2289.0, \"n_captions\": 5012, \"n_top\": 20, \"responses\": 160384.0, \"contest\": \"559-active\"}, {\"algorithm\": \"KLUCB\", \"funny_captions\": 3, \"mean_rank_top\": 2530.05, \"median_rank_top\": 2762.5, \"n_captions\": 5012, \"n_top\": 20, \"responses\": 165396.0, \"contest\": \"559-active\"}, {\"algorithm\": \"LilUCB\", \"funny_captions\": 11, \"mean_rank_top\": 2282.6, \"median_rank_top\": 2360.5, \"n_captions\": 5012, \"n_top\": 20, \"responses\": 165396.0, \"contest\": \"559-active\"}, {\"algorithm\": \"KLUCB\", \"funny_captions\": 2, \"mean_rank_top\": 2522.35, \"median_rank_top\": 2670.0, \"n_captions\": 5012, \"n_top\": 20, \"responses\": 170408.0, \"contest\": \"559-active\"}, {\"algorithm\": \"LilUCB\", \"funny_captions\": 13, \"mean_rank_top\": 2225.25, \"median_rank_top\": 2384.0, \"n_captions\": 5012, \"n_top\": 20, \"responses\": 170408.0, \"contest\": \"559-active\"}, {\"algorithm\": \"KLUCB\", \"funny_captions\": 3, \"mean_rank_top\": 2477.5, \"median_rank_top\": 2277.5, \"n_captions\": 5012, \"n_top\": 20, \"responses\": 175420.0, \"contest\": \"559-active\"}, {\"algorithm\": \"LilUCB\", \"funny_captions\": 12, \"mean_rank_top\": 2151.9, \"median_rank_top\": 2099.0, \"n_captions\": 5012, \"n_top\": 20, \"responses\": 175420.0, \"contest\": \"559-active\"}, {\"algorithm\": \"KLUCB\", \"funny_captions\": 1, \"mean_rank_top\": 2524.05, \"median_rank_top\": 2314.5, \"n_captions\": 5012, \"n_top\": 20, \"responses\": 180432.0, \"contest\": \"559-active\"}, {\"algorithm\": \"LilUCB\", \"funny_captions\": 13, \"mean_rank_top\": 2222.1, \"median_rank_top\": 2158.5, \"n_captions\": 5012, \"n_top\": 20, \"responses\": 180432.0, \"contest\": \"559-active\"}, {\"algorithm\": \"KLUCB\", \"funny_captions\": 3, \"mean_rank_top\": 2556.05, \"median_rank_top\": 2448.0, \"n_captions\": 5012, \"n_top\": 20, \"responses\": 185444.0, \"contest\": \"559-active\"}, {\"algorithm\": \"LilUCB\", \"funny_captions\": 15, \"mean_rank_top\": 2230.55, \"median_rank_top\": 2147.5, \"n_captions\": 5012, \"n_top\": 20, \"responses\": 185444.0, \"contest\": \"559-active\"}, {\"algorithm\": \"KLUCB\", \"funny_captions\": 2, \"mean_rank_top\": 2523.4, \"median_rank_top\": 2445.0, \"n_captions\": 5012, \"n_top\": 20, \"responses\": 190456.0, \"contest\": \"559-active\"}, {\"algorithm\": \"LilUCB\", \"funny_captions\": 14, \"mean_rank_top\": 2257.55, \"median_rank_top\": 2295.0, \"n_captions\": 5012, \"n_top\": 20, \"responses\": 190456.0, \"contest\": \"559-active\"}, {\"algorithm\": \"KLUCB\", \"funny_captions\": 2, \"mean_rank_top\": 2510.15, \"median_rank_top\": 2372.5, \"n_captions\": 5012, \"n_top\": 20, \"responses\": 195468.0, \"contest\": \"559-active\"}, {\"algorithm\": \"LilUCB\", \"funny_captions\": 12, \"mean_rank_top\": 2234.6, \"median_rank_top\": 2213.0, \"n_captions\": 5012, \"n_top\": 20, \"responses\": 195468.0, \"contest\": \"559-active\"}, {\"algorithm\": \"KLUCB\", \"funny_captions\": 2, \"mean_rank_top\": 2497.7, \"median_rank_top\": 2319.5, \"n_captions\": 5012, \"n_top\": 20, \"responses\": 200480.0, \"contest\": \"559-active\"}, {\"algorithm\": \"LilUCB\", \"funny_captions\": 2, \"mean_rank_top\": 2225.35, \"median_rank_top\": 2194.5, \"n_captions\": 5012, \"n_top\": 20, \"responses\": 200480.0, \"contest\": \"559-active\"}, {\"algorithm\": \"KLUCB\", \"funny_captions\": 12, \"mean_rank_top\": 2498.5, \"median_rank_top\": 2381.0, \"n_captions\": 5012, \"n_top\": 20, \"responses\": 205492.0, \"contest\": \"559-active\"}, {\"algorithm\": \"LilUCB\", \"funny_captions\": 2, \"mean_rank_top\": 2238.65, \"median_rank_top\": 2122.0, \"n_captions\": 5012, \"n_top\": 20, \"responses\": 205492.0, \"contest\": \"559-active\"}, {\"algorithm\": \"KLUCB\", \"funny_captions\": 9, \"mean_rank_top\": 2508.2, \"median_rank_top\": 2386.5, \"n_captions\": 5012, \"n_top\": 20, \"responses\": 210504.0, \"contest\": \"559-active\"}, {\"algorithm\": \"LilUCB\", \"funny_captions\": 3, \"mean_rank_top\": 2248.25, \"median_rank_top\": 2207.5, \"n_captions\": 5012, \"n_top\": 20, \"responses\": 210504.0, \"contest\": \"559-active\"}, {\"algorithm\": \"KLUCB\", \"funny_captions\": 8, \"mean_rank_top\": 2510.95, \"median_rank_top\": 2445.5, \"n_captions\": 5012, \"n_top\": 20, \"responses\": 215516.0, \"contest\": \"559-active\"}, {\"algorithm\": \"LilUCB\", \"funny_captions\": 2, \"mean_rank_top\": 2248.25, \"median_rank_top\": 2313.5, \"n_captions\": 5012, \"n_top\": 20, \"responses\": 215516.0, \"contest\": \"559-active\"}, {\"algorithm\": \"KLUCB\", \"funny_captions\": 5, \"mean_rank_top\": 2614.15, \"median_rank_top\": 2525.5, \"n_captions\": 5012, \"n_top\": 20, \"responses\": 220528.0, \"contest\": \"559-active\"}, {\"algorithm\": \"LilUCB\", \"funny_captions\": 2, \"mean_rank_top\": 2188.5, \"median_rank_top\": 2157.0, \"n_captions\": 5012, \"n_top\": 20, \"responses\": 220528.0, \"contest\": \"559-active\"}, {\"algorithm\": \"KLUCB\", \"funny_captions\": 5, \"mean_rank_top\": 2614.7, \"median_rank_top\": 2487.0, \"n_captions\": 5012, \"n_top\": 20, \"responses\": 225540.0, \"contest\": \"559-active\"}, {\"algorithm\": \"LilUCB\", \"funny_captions\": 2, \"mean_rank_top\": 2219.55, \"median_rank_top\": 2286.0, \"n_captions\": 5012, \"n_top\": 20, \"responses\": 225540.0, \"contest\": \"559-active\"}, {\"algorithm\": \"KLUCB\", \"funny_captions\": 5, \"mean_rank_top\": 2549.0, \"median_rank_top\": 2463.0, \"n_captions\": 5012, \"n_top\": 20, \"responses\": 230552.0, \"contest\": \"559-active\"}, {\"algorithm\": \"LilUCB\", \"funny_captions\": 2, \"mean_rank_top\": 2256.4, \"median_rank_top\": 2320.0, \"n_captions\": 5012, \"n_top\": 20, \"responses\": 230552.0, \"contest\": \"559-active\"}, {\"algorithm\": \"KLUCB\", \"funny_captions\": 3, \"mean_rank_top\": 2576.4, \"median_rank_top\": 2458.0, \"n_captions\": 5012, \"n_top\": 20, \"responses\": 235564.0, \"contest\": \"559-active\"}, {\"algorithm\": \"LilUCB\", \"funny_captions\": 2, \"mean_rank_top\": 2223.15, \"median_rank_top\": 2457.0, \"n_captions\": 5012, \"n_top\": 20, \"responses\": 235564.0, \"contest\": \"559-active\"}, {\"algorithm\": \"KLUCB\", \"funny_captions\": 4, \"mean_rank_top\": 2570.45, \"median_rank_top\": 2460.0, \"n_captions\": 5012, \"n_top\": 20, \"responses\": 240576.0, \"contest\": \"559-active\"}, {\"algorithm\": \"LilUCB\", \"funny_captions\": 3, \"mean_rank_top\": 2238.25, \"median_rank_top\": 2496.0, \"n_captions\": 5012, \"n_top\": 20, \"responses\": 240576.0, \"contest\": \"559-active\"}, {\"algorithm\": \"KLUCB\", \"funny_captions\": 2, \"mean_rank_top\": 2580.6, \"median_rank_top\": 2513.0, \"n_captions\": 5012, \"n_top\": 20, \"responses\": 245588.0, \"contest\": \"559-active\"}, {\"algorithm\": \"LilUCB\", \"funny_captions\": 3, \"mean_rank_top\": 2223.3, \"median_rank_top\": 2154.5, \"n_captions\": 5012, \"n_top\": 20, \"responses\": 245588.0, \"contest\": \"559-active\"}]}};\n",
       "var selector = \"#4d387aae-46ee-4405-bc2c-f9647313780e\";\n",
       "var type = \"vega-lite\";\n",
       "\n",
       "var output_area = this;\n",
       "require(['nbextensions/jupyter-vega/index'], function(vega) {\n",
       "  vega.render(selector, spec, type, output_area);\n",
       "}, function (err) {\n",
       "  if (err.requireType !== 'scripterror') {\n",
       "    throw(err);\n",
       "  }\n",
       "});\n"
      ]
     },
     "metadata": {
      "jupyter-vega": "#4d387aae-46ee-4405-bc2c-f9647313780e"
     },
     "output_type": "display_data"
    },
    {
     "data": {
      "image/png": "[encoded data removed]"
     },
     "metadata": {
      "jupyter-vega": "#4d387aae-46ee-4405-bc2c-f9647313780e"
     },
     "output_type": "display_data"
    }
   ],
   "source": [
    "from altair import Chart, Y, Scale, X\n",
    "\n",
    "Chart(stats).mark_line().encode(\n",
    "    x=X('responses', scale=Scale(type='linear')),\n",
    "    y=Y('funny_captions', scale=Scale(type='log')),\n",
    "    color='algorithm')"
   ]
  },
  {
   "cell_type": "code",
   "execution_count": 10,
   "metadata": {
    "ExecuteTime": {
     "end_time": "2017-04-08T15:29:17.071980Z",
     "start_time": "2017-04-08T10:29:17.053378-05:00"
    }
   },
   "outputs": [
    {
     "data": {
      "text/html": [
       "<div class=\"vega-embed\" id=\"3da304dd-1388-4b6d-b91c-eea7a516ac3d\"></div>\n",
       "\n",
       "<style>\n",
       ".vega-embed svg, .vega-embed canvas {\n",
       "  border: 1px dotted gray;\n",
       "}\n",
       "\n",
       ".vega-embed .vega-actions a {\n",
       "  margin-right: 6px;\n",
       "}\n",
       "</style>\n"
      ]
     },
     "metadata": {
      "jupyter-vega": "#3da304dd-1388-4b6d-b91c-eea7a516ac3d"
     },
     "output_type": "display_data"
    },
    {
     "data": {
      "application/javascript": [
       "var spec = {\"config\": {\"cell\": {\"width\": 500, \"height\": 350}}, \"encoding\": {\"color\": {\"field\": \"algorithm\", \"type\": \"nominal\"}, \"x\": {\"field\": \"responses\", \"scale\": {\"type\": \"linear\"}, \"type\": \"quantitative\"}, \"y\": {\"field\": \"mean_rank_top\", \"scale\": {\"type\": \"log\"}, \"type\": \"quantitative\"}}, \"mark\": \"line\", \"data\": {\"values\": [{\"algorithm\": \"KLUCB\", \"funny_captions\": 0, \"mean_rank_top\": 2569.0, \"median_rank_top\": 2350.0, \"n_captions\": 5012, \"n_top\": 20, \"responses\": 5012.0, \"contest\": \"559-active\"}, {\"algorithm\": \"LilUCB\", \"funny_captions\": 0, \"mean_rank_top\": 3278.5, \"median_rank_top\": 3445.5, \"n_captions\": 5012, \"n_top\": 20, \"responses\": 5012.0, \"contest\": \"559-active\"}, {\"algorithm\": \"KLUCB\", \"funny_captions\": 5012, \"mean_rank_top\": 2497.2, \"median_rank_top\": 2217.0, \"n_captions\": 5012, \"n_top\": 20, \"responses\": 10024.0, \"contest\": \"559-active\"}, {\"algorithm\": \"LilUCB\", \"funny_captions\": 5012, \"mean_rank_top\": 2921.35, \"median_rank_top\": 3095.5, \"n_captions\": 5012, \"n_top\": 20, \"responses\": 10024.0, \"contest\": \"559-active\"}, {\"algorithm\": \"KLUCB\", \"funny_captions\": 1776, \"mean_rank_top\": 2241.15, \"median_rank_top\": 2579.5, \"n_captions\": 5012, \"n_top\": 20, \"responses\": 15036.0, \"contest\": \"559-active\"}, {\"algorithm\": \"LilUCB\", \"funny_captions\": 1392, \"mean_rank_top\": 2502.1, \"median_rank_top\": 3186.0, \"n_captions\": 5012, \"n_top\": 20, \"responses\": 15036.0, \"contest\": \"559-active\"}, {\"algorithm\": \"KLUCB\", \"funny_captions\": 244, \"mean_rank_top\": 2070.55, \"median_rank_top\": 2391.0, \"n_captions\": 5012, \"n_top\": 20, \"responses\": 20048.0, \"contest\": \"559-active\"}, {\"algorithm\": \"LilUCB\", \"funny_captions\": 306, \"mean_rank_top\": 2419.75, \"median_rank_top\": 3066.0, \"n_captions\": 5012, \"n_top\": 20, \"responses\": 20048.0, \"contest\": \"559-active\"}, {\"algorithm\": \"KLUCB\", \"funny_captions\": 95, \"mean_rank_top\": 2137.9, \"median_rank_top\": 2427.5, \"n_captions\": 5012, \"n_top\": 20, \"responses\": 25060.0, \"contest\": \"559-active\"}, {\"algorithm\": \"LilUCB\", \"funny_captions\": 155, \"mean_rank_top\": 2135.7, \"median_rank_top\": 1556.5, \"n_captions\": 5012, \"n_top\": 20, \"responses\": 25060.0, \"contest\": \"559-active\"}, {\"algorithm\": \"KLUCB\", \"funny_captions\": 62, \"mean_rank_top\": 2226.25, \"median_rank_top\": 2592.0, \"n_captions\": 5012, \"n_top\": 20, \"responses\": 30072.0, \"contest\": \"559-active\"}, {\"algorithm\": \"LilUCB\", \"funny_captions\": 127, \"mean_rank_top\": 1956.75, \"median_rank_top\": 1420.5, \"n_captions\": 5012, \"n_top\": 20, \"responses\": 30072.0, \"contest\": \"559-active\"}, {\"algorithm\": \"KLUCB\", \"funny_captions\": 76, \"mean_rank_top\": 2132.15, \"median_rank_top\": 1496.5, \"n_captions\": 5012, \"n_top\": 20, \"responses\": 35084.0, \"contest\": \"559-active\"}, {\"algorithm\": \"LilUCB\", \"funny_captions\": 125, \"mean_rank_top\": 1931.45, \"median_rank_top\": 1419.0, \"n_captions\": 5012, \"n_top\": 20, \"responses\": 35084.0, \"contest\": \"559-active\"}, {\"algorithm\": \"KLUCB\", \"funny_captions\": 32, \"mean_rank_top\": 2127.05, \"median_rank_top\": 1364.5, \"n_captions\": 5012, \"n_top\": 20, \"responses\": 40096.0, \"contest\": \"559-active\"}, {\"algorithm\": \"LilUCB\", \"funny_captions\": 122, \"mean_rank_top\": 2023.05, \"median_rank_top\": 1603.5, \"n_captions\": 5012, \"n_top\": 20, \"responses\": 40096.0, \"contest\": \"559-active\"}, {\"algorithm\": \"KLUCB\", \"funny_captions\": 26, \"mean_rank_top\": 2128.85, \"median_rank_top\": 1498.5, \"n_captions\": 5012, \"n_top\": 20, \"responses\": 45108.0, \"contest\": \"559-active\"}, {\"algorithm\": \"LilUCB\", \"funny_captions\": 100, \"mean_rank_top\": 2058.5, \"median_rank_top\": 1775.5, \"n_captions\": 5012, \"n_top\": 20, \"responses\": 45108.0, \"contest\": \"559-active\"}, {\"algorithm\": \"KLUCB\", \"funny_captions\": 20, \"mean_rank_top\": 1972.95, \"median_rank_top\": 1634.0, \"n_captions\": 5012, \"n_top\": 20, \"responses\": 50120.0, \"contest\": \"559-active\"}, {\"algorithm\": \"LilUCB\", \"funny_captions\": 175, \"mean_rank_top\": 2231.2, \"median_rank_top\": 2020.5, \"n_captions\": 5012, \"n_top\": 20, \"responses\": 50120.0, \"contest\": \"559-active\"}, {\"algorithm\": \"KLUCB\", \"funny_captions\": 30, \"mean_rank_top\": 1914.15, \"median_rank_top\": 1722.5, \"n_captions\": 5012, \"n_top\": 20, \"responses\": 55132.0, \"contest\": \"559-active\"}, {\"algorithm\": \"LilUCB\", \"funny_captions\": 117, \"mean_rank_top\": 2255.1, \"median_rank_top\": 2406.0, \"n_captions\": 5012, \"n_top\": 20, \"responses\": 55132.0, \"contest\": \"559-active\"}, {\"algorithm\": \"KLUCB\", \"funny_captions\": 16, \"mean_rank_top\": 1856.8, \"median_rank_top\": 1742.5, \"n_captions\": 5012, \"n_top\": 20, \"responses\": 60144.0, \"contest\": \"559-active\"}, {\"algorithm\": \"LilUCB\", \"funny_captions\": 142, \"mean_rank_top\": 2166.25, \"median_rank_top\": 2443.5, \"n_captions\": 5012, \"n_top\": 20, \"responses\": 60144.0, \"contest\": \"559-active\"}, {\"algorithm\": \"KLUCB\", \"funny_captions\": 9, \"mean_rank_top\": 1945.4, \"median_rank_top\": 1829.0, \"n_captions\": 5012, \"n_top\": 20, \"responses\": 65156.0, \"contest\": \"559-active\"}, {\"algorithm\": \"LilUCB\", \"funny_captions\": 143, \"mean_rank_top\": 2231.8, \"median_rank_top\": 1975.0, \"n_captions\": 5012, \"n_top\": 20, \"responses\": 65156.0, \"contest\": \"559-active\"}, {\"algorithm\": \"KLUCB\", \"funny_captions\": 10, \"mean_rank_top\": 1967.1, \"median_rank_top\": 1957.0, \"n_captions\": 5012, \"n_top\": 20, \"responses\": 70168.0, \"contest\": \"559-active\"}, {\"algorithm\": \"LilUCB\", \"funny_captions\": 102, \"mean_rank_top\": 2258.55, \"median_rank_top\": 2370.0, \"n_captions\": 5012, \"n_top\": 20, \"responses\": 70168.0, \"contest\": \"559-active\"}, {\"algorithm\": \"KLUCB\", \"funny_captions\": 8, \"mean_rank_top\": 1988.45, \"median_rank_top\": 1962.0, \"n_captions\": 5012, \"n_top\": 20, \"responses\": 75180.0, \"contest\": \"559-active\"}, {\"algorithm\": \"LilUCB\", \"funny_captions\": 62, \"mean_rank_top\": 2298.95, \"median_rank_top\": 2281.5, \"n_captions\": 5012, \"n_top\": 20, \"responses\": 75180.0, \"contest\": \"559-active\"}, {\"algorithm\": \"KLUCB\", \"funny_captions\": 7, \"mean_rank_top\": 2052.05, \"median_rank_top\": 2017.0, \"n_captions\": 5012, \"n_top\": 20, \"responses\": 80192.0, \"contest\": \"559-active\"}, {\"algorithm\": \"LilUCB\", \"funny_captions\": 66, \"mean_rank_top\": 2338.85, \"median_rank_top\": 2378.5, \"n_captions\": 5012, \"n_top\": 20, \"responses\": 80192.0, \"contest\": \"559-active\"}, {\"algorithm\": \"KLUCB\", \"funny_captions\": 7, \"mean_rank_top\": 2044.95, \"median_rank_top\": 2159.0, \"n_captions\": 5012, \"n_top\": 20, \"responses\": 85204.0, \"contest\": \"559-active\"}, {\"algorithm\": \"LilUCB\", \"funny_captions\": 125, \"mean_rank_top\": 2310.35, \"median_rank_top\": 2617.5, \"n_captions\": 5012, \"n_top\": 20, \"responses\": 85204.0, \"contest\": \"559-active\"}, {\"algorithm\": \"KLUCB\", \"funny_captions\": 8, \"mean_rank_top\": 2076.5, \"median_rank_top\": 2126.0, \"n_captions\": 5012, \"n_top\": 20, \"responses\": 90216.0, \"contest\": \"559-active\"}, {\"algorithm\": \"LilUCB\", \"funny_captions\": 99, \"mean_rank_top\": 2314.45, \"median_rank_top\": 2692.5, \"n_captions\": 5012, \"n_top\": 20, \"responses\": 90216.0, \"contest\": \"559-active\"}, {\"algorithm\": \"KLUCB\", \"funny_captions\": 9, \"mean_rank_top\": 2059.65, \"median_rank_top\": 2130.5, \"n_captions\": 5012, \"n_top\": 20, \"responses\": 95228.0, \"contest\": \"559-active\"}, {\"algorithm\": \"LilUCB\", \"funny_captions\": 49, \"mean_rank_top\": 2448.05, \"median_rank_top\": 3125.0, \"n_captions\": 5012, \"n_top\": 20, \"responses\": 95228.0, \"contest\": \"559-active\"}, {\"algorithm\": \"KLUCB\", \"funny_captions\": 12, \"mean_rank_top\": 2132.65, \"median_rank_top\": 2116.5, \"n_captions\": 5012, \"n_top\": 20, \"responses\": 100240.0, \"contest\": \"559-active\"}, {\"algorithm\": \"LilUCB\", \"funny_captions\": 65, \"mean_rank_top\": 2487.35, \"median_rank_top\": 3181.0, \"n_captions\": 5012, \"n_top\": 20, \"responses\": 100240.0, \"contest\": \"559-active\"}, {\"algorithm\": \"KLUCB\", \"funny_captions\": 3, \"mean_rank_top\": 2274.7, \"median_rank_top\": 2173.0, \"n_captions\": 5012, \"n_top\": 20, \"responses\": 105252.0, \"contest\": \"559-active\"}, {\"algorithm\": \"LilUCB\", \"funny_captions\": 37, \"mean_rank_top\": 2315.5, \"median_rank_top\": 2810.5, \"n_captions\": 5012, \"n_top\": 20, \"responses\": 105252.0, \"contest\": \"559-active\"}, {\"algorithm\": \"KLUCB\", \"funny_captions\": 3, \"mean_rank_top\": 2244.55, \"median_rank_top\": 2260.5, \"n_captions\": 5012, \"n_top\": 20, \"responses\": 110264.0, \"contest\": \"559-active\"}, {\"algorithm\": \"LilUCB\", \"funny_captions\": 39, \"mean_rank_top\": 2344.75, \"median_rank_top\": 2723.5, \"n_captions\": 5012, \"n_top\": 20, \"responses\": 110264.0, \"contest\": \"559-active\"}, {\"algorithm\": \"KLUCB\", \"funny_captions\": 5, \"mean_rank_top\": 2358.15, \"median_rank_top\": 2320.0, \"n_captions\": 5012, \"n_top\": 20, \"responses\": 115276.0, \"contest\": \"559-active\"}, {\"algorithm\": \"LilUCB\", \"funny_captions\": 65, \"mean_rank_top\": 2375.25, \"median_rank_top\": 2784.5, \"n_captions\": 5012, \"n_top\": 20, \"responses\": 115276.0, \"contest\": \"559-active\"}, {\"algorithm\": \"KLUCB\", \"funny_captions\": 5, \"mean_rank_top\": 2335.9, \"median_rank_top\": 2335.5, \"n_captions\": 5012, \"n_top\": 20, \"responses\": 120288.0, \"contest\": \"559-active\"}, {\"algorithm\": \"LilUCB\", \"funny_captions\": 49, \"mean_rank_top\": 2372.3, \"median_rank_top\": 2772.0, \"n_captions\": 5012, \"n_top\": 20, \"responses\": 120288.0, \"contest\": \"559-active\"}, {\"algorithm\": \"KLUCB\", \"funny_captions\": 6, \"mean_rank_top\": 2326.15, \"median_rank_top\": 2492.0, \"n_captions\": 5012, \"n_top\": 20, \"responses\": 125300.0, \"contest\": \"559-active\"}, {\"algorithm\": \"LilUCB\", \"funny_captions\": 52, \"mean_rank_top\": 2360.4, \"median_rank_top\": 2737.5, \"n_captions\": 5012, \"n_top\": 20, \"responses\": 125300.0, \"contest\": \"559-active\"}, {\"algorithm\": \"KLUCB\", \"funny_captions\": 9, \"mean_rank_top\": 2413.4, \"median_rank_top\": 2401.0, \"n_captions\": 5012, \"n_top\": 20, \"responses\": 130312.0, \"contest\": \"559-active\"}, {\"algorithm\": \"LilUCB\", \"funny_captions\": 51, \"mean_rank_top\": 2338.55, \"median_rank_top\": 2739.0, \"n_captions\": 5012, \"n_top\": 20, \"responses\": 130312.0, \"contest\": \"559-active\"}, {\"algorithm\": \"KLUCB\", \"funny_captions\": 2, \"mean_rank_top\": 2521.4, \"median_rank_top\": 2575.5, \"n_captions\": 5012, \"n_top\": 20, \"responses\": 135324.0, \"contest\": \"559-active\"}, {\"algorithm\": \"LilUCB\", \"funny_captions\": 42, \"mean_rank_top\": 2327.85, \"median_rank_top\": 2519.0, \"n_captions\": 5012, \"n_top\": 20, \"responses\": 135324.0, \"contest\": \"559-active\"}, {\"algorithm\": \"KLUCB\", \"funny_captions\": 2, \"mean_rank_top\": 2514.4, \"median_rank_top\": 2574.0, \"n_captions\": 5012, \"n_top\": 20, \"responses\": 140336.0, \"contest\": \"559-active\"}, {\"algorithm\": \"LilUCB\", \"funny_captions\": 40, \"mean_rank_top\": 2367.0, \"median_rank_top\": 2624.0, \"n_captions\": 5012, \"n_top\": 20, \"responses\": 140336.0, \"contest\": \"559-active\"}, {\"algorithm\": \"KLUCB\", \"funny_captions\": 3, \"mean_rank_top\": 2481.8, \"median_rank_top\": 2723.5, \"n_captions\": 5012, \"n_top\": 20, \"responses\": 145348.0, \"contest\": \"559-active\"}, {\"algorithm\": \"LilUCB\", \"funny_captions\": 42, \"mean_rank_top\": 2353.75, \"median_rank_top\": 2706.5, \"n_captions\": 5012, \"n_top\": 20, \"responses\": 145348.0, \"contest\": \"559-active\"}, {\"algorithm\": \"KLUCB\", \"funny_captions\": 3, \"mean_rank_top\": 2549.75, \"median_rank_top\": 2725.5, \"n_captions\": 5012, \"n_top\": 20, \"responses\": 150360.0, \"contest\": \"559-active\"}, {\"algorithm\": \"LilUCB\", \"funny_captions\": 16, \"mean_rank_top\": 2288.6, \"median_rank_top\": 2334.5, \"n_captions\": 5012, \"n_top\": 20, \"responses\": 150360.0, \"contest\": \"559-active\"}, {\"algorithm\": \"KLUCB\", \"funny_captions\": 4, \"mean_rank_top\": 2551.55, \"median_rank_top\": 2753.0, \"n_captions\": 5012, \"n_top\": 20, \"responses\": 155372.0, \"contest\": \"559-active\"}, {\"algorithm\": \"LilUCB\", \"funny_captions\": 9, \"mean_rank_top\": 2318.1, \"median_rank_top\": 2342.5, \"n_captions\": 5012, \"n_top\": 20, \"responses\": 155372.0, \"contest\": \"559-active\"}, {\"algorithm\": \"KLUCB\", \"funny_captions\": 5, \"mean_rank_top\": 2515.05, \"median_rank_top\": 2745.5, \"n_captions\": 5012, \"n_top\": 20, \"responses\": 160384.0, \"contest\": \"559-active\"}, {\"algorithm\": \"LilUCB\", \"funny_captions\": 9, \"mean_rank_top\": 2284.65, \"median_rank_top\": 2289.0, \"n_captions\": 5012, \"n_top\": 20, \"responses\": 160384.0, \"contest\": \"559-active\"}, {\"algorithm\": \"KLUCB\", \"funny_captions\": 3, \"mean_rank_top\": 2530.05, \"median_rank_top\": 2762.5, \"n_captions\": 5012, \"n_top\": 20, \"responses\": 165396.0, \"contest\": \"559-active\"}, {\"algorithm\": \"LilUCB\", \"funny_captions\": 11, \"mean_rank_top\": 2282.6, \"median_rank_top\": 2360.5, \"n_captions\": 5012, \"n_top\": 20, \"responses\": 165396.0, \"contest\": \"559-active\"}, {\"algorithm\": \"KLUCB\", \"funny_captions\": 2, \"mean_rank_top\": 2522.35, \"median_rank_top\": 2670.0, \"n_captions\": 5012, \"n_top\": 20, \"responses\": 170408.0, \"contest\": \"559-active\"}, {\"algorithm\": \"LilUCB\", \"funny_captions\": 13, \"mean_rank_top\": 2225.25, \"median_rank_top\": 2384.0, \"n_captions\": 5012, \"n_top\": 20, \"responses\": 170408.0, \"contest\": \"559-active\"}, {\"algorithm\": \"KLUCB\", \"funny_captions\": 3, \"mean_rank_top\": 2477.5, \"median_rank_top\": 2277.5, \"n_captions\": 5012, \"n_top\": 20, \"responses\": 175420.0, \"contest\": \"559-active\"}, {\"algorithm\": \"LilUCB\", \"funny_captions\": 12, \"mean_rank_top\": 2151.9, \"median_rank_top\": 2099.0, \"n_captions\": 5012, \"n_top\": 20, \"responses\": 175420.0, \"contest\": \"559-active\"}, {\"algorithm\": \"KLUCB\", \"funny_captions\": 1, \"mean_rank_top\": 2524.05, \"median_rank_top\": 2314.5, \"n_captions\": 5012, \"n_top\": 20, \"responses\": 180432.0, \"contest\": \"559-active\"}, {\"algorithm\": \"LilUCB\", \"funny_captions\": 13, \"mean_rank_top\": 2222.1, \"median_rank_top\": 2158.5, \"n_captions\": 5012, \"n_top\": 20, \"responses\": 180432.0, \"contest\": \"559-active\"}, {\"algorithm\": \"KLUCB\", \"funny_captions\": 3, \"mean_rank_top\": 2556.05, \"median_rank_top\": 2448.0, \"n_captions\": 5012, \"n_top\": 20, \"responses\": 185444.0, \"contest\": \"559-active\"}, {\"algorithm\": \"LilUCB\", \"funny_captions\": 15, \"mean_rank_top\": 2230.55, \"median_rank_top\": 2147.5, \"n_captions\": 5012, \"n_top\": 20, \"responses\": 185444.0, \"contest\": \"559-active\"}, {\"algorithm\": \"KLUCB\", \"funny_captions\": 2, \"mean_rank_top\": 2523.4, \"median_rank_top\": 2445.0, \"n_captions\": 5012, \"n_top\": 20, \"responses\": 190456.0, \"contest\": \"559-active\"}, {\"algorithm\": \"LilUCB\", \"funny_captions\": 14, \"mean_rank_top\": 2257.55, \"median_rank_top\": 2295.0, \"n_captions\": 5012, \"n_top\": 20, \"responses\": 190456.0, \"contest\": \"559-active\"}, {\"algorithm\": \"KLUCB\", \"funny_captions\": 2, \"mean_rank_top\": 2510.15, \"median_rank_top\": 2372.5, \"n_captions\": 5012, \"n_top\": 20, \"responses\": 195468.0, \"contest\": \"559-active\"}, {\"algorithm\": \"LilUCB\", \"funny_captions\": 12, \"mean_rank_top\": 2234.6, \"median_rank_top\": 2213.0, \"n_captions\": 5012, \"n_top\": 20, \"responses\": 195468.0, \"contest\": \"559-active\"}, {\"algorithm\": \"KLUCB\", \"funny_captions\": 2, \"mean_rank_top\": 2497.7, \"median_rank_top\": 2319.5, \"n_captions\": 5012, \"n_top\": 20, \"responses\": 200480.0, \"contest\": \"559-active\"}, {\"algorithm\": \"LilUCB\", \"funny_captions\": 2, \"mean_rank_top\": 2225.35, \"median_rank_top\": 2194.5, \"n_captions\": 5012, \"n_top\": 20, \"responses\": 200480.0, \"contest\": \"559-active\"}, {\"algorithm\": \"KLUCB\", \"funny_captions\": 12, \"mean_rank_top\": 2498.5, \"median_rank_top\": 2381.0, \"n_captions\": 5012, \"n_top\": 20, \"responses\": 205492.0, \"contest\": \"559-active\"}, {\"algorithm\": \"LilUCB\", \"funny_captions\": 2, \"mean_rank_top\": 2238.65, \"median_rank_top\": 2122.0, \"n_captions\": 5012, \"n_top\": 20, \"responses\": 205492.0, \"contest\": \"559-active\"}, {\"algorithm\": \"KLUCB\", \"funny_captions\": 9, \"mean_rank_top\": 2508.2, \"median_rank_top\": 2386.5, \"n_captions\": 5012, \"n_top\": 20, \"responses\": 210504.0, \"contest\": \"559-active\"}, {\"algorithm\": \"LilUCB\", \"funny_captions\": 3, \"mean_rank_top\": 2248.25, \"median_rank_top\": 2207.5, \"n_captions\": 5012, \"n_top\": 20, \"responses\": 210504.0, \"contest\": \"559-active\"}, {\"algorithm\": \"KLUCB\", \"funny_captions\": 8, \"mean_rank_top\": 2510.95, \"median_rank_top\": 2445.5, \"n_captions\": 5012, \"n_top\": 20, \"responses\": 215516.0, \"contest\": \"559-active\"}, {\"algorithm\": \"LilUCB\", \"funny_captions\": 2, \"mean_rank_top\": 2248.25, \"median_rank_top\": 2313.5, \"n_captions\": 5012, \"n_top\": 20, \"responses\": 215516.0, \"contest\": \"559-active\"}, {\"algorithm\": \"KLUCB\", \"funny_captions\": 5, \"mean_rank_top\": 2614.15, \"median_rank_top\": 2525.5, \"n_captions\": 5012, \"n_top\": 20, \"responses\": 220528.0, \"contest\": \"559-active\"}, {\"algorithm\": \"LilUCB\", \"funny_captions\": 2, \"mean_rank_top\": 2188.5, \"median_rank_top\": 2157.0, \"n_captions\": 5012, \"n_top\": 20, \"responses\": 220528.0, \"contest\": \"559-active\"}, {\"algorithm\": \"KLUCB\", \"funny_captions\": 5, \"mean_rank_top\": 2614.7, \"median_rank_top\": 2487.0, \"n_captions\": 5012, \"n_top\": 20, \"responses\": 225540.0, \"contest\": \"559-active\"}, {\"algorithm\": \"LilUCB\", \"funny_captions\": 2, \"mean_rank_top\": 2219.55, \"median_rank_top\": 2286.0, \"n_captions\": 5012, \"n_top\": 20, \"responses\": 225540.0, \"contest\": \"559-active\"}, {\"algorithm\": \"KLUCB\", \"funny_captions\": 5, \"mean_rank_top\": 2549.0, \"median_rank_top\": 2463.0, \"n_captions\": 5012, \"n_top\": 20, \"responses\": 230552.0, \"contest\": \"559-active\"}, {\"algorithm\": \"LilUCB\", \"funny_captions\": 2, \"mean_rank_top\": 2256.4, \"median_rank_top\": 2320.0, \"n_captions\": 5012, \"n_top\": 20, \"responses\": 230552.0, \"contest\": \"559-active\"}, {\"algorithm\": \"KLUCB\", \"funny_captions\": 3, \"mean_rank_top\": 2576.4, \"median_rank_top\": 2458.0, \"n_captions\": 5012, \"n_top\": 20, \"responses\": 235564.0, \"contest\": \"559-active\"}, {\"algorithm\": \"LilUCB\", \"funny_captions\": 2, \"mean_rank_top\": 2223.15, \"median_rank_top\": 2457.0, \"n_captions\": 5012, \"n_top\": 20, \"responses\": 235564.0, \"contest\": \"559-active\"}, {\"algorithm\": \"KLUCB\", \"funny_captions\": 4, \"mean_rank_top\": 2570.45, \"median_rank_top\": 2460.0, \"n_captions\": 5012, \"n_top\": 20, \"responses\": 240576.0, \"contest\": \"559-active\"}, {\"algorithm\": \"LilUCB\", \"funny_captions\": 3, \"mean_rank_top\": 2238.25, \"median_rank_top\": 2496.0, \"n_captions\": 5012, \"n_top\": 20, \"responses\": 240576.0, \"contest\": \"559-active\"}, {\"algorithm\": \"KLUCB\", \"funny_captions\": 2, \"mean_rank_top\": 2580.6, \"median_rank_top\": 2513.0, \"n_captions\": 5012, \"n_top\": 20, \"responses\": 245588.0, \"contest\": \"559-active\"}, {\"algorithm\": \"LilUCB\", \"funny_captions\": 3, \"mean_rank_top\": 2223.3, \"median_rank_top\": 2154.5, \"n_captions\": 5012, \"n_top\": 20, \"responses\": 245588.0, \"contest\": \"559-active\"}]}};\n",
       "var selector = \"#3da304dd-1388-4b6d-b91c-eea7a516ac3d\";\n",
       "var type = \"vega-lite\";\n",
       "\n",
       "var output_area = this;\n",
       "require(['nbextensions/jupyter-vega/index'], function(vega) {\n",
       "  vega.render(selector, spec, type, output_area);\n",
       "}, function (err) {\n",
       "  if (err.requireType !== 'scripterror') {\n",
       "    throw(err);\n",
       "  }\n",
       "});\n"
      ]
     },
     "metadata": {
      "jupyter-vega": "#3da304dd-1388-4b6d-b91c-eea7a516ac3d"
     },
     "output_type": "display_data"
    },
    {
     "data": {
      "image/png": "[encoded data removed]"
     },
     "metadata": {
      "jupyter-vega": "#3da304dd-1388-4b6d-b91c-eea7a516ac3d"
     },
     "output_type": "display_data"
    }
   ],
   "source": [
    "Chart(stats).mark_line().encode(\n",
    "    x=X('responses', scale=Scale(type='linear')),\n",
    "    y=Y('mean_rank_top', scale=Scale(type='log')),\n",
    "    color='algorithm')"
   ]
  },
  {
   "cell_type": "code",
   "execution_count": 11,
   "metadata": {
    "ExecuteTime": {
     "end_time": "2017-04-08T15:29:17.094052Z",
     "start_time": "2017-04-08T10:29:17.073469-05:00"
    }
   },
   "outputs": [
    {
     "data": {
      "text/html": [
       "<div class=\"vega-embed\" id=\"e71b5dc1-2d97-45f7-a06d-4b2b49742444\"></div>\n",
       "\n",
       "<style>\n",
       ".vega-embed svg, .vega-embed canvas {\n",
       "  border: 1px dotted gray;\n",
       "}\n",
       "\n",
       ".vega-embed .vega-actions a {\n",
       "  margin-right: 6px;\n",
       "}\n",
       "</style>\n"
      ]
     },
     "metadata": {
      "jupyter-vega": "#e71b5dc1-2d97-45f7-a06d-4b2b49742444"
     },
     "output_type": "display_data"
    },
    {
     "data": {
      "application/javascript": [
       "var spec = {\"config\": {\"cell\": {\"width\": 500, \"height\": 350}}, \"encoding\": {\"color\": {\"field\": \"algorithm\", \"type\": \"nominal\"}, \"x\": {\"field\": \"responses\", \"scale\": {\"type\": \"linear\"}, \"type\": \"quantitative\"}, \"y\": {\"field\": \"median_rank_top\", \"scale\": {\"type\": \"log\"}, \"type\": \"quantitative\"}}, \"mark\": \"line\", \"data\": {\"values\": [{\"algorithm\": \"KLUCB\", \"funny_captions\": 0, \"mean_rank_top\": 2569.0, \"median_rank_top\": 2350.0, \"n_captions\": 5012, \"n_top\": 20, \"responses\": 5012.0, \"contest\": \"559-active\"}, {\"algorithm\": \"LilUCB\", \"funny_captions\": 0, \"mean_rank_top\": 3278.5, \"median_rank_top\": 3445.5, \"n_captions\": 5012, \"n_top\": 20, \"responses\": 5012.0, \"contest\": \"559-active\"}, {\"algorithm\": \"KLUCB\", \"funny_captions\": 5012, \"mean_rank_top\": 2497.2, \"median_rank_top\": 2217.0, \"n_captions\": 5012, \"n_top\": 20, \"responses\": 10024.0, \"contest\": \"559-active\"}, {\"algorithm\": \"LilUCB\", \"funny_captions\": 5012, \"mean_rank_top\": 2921.35, \"median_rank_top\": 3095.5, \"n_captions\": 5012, \"n_top\": 20, \"responses\": 10024.0, \"contest\": \"559-active\"}, {\"algorithm\": \"KLUCB\", \"funny_captions\": 1776, \"mean_rank_top\": 2241.15, \"median_rank_top\": 2579.5, \"n_captions\": 5012, \"n_top\": 20, \"responses\": 15036.0, \"contest\": \"559-active\"}, {\"algorithm\": \"LilUCB\", \"funny_captions\": 1392, \"mean_rank_top\": 2502.1, \"median_rank_top\": 3186.0, \"n_captions\": 5012, \"n_top\": 20, \"responses\": 15036.0, \"contest\": \"559-active\"}, {\"algorithm\": \"KLUCB\", \"funny_captions\": 244, \"mean_rank_top\": 2070.55, \"median_rank_top\": 2391.0, \"n_captions\": 5012, \"n_top\": 20, \"responses\": 20048.0, \"contest\": \"559-active\"}, {\"algorithm\": \"LilUCB\", \"funny_captions\": 306, \"mean_rank_top\": 2419.75, \"median_rank_top\": 3066.0, \"n_captions\": 5012, \"n_top\": 20, \"responses\": 20048.0, \"contest\": \"559-active\"}, {\"algorithm\": \"KLUCB\", \"funny_captions\": 95, \"mean_rank_top\": 2137.9, \"median_rank_top\": 2427.5, \"n_captions\": 5012, \"n_top\": 20, \"responses\": 25060.0, \"contest\": \"559-active\"}, {\"algorithm\": \"LilUCB\", \"funny_captions\": 155, \"mean_rank_top\": 2135.7, \"median_rank_top\": 1556.5, \"n_captions\": 5012, \"n_top\": 20, \"responses\": 25060.0, \"contest\": \"559-active\"}, {\"algorithm\": \"KLUCB\", \"funny_captions\": 62, \"mean_rank_top\": 2226.25, \"median_rank_top\": 2592.0, \"n_captions\": 5012, \"n_top\": 20, \"responses\": 30072.0, \"contest\": \"559-active\"}, {\"algorithm\": \"LilUCB\", \"funny_captions\": 127, \"mean_rank_top\": 1956.75, \"median_rank_top\": 1420.5, \"n_captions\": 5012, \"n_top\": 20, \"responses\": 30072.0, \"contest\": \"559-active\"}, {\"algorithm\": \"KLUCB\", \"funny_captions\": 76, \"mean_rank_top\": 2132.15, \"median_rank_top\": 1496.5, \"n_captions\": 5012, \"n_top\": 20, \"responses\": 35084.0, \"contest\": \"559-active\"}, {\"algorithm\": \"LilUCB\", \"funny_captions\": 125, \"mean_rank_top\": 1931.45, \"median_rank_top\": 1419.0, \"n_captions\": 5012, \"n_top\": 20, \"responses\": 35084.0, \"contest\": \"559-active\"}, {\"algorithm\": \"KLUCB\", \"funny_captions\": 32, \"mean_rank_top\": 2127.05, \"median_rank_top\": 1364.5, \"n_captions\": 5012, \"n_top\": 20, \"responses\": 40096.0, \"contest\": \"559-active\"}, {\"algorithm\": \"LilUCB\", \"funny_captions\": 122, \"mean_rank_top\": 2023.05, \"median_rank_top\": 1603.5, \"n_captions\": 5012, \"n_top\": 20, \"responses\": 40096.0, \"contest\": \"559-active\"}, {\"algorithm\": \"KLUCB\", \"funny_captions\": 26, \"mean_rank_top\": 2128.85, \"median_rank_top\": 1498.5, \"n_captions\": 5012, \"n_top\": 20, \"responses\": 45108.0, \"contest\": \"559-active\"}, {\"algorithm\": \"LilUCB\", \"funny_captions\": 100, \"mean_rank_top\": 2058.5, \"median_rank_top\": 1775.5, \"n_captions\": 5012, \"n_top\": 20, \"responses\": 45108.0, \"contest\": \"559-active\"}, {\"algorithm\": \"KLUCB\", \"funny_captions\": 20, \"mean_rank_top\": 1972.95, \"median_rank_top\": 1634.0, \"n_captions\": 5012, \"n_top\": 20, \"responses\": 50120.0, \"contest\": \"559-active\"}, {\"algorithm\": \"LilUCB\", \"funny_captions\": 175, \"mean_rank_top\": 2231.2, \"median_rank_top\": 2020.5, \"n_captions\": 5012, \"n_top\": 20, \"responses\": 50120.0, \"contest\": \"559-active\"}, {\"algorithm\": \"KLUCB\", \"funny_captions\": 30, \"mean_rank_top\": 1914.15, \"median_rank_top\": 1722.5, \"n_captions\": 5012, \"n_top\": 20, \"responses\": 55132.0, \"contest\": \"559-active\"}, {\"algorithm\": \"LilUCB\", \"funny_captions\": 117, \"mean_rank_top\": 2255.1, \"median_rank_top\": 2406.0, \"n_captions\": 5012, \"n_top\": 20, \"responses\": 55132.0, \"contest\": \"559-active\"}, {\"algorithm\": \"KLUCB\", \"funny_captions\": 16, \"mean_rank_top\": 1856.8, \"median_rank_top\": 1742.5, \"n_captions\": 5012, \"n_top\": 20, \"responses\": 60144.0, \"contest\": \"559-active\"}, {\"algorithm\": \"LilUCB\", \"funny_captions\": 142, \"mean_rank_top\": 2166.25, \"median_rank_top\": 2443.5, \"n_captions\": 5012, \"n_top\": 20, \"responses\": 60144.0, \"contest\": \"559-active\"}, {\"algorithm\": \"KLUCB\", \"funny_captions\": 9, \"mean_rank_top\": 1945.4, \"median_rank_top\": 1829.0, \"n_captions\": 5012, \"n_top\": 20, \"responses\": 65156.0, \"contest\": \"559-active\"}, {\"algorithm\": \"LilUCB\", \"funny_captions\": 143, \"mean_rank_top\": 2231.8, \"median_rank_top\": 1975.0, \"n_captions\": 5012, \"n_top\": 20, \"responses\": 65156.0, \"contest\": \"559-active\"}, {\"algorithm\": \"KLUCB\", \"funny_captions\": 10, \"mean_rank_top\": 1967.1, \"median_rank_top\": 1957.0, \"n_captions\": 5012, \"n_top\": 20, \"responses\": 70168.0, \"contest\": \"559-active\"}, {\"algorithm\": \"LilUCB\", \"funny_captions\": 102, \"mean_rank_top\": 2258.55, \"median_rank_top\": 2370.0, \"n_captions\": 5012, \"n_top\": 20, \"responses\": 70168.0, \"contest\": \"559-active\"}, {\"algorithm\": \"KLUCB\", \"funny_captions\": 8, \"mean_rank_top\": 1988.45, \"median_rank_top\": 1962.0, \"n_captions\": 5012, \"n_top\": 20, \"responses\": 75180.0, \"contest\": \"559-active\"}, {\"algorithm\": \"LilUCB\", \"funny_captions\": 62, \"mean_rank_top\": 2298.95, \"median_rank_top\": 2281.5, \"n_captions\": 5012, \"n_top\": 20, \"responses\": 75180.0, \"contest\": \"559-active\"}, {\"algorithm\": \"KLUCB\", \"funny_captions\": 7, \"mean_rank_top\": 2052.05, \"median_rank_top\": 2017.0, \"n_captions\": 5012, \"n_top\": 20, \"responses\": 80192.0, \"contest\": \"559-active\"}, {\"algorithm\": \"LilUCB\", \"funny_captions\": 66, \"mean_rank_top\": 2338.85, \"median_rank_top\": 2378.5, \"n_captions\": 5012, \"n_top\": 20, \"responses\": 80192.0, \"contest\": \"559-active\"}, {\"algorithm\": \"KLUCB\", \"funny_captions\": 7, \"mean_rank_top\": 2044.95, \"median_rank_top\": 2159.0, \"n_captions\": 5012, \"n_top\": 20, \"responses\": 85204.0, \"contest\": \"559-active\"}, {\"algorithm\": \"LilUCB\", \"funny_captions\": 125, \"mean_rank_top\": 2310.35, \"median_rank_top\": 2617.5, \"n_captions\": 5012, \"n_top\": 20, \"responses\": 85204.0, \"contest\": \"559-active\"}, {\"algorithm\": \"KLUCB\", \"funny_captions\": 8, \"mean_rank_top\": 2076.5, \"median_rank_top\": 2126.0, \"n_captions\": 5012, \"n_top\": 20, \"responses\": 90216.0, \"contest\": \"559-active\"}, {\"algorithm\": \"LilUCB\", \"funny_captions\": 99, \"mean_rank_top\": 2314.45, \"median_rank_top\": 2692.5, \"n_captions\": 5012, \"n_top\": 20, \"responses\": 90216.0, \"contest\": \"559-active\"}, {\"algorithm\": \"KLUCB\", \"funny_captions\": 9, \"mean_rank_top\": 2059.65, \"median_rank_top\": 2130.5, \"n_captions\": 5012, \"n_top\": 20, \"responses\": 95228.0, \"contest\": \"559-active\"}, {\"algorithm\": \"LilUCB\", \"funny_captions\": 49, \"mean_rank_top\": 2448.05, \"median_rank_top\": 3125.0, \"n_captions\": 5012, \"n_top\": 20, \"responses\": 95228.0, \"contest\": \"559-active\"}, {\"algorithm\": \"KLUCB\", \"funny_captions\": 12, \"mean_rank_top\": 2132.65, \"median_rank_top\": 2116.5, \"n_captions\": 5012, \"n_top\": 20, \"responses\": 100240.0, \"contest\": \"559-active\"}, {\"algorithm\": \"LilUCB\", \"funny_captions\": 65, \"mean_rank_top\": 2487.35, \"median_rank_top\": 3181.0, \"n_captions\": 5012, \"n_top\": 20, \"responses\": 100240.0, \"contest\": \"559-active\"}, {\"algorithm\": \"KLUCB\", \"funny_captions\": 3, \"mean_rank_top\": 2274.7, \"median_rank_top\": 2173.0, \"n_captions\": 5012, \"n_top\": 20, \"responses\": 105252.0, \"contest\": \"559-active\"}, {\"algorithm\": \"LilUCB\", \"funny_captions\": 37, \"mean_rank_top\": 2315.5, \"median_rank_top\": 2810.5, \"n_captions\": 5012, \"n_top\": 20, \"responses\": 105252.0, \"contest\": \"559-active\"}, {\"algorithm\": \"KLUCB\", \"funny_captions\": 3, \"mean_rank_top\": 2244.55, \"median_rank_top\": 2260.5, \"n_captions\": 5012, \"n_top\": 20, \"responses\": 110264.0, \"contest\": \"559-active\"}, {\"algorithm\": \"LilUCB\", \"funny_captions\": 39, \"mean_rank_top\": 2344.75, \"median_rank_top\": 2723.5, \"n_captions\": 5012, \"n_top\": 20, \"responses\": 110264.0, \"contest\": \"559-active\"}, {\"algorithm\": \"KLUCB\", \"funny_captions\": 5, \"mean_rank_top\": 2358.15, \"median_rank_top\": 2320.0, \"n_captions\": 5012, \"n_top\": 20, \"responses\": 115276.0, \"contest\": \"559-active\"}, {\"algorithm\": \"LilUCB\", \"funny_captions\": 65, \"mean_rank_top\": 2375.25, \"median_rank_top\": 2784.5, \"n_captions\": 5012, \"n_top\": 20, \"responses\": 115276.0, \"contest\": \"559-active\"}, {\"algorithm\": \"KLUCB\", \"funny_captions\": 5, \"mean_rank_top\": 2335.9, \"median_rank_top\": 2335.5, \"n_captions\": 5012, \"n_top\": 20, \"responses\": 120288.0, \"contest\": \"559-active\"}, {\"algorithm\": \"LilUCB\", \"funny_captions\": 49, \"mean_rank_top\": 2372.3, \"median_rank_top\": 2772.0, \"n_captions\": 5012, \"n_top\": 20, \"responses\": 120288.0, \"contest\": \"559-active\"}, {\"algorithm\": \"KLUCB\", \"funny_captions\": 6, \"mean_rank_top\": 2326.15, \"median_rank_top\": 2492.0, \"n_captions\": 5012, \"n_top\": 20, \"responses\": 125300.0, \"contest\": \"559-active\"}, {\"algorithm\": \"LilUCB\", \"funny_captions\": 52, \"mean_rank_top\": 2360.4, \"median_rank_top\": 2737.5, \"n_captions\": 5012, \"n_top\": 20, \"responses\": 125300.0, \"contest\": \"559-active\"}, {\"algorithm\": \"KLUCB\", \"funny_captions\": 9, \"mean_rank_top\": 2413.4, \"median_rank_top\": 2401.0, \"n_captions\": 5012, \"n_top\": 20, \"responses\": 130312.0, \"contest\": \"559-active\"}, {\"algorithm\": \"LilUCB\", \"funny_captions\": 51, \"mean_rank_top\": 2338.55, \"median_rank_top\": 2739.0, \"n_captions\": 5012, \"n_top\": 20, \"responses\": 130312.0, \"contest\": \"559-active\"}, {\"algorithm\": \"KLUCB\", \"funny_captions\": 2, \"mean_rank_top\": 2521.4, \"median_rank_top\": 2575.5, \"n_captions\": 5012, \"n_top\": 20, \"responses\": 135324.0, \"contest\": \"559-active\"}, {\"algorithm\": \"LilUCB\", \"funny_captions\": 42, \"mean_rank_top\": 2327.85, \"median_rank_top\": 2519.0, \"n_captions\": 5012, \"n_top\": 20, \"responses\": 135324.0, \"contest\": \"559-active\"}, {\"algorithm\": \"KLUCB\", \"funny_captions\": 2, \"mean_rank_top\": 2514.4, \"median_rank_top\": 2574.0, \"n_captions\": 5012, \"n_top\": 20, \"responses\": 140336.0, \"contest\": \"559-active\"}, {\"algorithm\": \"LilUCB\", \"funny_captions\": 40, \"mean_rank_top\": 2367.0, \"median_rank_top\": 2624.0, \"n_captions\": 5012, \"n_top\": 20, \"responses\": 140336.0, \"contest\": \"559-active\"}, {\"algorithm\": \"KLUCB\", \"funny_captions\": 3, \"mean_rank_top\": 2481.8, \"median_rank_top\": 2723.5, \"n_captions\": 5012, \"n_top\": 20, \"responses\": 145348.0, \"contest\": \"559-active\"}, {\"algorithm\": \"LilUCB\", \"funny_captions\": 42, \"mean_rank_top\": 2353.75, \"median_rank_top\": 2706.5, \"n_captions\": 5012, \"n_top\": 20, \"responses\": 145348.0, \"contest\": \"559-active\"}, {\"algorithm\": \"KLUCB\", \"funny_captions\": 3, \"mean_rank_top\": 2549.75, \"median_rank_top\": 2725.5, \"n_captions\": 5012, \"n_top\": 20, \"responses\": 150360.0, \"contest\": \"559-active\"}, {\"algorithm\": \"LilUCB\", \"funny_captions\": 16, \"mean_rank_top\": 2288.6, \"median_rank_top\": 2334.5, \"n_captions\": 5012, \"n_top\": 20, \"responses\": 150360.0, \"contest\": \"559-active\"}, {\"algorithm\": \"KLUCB\", \"funny_captions\": 4, \"mean_rank_top\": 2551.55, \"median_rank_top\": 2753.0, \"n_captions\": 5012, \"n_top\": 20, \"responses\": 155372.0, \"contest\": \"559-active\"}, {\"algorithm\": \"LilUCB\", \"funny_captions\": 9, \"mean_rank_top\": 2318.1, \"median_rank_top\": 2342.5, \"n_captions\": 5012, \"n_top\": 20, \"responses\": 155372.0, \"contest\": \"559-active\"}, {\"algorithm\": \"KLUCB\", \"funny_captions\": 5, \"mean_rank_top\": 2515.05, \"median_rank_top\": 2745.5, \"n_captions\": 5012, \"n_top\": 20, \"responses\": 160384.0, \"contest\": \"559-active\"}, {\"algorithm\": \"LilUCB\", \"funny_captions\": 9, \"mean_rank_top\": 2284.65, \"median_rank_top\": 2289.0, \"n_captions\": 5012, \"n_top\": 20, \"responses\": 160384.0, \"contest\": \"559-active\"}, {\"algorithm\": \"KLUCB\", \"funny_captions\": 3, \"mean_rank_top\": 2530.05, \"median_rank_top\": 2762.5, \"n_captions\": 5012, \"n_top\": 20, \"responses\": 165396.0, \"contest\": \"559-active\"}, {\"algorithm\": \"LilUCB\", \"funny_captions\": 11, \"mean_rank_top\": 2282.6, \"median_rank_top\": 2360.5, \"n_captions\": 5012, \"n_top\": 20, \"responses\": 165396.0, \"contest\": \"559-active\"}, {\"algorithm\": \"KLUCB\", \"funny_captions\": 2, \"mean_rank_top\": 2522.35, \"median_rank_top\": 2670.0, \"n_captions\": 5012, \"n_top\": 20, \"responses\": 170408.0, \"contest\": \"559-active\"}, {\"algorithm\": \"LilUCB\", \"funny_captions\": 13, \"mean_rank_top\": 2225.25, \"median_rank_top\": 2384.0, \"n_captions\": 5012, \"n_top\": 20, \"responses\": 170408.0, \"contest\": \"559-active\"}, {\"algorithm\": \"KLUCB\", \"funny_captions\": 3, \"mean_rank_top\": 2477.5, \"median_rank_top\": 2277.5, \"n_captions\": 5012, \"n_top\": 20, \"responses\": 175420.0, \"contest\": \"559-active\"}, {\"algorithm\": \"LilUCB\", \"funny_captions\": 12, \"mean_rank_top\": 2151.9, \"median_rank_top\": 2099.0, \"n_captions\": 5012, \"n_top\": 20, \"responses\": 175420.0, \"contest\": \"559-active\"}, {\"algorithm\": \"KLUCB\", \"funny_captions\": 1, \"mean_rank_top\": 2524.05, \"median_rank_top\": 2314.5, \"n_captions\": 5012, \"n_top\": 20, \"responses\": 180432.0, \"contest\": \"559-active\"}, {\"algorithm\": \"LilUCB\", \"funny_captions\": 13, \"mean_rank_top\": 2222.1, \"median_rank_top\": 2158.5, \"n_captions\": 5012, \"n_top\": 20, \"responses\": 180432.0, \"contest\": \"559-active\"}, {\"algorithm\": \"KLUCB\", \"funny_captions\": 3, \"mean_rank_top\": 2556.05, \"median_rank_top\": 2448.0, \"n_captions\": 5012, \"n_top\": 20, \"responses\": 185444.0, \"contest\": \"559-active\"}, {\"algorithm\": \"LilUCB\", \"funny_captions\": 15, \"mean_rank_top\": 2230.55, \"median_rank_top\": 2147.5, \"n_captions\": 5012, \"n_top\": 20, \"responses\": 185444.0, \"contest\": \"559-active\"}, {\"algorithm\": \"KLUCB\", \"funny_captions\": 2, \"mean_rank_top\": 2523.4, \"median_rank_top\": 2445.0, \"n_captions\": 5012, \"n_top\": 20, \"responses\": 190456.0, \"contest\": \"559-active\"}, {\"algorithm\": \"LilUCB\", \"funny_captions\": 14, \"mean_rank_top\": 2257.55, \"median_rank_top\": 2295.0, \"n_captions\": 5012, \"n_top\": 20, \"responses\": 190456.0, \"contest\": \"559-active\"}, {\"algorithm\": \"KLUCB\", \"funny_captions\": 2, \"mean_rank_top\": 2510.15, \"median_rank_top\": 2372.5, \"n_captions\": 5012, \"n_top\": 20, \"responses\": 195468.0, \"contest\": \"559-active\"}, {\"algorithm\": \"LilUCB\", \"funny_captions\": 12, \"mean_rank_top\": 2234.6, \"median_rank_top\": 2213.0, \"n_captions\": 5012, \"n_top\": 20, \"responses\": 195468.0, \"contest\": \"559-active\"}, {\"algorithm\": \"KLUCB\", \"funny_captions\": 2, \"mean_rank_top\": 2497.7, \"median_rank_top\": 2319.5, \"n_captions\": 5012, \"n_top\": 20, \"responses\": 200480.0, \"contest\": \"559-active\"}, {\"algorithm\": \"LilUCB\", \"funny_captions\": 2, \"mean_rank_top\": 2225.35, \"median_rank_top\": 2194.5, \"n_captions\": 5012, \"n_top\": 20, \"responses\": 200480.0, \"contest\": \"559-active\"}, {\"algorithm\": \"KLUCB\", \"funny_captions\": 12, \"mean_rank_top\": 2498.5, \"median_rank_top\": 2381.0, \"n_captions\": 5012, \"n_top\": 20, \"responses\": 205492.0, \"contest\": \"559-active\"}, {\"algorithm\": \"LilUCB\", \"funny_captions\": 2, \"mean_rank_top\": 2238.65, \"median_rank_top\": 2122.0, \"n_captions\": 5012, \"n_top\": 20, \"responses\": 205492.0, \"contest\": \"559-active\"}, {\"algorithm\": \"KLUCB\", \"funny_captions\": 9, \"mean_rank_top\": 2508.2, \"median_rank_top\": 2386.5, \"n_captions\": 5012, \"n_top\": 20, \"responses\": 210504.0, \"contest\": \"559-active\"}, {\"algorithm\": \"LilUCB\", \"funny_captions\": 3, \"mean_rank_top\": 2248.25, \"median_rank_top\": 2207.5, \"n_captions\": 5012, \"n_top\": 20, \"responses\": 210504.0, \"contest\": \"559-active\"}, {\"algorithm\": \"KLUCB\", \"funny_captions\": 8, \"mean_rank_top\": 2510.95, \"median_rank_top\": 2445.5, \"n_captions\": 5012, \"n_top\": 20, \"responses\": 215516.0, \"contest\": \"559-active\"}, {\"algorithm\": \"LilUCB\", \"funny_captions\": 2, \"mean_rank_top\": 2248.25, \"median_rank_top\": 2313.5, \"n_captions\": 5012, \"n_top\": 20, \"responses\": 215516.0, \"contest\": \"559-active\"}, {\"algorithm\": \"KLUCB\", \"funny_captions\": 5, \"mean_rank_top\": 2614.15, \"median_rank_top\": 2525.5, \"n_captions\": 5012, \"n_top\": 20, \"responses\": 220528.0, \"contest\": \"559-active\"}, {\"algorithm\": \"LilUCB\", \"funny_captions\": 2, \"mean_rank_top\": 2188.5, \"median_rank_top\": 2157.0, \"n_captions\": 5012, \"n_top\": 20, \"responses\": 220528.0, \"contest\": \"559-active\"}, {\"algorithm\": \"KLUCB\", \"funny_captions\": 5, \"mean_rank_top\": 2614.7, \"median_rank_top\": 2487.0, \"n_captions\": 5012, \"n_top\": 20, \"responses\": 225540.0, \"contest\": \"559-active\"}, {\"algorithm\": \"LilUCB\", \"funny_captions\": 2, \"mean_rank_top\": 2219.55, \"median_rank_top\": 2286.0, \"n_captions\": 5012, \"n_top\": 20, \"responses\": 225540.0, \"contest\": \"559-active\"}, {\"algorithm\": \"KLUCB\", \"funny_captions\": 5, \"mean_rank_top\": 2549.0, \"median_rank_top\": 2463.0, \"n_captions\": 5012, \"n_top\": 20, \"responses\": 230552.0, \"contest\": \"559-active\"}, {\"algorithm\": \"LilUCB\", \"funny_captions\": 2, \"mean_rank_top\": 2256.4, \"median_rank_top\": 2320.0, \"n_captions\": 5012, \"n_top\": 20, \"responses\": 230552.0, \"contest\": \"559-active\"}, {\"algorithm\": \"KLUCB\", \"funny_captions\": 3, \"mean_rank_top\": 2576.4, \"median_rank_top\": 2458.0, \"n_captions\": 5012, \"n_top\": 20, \"responses\": 235564.0, \"contest\": \"559-active\"}, {\"algorithm\": \"LilUCB\", \"funny_captions\": 2, \"mean_rank_top\": 2223.15, \"median_rank_top\": 2457.0, \"n_captions\": 5012, \"n_top\": 20, \"responses\": 235564.0, \"contest\": \"559-active\"}, {\"algorithm\": \"KLUCB\", \"funny_captions\": 4, \"mean_rank_top\": 2570.45, \"median_rank_top\": 2460.0, \"n_captions\": 5012, \"n_top\": 20, \"responses\": 240576.0, \"contest\": \"559-active\"}, {\"algorithm\": \"LilUCB\", \"funny_captions\": 3, \"mean_rank_top\": 2238.25, \"median_rank_top\": 2496.0, \"n_captions\": 5012, \"n_top\": 20, \"responses\": 240576.0, \"contest\": \"559-active\"}, {\"algorithm\": \"KLUCB\", \"funny_captions\": 2, \"mean_rank_top\": 2580.6, \"median_rank_top\": 2513.0, \"n_captions\": 5012, \"n_top\": 20, \"responses\": 245588.0, \"contest\": \"559-active\"}, {\"algorithm\": \"LilUCB\", \"funny_captions\": 3, \"mean_rank_top\": 2223.3, \"median_rank_top\": 2154.5, \"n_captions\": 5012, \"n_top\": 20, \"responses\": 245588.0, \"contest\": \"559-active\"}]}};\n",
       "var selector = \"#e71b5dc1-2d97-45f7-a06d-4b2b49742444\";\n",
       "var type = \"vega-lite\";\n",
       "\n",
       "var output_area = this;\n",
       "require(['nbextensions/jupyter-vega/index'], function(vega) {\n",
       "  vega.render(selector, spec, type, output_area);\n",
       "}, function (err) {\n",
       "  if (err.requireType !== 'scripterror') {\n",
       "    throw(err);\n",
       "  }\n",
       "});\n"
      ]
     },
     "metadata": {
      "jupyter-vega": "#e71b5dc1-2d97-45f7-a06d-4b2b49742444"
     },
     "output_type": "display_data"
    },
    {
     "data": {
      "image/png": "[encoded data removed]"
     },
     "metadata": {
      "jupyter-vega": "#e71b5dc1-2d97-45f7-a06d-4b2b49742444"
     },
     "output_type": "display_data"
    }
   ],
   "source": [
    "Chart(stats).mark_line().encode(\n",
    "    x=X('responses', scale=Scale(type='linear')),\n",
    "    y=Y('median_rank_top', scale=Scale(type='log')),\n",
    "    color='algorithm')"
   ]
  },
  {
   "cell_type": "code",
   "execution_count": 12,
   "metadata": {
    "ExecuteTime": {
     "end_time": "2017-04-08T15:29:17.111207Z",
     "start_time": "2017-04-08T10:29:17.095966-05:00"
    }
   },
   "outputs": [
    {
     "data": {
      "text/html": [
       "<div class=\"vega-embed\" id=\"279e9a5b-5cd9-489e-b5f6-6267b56b7f9a\"></div>\n",
       "\n",
       "<style>\n",
       ".vega-embed svg, .vega-embed canvas {\n",
       "  border: 1px dotted gray;\n",
       "}\n",
       "\n",
       ".vega-embed .vega-actions a {\n",
       "  margin-right: 6px;\n",
       "}\n",
       "</style>\n"
      ]
     },
     "metadata": {
      "jupyter-vega": "#279e9a5b-5cd9-489e-b5f6-6267b56b7f9a"
     },
     "output_type": "display_data"
    },
    {
     "data": {
      "application/javascript": [
       "var spec = {\"config\": {\"cell\": {\"width\": 500, \"height\": 350}}, \"encoding\": {\"x\": {\"field\": \"responses\", \"type\": \"quantitative\"}, \"y\": {\"aggregate\": \"count\", \"field\": \"contest\", \"sort\": \"descending\", \"type\": \"nominal\"}}, \"mark\": \"circle\", \"data\": {\"values\": [{\"algorithm\": \"KLUCB\", \"funny_captions\": 0, \"mean_rank_top\": 2569.0, \"median_rank_top\": 2350.0, \"n_captions\": 5012, \"n_top\": 20, \"responses\": 5012.0, \"contest\": \"559-active\"}, {\"algorithm\": \"LilUCB\", \"funny_captions\": 0, \"mean_rank_top\": 3278.5, \"median_rank_top\": 3445.5, \"n_captions\": 5012, \"n_top\": 20, \"responses\": 5012.0, \"contest\": \"559-active\"}, {\"algorithm\": \"KLUCB\", \"funny_captions\": 5012, \"mean_rank_top\": 2497.2, \"median_rank_top\": 2217.0, \"n_captions\": 5012, \"n_top\": 20, \"responses\": 10024.0, \"contest\": \"559-active\"}, {\"algorithm\": \"LilUCB\", \"funny_captions\": 5012, \"mean_rank_top\": 2921.35, \"median_rank_top\": 3095.5, \"n_captions\": 5012, \"n_top\": 20, \"responses\": 10024.0, \"contest\": \"559-active\"}, {\"algorithm\": \"KLUCB\", \"funny_captions\": 1776, \"mean_rank_top\": 2241.15, \"median_rank_top\": 2579.5, \"n_captions\": 5012, \"n_top\": 20, \"responses\": 15036.0, \"contest\": \"559-active\"}, {\"algorithm\": \"LilUCB\", \"funny_captions\": 1392, \"mean_rank_top\": 2502.1, \"median_rank_top\": 3186.0, \"n_captions\": 5012, \"n_top\": 20, \"responses\": 15036.0, \"contest\": \"559-active\"}, {\"algorithm\": \"KLUCB\", \"funny_captions\": 244, \"mean_rank_top\": 2070.55, \"median_rank_top\": 2391.0, \"n_captions\": 5012, \"n_top\": 20, \"responses\": 20048.0, \"contest\": \"559-active\"}, {\"algorithm\": \"LilUCB\", \"funny_captions\": 306, \"mean_rank_top\": 2419.75, \"median_rank_top\": 3066.0, \"n_captions\": 5012, \"n_top\": 20, \"responses\": 20048.0, \"contest\": \"559-active\"}, {\"algorithm\": \"KLUCB\", \"funny_captions\": 95, \"mean_rank_top\": 2137.9, \"median_rank_top\": 2427.5, \"n_captions\": 5012, \"n_top\": 20, \"responses\": 25060.0, \"contest\": \"559-active\"}, {\"algorithm\": \"LilUCB\", \"funny_captions\": 155, \"mean_rank_top\": 2135.7, \"median_rank_top\": 1556.5, \"n_captions\": 5012, \"n_top\": 20, \"responses\": 25060.0, \"contest\": \"559-active\"}, {\"algorithm\": \"KLUCB\", \"funny_captions\": 62, \"mean_rank_top\": 2226.25, \"median_rank_top\": 2592.0, \"n_captions\": 5012, \"n_top\": 20, \"responses\": 30072.0, \"contest\": \"559-active\"}, {\"algorithm\": \"LilUCB\", \"funny_captions\": 127, \"mean_rank_top\": 1956.75, \"median_rank_top\": 1420.5, \"n_captions\": 5012, \"n_top\": 20, \"responses\": 30072.0, \"contest\": \"559-active\"}, {\"algorithm\": \"KLUCB\", \"funny_captions\": 76, \"mean_rank_top\": 2132.15, \"median_rank_top\": 1496.5, \"n_captions\": 5012, \"n_top\": 20, \"responses\": 35084.0, \"contest\": \"559-active\"}, {\"algorithm\": \"LilUCB\", \"funny_captions\": 125, \"mean_rank_top\": 1931.45, \"median_rank_top\": 1419.0, \"n_captions\": 5012, \"n_top\": 20, \"responses\": 35084.0, \"contest\": \"559-active\"}, {\"algorithm\": \"KLUCB\", \"funny_captions\": 32, \"mean_rank_top\": 2127.05, \"median_rank_top\": 1364.5, \"n_captions\": 5012, \"n_top\": 20, \"responses\": 40096.0, \"contest\": \"559-active\"}, {\"algorithm\": \"LilUCB\", \"funny_captions\": 122, \"mean_rank_top\": 2023.05, \"median_rank_top\": 1603.5, \"n_captions\": 5012, \"n_top\": 20, \"responses\": 40096.0, \"contest\": \"559-active\"}, {\"algorithm\": \"KLUCB\", \"funny_captions\": 26, \"mean_rank_top\": 2128.85, \"median_rank_top\": 1498.5, \"n_captions\": 5012, \"n_top\": 20, \"responses\": 45108.0, \"contest\": \"559-active\"}, {\"algorithm\": \"LilUCB\", \"funny_captions\": 100, \"mean_rank_top\": 2058.5, \"median_rank_top\": 1775.5, \"n_captions\": 5012, \"n_top\": 20, \"responses\": 45108.0, \"contest\": \"559-active\"}, {\"algorithm\": \"KLUCB\", \"funny_captions\": 20, \"mean_rank_top\": 1972.95, \"median_rank_top\": 1634.0, \"n_captions\": 5012, \"n_top\": 20, \"responses\": 50120.0, \"contest\": \"559-active\"}, {\"algorithm\": \"LilUCB\", \"funny_captions\": 175, \"mean_rank_top\": 2231.2, \"median_rank_top\": 2020.5, \"n_captions\": 5012, \"n_top\": 20, \"responses\": 50120.0, \"contest\": \"559-active\"}, {\"algorithm\": \"KLUCB\", \"funny_captions\": 30, \"mean_rank_top\": 1914.15, \"median_rank_top\": 1722.5, \"n_captions\": 5012, \"n_top\": 20, \"responses\": 55132.0, \"contest\": \"559-active\"}, {\"algorithm\": \"LilUCB\", \"funny_captions\": 117, \"mean_rank_top\": 2255.1, \"median_rank_top\": 2406.0, \"n_captions\": 5012, \"n_top\": 20, \"responses\": 55132.0, \"contest\": \"559-active\"}, {\"algorithm\": \"KLUCB\", \"funny_captions\": 16, \"mean_rank_top\": 1856.8, \"median_rank_top\": 1742.5, \"n_captions\": 5012, \"n_top\": 20, \"responses\": 60144.0, \"contest\": \"559-active\"}, {\"algorithm\": \"LilUCB\", \"funny_captions\": 142, \"mean_rank_top\": 2166.25, \"median_rank_top\": 2443.5, \"n_captions\": 5012, \"n_top\": 20, \"responses\": 60144.0, \"contest\": \"559-active\"}, {\"algorithm\": \"KLUCB\", \"funny_captions\": 9, \"mean_rank_top\": 1945.4, \"median_rank_top\": 1829.0, \"n_captions\": 5012, \"n_top\": 20, \"responses\": 65156.0, \"contest\": \"559-active\"}, {\"algorithm\": \"LilUCB\", \"funny_captions\": 143, \"mean_rank_top\": 2231.8, \"median_rank_top\": 1975.0, \"n_captions\": 5012, \"n_top\": 20, \"responses\": 65156.0, \"contest\": \"559-active\"}, {\"algorithm\": \"KLUCB\", \"funny_captions\": 10, \"mean_rank_top\": 1967.1, \"median_rank_top\": 1957.0, \"n_captions\": 5012, \"n_top\": 20, \"responses\": 70168.0, \"contest\": \"559-active\"}, {\"algorithm\": \"LilUCB\", \"funny_captions\": 102, \"mean_rank_top\": 2258.55, \"median_rank_top\": 2370.0, \"n_captions\": 5012, \"n_top\": 20, \"responses\": 70168.0, \"contest\": \"559-active\"}, {\"algorithm\": \"KLUCB\", \"funny_captions\": 8, \"mean_rank_top\": 1988.45, \"median_rank_top\": 1962.0, \"n_captions\": 5012, \"n_top\": 20, \"responses\": 75180.0, \"contest\": \"559-active\"}, {\"algorithm\": \"LilUCB\", \"funny_captions\": 62, \"mean_rank_top\": 2298.95, \"median_rank_top\": 2281.5, \"n_captions\": 5012, \"n_top\": 20, \"responses\": 75180.0, \"contest\": \"559-active\"}, {\"algorithm\": \"KLUCB\", \"funny_captions\": 7, \"mean_rank_top\": 2052.05, \"median_rank_top\": 2017.0, \"n_captions\": 5012, \"n_top\": 20, \"responses\": 80192.0, \"contest\": \"559-active\"}, {\"algorithm\": \"LilUCB\", \"funny_captions\": 66, \"mean_rank_top\": 2338.85, \"median_rank_top\": 2378.5, \"n_captions\": 5012, \"n_top\": 20, \"responses\": 80192.0, \"contest\": \"559-active\"}, {\"algorithm\": \"KLUCB\", \"funny_captions\": 7, \"mean_rank_top\": 2044.95, \"median_rank_top\": 2159.0, \"n_captions\": 5012, \"n_top\": 20, \"responses\": 85204.0, \"contest\": \"559-active\"}, {\"algorithm\": \"LilUCB\", \"funny_captions\": 125, \"mean_rank_top\": 2310.35, \"median_rank_top\": 2617.5, \"n_captions\": 5012, \"n_top\": 20, \"responses\": 85204.0, \"contest\": \"559-active\"}, {\"algorithm\": \"KLUCB\", \"funny_captions\": 8, \"mean_rank_top\": 2076.5, \"median_rank_top\": 2126.0, \"n_captions\": 5012, \"n_top\": 20, \"responses\": 90216.0, \"contest\": \"559-active\"}, {\"algorithm\": \"LilUCB\", \"funny_captions\": 99, \"mean_rank_top\": 2314.45, \"median_rank_top\": 2692.5, \"n_captions\": 5012, \"n_top\": 20, \"responses\": 90216.0, \"contest\": \"559-active\"}, {\"algorithm\": \"KLUCB\", \"funny_captions\": 9, \"mean_rank_top\": 2059.65, \"median_rank_top\": 2130.5, \"n_captions\": 5012, \"n_top\": 20, \"responses\": 95228.0, \"contest\": \"559-active\"}, {\"algorithm\": \"LilUCB\", \"funny_captions\": 49, \"mean_rank_top\": 2448.05, \"median_rank_top\": 3125.0, \"n_captions\": 5012, \"n_top\": 20, \"responses\": 95228.0, \"contest\": \"559-active\"}, {\"algorithm\": \"KLUCB\", \"funny_captions\": 12, \"mean_rank_top\": 2132.65, \"median_rank_top\": 2116.5, \"n_captions\": 5012, \"n_top\": 20, \"responses\": 100240.0, \"contest\": \"559-active\"}, {\"algorithm\": \"LilUCB\", \"funny_captions\": 65, \"mean_rank_top\": 2487.35, \"median_rank_top\": 3181.0, \"n_captions\": 5012, \"n_top\": 20, \"responses\": 100240.0, \"contest\": \"559-active\"}, {\"algorithm\": \"KLUCB\", \"funny_captions\": 3, \"mean_rank_top\": 2274.7, \"median_rank_top\": 2173.0, \"n_captions\": 5012, \"n_top\": 20, \"responses\": 105252.0, \"contest\": \"559-active\"}, {\"algorithm\": \"LilUCB\", \"funny_captions\": 37, \"mean_rank_top\": 2315.5, \"median_rank_top\": 2810.5, \"n_captions\": 5012, \"n_top\": 20, \"responses\": 105252.0, \"contest\": \"559-active\"}, {\"algorithm\": \"KLUCB\", \"funny_captions\": 3, \"mean_rank_top\": 2244.55, \"median_rank_top\": 2260.5, \"n_captions\": 5012, \"n_top\": 20, \"responses\": 110264.0, \"contest\": \"559-active\"}, {\"algorithm\": \"LilUCB\", \"funny_captions\": 39, \"mean_rank_top\": 2344.75, \"median_rank_top\": 2723.5, \"n_captions\": 5012, \"n_top\": 20, \"responses\": 110264.0, \"contest\": \"559-active\"}, {\"algorithm\": \"KLUCB\", \"funny_captions\": 5, \"mean_rank_top\": 2358.15, \"median_rank_top\": 2320.0, \"n_captions\": 5012, \"n_top\": 20, \"responses\": 115276.0, \"contest\": \"559-active\"}, {\"algorithm\": \"LilUCB\", \"funny_captions\": 65, \"mean_rank_top\": 2375.25, \"median_rank_top\": 2784.5, \"n_captions\": 5012, \"n_top\": 20, \"responses\": 115276.0, \"contest\": \"559-active\"}, {\"algorithm\": \"KLUCB\", \"funny_captions\": 5, \"mean_rank_top\": 2335.9, \"median_rank_top\": 2335.5, \"n_captions\": 5012, \"n_top\": 20, \"responses\": 120288.0, \"contest\": \"559-active\"}, {\"algorithm\": \"LilUCB\", \"funny_captions\": 49, \"mean_rank_top\": 2372.3, \"median_rank_top\": 2772.0, \"n_captions\": 5012, \"n_top\": 20, \"responses\": 120288.0, \"contest\": \"559-active\"}, {\"algorithm\": \"KLUCB\", \"funny_captions\": 6, \"mean_rank_top\": 2326.15, \"median_rank_top\": 2492.0, \"n_captions\": 5012, \"n_top\": 20, \"responses\": 125300.0, \"contest\": \"559-active\"}, {\"algorithm\": \"LilUCB\", \"funny_captions\": 52, \"mean_rank_top\": 2360.4, \"median_rank_top\": 2737.5, \"n_captions\": 5012, \"n_top\": 20, \"responses\": 125300.0, \"contest\": \"559-active\"}, {\"algorithm\": \"KLUCB\", \"funny_captions\": 9, \"mean_rank_top\": 2413.4, \"median_rank_top\": 2401.0, \"n_captions\": 5012, \"n_top\": 20, \"responses\": 130312.0, \"contest\": \"559-active\"}, {\"algorithm\": \"LilUCB\", \"funny_captions\": 51, \"mean_rank_top\": 2338.55, \"median_rank_top\": 2739.0, \"n_captions\": 5012, \"n_top\": 20, \"responses\": 130312.0, \"contest\": \"559-active\"}, {\"algorithm\": \"KLUCB\", \"funny_captions\": 2, \"mean_rank_top\": 2521.4, \"median_rank_top\": 2575.5, \"n_captions\": 5012, \"n_top\": 20, \"responses\": 135324.0, \"contest\": \"559-active\"}, {\"algorithm\": \"LilUCB\", \"funny_captions\": 42, \"mean_rank_top\": 2327.85, \"median_rank_top\": 2519.0, \"n_captions\": 5012, \"n_top\": 20, \"responses\": 135324.0, \"contest\": \"559-active\"}, {\"algorithm\": \"KLUCB\", \"funny_captions\": 2, \"mean_rank_top\": 2514.4, \"median_rank_top\": 2574.0, \"n_captions\": 5012, \"n_top\": 20, \"responses\": 140336.0, \"contest\": \"559-active\"}, {\"algorithm\": \"LilUCB\", \"funny_captions\": 40, \"mean_rank_top\": 2367.0, \"median_rank_top\": 2624.0, \"n_captions\": 5012, \"n_top\": 20, \"responses\": 140336.0, \"contest\": \"559-active\"}, {\"algorithm\": \"KLUCB\", \"funny_captions\": 3, \"mean_rank_top\": 2481.8, \"median_rank_top\": 2723.5, \"n_captions\": 5012, \"n_top\": 20, \"responses\": 145348.0, \"contest\": \"559-active\"}, {\"algorithm\": \"LilUCB\", \"funny_captions\": 42, \"mean_rank_top\": 2353.75, \"median_rank_top\": 2706.5, \"n_captions\": 5012, \"n_top\": 20, \"responses\": 145348.0, \"contest\": \"559-active\"}, {\"algorithm\": \"KLUCB\", \"funny_captions\": 3, \"mean_rank_top\": 2549.75, \"median_rank_top\": 2725.5, \"n_captions\": 5012, \"n_top\": 20, \"responses\": 150360.0, \"contest\": \"559-active\"}, {\"algorithm\": \"LilUCB\", \"funny_captions\": 16, \"mean_rank_top\": 2288.6, \"median_rank_top\": 2334.5, \"n_captions\": 5012, \"n_top\": 20, \"responses\": 150360.0, \"contest\": \"559-active\"}, {\"algorithm\": \"KLUCB\", \"funny_captions\": 4, \"mean_rank_top\": 2551.55, \"median_rank_top\": 2753.0, \"n_captions\": 5012, \"n_top\": 20, \"responses\": 155372.0, \"contest\": \"559-active\"}, {\"algorithm\": \"LilUCB\", \"funny_captions\": 9, \"mean_rank_top\": 2318.1, \"median_rank_top\": 2342.5, \"n_captions\": 5012, \"n_top\": 20, \"responses\": 155372.0, \"contest\": \"559-active\"}, {\"algorithm\": \"KLUCB\", \"funny_captions\": 5, \"mean_rank_top\": 2515.05, \"median_rank_top\": 2745.5, \"n_captions\": 5012, \"n_top\": 20, \"responses\": 160384.0, \"contest\": \"559-active\"}, {\"algorithm\": \"LilUCB\", \"funny_captions\": 9, \"mean_rank_top\": 2284.65, \"median_rank_top\": 2289.0, \"n_captions\": 5012, \"n_top\": 20, \"responses\": 160384.0, \"contest\": \"559-active\"}, {\"algorithm\": \"KLUCB\", \"funny_captions\": 3, \"mean_rank_top\": 2530.05, \"median_rank_top\": 2762.5, \"n_captions\": 5012, \"n_top\": 20, \"responses\": 165396.0, \"contest\": \"559-active\"}, {\"algorithm\": \"LilUCB\", \"funny_captions\": 11, \"mean_rank_top\": 2282.6, \"median_rank_top\": 2360.5, \"n_captions\": 5012, \"n_top\": 20, \"responses\": 165396.0, \"contest\": \"559-active\"}, {\"algorithm\": \"KLUCB\", \"funny_captions\": 2, \"mean_rank_top\": 2522.35, \"median_rank_top\": 2670.0, \"n_captions\": 5012, \"n_top\": 20, \"responses\": 170408.0, \"contest\": \"559-active\"}, {\"algorithm\": \"LilUCB\", \"funny_captions\": 13, \"mean_rank_top\": 2225.25, \"median_rank_top\": 2384.0, \"n_captions\": 5012, \"n_top\": 20, \"responses\": 170408.0, \"contest\": \"559-active\"}, {\"algorithm\": \"KLUCB\", \"funny_captions\": 3, \"mean_rank_top\": 2477.5, \"median_rank_top\": 2277.5, \"n_captions\": 5012, \"n_top\": 20, \"responses\": 175420.0, \"contest\": \"559-active\"}, {\"algorithm\": \"LilUCB\", \"funny_captions\": 12, \"mean_rank_top\": 2151.9, \"median_rank_top\": 2099.0, \"n_captions\": 5012, \"n_top\": 20, \"responses\": 175420.0, \"contest\": \"559-active\"}, {\"algorithm\": \"KLUCB\", \"funny_captions\": 1, \"mean_rank_top\": 2524.05, \"median_rank_top\": 2314.5, \"n_captions\": 5012, \"n_top\": 20, \"responses\": 180432.0, \"contest\": \"559-active\"}, {\"algorithm\": \"LilUCB\", \"funny_captions\": 13, \"mean_rank_top\": 2222.1, \"median_rank_top\": 2158.5, \"n_captions\": 5012, \"n_top\": 20, \"responses\": 180432.0, \"contest\": \"559-active\"}, {\"algorithm\": \"KLUCB\", \"funny_captions\": 3, \"mean_rank_top\": 2556.05, \"median_rank_top\": 2448.0, \"n_captions\": 5012, \"n_top\": 20, \"responses\": 185444.0, \"contest\": \"559-active\"}, {\"algorithm\": \"LilUCB\", \"funny_captions\": 15, \"mean_rank_top\": 2230.55, \"median_rank_top\": 2147.5, \"n_captions\": 5012, \"n_top\": 20, \"responses\": 185444.0, \"contest\": \"559-active\"}, {\"algorithm\": \"KLUCB\", \"funny_captions\": 2, \"mean_rank_top\": 2523.4, \"median_rank_top\": 2445.0, \"n_captions\": 5012, \"n_top\": 20, \"responses\": 190456.0, \"contest\": \"559-active\"}, {\"algorithm\": \"LilUCB\", \"funny_captions\": 14, \"mean_rank_top\": 2257.55, \"median_rank_top\": 2295.0, \"n_captions\": 5012, \"n_top\": 20, \"responses\": 190456.0, \"contest\": \"559-active\"}, {\"algorithm\": \"KLUCB\", \"funny_captions\": 2, \"mean_rank_top\": 2510.15, \"median_rank_top\": 2372.5, \"n_captions\": 5012, \"n_top\": 20, \"responses\": 195468.0, \"contest\": \"559-active\"}, {\"algorithm\": \"LilUCB\", \"funny_captions\": 12, \"mean_rank_top\": 2234.6, \"median_rank_top\": 2213.0, \"n_captions\": 5012, \"n_top\": 20, \"responses\": 195468.0, \"contest\": \"559-active\"}, {\"algorithm\": \"KLUCB\", \"funny_captions\": 2, \"mean_rank_top\": 2497.7, \"median_rank_top\": 2319.5, \"n_captions\": 5012, \"n_top\": 20, \"responses\": 200480.0, \"contest\": \"559-active\"}, {\"algorithm\": \"LilUCB\", \"funny_captions\": 2, \"mean_rank_top\": 2225.35, \"median_rank_top\": 2194.5, \"n_captions\": 5012, \"n_top\": 20, \"responses\": 200480.0, \"contest\": \"559-active\"}, {\"algorithm\": \"KLUCB\", \"funny_captions\": 12, \"mean_rank_top\": 2498.5, \"median_rank_top\": 2381.0, \"n_captions\": 5012, \"n_top\": 20, \"responses\": 205492.0, \"contest\": \"559-active\"}, {\"algorithm\": \"LilUCB\", \"funny_captions\": 2, \"mean_rank_top\": 2238.65, \"median_rank_top\": 2122.0, \"n_captions\": 5012, \"n_top\": 20, \"responses\": 205492.0, \"contest\": \"559-active\"}, {\"algorithm\": \"KLUCB\", \"funny_captions\": 9, \"mean_rank_top\": 2508.2, \"median_rank_top\": 2386.5, \"n_captions\": 5012, \"n_top\": 20, \"responses\": 210504.0, \"contest\": \"559-active\"}, {\"algorithm\": \"LilUCB\", \"funny_captions\": 3, \"mean_rank_top\": 2248.25, \"median_rank_top\": 2207.5, \"n_captions\": 5012, \"n_top\": 20, \"responses\": 210504.0, \"contest\": \"559-active\"}, {\"algorithm\": \"KLUCB\", \"funny_captions\": 8, \"mean_rank_top\": 2510.95, \"median_rank_top\": 2445.5, \"n_captions\": 5012, \"n_top\": 20, \"responses\": 215516.0, \"contest\": \"559-active\"}, {\"algorithm\": \"LilUCB\", \"funny_captions\": 2, \"mean_rank_top\": 2248.25, \"median_rank_top\": 2313.5, \"n_captions\": 5012, \"n_top\": 20, \"responses\": 215516.0, \"contest\": \"559-active\"}, {\"algorithm\": \"KLUCB\", \"funny_captions\": 5, \"mean_rank_top\": 2614.15, \"median_rank_top\": 2525.5, \"n_captions\": 5012, \"n_top\": 20, \"responses\": 220528.0, \"contest\": \"559-active\"}, {\"algorithm\": \"LilUCB\", \"funny_captions\": 2, \"mean_rank_top\": 2188.5, \"median_rank_top\": 2157.0, \"n_captions\": 5012, \"n_top\": 20, \"responses\": 220528.0, \"contest\": \"559-active\"}, {\"algorithm\": \"KLUCB\", \"funny_captions\": 5, \"mean_rank_top\": 2614.7, \"median_rank_top\": 2487.0, \"n_captions\": 5012, \"n_top\": 20, \"responses\": 225540.0, \"contest\": \"559-active\"}, {\"algorithm\": \"LilUCB\", \"funny_captions\": 2, \"mean_rank_top\": 2219.55, \"median_rank_top\": 2286.0, \"n_captions\": 5012, \"n_top\": 20, \"responses\": 225540.0, \"contest\": \"559-active\"}, {\"algorithm\": \"KLUCB\", \"funny_captions\": 5, \"mean_rank_top\": 2549.0, \"median_rank_top\": 2463.0, \"n_captions\": 5012, \"n_top\": 20, \"responses\": 230552.0, \"contest\": \"559-active\"}, {\"algorithm\": \"LilUCB\", \"funny_captions\": 2, \"mean_rank_top\": 2256.4, \"median_rank_top\": 2320.0, \"n_captions\": 5012, \"n_top\": 20, \"responses\": 230552.0, \"contest\": \"559-active\"}, {\"algorithm\": \"KLUCB\", \"funny_captions\": 3, \"mean_rank_top\": 2576.4, \"median_rank_top\": 2458.0, \"n_captions\": 5012, \"n_top\": 20, \"responses\": 235564.0, \"contest\": \"559-active\"}, {\"algorithm\": \"LilUCB\", \"funny_captions\": 2, \"mean_rank_top\": 2223.15, \"median_rank_top\": 2457.0, \"n_captions\": 5012, \"n_top\": 20, \"responses\": 235564.0, \"contest\": \"559-active\"}, {\"algorithm\": \"KLUCB\", \"funny_captions\": 4, \"mean_rank_top\": 2570.45, \"median_rank_top\": 2460.0, \"n_captions\": 5012, \"n_top\": 20, \"responses\": 240576.0, \"contest\": \"559-active\"}, {\"algorithm\": \"LilUCB\", \"funny_captions\": 3, \"mean_rank_top\": 2238.25, \"median_rank_top\": 2496.0, \"n_captions\": 5012, \"n_top\": 20, \"responses\": 240576.0, \"contest\": \"559-active\"}, {\"algorithm\": \"KLUCB\", \"funny_captions\": 2, \"mean_rank_top\": 2580.6, \"median_rank_top\": 2513.0, \"n_captions\": 5012, \"n_top\": 20, \"responses\": 245588.0, \"contest\": \"559-active\"}, {\"algorithm\": \"LilUCB\", \"funny_captions\": 3, \"mean_rank_top\": 2223.3, \"median_rank_top\": 2154.5, \"n_captions\": 5012, \"n_top\": 20, \"responses\": 245588.0, \"contest\": \"559-active\"}]}};\n",
       "var selector = \"#279e9a5b-5cd9-489e-b5f6-6267b56b7f9a\";\n",
       "var type = \"vega-lite\";\n",
       "\n",
       "var output_area = this;\n",
       "require(['nbextensions/jupyter-vega/index'], function(vega) {\n",
       "  vega.render(selector, spec, type, output_area);\n",
       "}, function (err) {\n",
       "  if (err.requireType !== 'scripterror') {\n",
       "    throw(err);\n",
       "  }\n",
       "});\n"
      ]
     },
     "metadata": {
      "jupyter-vega": "#279e9a5b-5cd9-489e-b5f6-6267b56b7f9a"
     },
     "output_type": "display_data"
    },
    {
     "data": {
      "image/png": "[encoded data removed]"
     },
     "metadata": {
      "jupyter-vega": "#279e9a5b-5cd9-489e-b5f6-6267b56b7f9a"
     },
     "output_type": "display_data"
    }
   ],
   "source": [
    "Chart(stats).mark_circle().encode(\n",
    "    x='responses', y=Y('count(contest)', sort='descending')\n",
    ")"
   ]
  },
  {
   "cell_type": "code",
   "execution_count": 13,
   "metadata": {
    "ExecuteTime": {
     "end_time": "2017-04-08T15:29:17.124423Z",
     "start_time": "2017-04-08T10:29:17.112502-05:00"
    }
   },
   "outputs": [
    {
     "data": {
      "text/html": [
       "<div>\n",
       "<table border=\"1\" class=\"dataframe\">\n",
       "  <thead>\n",
       "    <tr style=\"text-align: right;\">\n",
       "      <th></th>\n",
       "      <th>count</th>\n",
       "      <th>funny</th>\n",
       "      <th>precision</th>\n",
       "      <th>score</th>\n",
       "      <th>somewhat_funny</th>\n",
       "      <th>target_id</th>\n",
       "      <th>unfunny</th>\n",
       "    </tr>\n",
       "  </thead>\n",
       "  <tbody>\n",
       "    <tr>\n",
       "      <th>1734</th>\n",
       "      <td>205.0</td>\n",
       "      <td>66.0</td>\n",
       "      <td>0.062872</td>\n",
       "      <td>1.840796</td>\n",
       "      <td>39.0</td>\n",
       "      <td>387</td>\n",
       "      <td>100.0</td>\n",
       "    </tr>\n",
       "    <tr>\n",
       "      <th>4967</th>\n",
       "      <td>189.0</td>\n",
       "      <td>48.0</td>\n",
       "      <td>0.059506</td>\n",
       "      <td>1.813830</td>\n",
       "      <td>57.0</td>\n",
       "      <td>445</td>\n",
       "      <td>84.0</td>\n",
       "    </tr>\n",
       "    <tr>\n",
       "      <th>1867</th>\n",
       "      <td>176.0</td>\n",
       "      <td>41.0</td>\n",
       "      <td>0.060761</td>\n",
       "      <td>1.787356</td>\n",
       "      <td>56.0</td>\n",
       "      <td>1082</td>\n",
       "      <td>79.0</td>\n",
       "    </tr>\n",
       "    <tr>\n",
       "      <th>2357</th>\n",
       "      <td>142.0</td>\n",
       "      <td>31.0</td>\n",
       "      <td>0.068842</td>\n",
       "      <td>1.705036</td>\n",
       "      <td>38.0</td>\n",
       "      <td>3120</td>\n",
       "      <td>73.0</td>\n",
       "    </tr>\n",
       "    <tr>\n",
       "      <th>738</th>\n",
       "      <td>126.0</td>\n",
       "      <td>22.0</td>\n",
       "      <td>0.068599</td>\n",
       "      <td>1.661290</td>\n",
       "      <td>38.0</td>\n",
       "      <td>1392</td>\n",
       "      <td>66.0</td>\n",
       "    </tr>\n",
       "  </tbody>\n",
       "</table>\n",
       "</div>"
      ],
      "text/plain": [
       "      count  funny  precision     score  somewhat_funny  target_id  unfunny\n",
       "1734  205.0   66.0   0.062872  1.840796            39.0        387    100.0\n",
       "4967  189.0   48.0   0.059506  1.813830            57.0        445     84.0\n",
       "1867  176.0   41.0   0.060761  1.787356            56.0       1082     79.0\n",
       "2357  142.0   31.0   0.068842  1.705036            38.0       3120     73.0\n",
       "738   126.0   22.0   0.068599  1.661290            38.0       1392     66.0"
      ]
     },
     "execution_count": 13,
     "metadata": {},
     "output_type": "execute_result"
    }
   ],
   "source": [
    "alg = 'LilUCB'\n",
    "s = summary[alg]\n",
    "s = s.sort_values(by='score', ascending=False)\n",
    "s.head()"
   ]
  },
  {
   "cell_type": "code",
   "execution_count": 14,
   "metadata": {
    "ExecuteTime": {
     "end_time": "2017-04-08T15:29:17.412005Z",
     "start_time": "2017-04-08T10:29:17.125651-05:00"
    }
   },
   "outputs": [
    {
     "data": {
      "text/html": [
       "<div>\n",
       "<table border=\"1\" class=\"dataframe\">\n",
       "  <thead>\n",
       "    <tr style=\"text-align: right;\">\n",
       "      <th></th>\n",
       "      <th>rank</th>\n",
       "      <th>caption</th>\n",
       "      <th>score</th>\n",
       "      <th>precision</th>\n",
       "      <th>count</th>\n",
       "      <th>unfunny</th>\n",
       "      <th>somewhat_funny</th>\n",
       "      <th>funny</th>\n",
       "      <th>target_id</th>\n",
       "    </tr>\n",
       "  </thead>\n",
       "  <tbody>\n",
       "    <tr>\n",
       "      <th>0</th>\n",
       "      <td>1</td>\n",
       "      <td>Poor guy. Thought he signed up for pilates.</td>\n",
       "      <td>1.834146</td>\n",
       "      <td>0.061924</td>\n",
       "      <td>205.0</td>\n",
       "      <td>100.0</td>\n",
       "      <td>39.0</td>\n",
       "      <td>66.0</td>\n",
       "      <td>387</td>\n",
       "    </tr>\n",
       "    <tr>\n",
       "      <th>1</th>\n",
       "      <td>2</td>\n",
       "      <td>We may regret this. He looked delicious.</td>\n",
       "      <td>1.809524</td>\n",
       "      <td>0.059346</td>\n",
       "      <td>189.0</td>\n",
       "      <td>84.0</td>\n",
       "      <td>57.0</td>\n",
       "      <td>48.0</td>\n",
       "      <td>445</td>\n",
       "    </tr>\n",
       "    <tr>\n",
       "      <th>2</th>\n",
       "      <td>3</td>\n",
       "      <td>I can't believe my eye!</td>\n",
       "      <td>1.784091</td>\n",
       "      <td>0.060247</td>\n",
       "      <td>176.0</td>\n",
       "      <td>79.0</td>\n",
       "      <td>56.0</td>\n",
       "      <td>41.0</td>\n",
       "      <td>1082</td>\n",
       "    </tr>\n",
       "    <tr>\n",
       "      <th>3</th>\n",
       "      <td>4</td>\n",
       "      <td>Now, that's what I call execution.</td>\n",
       "      <td>1.704225</td>\n",
       "      <td>0.067630</td>\n",
       "      <td>142.0</td>\n",
       "      <td>73.0</td>\n",
       "      <td>38.0</td>\n",
       "      <td>31.0</td>\n",
       "      <td>3120</td>\n",
       "    </tr>\n",
       "    <tr>\n",
       "      <th>4</th>\n",
       "      <td>5</td>\n",
       "      <td>He's taking it better than I expected.</td>\n",
       "      <td>1.650794</td>\n",
       "      <td>0.073305</td>\n",
       "      <td>126.0</td>\n",
       "      <td>72.0</td>\n",
       "      <td>26.0</td>\n",
       "      <td>28.0</td>\n",
       "      <td>3946</td>\n",
       "    </tr>\n",
       "  </tbody>\n",
       "</table>\n",
       "</div>"
      ],
      "text/plain": [
       "   rank                                      caption     score  precision  \\\n",
       "0     1  Poor guy. Thought he signed up for pilates.  1.834146   0.061924   \n",
       "1     2     We may regret this. He looked delicious.  1.809524   0.059346   \n",
       "2     3                      I can't believe my eye!  1.784091   0.060247   \n",
       "3     4           Now, that's what I call execution.  1.704225   0.067630   \n",
       "4     5       He's taking it better than I expected.  1.650794   0.073305   \n",
       "\n",
       "   count  unfunny  somewhat_funny  funny  target_id  \n",
       "0  205.0    100.0            39.0   66.0        387  \n",
       "1  189.0     84.0            57.0   48.0        445  \n",
       "2  176.0     79.0            56.0   41.0       1082  \n",
       "3  142.0     73.0            38.0   31.0       3120  \n",
       "4  126.0     72.0            26.0   28.0       3946  "
      ]
     },
     "execution_count": 14,
     "metadata": {},
     "output_type": "execute_result"
    }
   ],
   "source": [
    "t = utils.read_summary('559_summary_{}.csv'.format(alg))\n",
    "t = utils.add_target_ids(t, responses)\n",
    "t = t.sort_values(by='score', ascending=False)\n",
    "t.head()"
   ]
  },
  {
   "cell_type": "code",
   "execution_count": 15,
   "metadata": {
    "ExecuteTime": {
     "end_time": "2017-04-08T15:40:25.216109Z",
     "start_time": "2017-04-08T10:29:17.413415-05:00"
    }
   },
   "outputs": [
    {
     "name": "stdout",
     "output_type": "stream",
     "text": [
      "0.0\n",
      "0.01281383718049391\n",
      "0.02562767436098782\n",
      "0.038441511541481725\n",
      "0.05125534872197564\n",
      "0.06406918590246954\n",
      "0.07688302308296345\n",
      "0.08969686026345737\n",
      "0.10251069744395128\n",
      "0.11532453462444518\n",
      "0.1281383718049391\n",
      "0.140952208985433\n",
      "0.1537660461659269\n",
      "0.16657988334642082\n",
      "0.17939372052691474\n",
      "0.19220755770740863\n",
      "0.20502139488790255\n",
      "0.21783523206839644\n",
      "0.23064906924889036\n",
      "0.24346290642938428\n",
      "0.2562767436098782\n",
      "0.26909058079037207\n",
      "0.281904417970866\n",
      "0.2947182551513599\n",
      "0.3075320923318538\n",
      "0.32034592951234775\n",
      "0.33315976669284164\n",
      "0.34597360387333553\n",
      "0.3587874410538295\n",
      "0.3716012782343234\n",
      "0.38441511541481727\n",
      "0.39722895259531116\n",
      "0.4100427897758051\n",
      "0.422856626956299\n",
      "0.4356704641367929\n",
      "0.44848430131728684\n",
      "0.46129813849778073\n",
      "0.4741119756782746\n",
      "0.48692581285876857\n",
      "0.49973965003926246\n",
      "0.5125534872197564\n",
      "0.5253673244002502\n",
      "0.5381811615807441\n",
      "0.5509949987612381\n",
      "0.563808835941732\n",
      "0.5766226731222259\n",
      "0.5894365103027198\n",
      "0.6022503474832137\n",
      "0.6150641846637076\n",
      "0.6278780218442015\n",
      "0.6406918590246955\n",
      "0.6535056962051894\n",
      "0.6663195333856833\n",
      "0.6791333705661772\n",
      "0.6919472077466711\n",
      "0.704761044927165\n",
      "0.717574882107659\n",
      "0.7303887192881529\n",
      "0.7432025564686467\n",
      "0.7560163936491406\n",
      "0.7688302308296345\n",
      "0.7816440680101284\n",
      "0.7944579051906223\n",
      "0.8072717423711163\n",
      "0.8200855795516102\n",
      "0.8328994167321041\n",
      "0.845713253912598\n",
      "0.8585270910930919\n",
      "0.8713409282735858\n",
      "0.8841547654540797\n",
      "0.8969686026345737\n",
      "0.9097824398150676\n",
      "0.9225962769955615\n",
      "0.9354101141760554\n",
      "0.9482239513565492\n",
      "0.9610377885370431\n",
      "0.9738516257175371\n",
      "0.986665462898031\n",
      "0.9994793000785249\n"
     ]
    },
    {
     "ename": "AssertionError",
     "evalue": "",
     "output_type": "error",
     "traceback": [
      "\u001b[0;31m---------------------------------------------------------------------------\u001b[0m",
      "\u001b[0;31mAssertionError\u001b[0m                            Traceback (most recent call last)",
      "\u001b[0;32m<ipython-input-15-494848563f59>\u001b[0m in \u001b[0;36m<module>\u001b[0;34m()\u001b[0m\n\u001b[1;32m     19\u001b[0m \u001b[0;32mfor\u001b[0m \u001b[0mkey\u001b[0m\u001b[0;34m,\u001b[0m \u001b[0mvalue\u001b[0m \u001b[0;32min\u001b[0m \u001b[0;34m{\u001b[0m\u001b[0;34m'count'\u001b[0m\u001b[0;34m:\u001b[0m \u001b[0;36m18\u001b[0m\u001b[0;34m,\u001b[0m \u001b[0;34m'score'\u001b[0m\u001b[0;34m:\u001b[0m \u001b[0;36m0.18\u001b[0m\u001b[0;34m}\u001b[0m\u001b[0;34m.\u001b[0m\u001b[0mitems\u001b[0m\u001b[0;34m(\u001b[0m\u001b[0;34m)\u001b[0m\u001b[0;34m:\u001b[0m\u001b[0;34m\u001b[0m\u001b[0m\n\u001b[1;32m     20\u001b[0m     \u001b[0mdiff\u001b[0m \u001b[0;34m=\u001b[0m \u001b[0mnp\u001b[0m\u001b[0;34m.\u001b[0m\u001b[0mabs\u001b[0m\u001b[0;34m(\u001b[0m\u001b[0mactual\u001b[0m\u001b[0;34m[\u001b[0m\u001b[0mkey\u001b[0m\u001b[0;34m]\u001b[0m\u001b[0;34m.\u001b[0m\u001b[0mvalues\u001b[0m \u001b[0;34m-\u001b[0m \u001b[0msummary\u001b[0m\u001b[0;34m[\u001b[0m\u001b[0mkey\u001b[0m\u001b[0;34m]\u001b[0m\u001b[0;34m.\u001b[0m\u001b[0mvalues\u001b[0m\u001b[0;34m)\u001b[0m\u001b[0;34m\u001b[0m\u001b[0m\n\u001b[0;32m---> 21\u001b[0;31m     \u001b[0;32massert\u001b[0m \u001b[0mdiff\u001b[0m\u001b[0;34m.\u001b[0m\u001b[0mmax\u001b[0m\u001b[0;34m(\u001b[0m\u001b[0;34m)\u001b[0m \u001b[0;34m<=\u001b[0m \u001b[0mvalue\u001b[0m\u001b[0;34m\u001b[0m\u001b[0m\n\u001b[0m",
      "\u001b[0;31mAssertionError\u001b[0m: "
     ]
    }
   ],
   "source": [
    "import numpy as np\n",
    "responses = utils.read_responses('535-responses.csv.zip')\n",
    "summary = utils.init_summary(responses)\n",
    "\n",
    "actual = utils.read_summary('535_summary_LilUCB.csv')\n",
    "actual = utils.add_target_ids(actual, responses)\n",
    "actual = actual.sort_values(by='target_id')\n",
    "\n",
    "i = 0\n",
    "n = len(responses)\n",
    "n_captions = len(responses['target_id'].unique())\n",
    "for _, response in responses.iterrows():\n",
    "    summary = utils.add_response(summary, response)\n",
    "    if i % n_captions == 0:\n",
    "        print(i / len(responses))\n",
    "    i += 1\n",
    "summary = summary.sort_values(by='target_id', ascending=True)\n",
    "summary = utils.calculate_stats(summary)\n",
    "for key, value in {'count': 18, 'score': 0.18}.items():\n",
    "    diff = np.abs(actual[key].values - summary[key].values)\n",
    "    assert diff.max() <= value"
   ]
  }
 ],
 "metadata": {
  "kernelspec": {
   "display_name": "Python [default]",
   "language": "python",
   "name": "python3"
  },
  "language_info": {
   "codemirror_mode": {
    "name": "ipython",
    "version": 3
   },
   "file_extension": ".py",
   "mimetype": "text/x-python",
   "name": "python",
   "nbconvert_exporter": "python",
   "pygments_lexer": "ipython3",
   "version": "3.6.0"
  },
  "nav_menu": {},
  "notify_time": "5",
  "toc": {
   "navigate_menu": true,
   "number_sections": false,
   "sideBar": true,
   "threshold": "2",
   "toc_cell": false,
   "toc_section_display": "block",
   "toc_window_display": false
  }
 },
 "nbformat": 4,
 "nbformat_minor": 1
}
