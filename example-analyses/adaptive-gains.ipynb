{
 "cells": [
  {
   "cell_type": "markdown",
   "metadata": {},
   "source": [
    "# Adaptive gains\n",
    "This script will see how the adaptive algorithm out-preforms the passive algorithm.\n",
    "\n",
    "It does this by seeing how many rankings are considered the funniest ranking. For each caption we have a mean and a standard deviation. If the first rated caption has mean $\\mu_1$ and std.dev. of $\\sigma_1$, we want how many captions $i$ have $\\mu_i + \\sigma_i > \\mu_1 - \\sigma_1$."
   ]
  },
  {
   "cell_type": "markdown",
   "metadata": {
    "collapsed": true
   },
   "source": [
    "## Obtaining the data"
   ]
  },
  {
   "cell_type": "code",
   "execution_count": 2,
   "metadata": {
    "ExecuteTime": {
     "end_time": "2017-03-08T22:34:20.760220",
     "start_time": "2017-03-08T22:34:19.974189"
    },
    "collapsed": true
   },
   "outputs": [],
   "source": [
    "import pandas as pd\n",
    "import numpy as np\n",
    "import matplotlib.pyplot as plt\n",
    "from datetime import datetime"
   ]
  },
  {
   "cell_type": "code",
   "execution_count": 10,
   "metadata": {
    "ExecuteTime": {
     "end_time": "2017-03-08T22:36:17.740412",
     "start_time": "2017-03-08T22:36:16.976932"
    },
    "collapsed": false
   },
   "outputs": [
    {
     "data": {
      "text/html": [
       "<div>\n",
       "<table border=\"1\" class=\"dataframe\">\n",
       "  <thead>\n",
       "    <tr style=\"text-align: right;\">\n",
       "      <th></th>\n",
       "      <th>Unnamed: 0</th>\n",
       "      <th>alg_label</th>\n",
       "      <th>network_delay</th>\n",
       "      <th>participant_uid</th>\n",
       "      <th>response_time</th>\n",
       "      <th>target</th>\n",
       "      <th>target_id</th>\n",
       "      <th>target_reward</th>\n",
       "      <th>timestamp_query_generated</th>\n",
       "    </tr>\n",
       "  </thead>\n",
       "  <tbody>\n",
       "    <tr>\n",
       "      <th>49163</th>\n",
       "      <td>49163</td>\n",
       "      <td>LilUCB</td>\n",
       "      <td>0.195137</td>\n",
       "      <td>3302355eaaa9db3a30917035434dfa_J2IRIqVgmQ0IuP9...</td>\n",
       "      <td>18.287</td>\n",
       "      <td>This ought to be good. I told him he's a prote...</td>\n",
       "      <td>1062</td>\n",
       "      <td>1.0</td>\n",
       "      <td>2016-04-25 16:18:25.909958</td>\n",
       "    </tr>\n",
       "    <tr>\n",
       "      <th>49164</th>\n",
       "      <td>49164</td>\n",
       "      <td>LilUCB</td>\n",
       "      <td>0.095659</td>\n",
       "      <td>3302355eaaa9db3a30917035434dfa_J2IRIqVgmQ0IuP9...</td>\n",
       "      <td>2.827</td>\n",
       "      <td>The old birds are tricky.</td>\n",
       "      <td>176</td>\n",
       "      <td>1.0</td>\n",
       "      <td>2016-04-25 16:18:44.728593</td>\n",
       "    </tr>\n",
       "    <tr>\n",
       "      <th>49165</th>\n",
       "      <td>49165</td>\n",
       "      <td>LilUCB</td>\n",
       "      <td>0.088640</td>\n",
       "      <td>3302355eaaa9db3a30917035434dfa_J2IRIqVgmQ0IuP9...</td>\n",
       "      <td>4.018</td>\n",
       "      <td>He's never been clear on the decoy concept.</td>\n",
       "      <td>4311</td>\n",
       "      <td>2.0</td>\n",
       "      <td>2016-04-25 16:18:47.975493</td>\n",
       "    </tr>\n",
       "    <tr>\n",
       "      <th>34582</th>\n",
       "      <td>34582</td>\n",
       "      <td>LilUCB</td>\n",
       "      <td>0.083091</td>\n",
       "      <td>3302355eaaa9db3a30917035434dfa_HXWpEcL3w1PZi1M...</td>\n",
       "      <td>8.905</td>\n",
       "      <td>That little bird won't tell him very much if h...</td>\n",
       "      <td>3500</td>\n",
       "      <td>1.0</td>\n",
       "      <td>2016-04-25 16:22:41.837991</td>\n",
       "    </tr>\n",
       "    <tr>\n",
       "      <th>34583</th>\n",
       "      <td>34583</td>\n",
       "      <td>RoundRobin</td>\n",
       "      <td>0.092276</td>\n",
       "      <td>3302355eaaa9db3a30917035434dfa_HXWpEcL3w1PZi1M...</td>\n",
       "      <td>2.233</td>\n",
       "      <td>He doesn't play well with others.</td>\n",
       "      <td>0</td>\n",
       "      <td>1.0</td>\n",
       "      <td>2016-04-25 16:22:51.155561</td>\n",
       "    </tr>\n",
       "  </tbody>\n",
       "</table>\n",
       "</div>"
      ],
      "text/plain": [
       "       Unnamed: 0   alg_label  network_delay  \\\n",
       "49163       49163      LilUCB       0.195137   \n",
       "49164       49164      LilUCB       0.095659   \n",
       "49165       49165      LilUCB       0.088640   \n",
       "34582       34582      LilUCB       0.083091   \n",
       "34583       34583  RoundRobin       0.092276   \n",
       "\n",
       "                                         participant_uid  response_time  \\\n",
       "49163  3302355eaaa9db3a30917035434dfa_J2IRIqVgmQ0IuP9...         18.287   \n",
       "49164  3302355eaaa9db3a30917035434dfa_J2IRIqVgmQ0IuP9...          2.827   \n",
       "49165  3302355eaaa9db3a30917035434dfa_J2IRIqVgmQ0IuP9...          4.018   \n",
       "34582  3302355eaaa9db3a30917035434dfa_HXWpEcL3w1PZi1M...          8.905   \n",
       "34583  3302355eaaa9db3a30917035434dfa_HXWpEcL3w1PZi1M...          2.233   \n",
       "\n",
       "                                                  target  target_id  \\\n",
       "49163  This ought to be good. I told him he's a prote...       1062   \n",
       "49164                          The old birds are tricky.        176   \n",
       "49165        He's never been clear on the decoy concept.       4311   \n",
       "34582  That little bird won't tell him very much if h...       3500   \n",
       "34583                  He doesn't play well with others.          0   \n",
       "\n",
       "       target_reward   timestamp_query_generated  \n",
       "49163            1.0  2016-04-25 16:18:25.909958  \n",
       "49164            1.0  2016-04-25 16:18:44.728593  \n",
       "49165            2.0  2016-04-25 16:18:47.975493  \n",
       "34582            1.0  2016-04-25 16:22:41.837991  \n",
       "34583            1.0  2016-04-25 16:22:51.155561  "
      ]
     },
     "execution_count": 10,
     "metadata": {},
     "output_type": "execute_result"
    }
   ],
   "source": [
    "contest = '519'\n",
    "filename = '../contests/responses-unzipped/{}-responses.csv'\n",
    "\n",
    "df = pd.read_csv(filename.format(contest))\n",
    "df = df.sort_values(by='timestamp_query_generated')\n",
    "df.head()"
   ]
  },
  {
   "cell_type": "markdown",
   "metadata": {
    "collapsed": true
   },
   "source": [
    "## Finding the mean and number of possible top captions \n",
    "Another implementation can be found in `/summary-stats/summary-stats-v2.py`."
   ]
  },
  {
   "cell_type": "code",
   "execution_count": 25,
   "metadata": {
    "ExecuteTime": {
     "end_time": "2017-03-08T22:42:23.365043",
     "start_time": "2017-03-08T22:42:23.352788"
    },
    "collapsed": true
   },
   "outputs": [],
   "source": [
    "def calculate_stats(alg_ratings):\n",
    "    df = pd.DataFrame(alg_ratings).T\n",
    "    n = df['responses']\n",
    "    df['mean'] = df[1.0] + 2 * df[2.0] + 3 * df[3.0]\n",
    "    df['mean'] /= n\n",
    "    \n",
    "    reward =  df[1.0] + 2*df[2.0] + 3*df[3.0]\n",
    "    reward2 = df[1.0] + 4*df[2.0] + 9*df[3.0]\n",
    "    \n",
    "    top = np.maximum(1, reward2 - reward**2 / n)\n",
    "    bottom = (n - 1) * n\n",
    "    \n",
    "    df['prec'] = np.sqrt(top / bottom)\n",
    "    return df\n",
    "\n",
    "def find_top_captions(alg_ratings):\n",
    "    \"\"\" alg_ratings : dict \"\"\"\n",
    "    df = calculate_stats(alg_ratings)\n",
    "    i_top_mean = df['mean'].idxmax()\n",
    "    top_caption = df.T[i_top_mean]\n",
    "    min_rating = top_caption['mean'] - top_caption['prec']\n",
    "    df['upper bound'] = df['mean'] + df['prec']\n",
    "    return (df['upper bound'] > min_rating).sum()"
   ]
  },
  {
   "cell_type": "markdown",
   "metadata": {},
   "source": [
    "## Initializing responses\n",
    "These are the variables we will count the responses in"
   ]
  },
  {
   "cell_type": "code",
   "execution_count": 28,
   "metadata": {
    "ExecuteTime": {
     "end_time": "2017-03-08T22:45:32.282548",
     "start_time": "2017-03-08T22:45:19.147932"
    },
    "collapsed": false
   },
   "outputs": [],
   "source": [
    "ratings = {'LilUCB': {}, 'RoundRobin': {}}\n",
    "for i, response in df.iterrows():\n",
    "    if response['target_id'] not in ratings['LilUCB']:\n",
    "        caption = response['target_id']\n",
    "        ratings['LilUCB'][response['target_id']]     = {1.0: 0, 2.0: 0, 3.0: 0, 'responses': 0, 'mean': np.nan} \n",
    "        ratings['RoundRobin'][response['target_id']] = {1.0: 0, 2.0: 0, 3.0: 0, 'responses': 0, 'mean': np.nan} "
   ]
  },
  {
   "cell_type": "markdown",
   "metadata": {
    "ExecuteTime": {
     "end_time": "2017-02-12T12:32:22.942753",
     "start_time": "2017-02-12T12:32:22.729373"
    }
   },
   "source": [
    "## Replaying the simulation"
   ]
  },
  {
   "cell_type": "code",
   "execution_count": 29,
   "metadata": {
    "ExecuteTime": {
     "end_time": "2017-03-08T22:51:45.744456",
     "start_time": "2017-03-08T22:45:34.476308"
    },
    "collapsed": false
   },
   "outputs": [
    {
     "name": "stdout",
     "output_type": "stream",
     "text": [
      "0.04807877666918488\n",
      "0.07211816500377732\n",
      "0.09615755333836976\n",
      "0.1201969416729622\n",
      "0.14423633000755465\n",
      "0.16827571834214708\n",
      "0.1923151066767395\n",
      "0.21635449501133197\n",
      "0.2403938833459244\n",
      "0.26443327168051683\n",
      "0.2884726600151093\n",
      "0.3125120483497017\n",
      "0.33655143668429416\n",
      "0.3605908250188866\n",
      "0.384630213353479\n",
      "0.4086696016880715\n",
      "0.43270899002266394\n",
      "0.45674837835725635\n",
      "0.4807877666918488\n",
      "0.5048271550264413\n",
      "0.5288665433610337\n",
      "0.5529059316956261\n",
      "0.5769453200302186\n",
      "0.600984708364811\n",
      "0.6250240966994034\n",
      "0.6490634850339959\n",
      "0.6731028733685883\n",
      "0.6971422617031807\n",
      "0.7211816500377732\n",
      "0.7452210383723656\n",
      "0.769260426706958\n",
      "0.7932998150415506\n",
      "0.817339203376143\n",
      "0.8413785917107354\n",
      "0.8654179800453279\n",
      "0.8894573683799203\n",
      "0.9134967567145127\n",
      "0.9375361450491052\n",
      "0.9615755333836976\n",
      "0.98561492171829\n"
     ]
    }
   ],
   "source": [
    "performance = [] \n",
    "responses = {'LilUCB': 0, 'RoundRobin': 0}\n",
    "j = 0\n",
    "for _, response in df.iterrows():\n",
    "    if j > 2:\n",
    "        assert last_response['timestamp_query_generated'] <= response['timestamp_query_generated']\n",
    "    caption = response['target_id']\n",
    "    rating = float(response['target_reward'])\n",
    "    alg = response['alg_label']\n",
    "    ratings[alg][caption][rating] += 1\n",
    "    ratings[alg][caption]['responses'] += 1\n",
    "    responses[alg] += 1\n",
    "    if j / len(df['target_id'].unique()) > 1 and j % len(df['target_id'].unique()) == 0:\n",
    "        print(j / len(df))\n",
    "        performance += [{'top captions': find_top_captions(ratings[key]),\n",
    "                         'responses': responses[alg],\n",
    "                         'algorithm': key}\n",
    "                        for key in ['LilUCB', 'RoundRobin']]\n",
    "    last_response = response\n",
    "    j += 1"
   ]
  },
  {
   "cell_type": "code",
   "execution_count": 30,
   "metadata": {
    "ExecuteTime": {
     "end_time": "2017-03-08T22:52:33.929437",
     "start_time": "2017-03-08T22:52:33.920926"
    },
    "collapsed": false
   },
   "outputs": [
    {
     "data": {
      "text/html": [
       "<div>\n",
       "<table border=\"1\" class=\"dataframe\">\n",
       "  <thead>\n",
       "    <tr style=\"text-align: right;\">\n",
       "      <th></th>\n",
       "      <th>algorithm</th>\n",
       "      <th>responses</th>\n",
       "      <th>top captions</th>\n",
       "    </tr>\n",
       "  </thead>\n",
       "  <tbody>\n",
       "    <tr>\n",
       "      <th>0</th>\n",
       "      <td>LilUCB</td>\n",
       "      <td>4635</td>\n",
       "      <td>4614</td>\n",
       "    </tr>\n",
       "    <tr>\n",
       "      <th>1</th>\n",
       "      <td>RoundRobin</td>\n",
       "      <td>4635</td>\n",
       "      <td>4499</td>\n",
       "    </tr>\n",
       "    <tr>\n",
       "      <th>2</th>\n",
       "      <td>LilUCB</td>\n",
       "      <td>6907</td>\n",
       "      <td>3937</td>\n",
       "    </tr>\n",
       "    <tr>\n",
       "      <th>3</th>\n",
       "      <td>RoundRobin</td>\n",
       "      <td>6907</td>\n",
       "      <td>4551</td>\n",
       "    </tr>\n",
       "    <tr>\n",
       "      <th>4</th>\n",
       "      <td>LilUCB</td>\n",
       "      <td>9287</td>\n",
       "      <td>2727</td>\n",
       "    </tr>\n",
       "  </tbody>\n",
       "</table>\n",
       "</div>"
      ],
      "text/plain": [
       "    algorithm  responses  top captions\n",
       "0      LilUCB       4635          4614\n",
       "1  RoundRobin       4635          4499\n",
       "2      LilUCB       6907          3937\n",
       "3  RoundRobin       6907          4551\n",
       "4      LilUCB       9287          2727"
      ]
     },
     "execution_count": 30,
     "metadata": {},
     "output_type": "execute_result"
    }
   ],
   "source": [
    "performance = pd.DataFrame(performance)\n",
    "performance.head()"
   ]
  },
  {
   "cell_type": "markdown",
   "metadata": {},
   "source": [
    "## Visualization\n",
    "This means that LilUCB saw ~10 captions that could be the funniest, and RoundRobin saw ~50 captions that could be the funniest. "
   ]
  },
  {
   "cell_type": "code",
   "execution_count": 41,
   "metadata": {
    "ExecuteTime": {
     "end_time": "2017-03-08T22:55:47.645413",
     "start_time": "2017-03-08T22:55:47.104184"
    },
    "collapsed": false
   },
   "outputs": [
    {
     "data": {
      "text/plain": [
       "<matplotlib.axes._subplots.AxesSubplot at 0x11cc0c748>"
      ]
     },
     "execution_count": 41,
     "metadata": {},
     "output_type": "execute_result"
    },
    {
     "data": {
      "image/png": "[encoded data removed]",
      "text/plain": [
       "<matplotlib.figure.Figure at 0x11c757940>"
      ]
     },
     "metadata": {},
     "output_type": "display_data"
    }
   ],
   "source": [
    "%matplotlib inline\n",
    "import matplotlib.pyplot as plt\n",
    "from altair import Chart, Y, Scale\n",
    "plt.style.use('seaborn')\n",
    "\n",
    "df = performance.pivot_table(values='top captions', columns='algorithm', index='responses')\n",
    "df.plot(logy=True, logx=True)"
   ]
  },
  {
   "cell_type": "code",
   "execution_count": null,
   "metadata": {
    "collapsed": true
   },
   "outputs": [],
   "source": []
  }
 ],
 "metadata": {
  "kernelspec": {
   "display_name": "Python [default]",
   "language": "python",
   "name": "python3"
  },
  "language_info": {
   "codemirror_mode": {
    "name": "ipython",
    "version": 3
   },
   "file_extension": ".py",
   "mimetype": "text/x-python",
   "name": "python",
   "nbconvert_exporter": "python",
   "pygments_lexer": "ipython3",
   "version": "3.6.0"
  },
  "nav_menu": {},
  "notify_time": "0",
  "toc": {
   "navigate_menu": true,
   "number_sections": false,
   "sideBar": true,
   "threshold": "2",
   "toc_cell": false,
   "toc_section_display": "block",
   "toc_window_display": false
  }
 },
 "nbformat": 4,
 "nbformat_minor": 1
}
