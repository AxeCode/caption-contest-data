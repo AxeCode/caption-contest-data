{
 "cells": [
  {
   "cell_type": "markdown",
   "metadata": {},
   "source": [
    "# Adaptive gains\n",
    "This script will see how the adaptive algorithm out-preforms the passive algorithm.\n",
    "\n",
    "It does this by seeing how many rankings are considered the funniest ranking. For each caption we have a mean and a standard deviation. If the first rated caption has mean $\\mu_1$ and std.dev. of $\\sigma_1$, we want how many captions $i$ have $\\mu_i + \\sigma_i > \\mu_1 - \\sigma_1$."
   ]
  },
  {
   "cell_type": "markdown",
   "metadata": {
    "collapsed": true
   },
   "source": [
    "## Obtaining the data"
   ]
  },
  {
   "cell_type": "code",
   "execution_count": 189,
   "metadata": {
    "ExecuteTime": {
     "end_time": "2017-02-12T13:55:42.945828",
     "start_time": "2017-02-12T13:55:42.938040"
    },
    "collapsed": true
   },
   "outputs": [],
   "source": [
    "import pandas as pd\n",
    "import numpy as np\n",
    "import matplotlib.pyplot as plt\n",
    "from datetime import datetime\n",
    "\n",
    "def read_csv(filename, columns=6, time_format='%Y-%m-%d %H:%M:%S.%f'):\n",
    "    with open(filename, 'r') as f:\n",
    "        contents = f.readlines()\n",
    "    for i, line in enumerate(contents):\n",
    "        line = line.split(',', maxsplit=columns)\n",
    "        line[-1] = line[-1][:-1]  # remove newline\n",
    "        \n",
    "        if line[3] != 'Timestamp':\n",
    "            line[3] = datetime.strptime(line[3], time_format) \n",
    "        contents[i] = line\n",
    "    \n",
    "    return pd.DataFrame(contents[1:], columns=contents[0])"
   ]
  },
  {
   "cell_type": "code",
   "execution_count": 190,
   "metadata": {
    "ExecuteTime": {
     "end_time": "2017-02-12T13:55:46.678119",
     "start_time": "2017-02-12T13:55:43.225241"
    },
    "collapsed": false
   },
   "outputs": [
    {
     "data": {
      "text/html": [
       "<div>\n",
       "<table border=\"1\" class=\"dataframe\">\n",
       "  <thead>\n",
       "    <tr style=\"text-align: right;\">\n",
       "      <th></th>\n",
       "      <th>Partipipant ID</th>\n",
       "      <th>Response Time (s)</th>\n",
       "      <th>Network Delay (s)</th>\n",
       "      <th>Timestamp</th>\n",
       "      <th>Rating</th>\n",
       "      <th>Alg label</th>\n",
       "      <th>Target</th>\n",
       "    </tr>\n",
       "  </thead>\n",
       "  <tbody>\n",
       "    <tr>\n",
       "      <th>140793</th>\n",
       "      <td>J2IRIqVgmQ0IuP9C8xiOJI9c1usH1K</td>\n",
       "      <td>18.287</td>\n",
       "      <td>0.19513700000000256</td>\n",
       "      <td>2016-04-25 16:18:25.909958</td>\n",
       "      <td>1.0</td>\n",
       "      <td>LilUCB</td>\n",
       "      <td>This ought to be good. I told him he's a prote...</td>\n",
       "    </tr>\n",
       "    <tr>\n",
       "      <th>140794</th>\n",
       "      <td>J2IRIqVgmQ0IuP9C8xiOJI9c1usH1K</td>\n",
       "      <td>2.827</td>\n",
       "      <td>0.09565899999999994</td>\n",
       "      <td>2016-04-25 16:18:44.728593</td>\n",
       "      <td>1.0</td>\n",
       "      <td>LilUCB</td>\n",
       "      <td>The old birds are tricky.</td>\n",
       "    </tr>\n",
       "    <tr>\n",
       "      <th>140795</th>\n",
       "      <td>J2IRIqVgmQ0IuP9C8xiOJI9c1usH1K</td>\n",
       "      <td>4.018</td>\n",
       "      <td>0.08863999999999983</td>\n",
       "      <td>2016-04-25 16:18:47.975493</td>\n",
       "      <td>2.0</td>\n",
       "      <td>LilUCB</td>\n",
       "      <td>He's never been clear on the decoy concept.</td>\n",
       "    </tr>\n",
       "    <tr>\n",
       "      <th>74112</th>\n",
       "      <td>HXWpEcL3w1PZi1MumTTccmfSZn5ZTT</td>\n",
       "      <td>8.905</td>\n",
       "      <td>0.08309100000000136</td>\n",
       "      <td>2016-04-25 16:22:41.837991</td>\n",
       "      <td>1.0</td>\n",
       "      <td>LilUCB</td>\n",
       "      <td>That little bird won't tell him very much if h...</td>\n",
       "    </tr>\n",
       "    <tr>\n",
       "      <th>74113</th>\n",
       "      <td>HXWpEcL3w1PZi1MumTTccmfSZn5ZTT</td>\n",
       "      <td>2.233</td>\n",
       "      <td>0.09227600000000002</td>\n",
       "      <td>2016-04-25 16:22:51.155561</td>\n",
       "      <td>1.0</td>\n",
       "      <td>RoundRobin</td>\n",
       "      <td>He doesn't play well with others.</td>\n",
       "    </tr>\n",
       "  </tbody>\n",
       "</table>\n",
       "</div>"
      ],
      "text/plain": [
       "                        Partipipant ID Response Time (s)    Network Delay (s)  \\\n",
       "140793  J2IRIqVgmQ0IuP9C8xiOJI9c1usH1K            18.287  0.19513700000000256   \n",
       "140794  J2IRIqVgmQ0IuP9C8xiOJI9c1usH1K             2.827  0.09565899999999994   \n",
       "140795  J2IRIqVgmQ0IuP9C8xiOJI9c1usH1K             4.018  0.08863999999999983   \n",
       "74112   HXWpEcL3w1PZi1MumTTccmfSZn5ZTT             8.905  0.08309100000000136   \n",
       "74113   HXWpEcL3w1PZi1MumTTccmfSZn5ZTT             2.233  0.09227600000000002   \n",
       "\n",
       "                        Timestamp Rating   Alg label  \\\n",
       "140793 2016-04-25 16:18:25.909958    1.0      LilUCB   \n",
       "140794 2016-04-25 16:18:44.728593    1.0      LilUCB   \n",
       "140795 2016-04-25 16:18:47.975493    2.0      LilUCB   \n",
       "74112  2016-04-25 16:22:41.837991    1.0      LilUCB   \n",
       "74113  2016-04-25 16:22:51.155561    1.0  RoundRobin   \n",
       "\n",
       "                                                   Target  \n",
       "140793  This ought to be good. I told him he's a prote...  \n",
       "140794                          The old birds are tricky.  \n",
       "140795        He's never been clear on the decoy concept.  \n",
       "74112   That little bird won't tell him very much if h...  \n",
       "74113                   He doesn't play well with others.  "
      ]
     },
     "execution_count": 190,
     "metadata": {},
     "output_type": "execute_result"
    }
   ],
   "source": [
    "contest = '519'\n",
    "filename = '../contests/passive+adaptive/{}/participant-responses.csv'\n",
    "\n",
    "df = read_csv(filename.format(contest))\n",
    "df = df.sort_values(by='Timestamp')\n",
    "df.head()"
   ]
  },
  {
   "cell_type": "markdown",
   "metadata": {
    "collapsed": true
   },
   "source": [
    "## Finding the mean and number of possible top captions \n",
    "Another implementation can be found in `/summary-stats/summary-stats-v2.py`."
   ]
  },
  {
   "cell_type": "code",
   "execution_count": 199,
   "metadata": {
    "ExecuteTime": {
     "end_time": "2017-02-12T13:56:55.016015",
     "start_time": "2017-02-12T13:56:55.003284"
    },
    "collapsed": true
   },
   "outputs": [],
   "source": [
    "def calculate_stats(alg_ratings):\n",
    "    df = pd.DataFrame(alg_ratings).T\n",
    "    n = df['responses']\n",
    "    df['mean'] = df['1.0'] + 2 * df['2.0'] + 3 * df['3.0']\n",
    "    df['mean'] /= n\n",
    "    \n",
    "    reward = df['1.0'] + 2*df['2.0'] + 3*df['3.0']\n",
    "    reward2 = df['1.0'] + 4*df['2.0'] + 9*df['3.0']\n",
    "    \n",
    "    top = np.maximum(1, reward2 - reward**2 / n)\n",
    "    bottom = (n - 1) * n\n",
    "    \n",
    "    df['prec'] = np.sqrt(top / bottom)\n",
    "    return df\n",
    "\n",
    "def find_top_captions(alg_ratings):\n",
    "    \"\"\" alg_ratings : dict \"\"\"\n",
    "    df = calculate_stats(alg_ratings)\n",
    "    i_top_mean = df['mean'].idxmax()\n",
    "    top_caption = df.T[i_top_mean]\n",
    "    min_rating = top_caption['mean'] - top_caption['prec']\n",
    "    df['upper bound'] = df['mean'] + df['prec']\n",
    "    return (df['upper bound'] > min_rating).sum()"
   ]
  },
  {
   "cell_type": "markdown",
   "metadata": {},
   "source": [
    "## Initializing responses\n",
    "These are the variables we will count the responses in"
   ]
  },
  {
   "cell_type": "code",
   "execution_count": 200,
   "metadata": {
    "ExecuteTime": {
     "end_time": "2017-02-12T13:56:55.381473",
     "start_time": "2017-02-12T13:56:55.337290"
    },
    "collapsed": false
   },
   "outputs": [],
   "source": [
    "caption_map = {caption: i for i, caption in enumerate(df['Target'].unique())}"
   ]
  },
  {
   "cell_type": "code",
   "execution_count": 201,
   "metadata": {
    "ExecuteTime": {
     "end_time": "2017-02-12T13:57:08.879135",
     "start_time": "2017-02-12T13:56:55.497615"
    },
    "collapsed": false
   },
   "outputs": [],
   "source": [
    "ratings = {'LilUCB': {}, 'RoundRobin': {}}\n",
    "for i, response in df.iterrows():\n",
    "#     df.T[i]['Rating'] = int(float(response['Rating']))\n",
    "    if caption_map[response['Target']] not in ratings['LilUCB']:\n",
    "        caption = response['Target']\n",
    "        ratings['LilUCB'][caption_map[caption]]     = {'1.0': 0, '2.0': 0, '3.0': 0, 'responses': 0, 'mean': np.nan} \n",
    "        ratings['RoundRobin'][caption_map[caption]] = {'1.0': 0, '2.0': 0, '3.0': 0, 'responses': 0, 'mean': np.nan} "
   ]
  },
  {
   "cell_type": "markdown",
   "metadata": {
    "ExecuteTime": {
     "end_time": "2017-02-12T12:32:22.942753",
     "start_time": "2017-02-12T12:32:22.729373"
    }
   },
   "source": [
    "## Replaying the simulation"
   ]
  },
  {
   "cell_type": "code",
   "execution_count": 202,
   "metadata": {
    "ExecuteTime": {
     "end_time": "2017-02-12T13:57:40.865185",
     "start_time": "2017-02-12T13:57:08.880539"
    },
    "collapsed": false
   },
   "outputs": [],
   "source": [
    "performance = [] \n",
    "responses = {'LilUCB': 0, 'RoundRobin': 0}\n",
    "j = 0\n",
    "for _, response in df.iterrows():\n",
    "    if j > 2:\n",
    "        assert last_response['Timestamp'] <= response['Timestamp']\n",
    "    caption = caption_map[response['Target']]\n",
    "    rating = response['Rating']\n",
    "    alg = response['Alg label']\n",
    "    ratings[alg][caption][rating] += 1\n",
    "    ratings[alg][caption]['responses'] += 1\n",
    "    responses[alg] += 1\n",
    "    if j / len(caption_map) > 1 and j % len(caption_map) == 0:\n",
    "        performance += [{'top captions': find_top_captions(ratings[key]),\n",
    "                         'responses': responses[alg],\n",
    "                         'algorithm': key}\n",
    "                        for key in ['LilUCB', 'RoundRobin']]\n",
    "    last_response = response\n",
    "    j += 1"
   ]
  },
  {
   "cell_type": "code",
   "execution_count": 203,
   "metadata": {
    "ExecuteTime": {
     "end_time": "2017-02-12T13:57:40.877531",
     "start_time": "2017-02-12T13:57:40.866699"
    },
    "collapsed": false
   },
   "outputs": [
    {
     "data": {
      "text/html": [
       "<div>\n",
       "<table border=\"1\" class=\"dataframe\">\n",
       "  <thead>\n",
       "    <tr style=\"text-align: right;\">\n",
       "      <th></th>\n",
       "      <th>algorithm</th>\n",
       "      <th>responses</th>\n",
       "      <th>top captions</th>\n",
       "    </tr>\n",
       "  </thead>\n",
       "  <tbody>\n",
       "    <tr>\n",
       "      <th>0</th>\n",
       "      <td>LilUCB</td>\n",
       "      <td>4635</td>\n",
       "      <td>4614</td>\n",
       "    </tr>\n",
       "    <tr>\n",
       "      <th>1</th>\n",
       "      <td>RoundRobin</td>\n",
       "      <td>4635</td>\n",
       "      <td>4499</td>\n",
       "    </tr>\n",
       "    <tr>\n",
       "      <th>2</th>\n",
       "      <td>LilUCB</td>\n",
       "      <td>6907</td>\n",
       "      <td>3937</td>\n",
       "    </tr>\n",
       "    <tr>\n",
       "      <th>3</th>\n",
       "      <td>RoundRobin</td>\n",
       "      <td>6907</td>\n",
       "      <td>4551</td>\n",
       "    </tr>\n",
       "    <tr>\n",
       "      <th>4</th>\n",
       "      <td>LilUCB</td>\n",
       "      <td>9287</td>\n",
       "      <td>2727</td>\n",
       "    </tr>\n",
       "  </tbody>\n",
       "</table>\n",
       "</div>"
      ],
      "text/plain": [
       "    algorithm  responses  top captions\n",
       "0      LilUCB       4635          4614\n",
       "1  RoundRobin       4635          4499\n",
       "2      LilUCB       6907          3937\n",
       "3  RoundRobin       6907          4551\n",
       "4      LilUCB       9287          2727"
      ]
     },
     "execution_count": 203,
     "metadata": {},
     "output_type": "execute_result"
    }
   ],
   "source": [
    "performance = pd.DataFrame(performance)\n",
    "performance.head()"
   ]
  },
  {
   "cell_type": "markdown",
   "metadata": {},
   "source": [
    "## Visualization\n",
    "This means that LilUCB saw ~10 captions that could be the funniest, and RoundRobin saw ~50 captions that could be the funniest. "
   ]
  },
  {
   "cell_type": "code",
   "execution_count": 204,
   "metadata": {
    "ExecuteTime": {
     "end_time": "2017-02-12T13:57:40.898894",
     "start_time": "2017-02-12T13:57:40.879640"
    },
    "collapsed": false
   },
   "outputs": [
    {
     "data": {
      "text/html": [
       "<div class=\"vega-embed\" id=\"631f1a01-615e-473f-b983-b97377373ca8\"></div>\n",
       "\n",
       "<style>\n",
       ".vega-embed svg, .vega-embed canvas {\n",
       "  border: 1px dotted gray;\n",
       "}\n",
       "\n",
       ".vega-embed .vega-actions a {\n",
       "  margin-right: 6px;\n",
       "}\n",
       "</style>\n"
      ]
     },
     "metadata": {
      "jupyter-vega": "#631f1a01-615e-473f-b983-b97377373ca8"
     },
     "output_type": "display_data"
    },
    {
     "data": {
      "application/javascript": [
       "var spec = {\"config\": {\"cell\": {\"width\": 500, \"height\": 350}}, \"encoding\": {\"color\": {\"field\": \"algorithm\", \"type\": \"nominal\"}, \"x\": {\"field\": \"responses\", \"type\": \"quantitative\"}, \"y\": {\"field\": \"top captions\", \"scale\": {\"type\": \"log\"}, \"type\": \"quantitative\"}}, \"mark\": \"line\", \"data\": {\"values\": [{\"algorithm\": \"LilUCB\", \"responses\": 4635, \"top captions\": 4614}, {\"algorithm\": \"RoundRobin\", \"responses\": 4635, \"top captions\": 4499}, {\"algorithm\": \"LilUCB\", \"responses\": 6907, \"top captions\": 3937}, {\"algorithm\": \"RoundRobin\", \"responses\": 6907, \"top captions\": 4551}, {\"algorithm\": \"LilUCB\", \"responses\": 9287, \"top captions\": 2727}, {\"algorithm\": \"RoundRobin\", \"responses\": 9287, \"top captions\": 532}, {\"algorithm\": \"LilUCB\", \"responses\": 11478, \"top captions\": 1469}, {\"algorithm\": \"RoundRobin\", \"responses\": 11478, \"top captions\": 4614}, {\"algorithm\": \"LilUCB\", \"responses\": 13781, \"top captions\": 282}, {\"algorithm\": \"RoundRobin\", \"responses\": 13781, \"top captions\": 384}, {\"algorithm\": \"LilUCB\", \"responses\": 16237, \"top captions\": 313}, {\"algorithm\": \"RoundRobin\", \"responses\": 16237, \"top captions\": 220}, {\"algorithm\": \"LilUCB\", \"responses\": 18523, \"top captions\": 194}, {\"algorithm\": \"RoundRobin\", \"responses\": 18523, \"top captions\": 579}, {\"algorithm\": \"LilUCB\", \"responses\": 20682, \"top captions\": 252}, {\"algorithm\": \"RoundRobin\", \"responses\": 20682, \"top captions\": 200}, {\"algorithm\": \"LilUCB\", \"responses\": 22998, \"top captions\": 171}, {\"algorithm\": \"RoundRobin\", \"responses\": 22998, \"top captions\": 158}, {\"algorithm\": \"LilUCB\", \"responses\": 25471, \"top captions\": 175}, {\"algorithm\": \"RoundRobin\", \"responses\": 25471, \"top captions\": 126}, {\"algorithm\": \"LilUCB\", \"responses\": 27599, \"top captions\": 359}, {\"algorithm\": \"RoundRobin\", \"responses\": 27599, \"top captions\": 115}, {\"algorithm\": \"LilUCB\", \"responses\": 29916, \"top captions\": 257}, {\"algorithm\": \"RoundRobin\", \"responses\": 29916, \"top captions\": 60}, {\"algorithm\": \"LilUCB\", \"responses\": 32207, \"top captions\": 4}, {\"algorithm\": \"RoundRobin\", \"responses\": 32207, \"top captions\": 51}, {\"algorithm\": \"LilUCB\", \"responses\": 34485, \"top captions\": 4}, {\"algorithm\": \"RoundRobin\", \"responses\": 34485, \"top captions\": 16}, {\"algorithm\": \"LilUCB\", \"responses\": 37003, \"top captions\": 4}, {\"algorithm\": \"RoundRobin\", \"responses\": 37003, \"top captions\": 16}, {\"algorithm\": \"LilUCB\", \"responses\": 39325, \"top captions\": 6}, {\"algorithm\": \"RoundRobin\", \"responses\": 39325, \"top captions\": 20}, {\"algorithm\": \"LilUCB\", \"responses\": 41665, \"top captions\": 6}, {\"algorithm\": \"RoundRobin\", \"responses\": 41665, \"top captions\": 17}, {\"algorithm\": \"LilUCB\", \"responses\": 43966, \"top captions\": 5}, {\"algorithm\": \"RoundRobin\", \"responses\": 43966, \"top captions\": 20}, {\"algorithm\": \"LilUCB\", \"responses\": 46004, \"top captions\": 5}, {\"algorithm\": \"RoundRobin\", \"responses\": 46004, \"top captions\": 23}, {\"algorithm\": \"LilUCB\", \"responses\": 48309, \"top captions\": 5}, {\"algorithm\": \"RoundRobin\", \"responses\": 48309, \"top captions\": 68}, {\"algorithm\": \"LilUCB\", \"responses\": 50868, \"top captions\": 5}, {\"algorithm\": \"RoundRobin\", \"responses\": 50868, \"top captions\": 59}, {\"algorithm\": \"LilUCB\", \"responses\": 53174, \"top captions\": 5}, {\"algorithm\": \"RoundRobin\", \"responses\": 53174, \"top captions\": 34}, {\"algorithm\": \"LilUCB\", \"responses\": 55249, \"top captions\": 5}, {\"algorithm\": \"RoundRobin\", \"responses\": 55249, \"top captions\": 31}, {\"algorithm\": \"LilUCB\", \"responses\": 57564, \"top captions\": 9}, {\"algorithm\": \"RoundRobin\", \"responses\": 57564, \"top captions\": 58}, {\"algorithm\": \"LilUCB\", \"responses\": 60063, \"top captions\": 9}, {\"algorithm\": \"RoundRobin\", \"responses\": 60063, \"top captions\": 50}, {\"algorithm\": \"LilUCB\", \"responses\": 62378, \"top captions\": 6}, {\"algorithm\": \"RoundRobin\", \"responses\": 62378, \"top captions\": 34}, {\"algorithm\": \"LilUCB\", \"responses\": 64486, \"top captions\": 6}, {\"algorithm\": \"RoundRobin\", \"responses\": 64486, \"top captions\": 33}, {\"algorithm\": \"LilUCB\", \"responses\": 67082, \"top captions\": 12}, {\"algorithm\": \"RoundRobin\", \"responses\": 67082, \"top captions\": 51}, {\"algorithm\": \"LilUCB\", \"responses\": 69371, \"top captions\": 4}, {\"algorithm\": \"RoundRobin\", \"responses\": 69371, \"top captions\": 115}, {\"algorithm\": \"LilUCB\", \"responses\": 71688, \"top captions\": 5}, {\"algorithm\": \"RoundRobin\", \"responses\": 71688, \"top captions\": 104}, {\"algorithm\": \"LilUCB\", \"responses\": 73706, \"top captions\": 7}, {\"algorithm\": \"RoundRobin\", \"responses\": 73706, \"top captions\": 105}, {\"algorithm\": \"LilUCB\", \"responses\": 76029, \"top captions\": 10}, {\"algorithm\": \"RoundRobin\", \"responses\": 76029, \"top captions\": 80}, {\"algorithm\": \"LilUCB\", \"responses\": 78563, \"top captions\": 9}, {\"algorithm\": \"RoundRobin\", \"responses\": 78563, \"top captions\": 46}, {\"algorithm\": \"LilUCB\", \"responses\": 80903, \"top captions\": 10}, {\"algorithm\": \"RoundRobin\", \"responses\": 80903, \"top captions\": 48}, {\"algorithm\": \"LilUCB\", \"responses\": 83213, \"top captions\": 11}, {\"algorithm\": \"RoundRobin\", \"responses\": 83213, \"top captions\": 83}, {\"algorithm\": \"LilUCB\", \"responses\": 85219, \"top captions\": 9}, {\"algorithm\": \"RoundRobin\", \"responses\": 85219, \"top captions\": 68}, {\"algorithm\": \"LilUCB\", \"responses\": 87528, \"top captions\": 10}, {\"algorithm\": \"RoundRobin\", \"responses\": 87528, \"top captions\": 63}, {\"algorithm\": \"LilUCB\", \"responses\": 90062, \"top captions\": 11}, {\"algorithm\": \"RoundRobin\", \"responses\": 90062, \"top captions\": 53}, {\"algorithm\": \"LilUCB\", \"responses\": 92102, \"top captions\": 13}, {\"algorithm\": \"RoundRobin\", \"responses\": 92102, \"top captions\": 50}, {\"algorithm\": \"LilUCB\", \"responses\": 94391, \"top captions\": 15}, {\"algorithm\": \"RoundRobin\", \"responses\": 94391, \"top captions\": 52}]}};\n",
       "var selector = \"#631f1a01-615e-473f-b983-b97377373ca8\";\n",
       "var type = \"vega-lite\";\n",
       "\n",
       "var output_area = this;\n",
       "require(['nbextensions/jupyter-vega/index'], function(vega) {\n",
       "  vega.render(selector, spec, type, output_area);\n",
       "}, function (err) {\n",
       "  if (err.requireType !== 'scripterror') {\n",
       "    throw(err);\n",
       "  }\n",
       "});\n"
      ]
     },
     "metadata": {
      "jupyter-vega": "#631f1a01-615e-473f-b983-b97377373ca8"
     },
     "output_type": "display_data"
    },
    {
     "data": {
      "image/png": "[encoded data removed]"
     },
     "metadata": {
      "jupyter-vega": "#631f1a01-615e-473f-b983-b97377373ca8"
     },
     "output_type": "display_data"
    }
   ],
   "source": [
    "from altair import Chart, Y, Scale\n",
    "\n",
    "Chart(performance).mark_line().encode(\n",
    "    x='responses', y=Y('top captions', scale=Scale(type='log')), color='algorithm')"
   ]
  },
  {
   "cell_type": "code",
   "execution_count": 205,
   "metadata": {
    "ExecuteTime": {
     "end_time": "2017-02-12T13:57:40.911211",
     "start_time": "2017-02-12T13:57:40.900722"
    },
    "collapsed": false
   },
   "outputs": [],
   "source": [
    "df_ = performance.pivot_table(index='responses', columns='algorithm', values='top captions')"
   ]
  },
  {
   "cell_type": "code",
   "execution_count": 206,
   "metadata": {
    "ExecuteTime": {
     "end_time": "2017-02-12T13:57:40.927863",
     "start_time": "2017-02-12T13:57:40.913103"
    },
    "collapsed": false
   },
   "outputs": [
    {
     "data": {
      "text/html": [
       "<div>\n",
       "<table border=\"1\" class=\"dataframe\">\n",
       "  <thead>\n",
       "    <tr style=\"text-align: right;\">\n",
       "      <th>algorithm</th>\n",
       "      <th>LilUCB</th>\n",
       "      <th>RoundRobin</th>\n",
       "    </tr>\n",
       "    <tr>\n",
       "      <th>responses</th>\n",
       "      <th></th>\n",
       "      <th></th>\n",
       "    </tr>\n",
       "  </thead>\n",
       "  <tbody>\n",
       "    <tr>\n",
       "      <th>4635</th>\n",
       "      <td>4614</td>\n",
       "      <td>4499</td>\n",
       "    </tr>\n",
       "    <tr>\n",
       "      <th>6907</th>\n",
       "      <td>3937</td>\n",
       "      <td>4551</td>\n",
       "    </tr>\n",
       "    <tr>\n",
       "      <th>9287</th>\n",
       "      <td>2727</td>\n",
       "      <td>532</td>\n",
       "    </tr>\n",
       "    <tr>\n",
       "      <th>11478</th>\n",
       "      <td>1469</td>\n",
       "      <td>4614</td>\n",
       "    </tr>\n",
       "    <tr>\n",
       "      <th>13781</th>\n",
       "      <td>282</td>\n",
       "      <td>384</td>\n",
       "    </tr>\n",
       "    <tr>\n",
       "      <th>16237</th>\n",
       "      <td>313</td>\n",
       "      <td>220</td>\n",
       "    </tr>\n",
       "    <tr>\n",
       "      <th>18523</th>\n",
       "      <td>194</td>\n",
       "      <td>579</td>\n",
       "    </tr>\n",
       "    <tr>\n",
       "      <th>20682</th>\n",
       "      <td>252</td>\n",
       "      <td>200</td>\n",
       "    </tr>\n",
       "    <tr>\n",
       "      <th>22998</th>\n",
       "      <td>171</td>\n",
       "      <td>158</td>\n",
       "    </tr>\n",
       "    <tr>\n",
       "      <th>25471</th>\n",
       "      <td>175</td>\n",
       "      <td>126</td>\n",
       "    </tr>\n",
       "    <tr>\n",
       "      <th>27599</th>\n",
       "      <td>359</td>\n",
       "      <td>115</td>\n",
       "    </tr>\n",
       "    <tr>\n",
       "      <th>29916</th>\n",
       "      <td>257</td>\n",
       "      <td>60</td>\n",
       "    </tr>\n",
       "    <tr>\n",
       "      <th>32207</th>\n",
       "      <td>4</td>\n",
       "      <td>51</td>\n",
       "    </tr>\n",
       "    <tr>\n",
       "      <th>34485</th>\n",
       "      <td>4</td>\n",
       "      <td>16</td>\n",
       "    </tr>\n",
       "    <tr>\n",
       "      <th>37003</th>\n",
       "      <td>4</td>\n",
       "      <td>16</td>\n",
       "    </tr>\n",
       "    <tr>\n",
       "      <th>39325</th>\n",
       "      <td>6</td>\n",
       "      <td>20</td>\n",
       "    </tr>\n",
       "    <tr>\n",
       "      <th>41665</th>\n",
       "      <td>6</td>\n",
       "      <td>17</td>\n",
       "    </tr>\n",
       "    <tr>\n",
       "      <th>43966</th>\n",
       "      <td>5</td>\n",
       "      <td>20</td>\n",
       "    </tr>\n",
       "    <tr>\n",
       "      <th>46004</th>\n",
       "      <td>5</td>\n",
       "      <td>23</td>\n",
       "    </tr>\n",
       "    <tr>\n",
       "      <th>48309</th>\n",
       "      <td>5</td>\n",
       "      <td>68</td>\n",
       "    </tr>\n",
       "    <tr>\n",
       "      <th>50868</th>\n",
       "      <td>5</td>\n",
       "      <td>59</td>\n",
       "    </tr>\n",
       "    <tr>\n",
       "      <th>53174</th>\n",
       "      <td>5</td>\n",
       "      <td>34</td>\n",
       "    </tr>\n",
       "    <tr>\n",
       "      <th>55249</th>\n",
       "      <td>5</td>\n",
       "      <td>31</td>\n",
       "    </tr>\n",
       "    <tr>\n",
       "      <th>57564</th>\n",
       "      <td>9</td>\n",
       "      <td>58</td>\n",
       "    </tr>\n",
       "    <tr>\n",
       "      <th>60063</th>\n",
       "      <td>9</td>\n",
       "      <td>50</td>\n",
       "    </tr>\n",
       "    <tr>\n",
       "      <th>62378</th>\n",
       "      <td>6</td>\n",
       "      <td>34</td>\n",
       "    </tr>\n",
       "    <tr>\n",
       "      <th>64486</th>\n",
       "      <td>6</td>\n",
       "      <td>33</td>\n",
       "    </tr>\n",
       "    <tr>\n",
       "      <th>67082</th>\n",
       "      <td>12</td>\n",
       "      <td>51</td>\n",
       "    </tr>\n",
       "    <tr>\n",
       "      <th>69371</th>\n",
       "      <td>4</td>\n",
       "      <td>115</td>\n",
       "    </tr>\n",
       "    <tr>\n",
       "      <th>71688</th>\n",
       "      <td>5</td>\n",
       "      <td>104</td>\n",
       "    </tr>\n",
       "    <tr>\n",
       "      <th>73706</th>\n",
       "      <td>7</td>\n",
       "      <td>105</td>\n",
       "    </tr>\n",
       "    <tr>\n",
       "      <th>76029</th>\n",
       "      <td>10</td>\n",
       "      <td>80</td>\n",
       "    </tr>\n",
       "    <tr>\n",
       "      <th>78563</th>\n",
       "      <td>9</td>\n",
       "      <td>46</td>\n",
       "    </tr>\n",
       "    <tr>\n",
       "      <th>80903</th>\n",
       "      <td>10</td>\n",
       "      <td>48</td>\n",
       "    </tr>\n",
       "    <tr>\n",
       "      <th>83213</th>\n",
       "      <td>11</td>\n",
       "      <td>83</td>\n",
       "    </tr>\n",
       "    <tr>\n",
       "      <th>85219</th>\n",
       "      <td>9</td>\n",
       "      <td>68</td>\n",
       "    </tr>\n",
       "    <tr>\n",
       "      <th>87528</th>\n",
       "      <td>10</td>\n",
       "      <td>63</td>\n",
       "    </tr>\n",
       "    <tr>\n",
       "      <th>90062</th>\n",
       "      <td>11</td>\n",
       "      <td>53</td>\n",
       "    </tr>\n",
       "    <tr>\n",
       "      <th>92102</th>\n",
       "      <td>13</td>\n",
       "      <td>50</td>\n",
       "    </tr>\n",
       "    <tr>\n",
       "      <th>94391</th>\n",
       "      <td>15</td>\n",
       "      <td>52</td>\n",
       "    </tr>\n",
       "  </tbody>\n",
       "</table>\n",
       "</div>"
      ],
      "text/plain": [
       "algorithm  LilUCB  RoundRobin\n",
       "responses                    \n",
       "4635         4614        4499\n",
       "6907         3937        4551\n",
       "9287         2727         532\n",
       "11478        1469        4614\n",
       "13781         282         384\n",
       "16237         313         220\n",
       "18523         194         579\n",
       "20682         252         200\n",
       "22998         171         158\n",
       "25471         175         126\n",
       "27599         359         115\n",
       "29916         257          60\n",
       "32207           4          51\n",
       "34485           4          16\n",
       "37003           4          16\n",
       "39325           6          20\n",
       "41665           6          17\n",
       "43966           5          20\n",
       "46004           5          23\n",
       "48309           5          68\n",
       "50868           5          59\n",
       "53174           5          34\n",
       "55249           5          31\n",
       "57564           9          58\n",
       "60063           9          50\n",
       "62378           6          34\n",
       "64486           6          33\n",
       "67082          12          51\n",
       "69371           4         115\n",
       "71688           5         104\n",
       "73706           7         105\n",
       "76029          10          80\n",
       "78563           9          46\n",
       "80903          10          48\n",
       "83213          11          83\n",
       "85219           9          68\n",
       "87528          10          63\n",
       "90062          11          53\n",
       "92102          13          50\n",
       "94391          15          52"
      ]
     },
     "execution_count": 206,
     "metadata": {},
     "output_type": "execute_result"
    }
   ],
   "source": [
    "df_"
   ]
  },
  {
   "cell_type": "code",
   "execution_count": null,
   "metadata": {
    "collapsed": true
   },
   "outputs": [],
   "source": []
  }
 ],
 "metadata": {
  "kernelspec": {
   "display_name": "Python 3",
   "language": "python",
   "name": "python3"
  },
  "language_info": {
   "codemirror_mode": {
    "name": "ipython",
    "version": 3
   },
   "file_extension": ".py",
   "mimetype": "text/x-python",
   "name": "python",
   "nbconvert_exporter": "python",
   "pygments_lexer": "ipython3",
   "version": "3.6.0"
  },
  "nav_menu": {},
  "toc": {
   "navigate_menu": true,
   "number_sections": false,
   "sideBar": true,
   "threshold": "2",
   "toc_cell": false,
   "toc_section_display": "block",
   "toc_window_display": false
  }
 },
 "nbformat": 4,
 "nbformat_minor": 1
}
